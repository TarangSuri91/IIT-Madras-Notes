{
 "cells": [
  {
   "cell_type": "code",
   "execution_count": 1,
   "id": "a254c425",
   "metadata": {},
   "outputs": [],
   "source": [
    "import numpy as np\n",
    "import pandas as pd"
   ]
  },
  {
   "cell_type": "code",
   "execution_count": 2,
   "id": "bbf0b625",
   "metadata": {},
   "outputs": [
    {
     "name": "stdout",
     "output_type": "stream",
     "text": [
      "          obs\n",
      "0   54.507318\n",
      "1   52.183131\n",
      "2   59.587585\n",
      "3   52.951728\n",
      "4   53.302821\n",
      "5   54.383157\n",
      "6   55.394090\n",
      "7   59.637172\n",
      "8   53.811463\n",
      "9   52.035259\n",
      "10  53.763910\n",
      "11  59.488890\n",
      "12  56.798223\n",
      "13  55.727858\n",
      "14  54.434550\n",
      "15  55.162684\n",
      "16  51.287706\n",
      "17  54.884016\n",
      "18  50.340227\n",
      "19  51.009715\n",
      "20  53.006514\n",
      "21  52.653531\n",
      "22  56.323987\n",
      "23  51.467548\n",
      "24  56.900738\n",
      "25  58.482138\n",
      "26  57.659965\n",
      "27  57.974599\n",
      "28  52.115398\n",
      "29  55.079462\n",
      "30  50.647267\n",
      "31  59.547734\n",
      "32  53.077537\n",
      "33  53.323793\n",
      "34  59.695597\n",
      "35  55.575524\n",
      "36  51.640132\n",
      "37  58.677772\n",
      "38  56.789595\n",
      "39  56.842751\n",
      "40  52.427073\n",
      "41  54.723054\n",
      "42  55.294794\n",
      "43  57.131708\n",
      "44  55.607499\n",
      "45  53.664759\n",
      "46  57.620416\n",
      "47  55.473823\n",
      "48  55.249491\n",
      "49  50.888293\n"
     ]
    }
   ],
   "source": [
    "df = pd.read_excel('data_2.xlsx')\n",
    "\n",
    "print(df)"
   ]
  },
  {
   "cell_type": "code",
   "execution_count": 3,
   "id": "d0faab79",
   "metadata": {},
   "outputs": [
    {
     "data": {
      "image/png": "[encoded data removed]",
      "text/plain": [
       "<Figure size 432x288 with 1 Axes>"
      ]
     },
     "metadata": {
      "needs_background": "light"
     },
     "output_type": "display_data"
    }
   ],
   "source": [
    "import matplotlib.pyplot as plt\n",
    "plt.hist(df['obs'])\n",
    "plt.show()"
   ]
  },
  {
   "cell_type": "code",
   "execution_count": 4,
   "id": "13dc2b71",
   "metadata": {},
   "outputs": [],
   "source": [
    "dsc = df.describe()"
   ]
  },
  {
   "cell_type": "code",
   "execution_count": 5,
   "id": "54509d44",
   "metadata": {},
   "outputs": [
    {
     "data": {
      "text/html": [
       "<div>\n",
       "<style scoped>\n",
       "    .dataframe tbody tr th:only-of-type {\n",
       "        vertical-align: middle;\n",
       "    }\n",
       "\n",
       "    .dataframe tbody tr th {\n",
       "        vertical-align: top;\n",
       "    }\n",
       "\n",
       "    .dataframe thead th {\n",
       "        text-align: right;\n",
       "    }\n",
       "</style>\n",
       "<table border=\"1\" class=\"dataframe\">\n",
       "  <thead>\n",
       "    <tr style=\"text-align: right;\">\n",
       "      <th></th>\n",
       "      <th>obs</th>\n",
       "    </tr>\n",
       "  </thead>\n",
       "  <tbody>\n",
       "    <tr>\n",
       "      <th>count</th>\n",
       "      <td>50.000000</td>\n",
       "    </tr>\n",
       "    <tr>\n",
       "      <th>mean</th>\n",
       "      <td>54.925080</td>\n",
       "    </tr>\n",
       "    <tr>\n",
       "      <th>std</th>\n",
       "      <td>2.659768</td>\n",
       "    </tr>\n",
       "    <tr>\n",
       "      <th>min</th>\n",
       "      <td>50.340227</td>\n",
       "    </tr>\n",
       "    <tr>\n",
       "      <th>25%</th>\n",
       "      <td>52.965425</td>\n",
       "    </tr>\n",
       "    <tr>\n",
       "      <th>50%</th>\n",
       "      <td>54.981739</td>\n",
       "    </tr>\n",
       "    <tr>\n",
       "      <th>75%</th>\n",
       "      <td>56.831619</td>\n",
       "    </tr>\n",
       "    <tr>\n",
       "      <th>max</th>\n",
       "      <td>59.695597</td>\n",
       "    </tr>\n",
       "  </tbody>\n",
       "</table>\n",
       "</div>"
      ],
      "text/plain": [
       "             obs\n",
       "count  50.000000\n",
       "mean   54.925080\n",
       "std     2.659768\n",
       "min    50.340227\n",
       "25%    52.965425\n",
       "50%    54.981739\n",
       "75%    56.831619\n",
       "max    59.695597"
      ]
     },
     "execution_count": 5,
     "metadata": {},
     "output_type": "execute_result"
    }
   ],
   "source": [
    "dsc"
   ]
  },
  {
   "cell_type": "code",
   "execution_count": null,
   "id": "fbd4c837",
   "metadata": {},
   "outputs": [],
   "source": []
  },
  {
   "cell_type": "code",
   "execution_count": 6,
   "id": "f7396149",
   "metadata": {},
   "outputs": [
    {
     "name": "stdout",
     "output_type": "stream",
     "text": [
      "{('Variance Observed', 7.07), ('Mean Observed', 54.93), ('Kurt Observed', -0.87), ('Skew Observed', 0.18)}\n"
     ]
    }
   ],
   "source": [
    "stats_labels = ['Mean Observed', 'Variance Observed', 'Skew Observed', 'Kurt Observed']\n",
    "stats_values = [round(df['obs'].mean(), 2), round(df['obs'].var(), 2), round(df['obs'].skew(),2), round(df['obs'].kurt(),2)]\n",
    "print(set(zip(stats_labels, stats_values)))"
   ]
  },
  {
   "cell_type": "code",
   "execution_count": 7,
   "id": "fd6eeb02",
   "metadata": {},
   "outputs": [
    {
     "data": {
      "text/plain": [
       "obs    54.981739\n",
       "dtype: float64"
      ]
     },
     "execution_count": 7,
     "metadata": {},
     "output_type": "execute_result"
    }
   ],
   "source": [
    "df.median()"
   ]
  },
  {
   "cell_type": "code",
   "execution_count": 8,
   "id": "d4ff1855",
   "metadata": {},
   "outputs": [
    {
     "name": "stderr",
     "output_type": "stream",
     "text": [
      "D:\\Anaconda3\\lib\\site-packages\\statsmodels\\graphics\\gofplots.py:993: UserWarning: marker is redundantly defined by the 'marker' keyword argument and the fmt string \"bo\" (-> marker='o'). The keyword argument will take precedence.\n",
      "  ax.plot(x, y, fmt, **plot_style)\n"
     ]
    },
    {
     "data": {
      "image/png": "[encoded data removed]",
      "text/plain": [
       "<Figure size 432x288 with 1 Axes>"
      ]
     },
     "metadata": {
      "needs_background": "light"
     },
     "output_type": "display_data"
    }
   ],
   "source": [
    "import statsmodels.api as sm\n",
    "import scipy.stats as stats\n",
    "from scipy.stats import norm\n",
    "from statsmodels.graphics.gofplots import qqplot\n",
    "\n",
    "sm.qqplot(df['obs'], line ='45',fit = True)\n",
    "plt.show()"
   ]
  },
  {
   "cell_type": "code",
   "execution_count": 9,
   "id": "4cef05d7",
   "metadata": {},
   "outputs": [
    {
     "data": {
      "image/png": "[encoded data removed]",
      "text/plain": [
       "<Figure size 432x288 with 1 Axes>"
      ]
     },
     "metadata": {
      "needs_background": "light"
     },
     "output_type": "display_data"
    }
   ],
   "source": [
    "import scipy.stats as stats\n",
    "stats.probplot(df['obs'], dist='norm', plot=plt)\n",
    "plt.show()"
   ]
  },
  {
   "cell_type": "code",
   "execution_count": 10,
   "id": "ef64d7ee",
   "metadata": {},
   "outputs": [],
   "source": [
    "df['exp'] = dsc.loc['mean']['obs']"
   ]
  },
  {
   "cell_type": "code",
   "execution_count": 11,
   "id": "906c32f8",
   "metadata": {
    "scrolled": true
   },
   "outputs": [
    {
     "data": {
      "text/html": [
       "<div>\n",
       "<style scoped>\n",
       "    .dataframe tbody tr th:only-of-type {\n",
       "        vertical-align: middle;\n",
       "    }\n",
       "\n",
       "    .dataframe tbody tr th {\n",
       "        vertical-align: top;\n",
       "    }\n",
       "\n",
       "    .dataframe thead th {\n",
       "        text-align: right;\n",
       "    }\n",
       "</style>\n",
       "<table border=\"1\" class=\"dataframe\">\n",
       "  <thead>\n",
       "    <tr style=\"text-align: right;\">\n",
       "      <th></th>\n",
       "      <th>obs</th>\n",
       "      <th>exp</th>\n",
       "    </tr>\n",
       "  </thead>\n",
       "  <tbody>\n",
       "    <tr>\n",
       "      <th>0</th>\n",
       "      <td>54.507318</td>\n",
       "      <td>54.92508</td>\n",
       "    </tr>\n",
       "    <tr>\n",
       "      <th>1</th>\n",
       "      <td>52.183131</td>\n",
       "      <td>54.92508</td>\n",
       "    </tr>\n",
       "    <tr>\n",
       "      <th>2</th>\n",
       "      <td>59.587585</td>\n",
       "      <td>54.92508</td>\n",
       "    </tr>\n",
       "    <tr>\n",
       "      <th>3</th>\n",
       "      <td>52.951728</td>\n",
       "      <td>54.92508</td>\n",
       "    </tr>\n",
       "    <tr>\n",
       "      <th>4</th>\n",
       "      <td>53.302821</td>\n",
       "      <td>54.92508</td>\n",
       "    </tr>\n",
       "    <tr>\n",
       "      <th>5</th>\n",
       "      <td>54.383157</td>\n",
       "      <td>54.92508</td>\n",
       "    </tr>\n",
       "    <tr>\n",
       "      <th>6</th>\n",
       "      <td>55.394090</td>\n",
       "      <td>54.92508</td>\n",
       "    </tr>\n",
       "    <tr>\n",
       "      <th>7</th>\n",
       "      <td>59.637172</td>\n",
       "      <td>54.92508</td>\n",
       "    </tr>\n",
       "    <tr>\n",
       "      <th>8</th>\n",
       "      <td>53.811463</td>\n",
       "      <td>54.92508</td>\n",
       "    </tr>\n",
       "    <tr>\n",
       "      <th>9</th>\n",
       "      <td>52.035259</td>\n",
       "      <td>54.92508</td>\n",
       "    </tr>\n",
       "    <tr>\n",
       "      <th>10</th>\n",
       "      <td>53.763910</td>\n",
       "      <td>54.92508</td>\n",
       "    </tr>\n",
       "    <tr>\n",
       "      <th>11</th>\n",
       "      <td>59.488890</td>\n",
       "      <td>54.92508</td>\n",
       "    </tr>\n",
       "    <tr>\n",
       "      <th>12</th>\n",
       "      <td>56.798223</td>\n",
       "      <td>54.92508</td>\n",
       "    </tr>\n",
       "    <tr>\n",
       "      <th>13</th>\n",
       "      <td>55.727858</td>\n",
       "      <td>54.92508</td>\n",
       "    </tr>\n",
       "    <tr>\n",
       "      <th>14</th>\n",
       "      <td>54.434550</td>\n",
       "      <td>54.92508</td>\n",
       "    </tr>\n",
       "    <tr>\n",
       "      <th>15</th>\n",
       "      <td>55.162684</td>\n",
       "      <td>54.92508</td>\n",
       "    </tr>\n",
       "    <tr>\n",
       "      <th>16</th>\n",
       "      <td>51.287706</td>\n",
       "      <td>54.92508</td>\n",
       "    </tr>\n",
       "    <tr>\n",
       "      <th>17</th>\n",
       "      <td>54.884016</td>\n",
       "      <td>54.92508</td>\n",
       "    </tr>\n",
       "    <tr>\n",
       "      <th>18</th>\n",
       "      <td>50.340227</td>\n",
       "      <td>54.92508</td>\n",
       "    </tr>\n",
       "    <tr>\n",
       "      <th>19</th>\n",
       "      <td>51.009715</td>\n",
       "      <td>54.92508</td>\n",
       "    </tr>\n",
       "    <tr>\n",
       "      <th>20</th>\n",
       "      <td>53.006514</td>\n",
       "      <td>54.92508</td>\n",
       "    </tr>\n",
       "    <tr>\n",
       "      <th>21</th>\n",
       "      <td>52.653531</td>\n",
       "      <td>54.92508</td>\n",
       "    </tr>\n",
       "    <tr>\n",
       "      <th>22</th>\n",
       "      <td>56.323987</td>\n",
       "      <td>54.92508</td>\n",
       "    </tr>\n",
       "    <tr>\n",
       "      <th>23</th>\n",
       "      <td>51.467548</td>\n",
       "      <td>54.92508</td>\n",
       "    </tr>\n",
       "    <tr>\n",
       "      <th>24</th>\n",
       "      <td>56.900738</td>\n",
       "      <td>54.92508</td>\n",
       "    </tr>\n",
       "    <tr>\n",
       "      <th>25</th>\n",
       "      <td>58.482138</td>\n",
       "      <td>54.92508</td>\n",
       "    </tr>\n",
       "    <tr>\n",
       "      <th>26</th>\n",
       "      <td>57.659965</td>\n",
       "      <td>54.92508</td>\n",
       "    </tr>\n",
       "    <tr>\n",
       "      <th>27</th>\n",
       "      <td>57.974599</td>\n",
       "      <td>54.92508</td>\n",
       "    </tr>\n",
       "    <tr>\n",
       "      <th>28</th>\n",
       "      <td>52.115398</td>\n",
       "      <td>54.92508</td>\n",
       "    </tr>\n",
       "    <tr>\n",
       "      <th>29</th>\n",
       "      <td>55.079462</td>\n",
       "      <td>54.92508</td>\n",
       "    </tr>\n",
       "    <tr>\n",
       "      <th>30</th>\n",
       "      <td>50.647267</td>\n",
       "      <td>54.92508</td>\n",
       "    </tr>\n",
       "    <tr>\n",
       "      <th>31</th>\n",
       "      <td>59.547734</td>\n",
       "      <td>54.92508</td>\n",
       "    </tr>\n",
       "    <tr>\n",
       "      <th>32</th>\n",
       "      <td>53.077537</td>\n",
       "      <td>54.92508</td>\n",
       "    </tr>\n",
       "    <tr>\n",
       "      <th>33</th>\n",
       "      <td>53.323793</td>\n",
       "      <td>54.92508</td>\n",
       "    </tr>\n",
       "    <tr>\n",
       "      <th>34</th>\n",
       "      <td>59.695597</td>\n",
       "      <td>54.92508</td>\n",
       "    </tr>\n",
       "    <tr>\n",
       "      <th>35</th>\n",
       "      <td>55.575524</td>\n",
       "      <td>54.92508</td>\n",
       "    </tr>\n",
       "    <tr>\n",
       "      <th>36</th>\n",
       "      <td>51.640132</td>\n",
       "      <td>54.92508</td>\n",
       "    </tr>\n",
       "    <tr>\n",
       "      <th>37</th>\n",
       "      <td>58.677772</td>\n",
       "      <td>54.92508</td>\n",
       "    </tr>\n",
       "    <tr>\n",
       "      <th>38</th>\n",
       "      <td>56.789595</td>\n",
       "      <td>54.92508</td>\n",
       "    </tr>\n",
       "    <tr>\n",
       "      <th>39</th>\n",
       "      <td>56.842751</td>\n",
       "      <td>54.92508</td>\n",
       "    </tr>\n",
       "    <tr>\n",
       "      <th>40</th>\n",
       "      <td>52.427073</td>\n",
       "      <td>54.92508</td>\n",
       "    </tr>\n",
       "    <tr>\n",
       "      <th>41</th>\n",
       "      <td>54.723054</td>\n",
       "      <td>54.92508</td>\n",
       "    </tr>\n",
       "    <tr>\n",
       "      <th>42</th>\n",
       "      <td>55.294794</td>\n",
       "      <td>54.92508</td>\n",
       "    </tr>\n",
       "    <tr>\n",
       "      <th>43</th>\n",
       "      <td>57.131708</td>\n",
       "      <td>54.92508</td>\n",
       "    </tr>\n",
       "    <tr>\n",
       "      <th>44</th>\n",
       "      <td>55.607499</td>\n",
       "      <td>54.92508</td>\n",
       "    </tr>\n",
       "    <tr>\n",
       "      <th>45</th>\n",
       "      <td>53.664759</td>\n",
       "      <td>54.92508</td>\n",
       "    </tr>\n",
       "    <tr>\n",
       "      <th>46</th>\n",
       "      <td>57.620416</td>\n",
       "      <td>54.92508</td>\n",
       "    </tr>\n",
       "    <tr>\n",
       "      <th>47</th>\n",
       "      <td>55.473823</td>\n",
       "      <td>54.92508</td>\n",
       "    </tr>\n",
       "    <tr>\n",
       "      <th>48</th>\n",
       "      <td>55.249491</td>\n",
       "      <td>54.92508</td>\n",
       "    </tr>\n",
       "    <tr>\n",
       "      <th>49</th>\n",
       "      <td>50.888293</td>\n",
       "      <td>54.92508</td>\n",
       "    </tr>\n",
       "  </tbody>\n",
       "</table>\n",
       "</div>"
      ],
      "text/plain": [
       "          obs       exp\n",
       "0   54.507318  54.92508\n",
       "1   52.183131  54.92508\n",
       "2   59.587585  54.92508\n",
       "3   52.951728  54.92508\n",
       "4   53.302821  54.92508\n",
       "5   54.383157  54.92508\n",
       "6   55.394090  54.92508\n",
       "7   59.637172  54.92508\n",
       "8   53.811463  54.92508\n",
       "9   52.035259  54.92508\n",
       "10  53.763910  54.92508\n",
       "11  59.488890  54.92508\n",
       "12  56.798223  54.92508\n",
       "13  55.727858  54.92508\n",
       "14  54.434550  54.92508\n",
       "15  55.162684  54.92508\n",
       "16  51.287706  54.92508\n",
       "17  54.884016  54.92508\n",
       "18  50.340227  54.92508\n",
       "19  51.009715  54.92508\n",
       "20  53.006514  54.92508\n",
       "21  52.653531  54.92508\n",
       "22  56.323987  54.92508\n",
       "23  51.467548  54.92508\n",
       "24  56.900738  54.92508\n",
       "25  58.482138  54.92508\n",
       "26  57.659965  54.92508\n",
       "27  57.974599  54.92508\n",
       "28  52.115398  54.92508\n",
       "29  55.079462  54.92508\n",
       "30  50.647267  54.92508\n",
       "31  59.547734  54.92508\n",
       "32  53.077537  54.92508\n",
       "33  53.323793  54.92508\n",
       "34  59.695597  54.92508\n",
       "35  55.575524  54.92508\n",
       "36  51.640132  54.92508\n",
       "37  58.677772  54.92508\n",
       "38  56.789595  54.92508\n",
       "39  56.842751  54.92508\n",
       "40  52.427073  54.92508\n",
       "41  54.723054  54.92508\n",
       "42  55.294794  54.92508\n",
       "43  57.131708  54.92508\n",
       "44  55.607499  54.92508\n",
       "45  53.664759  54.92508\n",
       "46  57.620416  54.92508\n",
       "47  55.473823  54.92508\n",
       "48  55.249491  54.92508\n",
       "49  50.888293  54.92508"
      ]
     },
     "execution_count": 11,
     "metadata": {},
     "output_type": "execute_result"
    }
   ],
   "source": [
    "df"
   ]
  },
  {
   "cell_type": "code",
   "execution_count": 12,
   "id": "2bcae34b",
   "metadata": {},
   "outputs": [],
   "source": [
    "obs_freq = df['obs']\n",
    "expec_freq = df['exp']"
   ]
  },
  {
   "cell_type": "markdown",
   "id": "e7649f6b",
   "metadata": {
    "id": "WoncRTTEcNqW"
   },
   "source": [
    "NULL HYPOTHESIS: The given data follows Uniform distribution.\n",
    "\n",
    "---\n",
    "\n",
    "\n",
    "ALTERNATE HYPOTHESIS: The given data does not follow Uniform distribution"
   ]
  },
  {
   "cell_type": "code",
   "execution_count": 13,
   "id": "3b9e17c3",
   "metadata": {},
   "outputs": [
    {
     "data": {
      "text/plain": [
       "Power_divergenceResult(statistic=6.311215150426758, pvalue=0.9999999999999735)"
      ]
     },
     "execution_count": 13,
     "metadata": {},
     "output_type": "execute_result"
    }
   ],
   "source": [
    "stats.chisquare(obs_freq, expec_freq)"
   ]
  },
  {
   "cell_type": "code",
   "execution_count": 14,
   "id": "61b19716",
   "metadata": {
    "scrolled": true
   },
   "outputs": [
    {
     "data": {
      "text/plain": [
       "66.3386488629688"
      ]
     },
     "execution_count": 14,
     "metadata": {},
     "output_type": "execute_result"
    }
   ],
   "source": [
    "from scipy.stats import chi2\n",
    "chi2.ppf(0.95, 49) # degrees of freedom = k - p - 1.  k = 50, p = 0 (for uniform)"
   ]
  },
  {
   "cell_type": "markdown",
   "id": "68c02f06",
   "metadata": {},
   "source": [
    "Since computed statistic is higher than tabulated value, we concluded we cannot reject null hypothesis.  Hence, this sample is from a uniform distribution"
   ]
  }
 ],
 "metadata": {
  "kernelspec": {
   "display_name": "Python 3 (ipykernel)",
   "language": "python",
   "name": "python3"
  },
  "language_info": {
   "codemirror_mode": {
    "name": "ipython",
    "version": 3
   },
   "file_extension": ".py",
   "mimetype": "text/x-python",
   "name": "python",
   "nbconvert_exporter": "python",
   "pygments_lexer": "ipython3",
   "version": "3.9.7"
  }
 },
 "nbformat": 4,
 "nbformat_minor": 5
}
