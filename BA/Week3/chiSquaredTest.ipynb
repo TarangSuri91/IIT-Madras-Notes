{
 "cells": [
  {
   "cell_type": "markdown",
   "metadata": {
    "id": "hUxQvFrNH-dm"
   },
   "source": [
    "**Import packages**"
   ]
  },
  {
   "cell_type": "code",
   "execution_count": 1,
   "metadata": {
    "id": "5XerBxeshrKB"
   },
   "outputs": [],
   "source": [
    "import numpy as np\n",
    "import pandas as pd\n",
    "from scipy import stats"
   ]
  },
  {
   "cell_type": "code",
   "execution_count": 2,
   "metadata": {
    "id": "Ah7mFmQeh-wO"
   },
   "outputs": [],
   "source": [
    "import io\n",
    "df2 = pd.read_csv('chiSquare.csv')"
   ]
  },
  {
   "cell_type": "code",
   "execution_count": 3,
   "metadata": {
    "colab": {
     "base_uri": "https://localhost:8080/",
     "height": 206
    },
    "id": "RVYi6vNTiHQO",
    "outputId": "e20d458b-5cd6-4d0e-c57d-b7d2683a06b1"
   },
   "outputs": [
    {
     "data": {
      "text/html": [
       "<div>\n",
       "<style scoped>\n",
       "    .dataframe tbody tr th:only-of-type {\n",
       "        vertical-align: middle;\n",
       "    }\n",
       "\n",
       "    .dataframe tbody tr th {\n",
       "        vertical-align: top;\n",
       "    }\n",
       "\n",
       "    .dataframe thead th {\n",
       "        text-align: right;\n",
       "    }\n",
       "</style>\n",
       "<table border=\"1\" class=\"dataframe\">\n",
       "  <thead>\n",
       "    <tr style=\"text-align: right;\">\n",
       "      <th></th>\n",
       "      <th>City</th>\n",
       "      <th>Brand</th>\n",
       "    </tr>\n",
       "  </thead>\n",
       "  <tbody>\n",
       "    <tr>\n",
       "      <th>0</th>\n",
       "      <td>Mumbai</td>\n",
       "      <td>A</td>\n",
       "    </tr>\n",
       "    <tr>\n",
       "      <th>1</th>\n",
       "      <td>Chennai</td>\n",
       "      <td>C</td>\n",
       "    </tr>\n",
       "    <tr>\n",
       "      <th>2</th>\n",
       "      <td>Mumbai</td>\n",
       "      <td>A</td>\n",
       "    </tr>\n",
       "    <tr>\n",
       "      <th>3</th>\n",
       "      <td>Mumbai</td>\n",
       "      <td>C</td>\n",
       "    </tr>\n",
       "    <tr>\n",
       "      <th>4</th>\n",
       "      <td>Chennai</td>\n",
       "      <td>C</td>\n",
       "    </tr>\n",
       "  </tbody>\n",
       "</table>\n",
       "</div>"
      ],
      "text/plain": [
       "      City Brand\n",
       "0   Mumbai     A\n",
       "1  Chennai     C\n",
       "2   Mumbai     A\n",
       "3   Mumbai     C\n",
       "4  Chennai     C"
      ]
     },
     "execution_count": 3,
     "metadata": {},
     "output_type": "execute_result"
    }
   ],
   "source": [
    "df2.head()"
   ]
  },
  {
   "cell_type": "markdown",
   "metadata": {
    "id": "F5YCOmAUsKgK"
   },
   "source": [
    "**Null hypothesis:** The categorical values city and brand are independent.\n",
    "\n",
    "**Alternative hypothesis:** The categorical values city and brand are not independent.\n",
    "\n",
    "Here are the calculations to accept or reject Null hypothesis."
   ]
  },
  {
   "cell_type": "markdown",
   "metadata": {
    "id": "th-rQjOmjQ07"
   },
   "source": [
    "**Observed frequency (contingency table)**"
   ]
  },
  {
   "cell_type": "code",
   "execution_count": 4,
   "metadata": {
    "id": "H67EuXVPiJ7O"
   },
   "outputs": [],
   "source": [
    "contingency_table = pd.crosstab(df2.City, df2.Brand, margins=True)"
   ]
  },
  {
   "cell_type": "code",
   "execution_count": 5,
   "metadata": {
    "colab": {
     "base_uri": "https://localhost:8080/",
     "height": 174
    },
    "id": "i0CKXM3ijrry",
    "outputId": "747f8c19-57e2-437b-8091-188d9780777e"
   },
   "outputs": [
    {
     "data": {
      "text/html": [
       "<div>\n",
       "<style scoped>\n",
       "    .dataframe tbody tr th:only-of-type {\n",
       "        vertical-align: middle;\n",
       "    }\n",
       "\n",
       "    .dataframe tbody tr th {\n",
       "        vertical-align: top;\n",
       "    }\n",
       "\n",
       "    .dataframe thead th {\n",
       "        text-align: right;\n",
       "    }\n",
       "</style>\n",
       "<table border=\"1\" class=\"dataframe\">\n",
       "  <thead>\n",
       "    <tr style=\"text-align: right;\">\n",
       "      <th>Brand</th>\n",
       "      <th>A</th>\n",
       "      <th>B</th>\n",
       "      <th>C</th>\n",
       "      <th>All</th>\n",
       "    </tr>\n",
       "    <tr>\n",
       "      <th>City</th>\n",
       "      <th></th>\n",
       "      <th></th>\n",
       "      <th></th>\n",
       "      <th></th>\n",
       "    </tr>\n",
       "  </thead>\n",
       "  <tbody>\n",
       "    <tr>\n",
       "      <th>Chennai</th>\n",
       "      <td>165</td>\n",
       "      <td>47</td>\n",
       "      <td>191</td>\n",
       "      <td>403</td>\n",
       "    </tr>\n",
       "    <tr>\n",
       "      <th>Mumbai</th>\n",
       "      <td>279</td>\n",
       "      <td>73</td>\n",
       "      <td>225</td>\n",
       "      <td>577</td>\n",
       "    </tr>\n",
       "    <tr>\n",
       "      <th>All</th>\n",
       "      <td>444</td>\n",
       "      <td>120</td>\n",
       "      <td>416</td>\n",
       "      <td>980</td>\n",
       "    </tr>\n",
       "  </tbody>\n",
       "</table>\n",
       "</div>"
      ],
      "text/plain": [
       "Brand      A    B    C  All\n",
       "City                       \n",
       "Chennai  165   47  191  403\n",
       "Mumbai   279   73  225  577\n",
       "All      444  120  416  980"
      ]
     },
     "execution_count": 5,
     "metadata": {},
     "output_type": "execute_result"
    }
   ],
   "source": [
    "contingency_table"
   ]
  },
  {
   "cell_type": "code",
   "execution_count": 6,
   "metadata": {
    "colab": {
     "base_uri": "https://localhost:8080/"
    },
    "id": "o5mbzIo1jgq1",
    "outputId": "65060e67-63e3-4052-b452-12a4369248e5"
   },
   "outputs": [
    {
     "data": {
      "text/plain": [
       "City\n",
       "Chennai    165\n",
       "Mumbai     279\n",
       "All        444\n",
       "Name: A, dtype: int64"
      ]
     },
     "execution_count": 6,
     "metadata": {},
     "output_type": "execute_result"
    }
   ],
   "source": [
    "contingency_table['A']"
   ]
  },
  {
   "cell_type": "code",
   "execution_count": 7,
   "metadata": {
    "colab": {
     "base_uri": "https://localhost:8080/"
    },
    "id": "E5Sk-V2rjwng",
    "outputId": "3a50e6b4-bb56-4b7d-e4c3-a97252a74c87"
   },
   "outputs": [
    {
     "data": {
      "text/plain": [
       "165"
      ]
     },
     "execution_count": 7,
     "metadata": {},
     "output_type": "execute_result"
    }
   ],
   "source": [
    "contingency_table['A']['Chennai']"
   ]
  },
  {
   "cell_type": "code",
   "execution_count": 8,
   "metadata": {
    "colab": {
     "base_uri": "https://localhost:8080/"
    },
    "id": "HjDgO83Jln6_",
    "outputId": "d2f5b868-2bc0-40f4-8e56-c74a7e03b640"
   },
   "outputs": [
    {
     "data": {
      "text/plain": [
       "980"
      ]
     },
     "execution_count": 8,
     "metadata": {},
     "output_type": "execute_result"
    }
   ],
   "source": [
    "contingency_table['All']['All']"
   ]
  },
  {
   "cell_type": "code",
   "execution_count": 9,
   "metadata": {
    "colab": {
     "base_uri": "https://localhost:8080/",
     "height": 206
    },
    "id": "guInNEuZ52vX",
    "outputId": "c572bc21-dbec-4ef1-ba95-dbe032dfc3c6",
    "scrolled": true
   },
   "outputs": [
    {
     "data": {
      "text/html": [
       "<div>\n",
       "<style scoped>\n",
       "    .dataframe tbody tr th:only-of-type {\n",
       "        vertical-align: middle;\n",
       "    }\n",
       "\n",
       "    .dataframe tbody tr th {\n",
       "        vertical-align: top;\n",
       "    }\n",
       "\n",
       "    .dataframe thead th {\n",
       "        text-align: right;\n",
       "    }\n",
       "</style>\n",
       "<table border=\"1\" class=\"dataframe\">\n",
       "  <thead>\n",
       "    <tr style=\"text-align: right;\">\n",
       "      <th>City</th>\n",
       "      <th>Chennai</th>\n",
       "      <th>Mumbai</th>\n",
       "      <th>All</th>\n",
       "    </tr>\n",
       "    <tr>\n",
       "      <th>Brand</th>\n",
       "      <th></th>\n",
       "      <th></th>\n",
       "      <th></th>\n",
       "    </tr>\n",
       "  </thead>\n",
       "  <tbody>\n",
       "    <tr>\n",
       "      <th>A</th>\n",
       "      <td>165</td>\n",
       "      <td>279</td>\n",
       "      <td>444</td>\n",
       "    </tr>\n",
       "    <tr>\n",
       "      <th>B</th>\n",
       "      <td>47</td>\n",
       "      <td>73</td>\n",
       "      <td>120</td>\n",
       "    </tr>\n",
       "    <tr>\n",
       "      <th>C</th>\n",
       "      <td>191</td>\n",
       "      <td>225</td>\n",
       "      <td>416</td>\n",
       "    </tr>\n",
       "    <tr>\n",
       "      <th>All</th>\n",
       "      <td>403</td>\n",
       "      <td>577</td>\n",
       "      <td>980</td>\n",
       "    </tr>\n",
       "  </tbody>\n",
       "</table>\n",
       "</div>"
      ],
      "text/plain": [
       "City   Chennai  Mumbai  All\n",
       "Brand                      \n",
       "A          165     279  444\n",
       "B           47      73  120\n",
       "C          191     225  416\n",
       "All        403     577  980"
      ]
     },
     "execution_count": 9,
     "metadata": {},
     "output_type": "execute_result"
    }
   ],
   "source": [
    "contingency_table.transpose()"
   ]
  },
  {
   "cell_type": "markdown",
   "metadata": {
    "id": "th-rQjOmjQ07"
   },
   "source": [
    "**Calculate the expected frequency**"
   ]
  },
  {
   "cell_type": "code",
   "execution_count": 10,
   "metadata": {
    "id": "SLKtzh72j1JV"
   },
   "outputs": [],
   "source": [
    "cities = list(df2['City'].unique())\n",
    "brands = list(df2['Brand'].unique())\n",
    "\n",
    "exp1 = {}\n",
    "\n",
    "for i in cities:\n",
    "  exp2 = {}\n",
    "  for j in brands:\n",
    "    exp2[j] = contingency_table.transpose()[i]['All'] * contingency_table[j]['All'] / (contingency_table['All']['All'])\n",
    "\n",
    "  exp1[i] = exp2\n"
   ]
  },
  {
   "cell_type": "code",
   "execution_count": 11,
   "metadata": {
    "colab": {
     "base_uri": "https://localhost:8080/"
    },
    "id": "i01gXXIAladc",
    "outputId": "74f56bdf-7e8b-4131-94df-3e9df4cc9e56"
   },
   "outputs": [
    {
     "data": {
      "text/plain": [
       "{'Mumbai': {'A': 261.41632653061225,\n",
       "  'C': 244.93061224489796,\n",
       "  'B': 70.65306122448979},\n",
       " 'Chennai': {'A': 182.58367346938775,\n",
       "  'C': 171.06938775510204,\n",
       "  'B': 49.3469387755102}}"
      ]
     },
     "execution_count": 11,
     "metadata": {},
     "output_type": "execute_result"
    }
   ],
   "source": [
    "exp1"
   ]
  },
  {
   "cell_type": "markdown",
   "metadata": {
    "id": "MeyDC4FTpaFW"
   },
   "source": [
    "**Chi-square calculation**"
   ]
  },
  {
   "cell_type": "code",
   "execution_count": 12,
   "metadata": {
    "id": "WQcyInupmvzG"
   },
   "outputs": [],
   "source": [
    "chiSquareCal = 0\n",
    "for i in cities:\n",
    "  for j in brands:\n",
    "    val = (contingency_table.transpose()[i][j] - exp1[i][j])**2/exp1[i][j]\n",
    "    chiSquareCal = chiSquareCal + val"
   ]
  },
  {
   "cell_type": "code",
   "execution_count": 13,
   "metadata": {
    "colab": {
     "base_uri": "https://localhost:8080/"
    },
    "id": "lazI41zHpMB_",
    "outputId": "4bf37db3-8547-407d-e510-c7740303b263"
   },
   "outputs": [
    {
     "data": {
      "text/plain": [
       "7.009543616823935"
      ]
     },
     "execution_count": 13,
     "metadata": {},
     "output_type": "execute_result"
    }
   ],
   "source": [
    "chiSquareCal #calculated chi-square"
   ]
  },
  {
   "cell_type": "markdown",
   "metadata": {
    "id": "9c9Ey-OHpXH0"
   },
   "source": [
    "**Degrees of freedom**"
   ]
  },
  {
   "cell_type": "code",
   "execution_count": 14,
   "metadata": {
    "id": "DOiCPsGYpeJ3"
   },
   "outputs": [],
   "source": [
    "dof = (len(cities)-1) * (len(brands)-1)"
   ]
  },
  {
   "cell_type": "code",
   "execution_count": 15,
   "metadata": {
    "colab": {
     "base_uri": "https://localhost:8080/"
    },
    "id": "LrehB1doqSXA",
    "outputId": "7d0dc2a2-b699-48e9-fe2e-23c41db25209"
   },
   "outputs": [
    {
     "data": {
      "text/plain": [
       "2"
      ]
     },
     "execution_count": 15,
     "metadata": {},
     "output_type": "execute_result"
    }
   ],
   "source": [
    "dof"
   ]
  },
  {
   "cell_type": "code",
   "execution_count": 16,
   "metadata": {
    "colab": {
     "base_uri": "https://localhost:8080/"
    },
    "id": "tWr7wcWwqTl1",
    "outputId": "72530f29-8974-4349-b272-df24ed399ff5",
    "scrolled": true
   },
   "outputs": [
    {
     "data": {
      "text/plain": [
       "5.991464547107979"
      ]
     },
     "execution_count": 16,
     "metadata": {},
     "output_type": "execute_result"
    }
   ],
   "source": [
    "stats.chi2.ppf(1-0.05, df=dof) # tabulated chi-square"
   ]
  },
  {
   "cell_type": "markdown",
   "metadata": {
    "id": "F5YCOmAUsKgK"
   },
   "source": [
    "Since calculated value of chi-square is more than tabulated value, we reject null-hypothesis.  "
   ]
  },
  {
   "cell_type": "markdown",
   "metadata": {
    "id": "F5YCOmAUsKgK"
   },
   "source": [
    "**Shortcut to the chi-squared test**"
   ]
  },
  {
   "cell_type": "code",
   "execution_count": 17,
   "metadata": {
    "colab": {
     "base_uri": "https://localhost:8080/"
    },
    "id": "KFRCAqW9sQaO",
    "outputId": "2667011d-5343-4585-9e7c-d2444b0a87f2",
    "scrolled": true
   },
   "outputs": [
    {
     "data": {
      "text/plain": [
       "(7.009543616823934,\n",
       " 0.03005363054744611,\n",
       " 2,\n",
       " array([[182.58367347,  49.34693878, 171.06938776],\n",
       "        [261.41632653,  70.65306122, 244.93061224]]))"
      ]
     },
     "execution_count": 17,
     "metadata": {},
     "output_type": "execute_result"
    }
   ],
   "source": [
    "contab = np.array([contingency_table.transpose()['Chennai'][0:3].values,\n",
    "                  contingency_table.transpose()['Mumbai'][0:3].values])\n",
    "\n",
    "stats.chi2_contingency(contab)"
   ]
  },
  {
   "cell_type": "markdown",
   "metadata": {
    "id": "F5YCOmAUsKgK"
   },
   "source": [
    "Since the p-value calculated above (0.03) is less than 0.05 (confidence level), we reject the Null hypothesis"
   ]
  },
  {
   "cell_type": "code",
   "execution_count": 18,
   "metadata": {
    "colab": {
     "base_uri": "https://localhost:8080/"
    },
    "id": "mVSeIVctsRfg",
    "outputId": "9c32b83e-daab-4068-9041-3f91567a2a05"
   },
   "outputs": [
    {
     "data": {
      "text/plain": [
       "0.030053630547446142"
      ]
     },
     "execution_count": 18,
     "metadata": {},
     "output_type": "execute_result"
    }
   ],
   "source": [
    "# Another way to calculate the p-value from the chi-square calculation\n",
    "1 - stats.chi2.cdf(chiSquareCal, dof)"
   ]
  }
 ],
 "metadata": {
  "colab": {
   "collapsed_sections": [],
   "name": "chiSquaredTest.ipynb",
   "provenance": []
  },
  "kernelspec": {
   "display_name": "Python 3 (ipykernel)",
   "language": "python",
   "name": "python3"
  },
  "language_info": {
   "codemirror_mode": {
    "name": "ipython",
    "version": 3
   },
   "file_extension": ".py",
   "mimetype": "text/x-python",
   "name": "python",
   "nbconvert_exporter": "python",
   "pygments_lexer": "ipython3",
   "version": "3.9.7"
  }
 },
 "nbformat": 4,
 "nbformat_minor": 1
}
