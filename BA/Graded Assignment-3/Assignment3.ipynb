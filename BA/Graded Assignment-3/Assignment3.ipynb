{
  "nbformat": 4,
  "nbformat_minor": 0,
  "metadata": {
    "colab": {
      "name": "Assignment3.ipynb",
      "provenance": [],
      "collapsed_sections": []
    },
    "kernelspec": {
      "name": "python3",
      "display_name": "Python 3"
    },
    "language_info": {
      "name": "python"
    }
  },
  "cells": [
    {
      "cell_type": "code",
      "execution_count": 1,
      "metadata": {
        "id": "3wb7CzPTSHQo"
      },
      "outputs": [],
      "source": [
        "import pandas as pd\n",
        "import numpy as np\n",
        "from sklearn.metrics import classification_report"
      ]
    },
    {
      "cell_type": "code",
      "source": [
        "train = pd.read_csv(r\"data_LR_train.csv\")"
      ],
      "metadata": {
        "id": "HAUzszwKSJ4h"
      },
      "execution_count": 2,
      "outputs": []
    },
    {
      "cell_type": "code",
      "source": [
        "train.columns"
      ],
      "metadata": {
        "colab": {
          "base_uri": "https://localhost:8080/"
        },
        "id": "0KmfT_lJTJw4",
        "outputId": "a73c2669-a594-4e58-c32d-6473ea311ca5"
      },
      "execution_count": 3,
      "outputs": [
        {
          "output_type": "execute_result",
          "data": {
            "text/plain": [
              "Index(['Tier', 'FICO', 'Term', 'Amount', 'Previous_Rate', 'Competition_rate',\n",
              "       'Rate', 'Cost_Funds', 'Partner Bin', 'Car_Type_N', 'Car_Type_R',\n",
              "       'Car_Type_U', 'Accept'],\n",
              "      dtype='object')"
            ]
          },
          "metadata": {},
          "execution_count": 3
        }
      ]
    },
    {
      "cell_type": "code",
      "source": [
        "test = pd.read_csv(r\"data_LR_test.csv\")"
      ],
      "metadata": {
        "id": "q234BXngTNQE"
      },
      "execution_count": 4,
      "outputs": []
    },
    {
      "cell_type": "code",
      "source": [
        "test.shape"
      ],
      "metadata": {
        "colab": {
          "base_uri": "https://localhost:8080/"
        },
        "id": "LPdiKuMeTREi",
        "outputId": "767ee6c4-9b2c-4dff-d31c-c6d563be0aae"
      },
      "execution_count": 5,
      "outputs": [
        {
          "output_type": "execute_result",
          "data": {
            "text/plain": [
              "(25000, 13)"
            ]
          },
          "metadata": {},
          "execution_count": 5
        }
      ]
    },
    {
      "cell_type": "code",
      "source": [
        "train['Accept'].value_counts()"
      ],
      "metadata": {
        "colab": {
          "base_uri": "https://localhost:8080/"
        },
        "id": "Nv9KVQSqTUaL",
        "outputId": "9280d053-8289-4205-8c52-c33a02b32003"
      },
      "execution_count": 6,
      "outputs": [
        {
          "output_type": "execute_result",
          "data": {
            "text/plain": [
              "0    46697\n",
              "1    13303\n",
              "Name: Accept, dtype: int64"
            ]
          },
          "metadata": {},
          "execution_count": 6
        }
      ]
    },
    {
      "cell_type": "markdown",
      "source": [
        "Percentage of those accepted is 13303/60000=22.17"
      ],
      "metadata": {
        "id": "w57JK6g3Tguj"
      }
    },
    {
      "cell_type": "markdown",
      "source": [
        "Percentage of those have not accepted is 46697/60000=77.82"
      ],
      "metadata": {
        "id": "1zW_uPtzTsvw"
      }
    },
    {
      "cell_type": "markdown",
      "source": [
        "On the train data"
      ],
      "metadata": {
        "id": "80jy8bqNaPvD"
      }
    },
    {
      "cell_type": "code",
      "source": [
        "X_train = train.iloc[:, :-1]\n",
        "y_train = train['Accept']\n",
        "print(X_train.head())\n",
        "print(y_train.head())"
      ],
      "metadata": {
        "colab": {
          "base_uri": "https://localhost:8080/"
        },
        "id": "48IMHgRJUWi8",
        "outputId": "8527f56a-4fa6-423e-f1f2-d343987da671"
      },
      "execution_count": 7,
      "outputs": [
        {
          "output_type": "stream",
          "name": "stdout",
          "text": [
            "   Tier  FICO  Term    Amount  Previous_Rate  Competition_rate  Rate  \\\n",
            "0     1   783    36  16378.00              0              3.69  3.69   \n",
            "1     2   711    48  28322.00              0              5.49  4.89   \n",
            "2     1   773    36   9500.00              0              3.99  3.99   \n",
            "3     1   743    72  24078.00              5              6.09  4.69   \n",
            "4     1   762    72  14999.99              0              5.75  5.69   \n",
            "\n",
            "   Cost_Funds  Partner Bin  Car_Type_N  Car_Type_R  Car_Type_U  \n",
            "0      1.1200            1           1           0           0  \n",
            "1      1.8200            1           1           0           0  \n",
            "2      1.1100            3           1           0           0  \n",
            "3      1.1100            1           0           1           0  \n",
            "4      1.1463            3           0           0           1  \n",
            "0    0\n",
            "1    0\n",
            "2    0\n",
            "3    0\n",
            "4    0\n",
            "Name: Accept, dtype: int64\n"
          ]
        }
      ]
    },
    {
      "cell_type": "markdown",
      "source": [
        "Loan will not be taken to be treated positive.   So, interchange 0 and 1 in y"
      ],
      "metadata": {
        "id": "RfSE9gA_XBAP"
      }
    },
    {
      "cell_type": "code",
      "source": [
        "y_train_new = np.zeros((60000, 1))\n",
        "y_train_new[np.where(y_train.to_numpy()==1)] = 0\n",
        "y_train_new[np.where(y_train.to_numpy()==0)] = 1"
      ],
      "metadata": {
        "id": "QNoIFybDW-3J"
      },
      "execution_count": 8,
      "outputs": []
    },
    {
      "cell_type": "code",
      "source": [
        "pd.concat((X_train, pd.DataFrame(y_train, columns=['Accept'])), axis=1)"
      ],
      "metadata": {
        "colab": {
          "base_uri": "https://localhost:8080/",
          "height": 505
        },
        "id": "5FZCbJLZX9EL",
        "outputId": "30254487-3a8a-40aa-9091-0285768a5c5e"
      },
      "execution_count": 9,
      "outputs": [
        {
          "output_type": "execute_result",
          "data": {
            "text/plain": [
              "       Tier  FICO  Term    Amount  Previous_Rate  Competition_rate  Rate  \\\n",
              "0         1   783    36  16378.00              0              3.69  3.69   \n",
              "1         2   711    48  28322.00              0              5.49  4.89   \n",
              "2         1   773    36   9500.00              0              3.99  3.99   \n",
              "3         1   743    72  24078.00              5              6.09  4.69   \n",
              "4         1   762    72  14999.99              0              5.75  5.69   \n",
              "...     ...   ...   ...       ...            ...               ...   ...   \n",
              "59995     1   733    48   9999.99              0              5.05  5.05   \n",
              "59996     3   680    48  16125.00             10              5.29  7.54   \n",
              "59997     1   772    48  40000.00              0              4.39  4.49   \n",
              "59998     1   762    36  28000.00              0              3.49  3.49   \n",
              "59999     3   694    72  27404.00              0              4.99  6.29   \n",
              "\n",
              "       Cost_Funds  Partner Bin  Car_Type_N  Car_Type_R  Car_Type_U  Accept  \n",
              "0          1.1200            1           1           0           0       0  \n",
              "1          1.8200            1           1           0           0       0  \n",
              "2          1.1100            3           1           0           0       0  \n",
              "3          1.1100            1           0           1           0       0  \n",
              "4          1.1463            3           0           0           1       0  \n",
              "...           ...          ...         ...         ...         ...     ...  \n",
              "59995      1.4200            3           0           0           1       0  \n",
              "59996      1.1100            1           0           1           0       1  \n",
              "59997      1.3200            1           1           0           0       0  \n",
              "59998      1.1100            1           1           0           0       0  \n",
              "59999      1.1100            3           1           0           0       0  \n",
              "\n",
              "[60000 rows x 13 columns]"
            ],
            "text/html": [
              "\n",
              "  <div id=\"df-2aa168b8-cc09-4e75-ae21-0be822713098\">\n",
              "    <div class=\"colab-df-container\">\n",
              "      <div>\n",
              "<style scoped>\n",
              "    .dataframe tbody tr th:only-of-type {\n",
              "        vertical-align: middle;\n",
              "    }\n",
              "\n",
              "    .dataframe tbody tr th {\n",
              "        vertical-align: top;\n",
              "    }\n",
              "\n",
              "    .dataframe thead th {\n",
              "        text-align: right;\n",
              "    }\n",
              "</style>\n",
              "<table border=\"1\" class=\"dataframe\">\n",
              "  <thead>\n",
              "    <tr style=\"text-align: right;\">\n",
              "      <th></th>\n",
              "      <th>Tier</th>\n",
              "      <th>FICO</th>\n",
              "      <th>Term</th>\n",
              "      <th>Amount</th>\n",
              "      <th>Previous_Rate</th>\n",
              "      <th>Competition_rate</th>\n",
              "      <th>Rate</th>\n",
              "      <th>Cost_Funds</th>\n",
              "      <th>Partner Bin</th>\n",
              "      <th>Car_Type_N</th>\n",
              "      <th>Car_Type_R</th>\n",
              "      <th>Car_Type_U</th>\n",
              "      <th>Accept</th>\n",
              "    </tr>\n",
              "  </thead>\n",
              "  <tbody>\n",
              "    <tr>\n",
              "      <th>0</th>\n",
              "      <td>1</td>\n",
              "      <td>783</td>\n",
              "      <td>36</td>\n",
              "      <td>16378.00</td>\n",
              "      <td>0</td>\n",
              "      <td>3.69</td>\n",
              "      <td>3.69</td>\n",
              "      <td>1.1200</td>\n",
              "      <td>1</td>\n",
              "      <td>1</td>\n",
              "      <td>0</td>\n",
              "      <td>0</td>\n",
              "      <td>0</td>\n",
              "    </tr>\n",
              "    <tr>\n",
              "      <th>1</th>\n",
              "      <td>2</td>\n",
              "      <td>711</td>\n",
              "      <td>48</td>\n",
              "      <td>28322.00</td>\n",
              "      <td>0</td>\n",
              "      <td>5.49</td>\n",
              "      <td>4.89</td>\n",
              "      <td>1.8200</td>\n",
              "      <td>1</td>\n",
              "      <td>1</td>\n",
              "      <td>0</td>\n",
              "      <td>0</td>\n",
              "      <td>0</td>\n",
              "    </tr>\n",
              "    <tr>\n",
              "      <th>2</th>\n",
              "      <td>1</td>\n",
              "      <td>773</td>\n",
              "      <td>36</td>\n",
              "      <td>9500.00</td>\n",
              "      <td>0</td>\n",
              "      <td>3.99</td>\n",
              "      <td>3.99</td>\n",
              "      <td>1.1100</td>\n",
              "      <td>3</td>\n",
              "      <td>1</td>\n",
              "      <td>0</td>\n",
              "      <td>0</td>\n",
              "      <td>0</td>\n",
              "    </tr>\n",
              "    <tr>\n",
              "      <th>3</th>\n",
              "      <td>1</td>\n",
              "      <td>743</td>\n",
              "      <td>72</td>\n",
              "      <td>24078.00</td>\n",
              "      <td>5</td>\n",
              "      <td>6.09</td>\n",
              "      <td>4.69</td>\n",
              "      <td>1.1100</td>\n",
              "      <td>1</td>\n",
              "      <td>0</td>\n",
              "      <td>1</td>\n",
              "      <td>0</td>\n",
              "      <td>0</td>\n",
              "    </tr>\n",
              "    <tr>\n",
              "      <th>4</th>\n",
              "      <td>1</td>\n",
              "      <td>762</td>\n",
              "      <td>72</td>\n",
              "      <td>14999.99</td>\n",
              "      <td>0</td>\n",
              "      <td>5.75</td>\n",
              "      <td>5.69</td>\n",
              "      <td>1.1463</td>\n",
              "      <td>3</td>\n",
              "      <td>0</td>\n",
              "      <td>0</td>\n",
              "      <td>1</td>\n",
              "      <td>0</td>\n",
              "    </tr>\n",
              "    <tr>\n",
              "      <th>...</th>\n",
              "      <td>...</td>\n",
              "      <td>...</td>\n",
              "      <td>...</td>\n",
              "      <td>...</td>\n",
              "      <td>...</td>\n",
              "      <td>...</td>\n",
              "      <td>...</td>\n",
              "      <td>...</td>\n",
              "      <td>...</td>\n",
              "      <td>...</td>\n",
              "      <td>...</td>\n",
              "      <td>...</td>\n",
              "      <td>...</td>\n",
              "    </tr>\n",
              "    <tr>\n",
              "      <th>59995</th>\n",
              "      <td>1</td>\n",
              "      <td>733</td>\n",
              "      <td>48</td>\n",
              "      <td>9999.99</td>\n",
              "      <td>0</td>\n",
              "      <td>5.05</td>\n",
              "      <td>5.05</td>\n",
              "      <td>1.4200</td>\n",
              "      <td>3</td>\n",
              "      <td>0</td>\n",
              "      <td>0</td>\n",
              "      <td>1</td>\n",
              "      <td>0</td>\n",
              "    </tr>\n",
              "    <tr>\n",
              "      <th>59996</th>\n",
              "      <td>3</td>\n",
              "      <td>680</td>\n",
              "      <td>48</td>\n",
              "      <td>16125.00</td>\n",
              "      <td>10</td>\n",
              "      <td>5.29</td>\n",
              "      <td>7.54</td>\n",
              "      <td>1.1100</td>\n",
              "      <td>1</td>\n",
              "      <td>0</td>\n",
              "      <td>1</td>\n",
              "      <td>0</td>\n",
              "      <td>1</td>\n",
              "    </tr>\n",
              "    <tr>\n",
              "      <th>59997</th>\n",
              "      <td>1</td>\n",
              "      <td>772</td>\n",
              "      <td>48</td>\n",
              "      <td>40000.00</td>\n",
              "      <td>0</td>\n",
              "      <td>4.39</td>\n",
              "      <td>4.49</td>\n",
              "      <td>1.3200</td>\n",
              "      <td>1</td>\n",
              "      <td>1</td>\n",
              "      <td>0</td>\n",
              "      <td>0</td>\n",
              "      <td>0</td>\n",
              "    </tr>\n",
              "    <tr>\n",
              "      <th>59998</th>\n",
              "      <td>1</td>\n",
              "      <td>762</td>\n",
              "      <td>36</td>\n",
              "      <td>28000.00</td>\n",
              "      <td>0</td>\n",
              "      <td>3.49</td>\n",
              "      <td>3.49</td>\n",
              "      <td>1.1100</td>\n",
              "      <td>1</td>\n",
              "      <td>1</td>\n",
              "      <td>0</td>\n",
              "      <td>0</td>\n",
              "      <td>0</td>\n",
              "    </tr>\n",
              "    <tr>\n",
              "      <th>59999</th>\n",
              "      <td>3</td>\n",
              "      <td>694</td>\n",
              "      <td>72</td>\n",
              "      <td>27404.00</td>\n",
              "      <td>0</td>\n",
              "      <td>4.99</td>\n",
              "      <td>6.29</td>\n",
              "      <td>1.1100</td>\n",
              "      <td>3</td>\n",
              "      <td>1</td>\n",
              "      <td>0</td>\n",
              "      <td>0</td>\n",
              "      <td>0</td>\n",
              "    </tr>\n",
              "  </tbody>\n",
              "</table>\n",
              "<p>60000 rows × 13 columns</p>\n",
              "</div>\n",
              "      <button class=\"colab-df-convert\" onclick=\"convertToInteractive('df-2aa168b8-cc09-4e75-ae21-0be822713098')\"\n",
              "              title=\"Convert this dataframe to an interactive table.\"\n",
              "              style=\"display:none;\">\n",
              "        \n",
              "  <svg xmlns=\"http://www.w3.org/2000/svg\" height=\"24px\"viewBox=\"0 0 24 24\"\n",
              "       width=\"24px\">\n",
              "    <path d=\"M0 0h24v24H0V0z\" fill=\"none\"/>\n",
              "    <path d=\"M18.56 5.44l.94 2.06.94-2.06 2.06-.94-2.06-.94-.94-2.06-.94 2.06-2.06.94zm-11 1L8.5 8.5l.94-2.06 2.06-.94-2.06-.94L8.5 2.5l-.94 2.06-2.06.94zm10 10l.94 2.06.94-2.06 2.06-.94-2.06-.94-.94-2.06-.94 2.06-2.06.94z\"/><path d=\"M17.41 7.96l-1.37-1.37c-.4-.4-.92-.59-1.43-.59-.52 0-1.04.2-1.43.59L10.3 9.45l-7.72 7.72c-.78.78-.78 2.05 0 2.83L4 21.41c.39.39.9.59 1.41.59.51 0 1.02-.2 1.41-.59l7.78-7.78 2.81-2.81c.8-.78.8-2.07 0-2.86zM5.41 20L4 18.59l7.72-7.72 1.47 1.35L5.41 20z\"/>\n",
              "  </svg>\n",
              "      </button>\n",
              "      \n",
              "  <style>\n",
              "    .colab-df-container {\n",
              "      display:flex;\n",
              "      flex-wrap:wrap;\n",
              "      gap: 12px;\n",
              "    }\n",
              "\n",
              "    .colab-df-convert {\n",
              "      background-color: #E8F0FE;\n",
              "      border: none;\n",
              "      border-radius: 50%;\n",
              "      cursor: pointer;\n",
              "      display: none;\n",
              "      fill: #1967D2;\n",
              "      height: 32px;\n",
              "      padding: 0 0 0 0;\n",
              "      width: 32px;\n",
              "    }\n",
              "\n",
              "    .colab-df-convert:hover {\n",
              "      background-color: #E2EBFA;\n",
              "      box-shadow: 0px 1px 2px rgba(60, 64, 67, 0.3), 0px 1px 3px 1px rgba(60, 64, 67, 0.15);\n",
              "      fill: #174EA6;\n",
              "    }\n",
              "\n",
              "    [theme=dark] .colab-df-convert {\n",
              "      background-color: #3B4455;\n",
              "      fill: #D2E3FC;\n",
              "    }\n",
              "\n",
              "    [theme=dark] .colab-df-convert:hover {\n",
              "      background-color: #434B5C;\n",
              "      box-shadow: 0px 1px 3px 1px rgba(0, 0, 0, 0.15);\n",
              "      filter: drop-shadow(0px 1px 2px rgba(0, 0, 0, 0.3));\n",
              "      fill: #FFFFFF;\n",
              "    }\n",
              "  </style>\n",
              "\n",
              "      <script>\n",
              "        const buttonEl =\n",
              "          document.querySelector('#df-2aa168b8-cc09-4e75-ae21-0be822713098 button.colab-df-convert');\n",
              "        buttonEl.style.display =\n",
              "          google.colab.kernel.accessAllowed ? 'block' : 'none';\n",
              "\n",
              "        async function convertToInteractive(key) {\n",
              "          const element = document.querySelector('#df-2aa168b8-cc09-4e75-ae21-0be822713098');\n",
              "          const dataTable =\n",
              "            await google.colab.kernel.invokeFunction('convertToInteractive',\n",
              "                                                     [key], {});\n",
              "          if (!dataTable) return;\n",
              "\n",
              "          const docLinkHtml = 'Like what you see? Visit the ' +\n",
              "            '<a target=\"_blank\" href=https://colab.research.google.com/notebooks/data_table.ipynb>data table notebook</a>'\n",
              "            + ' to learn more about interactive tables.';\n",
              "          element.innerHTML = '';\n",
              "          dataTable['output_type'] = 'display_data';\n",
              "          await google.colab.output.renderOutput(dataTable, element);\n",
              "          const docLink = document.createElement('div');\n",
              "          docLink.innerHTML = docLinkHtml;\n",
              "          element.appendChild(docLink);\n",
              "        }\n",
              "      </script>\n",
              "    </div>\n",
              "  </div>\n",
              "  "
            ]
          },
          "metadata": {},
          "execution_count": 9
        }
      ]
    },
    {
      "cell_type": "code",
      "source": [
        "from sklearn.linear_model import LogisticRegression\n",
        "from sklearn.metrics import ConfusionMatrixDisplay\n",
        "\n",
        "lr = LogisticRegression()\n",
        "lr.fit(X_train, y_train_new)\n",
        "\n",
        "ConfusionMatrixDisplay.from_predictions(y_train_new, lr.predict(X_train))"
      ],
      "metadata": {
        "colab": {
          "base_uri": "https://localhost:8080/",
          "height": 351
        },
        "id": "PMr1Z2krYwsb",
        "outputId": "dc9d5b30-6416-4e52-fd09-bb9303cbea08"
      },
      "execution_count": 10,
      "outputs": [
        {
          "output_type": "stream",
          "name": "stderr",
          "text": [
            "/usr/local/lib/python3.7/dist-packages/sklearn/utils/validation.py:993: DataConversionWarning: A column-vector y was passed when a 1d array was expected. Please change the shape of y to (n_samples, ), for example using ravel().\n",
            "  y = column_or_1d(y, warn=True)\n"
          ]
        },
        {
          "output_type": "execute_result",
          "data": {
            "text/plain": [
              "<sklearn.metrics._plot.confusion_matrix.ConfusionMatrixDisplay at 0x7fd170c71f10>"
            ]
          },
          "metadata": {},
          "execution_count": 10
        },
        {
          "output_type": "display_data",
          "data": {
            "text/plain": [
              "<Figure size 432x288 with 2 Axes>"
            ],
            "image/png": "[encoded data removed]"
          },
          "metadata": {
            "needs_background": "light"
          }
        }
      ]
    },
    {
      "cell_type": "code",
      "source": [
        "from sklearn.linear_model import LogisticRegression\n",
        "\n",
        "lr = LogisticRegression()\n",
        "lr.fit(X_train, y_train_new)\n",
        "\n",
        "data = pd.DataFrame(lr.coef_, columns=['Tier', 'FICO', 'Term', 'Amount', 'Previous_Rate', 'Competition_rate',\n",
        "       'Rate', 'Cost_Funds', 'Partner Bin', 'Car_Type_N', 'Car_Type_R',\n",
        "       'Car_Type_U']).T\n",
        "data"
      ],
      "metadata": {
        "colab": {
          "base_uri": "https://localhost:8080/",
          "height": 480
        },
        "id": "ACR6JNgJTgZL",
        "outputId": "c080e20f-0ca9-40d3-a086-9fd9bc25237c"
      },
      "execution_count": 11,
      "outputs": [
        {
          "output_type": "stream",
          "name": "stderr",
          "text": [
            "/usr/local/lib/python3.7/dist-packages/sklearn/utils/validation.py:993: DataConversionWarning: A column-vector y was passed when a 1d array was expected. Please change the shape of y to (n_samples, ), for example using ravel().\n",
            "  y = column_or_1d(y, warn=True)\n"
          ]
        },
        {
          "output_type": "execute_result",
          "data": {
            "text/plain": [
              "                         0\n",
              "Tier              0.163439\n",
              "FICO             -0.000254\n",
              "Term             -0.051843\n",
              "Amount            0.000118\n",
              "Previous_Rate    -0.081194\n",
              "Competition_rate -0.035867\n",
              "Rate              0.260553\n",
              "Cost_Funds        0.008690\n",
              "Partner Bin       0.109337\n",
              "Car_Type_N        0.145460\n",
              "Car_Type_R        0.004175\n",
              "Car_Type_U       -0.144407"
            ],
            "text/html": [
              "\n",
              "  <div id=\"df-7530123d-0ee7-4032-8dba-a22205bb54b7\">\n",
              "    <div class=\"colab-df-container\">\n",
              "      <div>\n",
              "<style scoped>\n",
              "    .dataframe tbody tr th:only-of-type {\n",
              "        vertical-align: middle;\n",
              "    }\n",
              "\n",
              "    .dataframe tbody tr th {\n",
              "        vertical-align: top;\n",
              "    }\n",
              "\n",
              "    .dataframe thead th {\n",
              "        text-align: right;\n",
              "    }\n",
              "</style>\n",
              "<table border=\"1\" class=\"dataframe\">\n",
              "  <thead>\n",
              "    <tr style=\"text-align: right;\">\n",
              "      <th></th>\n",
              "      <th>0</th>\n",
              "    </tr>\n",
              "  </thead>\n",
              "  <tbody>\n",
              "    <tr>\n",
              "      <th>Tier</th>\n",
              "      <td>0.163439</td>\n",
              "    </tr>\n",
              "    <tr>\n",
              "      <th>FICO</th>\n",
              "      <td>-0.000254</td>\n",
              "    </tr>\n",
              "    <tr>\n",
              "      <th>Term</th>\n",
              "      <td>-0.051843</td>\n",
              "    </tr>\n",
              "    <tr>\n",
              "      <th>Amount</th>\n",
              "      <td>0.000118</td>\n",
              "    </tr>\n",
              "    <tr>\n",
              "      <th>Previous_Rate</th>\n",
              "      <td>-0.081194</td>\n",
              "    </tr>\n",
              "    <tr>\n",
              "      <th>Competition_rate</th>\n",
              "      <td>-0.035867</td>\n",
              "    </tr>\n",
              "    <tr>\n",
              "      <th>Rate</th>\n",
              "      <td>0.260553</td>\n",
              "    </tr>\n",
              "    <tr>\n",
              "      <th>Cost_Funds</th>\n",
              "      <td>0.008690</td>\n",
              "    </tr>\n",
              "    <tr>\n",
              "      <th>Partner Bin</th>\n",
              "      <td>0.109337</td>\n",
              "    </tr>\n",
              "    <tr>\n",
              "      <th>Car_Type_N</th>\n",
              "      <td>0.145460</td>\n",
              "    </tr>\n",
              "    <tr>\n",
              "      <th>Car_Type_R</th>\n",
              "      <td>0.004175</td>\n",
              "    </tr>\n",
              "    <tr>\n",
              "      <th>Car_Type_U</th>\n",
              "      <td>-0.144407</td>\n",
              "    </tr>\n",
              "  </tbody>\n",
              "</table>\n",
              "</div>\n",
              "      <button class=\"colab-df-convert\" onclick=\"convertToInteractive('df-7530123d-0ee7-4032-8dba-a22205bb54b7')\"\n",
              "              title=\"Convert this dataframe to an interactive table.\"\n",
              "              style=\"display:none;\">\n",
              "        \n",
              "  <svg xmlns=\"http://www.w3.org/2000/svg\" height=\"24px\"viewBox=\"0 0 24 24\"\n",
              "       width=\"24px\">\n",
              "    <path d=\"M0 0h24v24H0V0z\" fill=\"none\"/>\n",
              "    <path d=\"M18.56 5.44l.94 2.06.94-2.06 2.06-.94-2.06-.94-.94-2.06-.94 2.06-2.06.94zm-11 1L8.5 8.5l.94-2.06 2.06-.94-2.06-.94L8.5 2.5l-.94 2.06-2.06.94zm10 10l.94 2.06.94-2.06 2.06-.94-2.06-.94-.94-2.06-.94 2.06-2.06.94z\"/><path d=\"M17.41 7.96l-1.37-1.37c-.4-.4-.92-.59-1.43-.59-.52 0-1.04.2-1.43.59L10.3 9.45l-7.72 7.72c-.78.78-.78 2.05 0 2.83L4 21.41c.39.39.9.59 1.41.59.51 0 1.02-.2 1.41-.59l7.78-7.78 2.81-2.81c.8-.78.8-2.07 0-2.86zM5.41 20L4 18.59l7.72-7.72 1.47 1.35L5.41 20z\"/>\n",
              "  </svg>\n",
              "      </button>\n",
              "      \n",
              "  <style>\n",
              "    .colab-df-container {\n",
              "      display:flex;\n",
              "      flex-wrap:wrap;\n",
              "      gap: 12px;\n",
              "    }\n",
              "\n",
              "    .colab-df-convert {\n",
              "      background-color: #E8F0FE;\n",
              "      border: none;\n",
              "      border-radius: 50%;\n",
              "      cursor: pointer;\n",
              "      display: none;\n",
              "      fill: #1967D2;\n",
              "      height: 32px;\n",
              "      padding: 0 0 0 0;\n",
              "      width: 32px;\n",
              "    }\n",
              "\n",
              "    .colab-df-convert:hover {\n",
              "      background-color: #E2EBFA;\n",
              "      box-shadow: 0px 1px 2px rgba(60, 64, 67, 0.3), 0px 1px 3px 1px rgba(60, 64, 67, 0.15);\n",
              "      fill: #174EA6;\n",
              "    }\n",
              "\n",
              "    [theme=dark] .colab-df-convert {\n",
              "      background-color: #3B4455;\n",
              "      fill: #D2E3FC;\n",
              "    }\n",
              "\n",
              "    [theme=dark] .colab-df-convert:hover {\n",
              "      background-color: #434B5C;\n",
              "      box-shadow: 0px 1px 3px 1px rgba(0, 0, 0, 0.15);\n",
              "      filter: drop-shadow(0px 1px 2px rgba(0, 0, 0, 0.3));\n",
              "      fill: #FFFFFF;\n",
              "    }\n",
              "  </style>\n",
              "\n",
              "      <script>\n",
              "        const buttonEl =\n",
              "          document.querySelector('#df-7530123d-0ee7-4032-8dba-a22205bb54b7 button.colab-df-convert');\n",
              "        buttonEl.style.display =\n",
              "          google.colab.kernel.accessAllowed ? 'block' : 'none';\n",
              "\n",
              "        async function convertToInteractive(key) {\n",
              "          const element = document.querySelector('#df-7530123d-0ee7-4032-8dba-a22205bb54b7');\n",
              "          const dataTable =\n",
              "            await google.colab.kernel.invokeFunction('convertToInteractive',\n",
              "                                                     [key], {});\n",
              "          if (!dataTable) return;\n",
              "\n",
              "          const docLinkHtml = 'Like what you see? Visit the ' +\n",
              "            '<a target=\"_blank\" href=https://colab.research.google.com/notebooks/data_table.ipynb>data table notebook</a>'\n",
              "            + ' to learn more about interactive tables.';\n",
              "          element.innerHTML = '';\n",
              "          dataTable['output_type'] = 'display_data';\n",
              "          await google.colab.output.renderOutput(dataTable, element);\n",
              "          const docLink = document.createElement('div');\n",
              "          docLink.innerHTML = docLinkHtml;\n",
              "          element.appendChild(docLink);\n",
              "        }\n",
              "      </script>\n",
              "    </div>\n",
              "  </div>\n",
              "  "
            ]
          },
          "metadata": {},
          "execution_count": 11
        }
      ]
    },
    {
      "cell_type": "markdown",
      "source": [
        "On the Test data"
      ],
      "metadata": {
        "id": "JmCtYVn6aMvk"
      }
    },
    {
      "cell_type": "code",
      "source": [
        "X_test = test.iloc[:, :-1]\n",
        "y_test = test['Accept']\n",
        "print(X_test.head())\n",
        "print(y_test.head())"
      ],
      "metadata": {
        "colab": {
          "base_uri": "https://localhost:8080/"
        },
        "outputId": "d8c21bb1-764e-4744-ec67-ba16aadec8a1",
        "id": "--joePBbaB3o"
      },
      "execution_count": 12,
      "outputs": [
        {
          "output_type": "stream",
          "name": "stdout",
          "text": [
            "   Tier  FICO  Term    Amount  Previous_Rate  Competition_rate   Rate  \\\n",
            "0     2   719    48  24000.00              0              4.29   4.35   \n",
            "1     2   703    60  30000.00              0              4.39   4.35   \n",
            "2     1   730    60  25000.00              0              4.25   4.49   \n",
            "3     4   665    36  15000.00              0              4.45  10.09   \n",
            "4     4   645    60  14999.99              0              5.15  10.95   \n",
            "\n",
            "   Cost_Funds  Partner Bin  Car_Type_N  Car_Type_R  Car_Type_U  \n",
            "0      1.2738            3           1           0           0  \n",
            "1      1.3200            1           1           0           0  \n",
            "2      1.1200            3           1           0           0  \n",
            "3      1.1000            1           0           0           1  \n",
            "4      1.6500            3           0           0           1  \n",
            "0    0\n",
            "1    0\n",
            "2    0\n",
            "3    0\n",
            "4    0\n",
            "Name: Accept, dtype: int64\n"
          ]
        }
      ]
    },
    {
      "cell_type": "markdown",
      "source": [
        "\"Loan not accepted\" to be treated positive.   So, interchange 0 and 1 in y"
      ],
      "metadata": {
        "id": "I818OqNnaB3y"
      }
    },
    {
      "cell_type": "code",
      "source": [
        "y_test_new = np.zeros((25000, 1))\n",
        "y_test_new[np.where(y_test.to_numpy()==1)] = 0\n",
        "y_test_new[np.where(y_test.to_numpy()==0)] = 1"
      ],
      "metadata": {
        "id": "WNnEdSlLaB3y"
      },
      "execution_count": 13,
      "outputs": []
    },
    {
      "cell_type": "code",
      "source": [
        "pd.concat((X_test, pd.DataFrame(y_test, columns=['Accept'])), axis=1)"
      ],
      "metadata": {
        "colab": {
          "base_uri": "https://localhost:8080/",
          "height": 505
        },
        "outputId": "673201d4-2fac-4b48-9846-9aac83a7bd60",
        "id": "fVkAeDL4aB3y"
      },
      "execution_count": 14,
      "outputs": [
        {
          "output_type": "execute_result",
          "data": {
            "text/plain": [
              "       Tier  FICO  Term    Amount  Previous_Rate  Competition_rate   Rate  \\\n",
              "0         2   719    48  24000.00              0              4.29   4.35   \n",
              "1         2   703    60  30000.00              0              4.39   4.35   \n",
              "2         1   730    60  25000.00              0              4.25   4.49   \n",
              "3         4   665    36  15000.00              0              4.45  10.09   \n",
              "4         4   645    60  14999.99              0              5.15  10.95   \n",
              "...     ...   ...   ...       ...            ...               ...    ...   \n",
              "24995     1   791    60  30000.00              0              4.49   4.49   \n",
              "24996     1   802    36  30000.00              0              3.89   3.89   \n",
              "24997     1   755    60  28000.00              0              4.29   4.29   \n",
              "24998     2   716    60   5127.05              6              4.99   5.25   \n",
              "24999     1   758    60  17949.90              0              4.69   4.09   \n",
              "\n",
              "       Cost_Funds  Partner Bin  Car_Type_N  Car_Type_R  Car_Type_U  Accept  \n",
              "0          1.2738            3           1           0           0       0  \n",
              "1          1.3200            1           1           0           0       0  \n",
              "2          1.1200            3           1           0           0       0  \n",
              "3          1.1000            1           0           0           1       0  \n",
              "4          1.6500            3           0           0           1       0  \n",
              "...           ...          ...         ...         ...         ...     ...  \n",
              "24995      1.2638            3           1           0           0       0  \n",
              "24996      1.3200            3           1           0           0       0  \n",
              "24997      1.1000            1           1           0           0       0  \n",
              "24998      1.1000            1           0           1           0       1  \n",
              "24999      1.3075            3           0           0           1       1  \n",
              "\n",
              "[25000 rows x 13 columns]"
            ],
            "text/html": [
              "\n",
              "  <div id=\"df-e6b8ca8f-a11c-4ae3-b7b0-bbf82f8bfee5\">\n",
              "    <div class=\"colab-df-container\">\n",
              "      <div>\n",
              "<style scoped>\n",
              "    .dataframe tbody tr th:only-of-type {\n",
              "        vertical-align: middle;\n",
              "    }\n",
              "\n",
              "    .dataframe tbody tr th {\n",
              "        vertical-align: top;\n",
              "    }\n",
              "\n",
              "    .dataframe thead th {\n",
              "        text-align: right;\n",
              "    }\n",
              "</style>\n",
              "<table border=\"1\" class=\"dataframe\">\n",
              "  <thead>\n",
              "    <tr style=\"text-align: right;\">\n",
              "      <th></th>\n",
              "      <th>Tier</th>\n",
              "      <th>FICO</th>\n",
              "      <th>Term</th>\n",
              "      <th>Amount</th>\n",
              "      <th>Previous_Rate</th>\n",
              "      <th>Competition_rate</th>\n",
              "      <th>Rate</th>\n",
              "      <th>Cost_Funds</th>\n",
              "      <th>Partner Bin</th>\n",
              "      <th>Car_Type_N</th>\n",
              "      <th>Car_Type_R</th>\n",
              "      <th>Car_Type_U</th>\n",
              "      <th>Accept</th>\n",
              "    </tr>\n",
              "  </thead>\n",
              "  <tbody>\n",
              "    <tr>\n",
              "      <th>0</th>\n",
              "      <td>2</td>\n",
              "      <td>719</td>\n",
              "      <td>48</td>\n",
              "      <td>24000.00</td>\n",
              "      <td>0</td>\n",
              "      <td>4.29</td>\n",
              "      <td>4.35</td>\n",
              "      <td>1.2738</td>\n",
              "      <td>3</td>\n",
              "      <td>1</td>\n",
              "      <td>0</td>\n",
              "      <td>0</td>\n",
              "      <td>0</td>\n",
              "    </tr>\n",
              "    <tr>\n",
              "      <th>1</th>\n",
              "      <td>2</td>\n",
              "      <td>703</td>\n",
              "      <td>60</td>\n",
              "      <td>30000.00</td>\n",
              "      <td>0</td>\n",
              "      <td>4.39</td>\n",
              "      <td>4.35</td>\n",
              "      <td>1.3200</td>\n",
              "      <td>1</td>\n",
              "      <td>1</td>\n",
              "      <td>0</td>\n",
              "      <td>0</td>\n",
              "      <td>0</td>\n",
              "    </tr>\n",
              "    <tr>\n",
              "      <th>2</th>\n",
              "      <td>1</td>\n",
              "      <td>730</td>\n",
              "      <td>60</td>\n",
              "      <td>25000.00</td>\n",
              "      <td>0</td>\n",
              "      <td>4.25</td>\n",
              "      <td>4.49</td>\n",
              "      <td>1.1200</td>\n",
              "      <td>3</td>\n",
              "      <td>1</td>\n",
              "      <td>0</td>\n",
              "      <td>0</td>\n",
              "      <td>0</td>\n",
              "    </tr>\n",
              "    <tr>\n",
              "      <th>3</th>\n",
              "      <td>4</td>\n",
              "      <td>665</td>\n",
              "      <td>36</td>\n",
              "      <td>15000.00</td>\n",
              "      <td>0</td>\n",
              "      <td>4.45</td>\n",
              "      <td>10.09</td>\n",
              "      <td>1.1000</td>\n",
              "      <td>1</td>\n",
              "      <td>0</td>\n",
              "      <td>0</td>\n",
              "      <td>1</td>\n",
              "      <td>0</td>\n",
              "    </tr>\n",
              "    <tr>\n",
              "      <th>4</th>\n",
              "      <td>4</td>\n",
              "      <td>645</td>\n",
              "      <td>60</td>\n",
              "      <td>14999.99</td>\n",
              "      <td>0</td>\n",
              "      <td>5.15</td>\n",
              "      <td>10.95</td>\n",
              "      <td>1.6500</td>\n",
              "      <td>3</td>\n",
              "      <td>0</td>\n",
              "      <td>0</td>\n",
              "      <td>1</td>\n",
              "      <td>0</td>\n",
              "    </tr>\n",
              "    <tr>\n",
              "      <th>...</th>\n",
              "      <td>...</td>\n",
              "      <td>...</td>\n",
              "      <td>...</td>\n",
              "      <td>...</td>\n",
              "      <td>...</td>\n",
              "      <td>...</td>\n",
              "      <td>...</td>\n",
              "      <td>...</td>\n",
              "      <td>...</td>\n",
              "      <td>...</td>\n",
              "      <td>...</td>\n",
              "      <td>...</td>\n",
              "      <td>...</td>\n",
              "    </tr>\n",
              "    <tr>\n",
              "      <th>24995</th>\n",
              "      <td>1</td>\n",
              "      <td>791</td>\n",
              "      <td>60</td>\n",
              "      <td>30000.00</td>\n",
              "      <td>0</td>\n",
              "      <td>4.49</td>\n",
              "      <td>4.49</td>\n",
              "      <td>1.2638</td>\n",
              "      <td>3</td>\n",
              "      <td>1</td>\n",
              "      <td>0</td>\n",
              "      <td>0</td>\n",
              "      <td>0</td>\n",
              "    </tr>\n",
              "    <tr>\n",
              "      <th>24996</th>\n",
              "      <td>1</td>\n",
              "      <td>802</td>\n",
              "      <td>36</td>\n",
              "      <td>30000.00</td>\n",
              "      <td>0</td>\n",
              "      <td>3.89</td>\n",
              "      <td>3.89</td>\n",
              "      <td>1.3200</td>\n",
              "      <td>3</td>\n",
              "      <td>1</td>\n",
              "      <td>0</td>\n",
              "      <td>0</td>\n",
              "      <td>0</td>\n",
              "    </tr>\n",
              "    <tr>\n",
              "      <th>24997</th>\n",
              "      <td>1</td>\n",
              "      <td>755</td>\n",
              "      <td>60</td>\n",
              "      <td>28000.00</td>\n",
              "      <td>0</td>\n",
              "      <td>4.29</td>\n",
              "      <td>4.29</td>\n",
              "      <td>1.1000</td>\n",
              "      <td>1</td>\n",
              "      <td>1</td>\n",
              "      <td>0</td>\n",
              "      <td>0</td>\n",
              "      <td>0</td>\n",
              "    </tr>\n",
              "    <tr>\n",
              "      <th>24998</th>\n",
              "      <td>2</td>\n",
              "      <td>716</td>\n",
              "      <td>60</td>\n",
              "      <td>5127.05</td>\n",
              "      <td>6</td>\n",
              "      <td>4.99</td>\n",
              "      <td>5.25</td>\n",
              "      <td>1.1000</td>\n",
              "      <td>1</td>\n",
              "      <td>0</td>\n",
              "      <td>1</td>\n",
              "      <td>0</td>\n",
              "      <td>1</td>\n",
              "    </tr>\n",
              "    <tr>\n",
              "      <th>24999</th>\n",
              "      <td>1</td>\n",
              "      <td>758</td>\n",
              "      <td>60</td>\n",
              "      <td>17949.90</td>\n",
              "      <td>0</td>\n",
              "      <td>4.69</td>\n",
              "      <td>4.09</td>\n",
              "      <td>1.3075</td>\n",
              "      <td>3</td>\n",
              "      <td>0</td>\n",
              "      <td>0</td>\n",
              "      <td>1</td>\n",
              "      <td>1</td>\n",
              "    </tr>\n",
              "  </tbody>\n",
              "</table>\n",
              "<p>25000 rows × 13 columns</p>\n",
              "</div>\n",
              "      <button class=\"colab-df-convert\" onclick=\"convertToInteractive('df-e6b8ca8f-a11c-4ae3-b7b0-bbf82f8bfee5')\"\n",
              "              title=\"Convert this dataframe to an interactive table.\"\n",
              "              style=\"display:none;\">\n",
              "        \n",
              "  <svg xmlns=\"http://www.w3.org/2000/svg\" height=\"24px\"viewBox=\"0 0 24 24\"\n",
              "       width=\"24px\">\n",
              "    <path d=\"M0 0h24v24H0V0z\" fill=\"none\"/>\n",
              "    <path d=\"M18.56 5.44l.94 2.06.94-2.06 2.06-.94-2.06-.94-.94-2.06-.94 2.06-2.06.94zm-11 1L8.5 8.5l.94-2.06 2.06-.94-2.06-.94L8.5 2.5l-.94 2.06-2.06.94zm10 10l.94 2.06.94-2.06 2.06-.94-2.06-.94-.94-2.06-.94 2.06-2.06.94z\"/><path d=\"M17.41 7.96l-1.37-1.37c-.4-.4-.92-.59-1.43-.59-.52 0-1.04.2-1.43.59L10.3 9.45l-7.72 7.72c-.78.78-.78 2.05 0 2.83L4 21.41c.39.39.9.59 1.41.59.51 0 1.02-.2 1.41-.59l7.78-7.78 2.81-2.81c.8-.78.8-2.07 0-2.86zM5.41 20L4 18.59l7.72-7.72 1.47 1.35L5.41 20z\"/>\n",
              "  </svg>\n",
              "      </button>\n",
              "      \n",
              "  <style>\n",
              "    .colab-df-container {\n",
              "      display:flex;\n",
              "      flex-wrap:wrap;\n",
              "      gap: 12px;\n",
              "    }\n",
              "\n",
              "    .colab-df-convert {\n",
              "      background-color: #E8F0FE;\n",
              "      border: none;\n",
              "      border-radius: 50%;\n",
              "      cursor: pointer;\n",
              "      display: none;\n",
              "      fill: #1967D2;\n",
              "      height: 32px;\n",
              "      padding: 0 0 0 0;\n",
              "      width: 32px;\n",
              "    }\n",
              "\n",
              "    .colab-df-convert:hover {\n",
              "      background-color: #E2EBFA;\n",
              "      box-shadow: 0px 1px 2px rgba(60, 64, 67, 0.3), 0px 1px 3px 1px rgba(60, 64, 67, 0.15);\n",
              "      fill: #174EA6;\n",
              "    }\n",
              "\n",
              "    [theme=dark] .colab-df-convert {\n",
              "      background-color: #3B4455;\n",
              "      fill: #D2E3FC;\n",
              "    }\n",
              "\n",
              "    [theme=dark] .colab-df-convert:hover {\n",
              "      background-color: #434B5C;\n",
              "      box-shadow: 0px 1px 3px 1px rgba(0, 0, 0, 0.15);\n",
              "      filter: drop-shadow(0px 1px 2px rgba(0, 0, 0, 0.3));\n",
              "      fill: #FFFFFF;\n",
              "    }\n",
              "  </style>\n",
              "\n",
              "      <script>\n",
              "        const buttonEl =\n",
              "          document.querySelector('#df-e6b8ca8f-a11c-4ae3-b7b0-bbf82f8bfee5 button.colab-df-convert');\n",
              "        buttonEl.style.display =\n",
              "          google.colab.kernel.accessAllowed ? 'block' : 'none';\n",
              "\n",
              "        async function convertToInteractive(key) {\n",
              "          const element = document.querySelector('#df-e6b8ca8f-a11c-4ae3-b7b0-bbf82f8bfee5');\n",
              "          const dataTable =\n",
              "            await google.colab.kernel.invokeFunction('convertToInteractive',\n",
              "                                                     [key], {});\n",
              "          if (!dataTable) return;\n",
              "\n",
              "          const docLinkHtml = 'Like what you see? Visit the ' +\n",
              "            '<a target=\"_blank\" href=https://colab.research.google.com/notebooks/data_table.ipynb>data table notebook</a>'\n",
              "            + ' to learn more about interactive tables.';\n",
              "          element.innerHTML = '';\n",
              "          dataTable['output_type'] = 'display_data';\n",
              "          await google.colab.output.renderOutput(dataTable, element);\n",
              "          const docLink = document.createElement('div');\n",
              "          docLink.innerHTML = docLinkHtml;\n",
              "          element.appendChild(docLink);\n",
              "        }\n",
              "      </script>\n",
              "    </div>\n",
              "  </div>\n",
              "  "
            ]
          },
          "metadata": {},
          "execution_count": 14
        }
      ]
    },
    {
      "cell_type": "code",
      "source": [
        "from sklearn.linear_model import LogisticRegression\n",
        "from sklearn.metrics import ConfusionMatrixDisplay\n",
        "\n",
        "lr = LogisticRegression()\n",
        "lr.fit(X_train, y_train_new) #who will not take the loan\n",
        "\n",
        "ConfusionMatrixDisplay.from_predictions(y_test_new, lr.predict(X_test))"
      ],
      "metadata": {
        "colab": {
          "base_uri": "https://localhost:8080/",
          "height": 351
        },
        "outputId": "a5604309-6794-480a-989c-10a2ef58197d",
        "id": "-t3Azl5UaB3z"
      },
      "execution_count": 15,
      "outputs": [
        {
          "output_type": "stream",
          "name": "stderr",
          "text": [
            "/usr/local/lib/python3.7/dist-packages/sklearn/utils/validation.py:993: DataConversionWarning: A column-vector y was passed when a 1d array was expected. Please change the shape of y to (n_samples, ), for example using ravel().\n",
            "  y = column_or_1d(y, warn=True)\n"
          ]
        },
        {
          "output_type": "execute_result",
          "data": {
            "text/plain": [
              "<sklearn.metrics._plot.confusion_matrix.ConfusionMatrixDisplay at 0x7fd16df9f950>"
            ]
          },
          "metadata": {},
          "execution_count": 15
        },
        {
          "output_type": "display_data",
          "data": {
            "text/plain": [
              "<Figure size 432x288 with 2 Axes>"
            ],
            "image/png": "[encoded data removed]"
          },
          "metadata": {
            "needs_background": "light"
          }
        }
      ]
    },
    {
      "cell_type": "code",
      "source": [
        "(18360+1655)/25000 # Accuracy on test data"
      ],
      "metadata": {
        "colab": {
          "base_uri": "https://localhost:8080/"
        },
        "id": "EZta05dZivOD",
        "outputId": "59755f2b-0b15-44d2-aa32-ff0d719c4efa"
      },
      "execution_count": 16,
      "outputs": [
        {
          "output_type": "execute_result",
          "data": {
            "text/plain": [
              "0.8006"
            ]
          },
          "metadata": {},
          "execution_count": 16
        }
      ]
    },
    {
      "cell_type": "code",
      "source": [
        "18360/(18360+3881) # Precision"
      ],
      "metadata": {
        "colab": {
          "base_uri": "https://localhost:8080/"
        },
        "id": "NgUP5HsFjHZO",
        "outputId": "d7b6816f-eb45-4a32-a7b6-63418be36b1c"
      },
      "execution_count": 17,
      "outputs": [
        {
          "output_type": "execute_result",
          "data": {
            "text/plain": [
              "0.8255024504293872"
            ]
          },
          "metadata": {},
          "execution_count": 17
        }
      ]
    },
    {
      "cell_type": "code",
      "source": [
        "18360/(18360+1104) # Recall"
      ],
      "metadata": {
        "colab": {
          "base_uri": "https://localhost:8080/"
        },
        "id": "uIqMlkSZjQwz",
        "outputId": "4acc58a1-f89d-4847-eb33-27c902a4eb9c"
      },
      "execution_count": 18,
      "outputs": [
        {
          "output_type": "execute_result",
          "data": {
            "text/plain": [
              "0.9432799013563502"
            ]
          },
          "metadata": {},
          "execution_count": 18
        }
      ]
    },
    {
      "cell_type": "markdown",
      "source": [
        "Q.13"
      ],
      "metadata": {
        "id": "6iJx-cYmjqZY"
      }
    },
    {
      "cell_type": "code",
      "source": [
        "from sklearn.linear_model import LogisticRegression\n",
        "from sklearn.metrics import ConfusionMatrixDisplay\n",
        "\n",
        "lr = LogisticRegression()\n",
        "lr.fit(X_train, y_train) # who'll take the loan\n",
        "\n",
        "ConfusionMatrixDisplay.from_predictions(y_test, lr.predict(X_test))"
      ],
      "metadata": {
        "colab": {
          "base_uri": "https://localhost:8080/",
          "height": 296
        },
        "id": "CQwnC9orjdCO",
        "outputId": "38497f0c-50d7-4953-95ab-c04958e0400d"
      },
      "execution_count": 19,
      "outputs": [
        {
          "output_type": "execute_result",
          "data": {
            "text/plain": [
              "<sklearn.metrics._plot.confusion_matrix.ConfusionMatrixDisplay at 0x7fd16da1bfd0>"
            ]
          },
          "metadata": {},
          "execution_count": 19
        },
        {
          "output_type": "display_data",
          "data": {
            "text/plain": [
              "<Figure size 432x288 with 2 Axes>"
            ],
            "image/png": "[encoded data removed]"
          },
          "metadata": {
            "needs_background": "light"
          }
        }
      ]
    },
    {
      "cell_type": "code",
      "source": [
        "1655/(1655+1104) # Precision"
      ],
      "metadata": {
        "colab": {
          "base_uri": "https://localhost:8080/"
        },
        "id": "xIEO6Pytjpbu",
        "outputId": "3da73ab7-4b99-4b7b-dfa7-3bc25298a39c"
      },
      "execution_count": 20,
      "outputs": [
        {
          "output_type": "execute_result",
          "data": {
            "text/plain": [
              "0.599855019934759"
            ]
          },
          "metadata": {},
          "execution_count": 20
        }
      ]
    },
    {
      "cell_type": "code",
      "source": [
        "1655/(1655+3881) # Recall"
      ],
      "metadata": {
        "colab": {
          "base_uri": "https://localhost:8080/"
        },
        "id": "hhiseyclj4DJ",
        "outputId": "b04c0078-12f5-41e5-f05c-ea911a66ebf9"
      },
      "execution_count": 21,
      "outputs": [
        {
          "output_type": "execute_result",
          "data": {
            "text/plain": [
              "0.2989523121387283"
            ]
          },
          "metadata": {},
          "execution_count": 21
        }
      ]
    },
    {
      "cell_type": "markdown",
      "source": [
        "Q.17"
      ],
      "metadata": {
        "id": "IcbMUGZakvnx"
      }
    },
    {
      "cell_type": "code",
      "source": [
        "from sklearn.linear_model import LogisticRegression\n",
        "from sklearn.metrics import ConfusionMatrixDisplay\n",
        "\n",
        "lr = LogisticRegression()\n",
        "lr.fit(X_train, y_train_new) # who'll not take the loan\n",
        "\n",
        "ConfusionMatrixDisplay.from_predictions(y_train_new, lr.predict(X_train))"
      ],
      "metadata": {
        "colab": {
          "base_uri": "https://localhost:8080/",
          "height": 351
        },
        "id": "arSJ4PgDlV5W",
        "outputId": "44413c0f-4c41-44b9-b1a4-e3860957f9c6"
      },
      "execution_count": 22,
      "outputs": [
        {
          "output_type": "stream",
          "name": "stderr",
          "text": [
            "/usr/local/lib/python3.7/dist-packages/sklearn/utils/validation.py:993: DataConversionWarning: A column-vector y was passed when a 1d array was expected. Please change the shape of y to (n_samples, ), for example using ravel().\n",
            "  y = column_or_1d(y, warn=True)\n"
          ]
        },
        {
          "output_type": "execute_result",
          "data": {
            "text/plain": [
              "<sklearn.metrics._plot.confusion_matrix.ConfusionMatrixDisplay at 0x7fd16d92d850>"
            ]
          },
          "metadata": {},
          "execution_count": 22
        },
        {
          "output_type": "display_data",
          "data": {
            "text/plain": [
              "<Figure size 432x288 with 2 Axes>"
            ],
            "image/png": "[encoded data removed]"
          },
          "metadata": {
            "needs_background": "light"
          }
        }
      ]
    },
    {
      "cell_type": "code",
      "source": [
        "from sklearn.linear_model import LogisticRegression\n",
        "from sklearn.metrics import ConfusionMatrixDisplay\n",
        "\n",
        "lr = LogisticRegression()\n",
        "lr.fit(X_train, y_train_new) # who'll not take the loan\n",
        "\n",
        "ConfusionMatrixDisplay.from_predictions(y_test_new, lr.predict(X_test))"
      ],
      "metadata": {
        "colab": {
          "base_uri": "https://localhost:8080/",
          "height": 351
        },
        "id": "eAKS7kXJSKxM",
        "outputId": "aee1f3aa-adc3-4e2c-8ae1-5079fef18115"
      },
      "execution_count": 23,
      "outputs": [
        {
          "output_type": "stream",
          "name": "stderr",
          "text": [
            "/usr/local/lib/python3.7/dist-packages/sklearn/utils/validation.py:993: DataConversionWarning: A column-vector y was passed when a 1d array was expected. Please change the shape of y to (n_samples, ), for example using ravel().\n",
            "  y = column_or_1d(y, warn=True)\n"
          ]
        },
        {
          "output_type": "execute_result",
          "data": {
            "text/plain": [
              "<sklearn.metrics._plot.confusion_matrix.ConfusionMatrixDisplay at 0x7fd16d8941d0>"
            ]
          },
          "metadata": {},
          "execution_count": 23
        },
        {
          "output_type": "display_data",
          "data": {
            "text/plain": [
              "<Figure size 432x288 with 2 Axes>"
            ],
            "image/png": "[encoded data removed]"
          },
          "metadata": {
            "needs_background": "light"
          }
        }
      ]
    },
    {
      "cell_type": "code",
      "source": [
        "(44188 + 4050)/60000 # accuracy on train data"
      ],
      "metadata": {
        "colab": {
          "base_uri": "https://localhost:8080/"
        },
        "id": "H6zFOajBld1w",
        "outputId": "15512414-05a2-4149-ae34-40a8bededfbe"
      },
      "execution_count": 24,
      "outputs": [
        {
          "output_type": "execute_result",
          "data": {
            "text/plain": [
              "0.8039666666666667"
            ]
          },
          "metadata": {},
          "execution_count": 24
        }
      ]
    },
    {
      "cell_type": "code",
      "source": [
        "(18360 + 1655) / 25000 # accuracy on test data"
      ],
      "metadata": {
        "colab": {
          "base_uri": "https://localhost:8080/"
        },
        "id": "swUm1DVHSVOt",
        "outputId": "fd0688dc-3ffa-4199-9c27-115b82aa8b5d"
      },
      "execution_count": 25,
      "outputs": [
        {
          "output_type": "execute_result",
          "data": {
            "text/plain": [
              "0.8006"
            ]
          },
          "metadata": {},
          "execution_count": 25
        }
      ]
    },
    {
      "cell_type": "code",
      "source": [
        "print(classification_report(y_test_new, lr.predict(X_test)))"
      ],
      "metadata": {
        "colab": {
          "base_uri": "https://localhost:8080/"
        },
        "id": "kJtxoxbrqKSu",
        "outputId": "ada4d0d3-d386-4317-ab67-716e9f7057fa"
      },
      "execution_count": 26,
      "outputs": [
        {
          "output_type": "stream",
          "name": "stdout",
          "text": [
            "              precision    recall  f1-score   support\n",
            "\n",
            "         0.0       0.60      0.30      0.40      5536\n",
            "         1.0       0.83      0.94      0.88     19464\n",
            "\n",
            "    accuracy                           0.80     25000\n",
            "   macro avg       0.71      0.62      0.64     25000\n",
            "weighted avg       0.78      0.80      0.77     25000\n",
            "\n"
          ]
        }
      ]
    }
  ]
}