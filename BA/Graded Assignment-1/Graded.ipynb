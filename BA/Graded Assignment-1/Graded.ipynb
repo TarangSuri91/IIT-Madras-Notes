{
 "cells": [
  {
   "cell_type": "code",
   "execution_count": 1,
   "id": "797ca68e",
   "metadata": {},
   "outputs": [],
   "source": [
    "import pandas as pd\n",
    "import numpy as np\n",
    "import scipy.stats as stats\n",
    "from scipy.stats import norm"
   ]
  },
  {
   "cell_type": "markdown",
   "id": "7f1ec67a",
   "metadata": {},
   "source": [
    "#### Problem 1"
   ]
  },
  {
   "cell_type": "code",
   "execution_count": 2,
   "id": "aebce00d",
   "metadata": {},
   "outputs": [],
   "source": [
    "df = pd.read_excel(\"data1.xlsx\")"
   ]
  },
  {
   "cell_type": "code",
   "execution_count": 3,
   "id": "4fbfddde",
   "metadata": {
    "scrolled": true
   },
   "outputs": [
    {
     "data": {
      "text/html": [
       "<div>\n",
       "<style scoped>\n",
       "    .dataframe tbody tr th:only-of-type {\n",
       "        vertical-align: middle;\n",
       "    }\n",
       "\n",
       "    .dataframe tbody tr th {\n",
       "        vertical-align: top;\n",
       "    }\n",
       "\n",
       "    .dataframe thead th {\n",
       "        text-align: right;\n",
       "    }\n",
       "</style>\n",
       "<table border=\"1\" class=\"dataframe\">\n",
       "  <thead>\n",
       "    <tr style=\"text-align: right;\">\n",
       "      <th></th>\n",
       "      <th>obs</th>\n",
       "    </tr>\n",
       "  </thead>\n",
       "  <tbody>\n",
       "    <tr>\n",
       "      <th>0</th>\n",
       "      <td>20.710038</td>\n",
       "    </tr>\n",
       "    <tr>\n",
       "      <th>1</th>\n",
       "      <td>20.035838</td>\n",
       "    </tr>\n",
       "    <tr>\n",
       "      <th>2</th>\n",
       "      <td>18.924596</td>\n",
       "    </tr>\n",
       "    <tr>\n",
       "      <th>3</th>\n",
       "      <td>16.312833</td>\n",
       "    </tr>\n",
       "    <tr>\n",
       "      <th>4</th>\n",
       "      <td>12.170810</td>\n",
       "    </tr>\n",
       "    <tr>\n",
       "      <th>5</th>\n",
       "      <td>16.352038</td>\n",
       "    </tr>\n",
       "    <tr>\n",
       "      <th>6</th>\n",
       "      <td>28.362005</td>\n",
       "    </tr>\n",
       "    <tr>\n",
       "      <th>7</th>\n",
       "      <td>21.379978</td>\n",
       "    </tr>\n",
       "    <tr>\n",
       "      <th>8</th>\n",
       "      <td>18.963487</td>\n",
       "    </tr>\n",
       "    <tr>\n",
       "      <th>9</th>\n",
       "      <td>19.821240</td>\n",
       "    </tr>\n",
       "    <tr>\n",
       "      <th>10</th>\n",
       "      <td>15.853531</td>\n",
       "    </tr>\n",
       "    <tr>\n",
       "      <th>11</th>\n",
       "      <td>10.178644</td>\n",
       "    </tr>\n",
       "    <tr>\n",
       "      <th>12</th>\n",
       "      <td>26.195534</td>\n",
       "    </tr>\n",
       "    <tr>\n",
       "      <th>13</th>\n",
       "      <td>10.789854</td>\n",
       "    </tr>\n",
       "    <tr>\n",
       "      <th>14</th>\n",
       "      <td>20.446334</td>\n",
       "    </tr>\n",
       "    <tr>\n",
       "      <th>15</th>\n",
       "      <td>24.097128</td>\n",
       "    </tr>\n",
       "    <tr>\n",
       "      <th>16</th>\n",
       "      <td>22.515949</td>\n",
       "    </tr>\n",
       "    <tr>\n",
       "      <th>17</th>\n",
       "      <td>23.865719</td>\n",
       "    </tr>\n",
       "    <tr>\n",
       "      <th>18</th>\n",
       "      <td>19.700080</td>\n",
       "    </tr>\n",
       "    <tr>\n",
       "      <th>19</th>\n",
       "      <td>26.468041</td>\n",
       "    </tr>\n",
       "    <tr>\n",
       "      <th>20</th>\n",
       "      <td>24.942782</td>\n",
       "    </tr>\n",
       "    <tr>\n",
       "      <th>21</th>\n",
       "      <td>18.657691</td>\n",
       "    </tr>\n",
       "    <tr>\n",
       "      <th>22</th>\n",
       "      <td>23.485144</td>\n",
       "    </tr>\n",
       "    <tr>\n",
       "      <th>23</th>\n",
       "      <td>6.995103</td>\n",
       "    </tr>\n",
       "    <tr>\n",
       "      <th>24</th>\n",
       "      <td>18.883162</td>\n",
       "    </tr>\n",
       "    <tr>\n",
       "      <th>25</th>\n",
       "      <td>13.048969</td>\n",
       "    </tr>\n",
       "    <tr>\n",
       "      <th>26</th>\n",
       "      <td>11.575366</td>\n",
       "    </tr>\n",
       "    <tr>\n",
       "      <th>27</th>\n",
       "      <td>17.536214</td>\n",
       "    </tr>\n",
       "    <tr>\n",
       "      <th>28</th>\n",
       "      <td>23.312821</td>\n",
       "    </tr>\n",
       "    <tr>\n",
       "      <th>29</th>\n",
       "      <td>29.061675</td>\n",
       "    </tr>\n",
       "    <tr>\n",
       "      <th>30</th>\n",
       "      <td>16.983871</td>\n",
       "    </tr>\n",
       "    <tr>\n",
       "      <th>31</th>\n",
       "      <td>19.485734</td>\n",
       "    </tr>\n",
       "    <tr>\n",
       "      <th>32</th>\n",
       "      <td>27.787240</td>\n",
       "    </tr>\n",
       "    <tr>\n",
       "      <th>33</th>\n",
       "      <td>19.857464</td>\n",
       "    </tr>\n",
       "    <tr>\n",
       "      <th>34</th>\n",
       "      <td>14.209545</td>\n",
       "    </tr>\n",
       "    <tr>\n",
       "      <th>35</th>\n",
       "      <td>9.590593</td>\n",
       "    </tr>\n",
       "    <tr>\n",
       "      <th>36</th>\n",
       "      <td>7.640148</td>\n",
       "    </tr>\n",
       "    <tr>\n",
       "      <th>37</th>\n",
       "      <td>18.316169</td>\n",
       "    </tr>\n",
       "    <tr>\n",
       "      <th>38</th>\n",
       "      <td>19.585819</td>\n",
       "    </tr>\n",
       "    <tr>\n",
       "      <th>39</th>\n",
       "      <td>19.975352</td>\n",
       "    </tr>\n",
       "    <tr>\n",
       "      <th>40</th>\n",
       "      <td>18.330848</td>\n",
       "    </tr>\n",
       "    <tr>\n",
       "      <th>41</th>\n",
       "      <td>13.367388</td>\n",
       "    </tr>\n",
       "    <tr>\n",
       "      <th>42</th>\n",
       "      <td>24.294740</td>\n",
       "    </tr>\n",
       "    <tr>\n",
       "      <th>43</th>\n",
       "      <td>26.147285</td>\n",
       "    </tr>\n",
       "    <tr>\n",
       "      <th>44</th>\n",
       "      <td>15.488801</td>\n",
       "    </tr>\n",
       "    <tr>\n",
       "      <th>45</th>\n",
       "      <td>19.234026</td>\n",
       "    </tr>\n",
       "    <tr>\n",
       "      <th>46</th>\n",
       "      <td>17.989393</td>\n",
       "    </tr>\n",
       "    <tr>\n",
       "      <th>47</th>\n",
       "      <td>23.403495</td>\n",
       "    </tr>\n",
       "  </tbody>\n",
       "</table>\n",
       "</div>"
      ],
      "text/plain": [
       "          obs\n",
       "0   20.710038\n",
       "1   20.035838\n",
       "2   18.924596\n",
       "3   16.312833\n",
       "4   12.170810\n",
       "5   16.352038\n",
       "6   28.362005\n",
       "7   21.379978\n",
       "8   18.963487\n",
       "9   19.821240\n",
       "10  15.853531\n",
       "11  10.178644\n",
       "12  26.195534\n",
       "13  10.789854\n",
       "14  20.446334\n",
       "15  24.097128\n",
       "16  22.515949\n",
       "17  23.865719\n",
       "18  19.700080\n",
       "19  26.468041\n",
       "20  24.942782\n",
       "21  18.657691\n",
       "22  23.485144\n",
       "23   6.995103\n",
       "24  18.883162\n",
       "25  13.048969\n",
       "26  11.575366\n",
       "27  17.536214\n",
       "28  23.312821\n",
       "29  29.061675\n",
       "30  16.983871\n",
       "31  19.485734\n",
       "32  27.787240\n",
       "33  19.857464\n",
       "34  14.209545\n",
       "35   9.590593\n",
       "36   7.640148\n",
       "37  18.316169\n",
       "38  19.585819\n",
       "39  19.975352\n",
       "40  18.330848\n",
       "41  13.367388\n",
       "42  24.294740\n",
       "43  26.147285\n",
       "44  15.488801\n",
       "45  19.234026\n",
       "46  17.989393\n",
       "47  23.403495"
      ]
     },
     "execution_count": 3,
     "metadata": {},
     "output_type": "execute_result"
    }
   ],
   "source": [
    "df "
   ]
  },
  {
   "cell_type": "code",
   "execution_count": 4,
   "id": "79be747c",
   "metadata": {
    "scrolled": true
   },
   "outputs": [],
   "source": [
    "d1 = df.describe()"
   ]
  },
  {
   "cell_type": "code",
   "execution_count": 5,
   "id": "4afd4a37",
   "metadata": {},
   "outputs": [
    {
     "data": {
      "text/html": [
       "<div>\n",
       "<style scoped>\n",
       "    .dataframe tbody tr th:only-of-type {\n",
       "        vertical-align: middle;\n",
       "    }\n",
       "\n",
       "    .dataframe tbody tr th {\n",
       "        vertical-align: top;\n",
       "    }\n",
       "\n",
       "    .dataframe thead th {\n",
       "        text-align: right;\n",
       "    }\n",
       "</style>\n",
       "<table border=\"1\" class=\"dataframe\">\n",
       "  <thead>\n",
       "    <tr style=\"text-align: right;\">\n",
       "      <th></th>\n",
       "      <th>obs</th>\n",
       "    </tr>\n",
       "  </thead>\n",
       "  <tbody>\n",
       "    <tr>\n",
       "      <th>count</th>\n",
       "      <td>48.000000</td>\n",
       "    </tr>\n",
       "    <tr>\n",
       "      <th>mean</th>\n",
       "      <td>19.006886</td>\n",
       "    </tr>\n",
       "    <tr>\n",
       "      <th>std</th>\n",
       "      <td>5.392988</td>\n",
       "    </tr>\n",
       "    <tr>\n",
       "      <th>min</th>\n",
       "      <td>6.995103</td>\n",
       "    </tr>\n",
       "    <tr>\n",
       "      <th>25%</th>\n",
       "      <td>16.198008</td>\n",
       "    </tr>\n",
       "    <tr>\n",
       "      <th>50%</th>\n",
       "      <td>19.359880</td>\n",
       "    </tr>\n",
       "    <tr>\n",
       "      <th>75%</th>\n",
       "      <td>23.335490</td>\n",
       "    </tr>\n",
       "    <tr>\n",
       "      <th>max</th>\n",
       "      <td>29.061675</td>\n",
       "    </tr>\n",
       "  </tbody>\n",
       "</table>\n",
       "</div>"
      ],
      "text/plain": [
       "             obs\n",
       "count  48.000000\n",
       "mean   19.006886\n",
       "std     5.392988\n",
       "min     6.995103\n",
       "25%    16.198008\n",
       "50%    19.359880\n",
       "75%    23.335490\n",
       "max    29.061675"
      ]
     },
     "execution_count": 5,
     "metadata": {},
     "output_type": "execute_result"
    }
   ],
   "source": [
    "d1"
   ]
  },
  {
   "cell_type": "code",
   "execution_count": 6,
   "id": "abe5c394",
   "metadata": {
    "scrolled": false
   },
   "outputs": [
    {
     "data": {
      "text/plain": [
       "array([[<AxesSubplot:title={'center':'obs'}>]], dtype=object)"
      ]
     },
     "execution_count": 6,
     "metadata": {},
     "output_type": "execute_result"
    },
    {
     "data": {
      "image/png": "[encoded data removed]",
      "text/plain": [
       "<Figure size 432x288 with 1 Axes>"
      ]
     },
     "metadata": {
      "needs_background": "light"
     },
     "output_type": "display_data"
    }
   ],
   "source": [
    "df.hist(bins=10)"
   ]
  },
  {
   "cell_type": "code",
   "execution_count": 7,
   "id": "77ad9a80",
   "metadata": {},
   "outputs": [],
   "source": [
    "# df['exp'] = d1.loc['mean']['obs']"
   ]
  },
  {
   "cell_type": "code",
   "execution_count": 8,
   "id": "53993f35",
   "metadata": {},
   "outputs": [],
   "source": [
    "# dsc.loc['mean']['obs']"
   ]
  },
  {
   "cell_type": "code",
   "execution_count": 9,
   "id": "38e199ef",
   "metadata": {},
   "outputs": [
    {
     "name": "stdout",
     "output_type": "stream",
     "text": [
      "{('Kurt Observed', -0.31), ('Skew Observed', -0.29), ('Mean Observed', 19.01), ('Variance Observed', 29.08)}\n"
     ]
    }
   ],
   "source": [
    "stats_labels = ['Mean Observed', 'Variance Observed', 'Skew Observed', 'Kurt Observed']\n",
    "stats_values = [round(df['obs'].mean(), 2), round(df['obs'].var(), 2), round(df['obs'].skew(),2), round(df['obs'].kurt(),2)]\n",
    "print(set(zip(stats_labels, stats_values)))"
   ]
  },
  {
   "cell_type": "markdown",
   "id": "86be1b6d",
   "metadata": {},
   "source": [
    "Mean and median are equal.  Could be symmetric.  But, since std.deviation is high, cannot be uniform.  Std.deviation is not equal to mean, hence cannot be exponential.  Support seems to be positive.  Since kurtosis is not equal to 3, cannot be std.  normal.  But, can still be normal."
   ]
  },
  {
   "cell_type": "code",
   "execution_count": 10,
   "id": "eea18684",
   "metadata": {},
   "outputs": [],
   "source": [
    "import matplotlib.pyplot as plt\n",
    "import statsmodels.api as sm\n",
    "import scipy.stats as ss"
   ]
  },
  {
   "cell_type": "code",
   "execution_count": 11,
   "id": "30bdc949",
   "metadata": {
    "scrolled": true
   },
   "outputs": [],
   "source": [
    "pplot = sm.ProbPlot(df['obs'], loc=19, scale=5.39)"
   ]
  },
  {
   "cell_type": "code",
   "execution_count": 12,
   "id": "c78cc700",
   "metadata": {},
   "outputs": [
    {
     "name": "stderr",
     "output_type": "stream",
     "text": [
      "D:\\Anaconda3\\lib\\site-packages\\statsmodels\\graphics\\gofplots.py:993: UserWarning: marker is redundantly defined by the 'marker' keyword argument and the fmt string \"bo\" (-> marker='o'). The keyword argument will take precedence.\n",
      "  ax.plot(x, y, fmt, **plot_style)\n"
     ]
    },
    {
     "data": {
      "image/png": "[encoded data removed]",
      "text/plain": [
       "<Figure size 432x288 with 1 Axes>"
      ]
     },
     "execution_count": 12,
     "metadata": {},
     "output_type": "execute_result"
    },
    {
     "data": {
      "image/png": "[encoded data removed]",
      "text/plain": [
       "<Figure size 432x288 with 1 Axes>"
      ]
     },
     "metadata": {
      "needs_background": "light"
     },
     "output_type": "display_data"
    }
   ],
   "source": [
    "pplot.qqplot(line='45')"
   ]
  },
  {
   "cell_type": "code",
   "execution_count": 13,
   "id": "cab2eea4",
   "metadata": {},
   "outputs": [
    {
     "name": "stderr",
     "output_type": "stream",
     "text": [
      "D:\\Anaconda3\\lib\\site-packages\\statsmodels\\graphics\\gofplots.py:993: UserWarning: marker is redundantly defined by the 'marker' keyword argument and the fmt string \"bo\" (-> marker='o'). The keyword argument will take precedence.\n",
      "  ax.plot(x, y, fmt, **plot_style)\n"
     ]
    },
    {
     "data": {
      "image/png": "[encoded data removed]",
      "text/plain": [
       "<Figure size 432x288 with 1 Axes>"
      ]
     },
     "execution_count": 13,
     "metadata": {},
     "output_type": "execute_result"
    },
    {
     "data": {
      "image/png": "[encoded data removed]",
      "text/plain": [
       "<Figure size 432x288 with 1 Axes>"
      ]
     },
     "metadata": {
      "needs_background": "light"
     },
     "output_type": "display_data"
    }
   ],
   "source": [
    "pplot.ppplot(line='45')"
   ]
  },
  {
   "cell_type": "code",
   "execution_count": 14,
   "id": "bd8e9db9",
   "metadata": {
    "scrolled": true
   },
   "outputs": [
    {
     "data": {
      "text/plain": [
       "((array([17.81205492, 18.18533304, 18.4059611 , 18.56847407, 18.70008983,\n",
       "         18.81238208, 18.91141332, 19.00078058, 19.08280531, 19.15908017,\n",
       "         19.23075025, 19.2986703 , 19.36349834, 19.42575455, 19.48585974,\n",
       "         19.54416155, 19.60095272, 19.65648437, 19.71097573, 19.76462156,\n",
       "         19.81759798, 19.87006703, 19.92218055, 19.97408344, 20.02591656,\n",
       "         20.07781945, 20.12993297, 20.18240202, 20.23537844, 20.28902427,\n",
       "         20.34351563, 20.39904728, 20.45583845, 20.51414026, 20.57424545,\n",
       "         20.63650166, 20.7013297 , 20.76924975, 20.84091983, 20.91719469,\n",
       "         20.99921942, 21.08858668, 21.18761792, 21.29991017, 21.43152593,\n",
       "         21.5940389 , 21.81466696, 22.18794508]),\n",
       "  array([ 6.99510332,  7.64014842,  9.59059265, 10.17864443, 10.78985443,\n",
       "         11.5753656 , 12.17080996, 13.04896868, 13.36738806, 14.20954549,\n",
       "         15.4888008 , 15.85353105, 16.31283343, 16.3520382 , 16.98387117,\n",
       "         17.53621423, 17.98939338, 18.31616927, 18.3308484 , 18.65769079,\n",
       "         18.88316156, 18.92459563, 18.96348734, 19.23402633, 19.48573414,\n",
       "         19.58581934, 19.70007995, 19.82123995, 19.85746362, 19.97535159,\n",
       "         20.03583753, 20.44633428, 20.71003794, 21.37997834, 22.51594944,\n",
       "         23.31282141, 23.4034946 , 23.48514448, 23.86571934, 24.09712824,\n",
       "         24.29473965, 24.94278159, 26.14728476, 26.19553367, 26.46804073,\n",
       "         27.78723999, 28.36200526, 29.06167462])),\n",
       " (5.489201358694127, -90.77714140141515, 0.9907584107812841))"
      ]
     },
     "execution_count": 14,
     "metadata": {},
     "output_type": "execute_result"
    },
    {
     "data": {
      "image/png": "[encoded data removed]",
      "text/plain": [
       "<Figure size 432x288 with 1 Axes>"
      ]
     },
     "metadata": {
      "needs_background": "light"
     },
     "output_type": "display_data"
    }
   ],
   "source": [
    "ss.probplot(df['obs'], sparams=(20), dist='norm', plot=plt)"
   ]
  },
  {
   "cell_type": "code",
   "execution_count": 15,
   "id": "6195f009",
   "metadata": {
    "scrolled": false
   },
   "outputs": [
    {
     "data": {
      "text/plain": [
       "((array([0.06704446, 0.08801094, 0.10966501, 0.13179838, 0.15443274,\n",
       "         0.1775913 , 0.20129893, 0.22558228, 0.25047002, 0.275993  ,\n",
       "         0.30218451, 0.3290805 , 0.35671993, 0.38514507, 0.41440189,\n",
       "         0.44454054, 0.47561583, 0.50768784, 0.54082266, 0.57509312,\n",
       "         0.61057986, 0.64737238, 0.68557048, 0.72528581, 0.76664393,\n",
       "         0.8097866 , 0.85487482, 0.90209237, 0.95165039, 1.00379305,\n",
       "         1.05880485, 1.11702004, 1.17883486, 1.244724  , 1.31526266,\n",
       "         1.39115721, 1.47328831, 1.56277342, 1.66106017, 1.7700708 ,\n",
       "         1.89243529, 2.03188814, 2.19398903, 2.38754815, 2.62778843,\n",
       "         2.94463111, 3.41109952, 4.29752942]),\n",
       "  array([ 6.99510332,  7.64014842,  9.59059265, 10.17864443, 10.78985443,\n",
       "         11.5753656 , 12.17080996, 13.04896868, 13.36738806, 14.20954549,\n",
       "         15.4888008 , 15.85353105, 16.31283343, 16.3520382 , 16.98387117,\n",
       "         17.53621423, 17.98939338, 18.31616927, 18.3308484 , 18.65769079,\n",
       "         18.88316156, 18.92459563, 18.96348734, 19.23402633, 19.48573414,\n",
       "         19.58581934, 19.70007995, 19.82123995, 19.85746362, 19.97535159,\n",
       "         20.03583753, 20.44633428, 20.71003794, 21.37997834, 22.51594944,\n",
       "         23.31282141, 23.4034946 , 23.48514448, 23.86571934, 24.09712824,\n",
       "         24.29473965, 24.94278159, 26.14728476, 26.19553367, 26.46804073,\n",
       "         27.78723999, 28.36200526, 29.06167462])),\n",
       " (5.098082092540213, 13.74622434914155, 0.8833541114718458))"
      ]
     },
     "execution_count": 15,
     "metadata": {},
     "output_type": "execute_result"
    },
    {
     "data": {
      "image/png": "[encoded data removed]",
      "text/plain": [
       "<Figure size 432x288 with 1 Axes>"
      ]
     },
     "metadata": {
      "needs_background": "light"
     },
     "output_type": "display_data"
    }
   ],
   "source": [
    "ss.probplot(df['obs'], sparams=(1/19.01), dist='expon', plot=plt)"
   ]
  },
  {
   "cell_type": "markdown",
   "id": "67e78296",
   "metadata": {},
   "source": [
    "#### Method1 to find obs_freq and exp_freq"
   ]
  },
  {
   "cell_type": "code",
   "execution_count": 16,
   "id": "e8695cb2",
   "metadata": {
    "scrolled": false
   },
   "outputs": [
    {
     "name": "stdout",
     "output_type": "stream",
     "text": [
      "[13.78959279555636, 16.683978580483416, 19.0068857724674, 21.329792964451382, 24.22417874937844]\n"
     ]
    }
   ],
   "source": [
    "# let's divide the total range into 6 different buckets with equal frequency.\n",
    "n = 1/6\n",
    "prob_intervals = []\n",
    "exp_freq = [8] * 6\n",
    "for i in range(1, 6):\n",
    "    prob_intervals.append(norm.ppf(i * n, df['obs'].mean(), df['obs'].std()))\n",
    "print(prob_intervals)"
   ]
  },
  {
   "cell_type": "code",
   "execution_count": 17,
   "id": "9e4eb027",
   "metadata": {},
   "outputs": [],
   "source": [
    "obs_freq = np.array([9, 5, 9, 10, 7, 8])"
   ]
  },
  {
   "cell_type": "code",
   "execution_count": 18,
   "id": "e6d1b569",
   "metadata": {},
   "outputs": [
    {
     "data": {
      "text/plain": [
       "48"
      ]
     },
     "execution_count": 18,
     "metadata": {},
     "output_type": "execute_result"
    }
   ],
   "source": [
    "sum(obs_freq)"
   ]
  },
  {
   "cell_type": "code",
   "execution_count": 19,
   "id": "f9b79900",
   "metadata": {
    "scrolled": false
   },
   "outputs": [
    {
     "data": {
      "text/plain": [
       "48"
      ]
     },
     "execution_count": 19,
     "metadata": {},
     "output_type": "execute_result"
    }
   ],
   "source": [
    "sum(exp_freq)"
   ]
  },
  {
   "cell_type": "markdown",
   "id": "de5e2345",
   "metadata": {},
   "source": [
    "Calculating test statistic of chi-square"
   ]
  },
  {
   "cell_type": "code",
   "execution_count": 20,
   "id": "db127ba1",
   "metadata": {
    "scrolled": true
   },
   "outputs": [
    {
     "name": "stdout",
     "output_type": "stream",
     "text": [
      "2.0\n"
     ]
    }
   ],
   "source": [
    "test_statistic = (((obs_freq-exp_freq)**2)/exp_freq).sum()\n",
    "print(test_statistic)"
   ]
  },
  {
   "cell_type": "code",
   "execution_count": 21,
   "id": "6e19635f",
   "metadata": {},
   "outputs": [
    {
     "name": "stdout",
     "output_type": "stream",
     "text": [
      "0.5724067044708798\n"
     ]
    }
   ],
   "source": [
    "p_value = 1 - stats.chi2.cdf(x=test_statistic, df=3)\n",
    "print(p_value)"
   ]
  },
  {
   "cell_type": "markdown",
   "id": "9da56548",
   "metadata": {},
   "source": [
    "Another method to calculate test statistic and p-value"
   ]
  },
  {
   "cell_type": "code",
   "execution_count": 22,
   "id": "15be3d93",
   "metadata": {},
   "outputs": [
    {
     "data": {
      "text/plain": [
       "Power_divergenceResult(statistic=2.0, pvalue=0.5724067044708798)"
      ]
     },
     "execution_count": 22,
     "metadata": {},
     "output_type": "execute_result"
    }
   ],
   "source": [
    "stats.chisquare(obs_freq, exp_freq, ddof=2)"
   ]
  },
  {
   "cell_type": "markdown",
   "id": "80216c4a",
   "metadata": {},
   "source": [
    "Find the tabulated value of test statistic"
   ]
  },
  {
   "cell_type": "code",
   "execution_count": 23,
   "id": "29e7775e",
   "metadata": {},
   "outputs": [
    {
     "data": {
      "text/plain": [
       "7.814727903251179"
      ]
     },
     "execution_count": 23,
     "metadata": {},
     "output_type": "execute_result"
    }
   ],
   "source": [
    "stats.chi2.ppf(0.95, df=3)"
   ]
  },
  {
   "cell_type": "markdown",
   "id": "c841230a",
   "metadata": {},
   "source": [
    "#### Method2 to find obs_freq and exp_freq"
   ]
  },
  {
   "cell_type": "code",
   "execution_count": 24,
   "id": "433fa7c2",
   "metadata": {},
   "outputs": [],
   "source": [
    "df_freq = pd.DataFrame()"
   ]
  },
  {
   "cell_type": "code",
   "execution_count": 25,
   "id": "21ffadb5",
   "metadata": {
    "scrolled": false
   },
   "outputs": [
    {
     "data": {
      "image/png": "[encoded data removed]",
      "text/plain": [
       "<Figure size 432x288 with 1 Axes>"
      ]
     },
     "metadata": {
      "needs_background": "light"
     },
     "output_type": "display_data"
    }
   ],
   "source": [
    "(df_freq['obs'], bins, _) = plt.hist(df['obs'], bins=6, label='hst')"
   ]
  },
  {
   "cell_type": "code",
   "execution_count": 26,
   "id": "ee8346d6",
   "metadata": {},
   "outputs": [
    {
     "data": {
      "text/html": [
       "<div>\n",
       "<style scoped>\n",
       "    .dataframe tbody tr th:only-of-type {\n",
       "        vertical-align: middle;\n",
       "    }\n",
       "\n",
       "    .dataframe tbody tr th {\n",
       "        vertical-align: top;\n",
       "    }\n",
       "\n",
       "    .dataframe thead th {\n",
       "        text-align: right;\n",
       "    }\n",
       "</style>\n",
       "<table border=\"1\" class=\"dataframe\">\n",
       "  <thead>\n",
       "    <tr style=\"text-align: right;\">\n",
       "      <th></th>\n",
       "      <th>obs</th>\n",
       "    </tr>\n",
       "  </thead>\n",
       "  <tbody>\n",
       "    <tr>\n",
       "      <th>0</th>\n",
       "      <td>4.0</td>\n",
       "    </tr>\n",
       "    <tr>\n",
       "      <th>1</th>\n",
       "      <td>6.0</td>\n",
       "    </tr>\n",
       "    <tr>\n",
       "      <th>2</th>\n",
       "      <td>7.0</td>\n",
       "    </tr>\n",
       "    <tr>\n",
       "      <th>3</th>\n",
       "      <td>17.0</td>\n",
       "    </tr>\n",
       "    <tr>\n",
       "      <th>4</th>\n",
       "      <td>8.0</td>\n",
       "    </tr>\n",
       "    <tr>\n",
       "      <th>5</th>\n",
       "      <td>6.0</td>\n",
       "    </tr>\n",
       "  </tbody>\n",
       "</table>\n",
       "</div>"
      ],
      "text/plain": [
       "    obs\n",
       "0   4.0\n",
       "1   6.0\n",
       "2   7.0\n",
       "3  17.0\n",
       "4   8.0\n",
       "5   6.0"
      ]
     },
     "execution_count": 26,
     "metadata": {},
     "output_type": "execute_result"
    }
   ],
   "source": [
    "df_freq"
   ]
  },
  {
   "cell_type": "code",
   "execution_count": 27,
   "id": "358ae53a",
   "metadata": {
    "scrolled": true
   },
   "outputs": [
    {
     "data": {
      "text/plain": [
       "array([ 6.99510332, 10.6728652 , 14.35062709, 18.02838897, 21.70615086,\n",
       "       25.38391274, 29.06167462])"
      ]
     },
     "execution_count": 27,
     "metadata": {},
     "output_type": "execute_result"
    }
   ],
   "source": [
    "bins"
   ]
  },
  {
   "cell_type": "code",
   "execution_count": 28,
   "id": "bd44e7ff",
   "metadata": {},
   "outputs": [],
   "source": [
    "bins_cdf = stats.norm(loc=d1['obs']['mean'], scale=d1['obs']['std']).cdf(bins)"
   ]
  },
  {
   "cell_type": "code",
   "execution_count": 29,
   "id": "385bf235",
   "metadata": {},
   "outputs": [],
   "source": [
    "bins_pdf = np.zeros(len(bins_cdf)-1)\n",
    "for i in range(len(bins_cdf)-1):\n",
    "    bins_pdf[i] += bins_cdf[i + 1] - bins_cdf[i]"
   ]
  },
  {
   "cell_type": "code",
   "execution_count": 30,
   "id": "0ccfa6ff",
   "metadata": {},
   "outputs": [
    {
     "data": {
      "text/plain": [
       "array([0.01296374, 0.06113157, 0.1939612 , 0.42801162, 0.69164334,\n",
       "       0.88148965, 0.96886855])"
      ]
     },
     "execution_count": 30,
     "metadata": {},
     "output_type": "execute_result"
    }
   ],
   "source": [
    "bins_cdf"
   ]
  },
  {
   "cell_type": "code",
   "execution_count": 31,
   "id": "039e20ea",
   "metadata": {},
   "outputs": [
    {
     "data": {
      "text/plain": [
       "array([0.04816783, 0.13282963, 0.23405042, 0.26363172, 0.18984631,\n",
       "       0.0873789 ])"
      ]
     },
     "execution_count": 31,
     "metadata": {},
     "output_type": "execute_result"
    }
   ],
   "source": [
    "bins_pdf"
   ]
  },
  {
   "cell_type": "code",
   "execution_count": 32,
   "id": "e2f73ce9",
   "metadata": {},
   "outputs": [],
   "source": [
    "df_freq['norm_pdf'] = bins_pdf"
   ]
  },
  {
   "cell_type": "code",
   "execution_count": 33,
   "id": "ff0305df",
   "metadata": {},
   "outputs": [],
   "source": [
    "df_freq['exp'] = bins_pdf * d1['obs']['count']"
   ]
  },
  {
   "cell_type": "code",
   "execution_count": 34,
   "id": "9b6a4c84",
   "metadata": {},
   "outputs": [
    {
     "data": {
      "text/html": [
       "<div>\n",
       "<style scoped>\n",
       "    .dataframe tbody tr th:only-of-type {\n",
       "        vertical-align: middle;\n",
       "    }\n",
       "\n",
       "    .dataframe tbody tr th {\n",
       "        vertical-align: top;\n",
       "    }\n",
       "\n",
       "    .dataframe thead th {\n",
       "        text-align: right;\n",
       "    }\n",
       "</style>\n",
       "<table border=\"1\" class=\"dataframe\">\n",
       "  <thead>\n",
       "    <tr style=\"text-align: right;\">\n",
       "      <th></th>\n",
       "      <th>obs</th>\n",
       "      <th>norm_pdf</th>\n",
       "      <th>exp</th>\n",
       "    </tr>\n",
       "  </thead>\n",
       "  <tbody>\n",
       "    <tr>\n",
       "      <th>0</th>\n",
       "      <td>4.0</td>\n",
       "      <td>0.048168</td>\n",
       "      <td>2.312056</td>\n",
       "    </tr>\n",
       "    <tr>\n",
       "      <th>1</th>\n",
       "      <td>6.0</td>\n",
       "      <td>0.132830</td>\n",
       "      <td>6.375822</td>\n",
       "    </tr>\n",
       "    <tr>\n",
       "      <th>2</th>\n",
       "      <td>7.0</td>\n",
       "      <td>0.234050</td>\n",
       "      <td>11.234420</td>\n",
       "    </tr>\n",
       "    <tr>\n",
       "      <th>3</th>\n",
       "      <td>17.0</td>\n",
       "      <td>0.263632</td>\n",
       "      <td>12.654323</td>\n",
       "    </tr>\n",
       "    <tr>\n",
       "      <th>4</th>\n",
       "      <td>8.0</td>\n",
       "      <td>0.189846</td>\n",
       "      <td>9.112623</td>\n",
       "    </tr>\n",
       "    <tr>\n",
       "      <th>5</th>\n",
       "      <td>6.0</td>\n",
       "      <td>0.087379</td>\n",
       "      <td>4.194187</td>\n",
       "    </tr>\n",
       "  </tbody>\n",
       "</table>\n",
       "</div>"
      ],
      "text/plain": [
       "    obs  norm_pdf        exp\n",
       "0   4.0  0.048168   2.312056\n",
       "1   6.0  0.132830   6.375822\n",
       "2   7.0  0.234050  11.234420\n",
       "3  17.0  0.263632  12.654323\n",
       "4   8.0  0.189846   9.112623\n",
       "5   6.0  0.087379   4.194187"
      ]
     },
     "execution_count": 34,
     "metadata": {},
     "output_type": "execute_result"
    }
   ],
   "source": [
    "df_freq"
   ]
  },
  {
   "cell_type": "code",
   "execution_count": 35,
   "id": "9c7fd588",
   "metadata": {},
   "outputs": [
    {
     "data": {
      "text/plain": [
       "45.88343089709094"
      ]
     },
     "execution_count": 35,
     "metadata": {},
     "output_type": "execute_result"
    }
   ],
   "source": [
    "df_freq['exp'].sum()"
   ]
  },
  {
   "cell_type": "code",
   "execution_count": 36,
   "id": "95588321",
   "metadata": {},
   "outputs": [
    {
     "data": {
      "text/plain": [
       "Power_divergenceResult(statistic=5.256184281992771, pvalue=0.15397092785276612)"
      ]
     },
     "execution_count": 36,
     "metadata": {},
     "output_type": "execute_result"
    }
   ],
   "source": [
    "stats.chisquare(df_freq['obs'], df_freq['exp'], ddof=2)"
   ]
  },
  {
   "cell_type": "code",
   "execution_count": 37,
   "id": "b1162bfc",
   "metadata": {
    "scrolled": false
   },
   "outputs": [
    {
     "data": {
      "text/plain": [
       "7.814727903251179"
      ]
     },
     "execution_count": 37,
     "metadata": {},
     "output_type": "execute_result"
    }
   ],
   "source": [
    "stats.chi2.ppf(0.95, 3)"
   ]
  },
  {
   "cell_type": "markdown",
   "id": "e8a1b004",
   "metadata": {},
   "source": [
    "#### Problem 2"
   ]
  },
  {
   "cell_type": "code",
   "execution_count": 38,
   "id": "dcd8d2a3",
   "metadata": {},
   "outputs": [],
   "source": [
    "df = pd.read_csv(\"data_2.csv\")"
   ]
  },
  {
   "cell_type": "code",
   "execution_count": 39,
   "id": "60f733d8",
   "metadata": {},
   "outputs": [
    {
     "data": {
      "text/html": [
       "<div>\n",
       "<style scoped>\n",
       "    .dataframe tbody tr th:only-of-type {\n",
       "        vertical-align: middle;\n",
       "    }\n",
       "\n",
       "    .dataframe tbody tr th {\n",
       "        vertical-align: top;\n",
       "    }\n",
       "\n",
       "    .dataframe thead th {\n",
       "        text-align: right;\n",
       "    }\n",
       "</style>\n",
       "<table border=\"1\" class=\"dataframe\">\n",
       "  <thead>\n",
       "    <tr style=\"text-align: right;\">\n",
       "      <th></th>\n",
       "      <th>City</th>\n",
       "      <th>Brand</th>\n",
       "    </tr>\n",
       "  </thead>\n",
       "  <tbody>\n",
       "    <tr>\n",
       "      <th>0</th>\n",
       "      <td>Mumbai</td>\n",
       "      <td>B</td>\n",
       "    </tr>\n",
       "    <tr>\n",
       "      <th>1</th>\n",
       "      <td>Mumbai</td>\n",
       "      <td>A</td>\n",
       "    </tr>\n",
       "    <tr>\n",
       "      <th>2</th>\n",
       "      <td>Chennai</td>\n",
       "      <td>B</td>\n",
       "    </tr>\n",
       "    <tr>\n",
       "      <th>3</th>\n",
       "      <td>Chennai</td>\n",
       "      <td>A</td>\n",
       "    </tr>\n",
       "    <tr>\n",
       "      <th>4</th>\n",
       "      <td>Chennai</td>\n",
       "      <td>D</td>\n",
       "    </tr>\n",
       "    <tr>\n",
       "      <th>...</th>\n",
       "      <td>...</td>\n",
       "      <td>...</td>\n",
       "    </tr>\n",
       "    <tr>\n",
       "      <th>860</th>\n",
       "      <td>Chennai</td>\n",
       "      <td>D</td>\n",
       "    </tr>\n",
       "    <tr>\n",
       "      <th>861</th>\n",
       "      <td>Mumbai</td>\n",
       "      <td>C</td>\n",
       "    </tr>\n",
       "    <tr>\n",
       "      <th>862</th>\n",
       "      <td>Mumbai</td>\n",
       "      <td>A</td>\n",
       "    </tr>\n",
       "    <tr>\n",
       "      <th>863</th>\n",
       "      <td>Mumbai</td>\n",
       "      <td>A</td>\n",
       "    </tr>\n",
       "    <tr>\n",
       "      <th>864</th>\n",
       "      <td>Chennai</td>\n",
       "      <td>A</td>\n",
       "    </tr>\n",
       "  </tbody>\n",
       "</table>\n",
       "<p>865 rows × 2 columns</p>\n",
       "</div>"
      ],
      "text/plain": [
       "        City Brand\n",
       "0     Mumbai     B\n",
       "1     Mumbai     A\n",
       "2    Chennai     B\n",
       "3    Chennai     A\n",
       "4    Chennai     D\n",
       "..       ...   ...\n",
       "860  Chennai     D\n",
       "861   Mumbai     C\n",
       "862   Mumbai     A\n",
       "863   Mumbai     A\n",
       "864  Chennai     A\n",
       "\n",
       "[865 rows x 2 columns]"
      ]
     },
     "execution_count": 39,
     "metadata": {},
     "output_type": "execute_result"
    }
   ],
   "source": [
    "df"
   ]
  },
  {
   "cell_type": "code",
   "execution_count": 40,
   "id": "2079dd6c",
   "metadata": {},
   "outputs": [],
   "source": [
    "contingency_table = pd.crosstab(df.City, df.Brand, margins=True)"
   ]
  },
  {
   "cell_type": "code",
   "execution_count": 41,
   "id": "b9da4e89",
   "metadata": {
    "scrolled": true
   },
   "outputs": [
    {
     "data": {
      "text/html": [
       "<div>\n",
       "<style scoped>\n",
       "    .dataframe tbody tr th:only-of-type {\n",
       "        vertical-align: middle;\n",
       "    }\n",
       "\n",
       "    .dataframe tbody tr th {\n",
       "        vertical-align: top;\n",
       "    }\n",
       "\n",
       "    .dataframe thead th {\n",
       "        text-align: right;\n",
       "    }\n",
       "</style>\n",
       "<table border=\"1\" class=\"dataframe\">\n",
       "  <thead>\n",
       "    <tr style=\"text-align: right;\">\n",
       "      <th>Brand</th>\n",
       "      <th>A</th>\n",
       "      <th>B</th>\n",
       "      <th>C</th>\n",
       "      <th>D</th>\n",
       "      <th>All</th>\n",
       "    </tr>\n",
       "    <tr>\n",
       "      <th>City</th>\n",
       "      <th></th>\n",
       "      <th></th>\n",
       "      <th></th>\n",
       "      <th></th>\n",
       "      <th></th>\n",
       "    </tr>\n",
       "  </thead>\n",
       "  <tbody>\n",
       "    <tr>\n",
       "      <th>Chennai</th>\n",
       "      <td>165</td>\n",
       "      <td>47</td>\n",
       "      <td>2</td>\n",
       "      <td>194</td>\n",
       "      <td>408</td>\n",
       "    </tr>\n",
       "    <tr>\n",
       "      <th>Mumbai</th>\n",
       "      <td>259</td>\n",
       "      <td>73</td>\n",
       "      <td>125</td>\n",
       "      <td>0</td>\n",
       "      <td>457</td>\n",
       "    </tr>\n",
       "    <tr>\n",
       "      <th>All</th>\n",
       "      <td>424</td>\n",
       "      <td>120</td>\n",
       "      <td>127</td>\n",
       "      <td>194</td>\n",
       "      <td>865</td>\n",
       "    </tr>\n",
       "  </tbody>\n",
       "</table>\n",
       "</div>"
      ],
      "text/plain": [
       "Brand      A    B    C    D  All\n",
       "City                            \n",
       "Chennai  165   47    2  194  408\n",
       "Mumbai   259   73  125    0  457\n",
       "All      424  120  127  194  865"
      ]
     },
     "execution_count": 41,
     "metadata": {},
     "output_type": "execute_result"
    }
   ],
   "source": [
    "contingency_table"
   ]
  },
  {
   "cell_type": "code",
   "execution_count": 42,
   "id": "99c6602f",
   "metadata": {},
   "outputs": [],
   "source": [
    "# This isn't really required, since ch2_contingency() can directly calculate the chi2 test statistic.  \n",
    "cities = list(df['City'].unique())\n",
    "brands = list(df['Brand'].unique())\n",
    "\n",
    "exp1 = {}\n",
    "\n",
    "for i in cities:\n",
    "  exp2 = {}\n",
    "  for j in brands:\n",
    "    exp2[j] = contingency_table.transpose()[i]['All'] * contingency_table[j]['All'] / (contingency_table['All']['All'])\n",
    "\n",
    "  exp1[i] = exp2"
   ]
  },
  {
   "cell_type": "code",
   "execution_count": 43,
   "id": "b486898f",
   "metadata": {
    "scrolled": false
   },
   "outputs": [
    {
     "data": {
      "text/plain": [
       "{'Mumbai': {'B': 63.39884393063584,\n",
       "  'A': 224.00924855491328,\n",
       "  'D': 102.49479768786126,\n",
       "  'C': 67.0971098265896},\n",
       " 'Chennai': {'B': 56.60115606936416,\n",
       "  'A': 199.99075144508672,\n",
       "  'D': 91.50520231213874,\n",
       "  'C': 59.902890173410405}}"
      ]
     },
     "execution_count": 43,
     "metadata": {},
     "output_type": "execute_result"
    }
   ],
   "source": [
    "exp1"
   ]
  },
  {
   "cell_type": "code",
   "execution_count": 44,
   "id": "b019600c",
   "metadata": {},
   "outputs": [
    {
     "data": {
      "text/plain": [
       "(337.9075385764012,\n",
       " 3.445059566287276e-68,\n",
       " 8,\n",
       " array([[199.99075145,  56.60115607,  59.90289017,  91.50520231,\n",
       "         408.        ],\n",
       "        [224.00924855,  63.39884393,  67.09710983, 102.49479769,\n",
       "         457.        ],\n",
       "        [424.        , 120.        , 127.        , 194.        ,\n",
       "         865.        ]]))"
      ]
     },
     "execution_count": 44,
     "metadata": {},
     "output_type": "execute_result"
    }
   ],
   "source": [
    "stats.chi2_contingency(contingency_table)"
   ]
  },
  {
   "cell_type": "code",
   "execution_count": 45,
   "id": "1a72e32d",
   "metadata": {},
   "outputs": [
    {
     "data": {
      "text/plain": [
       "7.814727903251179"
      ]
     },
     "execution_count": 45,
     "metadata": {},
     "output_type": "execute_result"
    }
   ],
   "source": [
    "stats.chi2.ppf(0.95, df=3)"
   ]
  }
 ],
 "metadata": {
  "kernelspec": {
   "display_name": "Python 3 (ipykernel)",
   "language": "python",
   "name": "python3"
  },
  "language_info": {
   "codemirror_mode": {
    "name": "ipython",
    "version": 3
   },
   "file_extension": ".py",
   "mimetype": "text/x-python",
   "name": "python",
   "nbconvert_exporter": "python",
   "pygments_lexer": "ipython3",
   "version": "3.9.7"
  }
 },
 "nbformat": 4,
 "nbformat_minor": 5
}
