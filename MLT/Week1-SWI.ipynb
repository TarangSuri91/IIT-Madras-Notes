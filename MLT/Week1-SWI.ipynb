{
 "cells": [
  {
   "cell_type": "markdown",
   "metadata": {},
   "source": [
    "https://www.youtube.com/watch?v=7TxaAV2hZa4"
   ]
  },
  {
   "cell_type": "markdown",
   "metadata": {},
   "source": [
    "## Pandas"
   ]
  },
  {
   "cell_type": "markdown",
   "metadata": {},
   "source": [
    "### Basics - Series"
   ]
  },
  {
   "cell_type": "code",
   "execution_count": 1,
   "metadata": {},
   "outputs": [],
   "source": [
    "import pandas as pd\n",
    "\n",
    "import numpy as np"
   ]
  },
  {
   "cell_type": "code",
   "execution_count": 2,
   "metadata": {},
   "outputs": [
    {
     "name": "stdout",
     "output_type": "stream",
     "text": [
      "Drama        ZNMD\n",
      "Comedy    Dhamaal\n",
      "Horror      Bhoot\n",
      "dtype: object\n"
     ]
    }
   ],
   "source": [
    "movies = {'Drama': 'ZNMD', 'Comedy':'Dhamaal', 'Horror':'Bhoot'}\n",
    "\n",
    "s = pd.Series(movies)\n",
    "\n",
    "print(s)"
   ]
  },
  {
   "cell_type": "code",
   "execution_count": 3,
   "metadata": {},
   "outputs": [
    {
     "data": {
      "text/plain": [
       "'ZNMD'"
      ]
     },
     "execution_count": 3,
     "metadata": {},
     "output_type": "execute_result"
    }
   ],
   "source": [
    "s['Drama'] # Access similar to the dictionary key."
   ]
  },
  {
   "cell_type": "code",
   "execution_count": 4,
   "metadata": {},
   "outputs": [
    {
     "data": {
      "text/plain": [
       "'ZNMD'"
      ]
     },
     "execution_count": 4,
     "metadata": {},
     "output_type": "execute_result"
    }
   ],
   "source": [
    "s.loc['Drama']  #Another way to accessing using dictionary key"
   ]
  },
  {
   "cell_type": "code",
   "execution_count": 5,
   "metadata": {},
   "outputs": [
    {
     "data": {
      "text/plain": [
       "'ZNMD'"
      ]
     },
     "execution_count": 5,
     "metadata": {},
     "output_type": "execute_result"
    }
   ],
   "source": [
    "s.iloc[0]  # Access using the index location"
   ]
  },
  {
   "cell_type": "code",
   "execution_count": 6,
   "metadata": {},
   "outputs": [
    {
     "name": "stdout",
     "output_type": "stream",
     "text": [
      "Cricket      Sachin\n",
      "Tennis      Federer\n",
      "Chess         Anand\n",
      "Football      Messi\n",
      "dtype: object\n"
     ]
    }
   ],
   "source": [
    "sportsman = {'Cricket': 'Sachin', 'Tennis': 'Federer', 'Chess': 'Anand', 'Football': 'Messi'}\n",
    "\n",
    "s = pd.Series(sportsman)\n",
    "\n",
    "print(s)"
   ]
  },
  {
   "cell_type": "code",
   "execution_count": 7,
   "metadata": {},
   "outputs": [
    {
     "data": {
      "text/plain": [
       "True"
      ]
     },
     "execution_count": 7,
     "metadata": {},
     "output_type": "execute_result"
    }
   ],
   "source": [
    "s.loc['Chess'] == s['Chess'] == s.iloc[2]  #all of them yield 'Anand'"
   ]
  },
  {
   "cell_type": "markdown",
   "metadata": {},
   "source": [
    "### DataFrames"
   ]
  },
  {
   "cell_type": "code",
   "execution_count": 8,
   "metadata": {},
   "outputs": [
    {
     "name": "stdout",
     "output_type": "stream",
     "text": [
      "               Batsman    Bowler Allrounder  Worldcups\n",
      "India           Sachin    Bumrah      Kapil          2\n",
      "Australia      Ponting  Macgrath     Watson          5\n",
      "Newzealand  Williamson     Boult    Vettori          0\n"
     ]
    }
   ],
   "source": [
    "# Essentially, keys in the dictionaries are used as columns.\n",
    "India = pd.Series({'Batsman':'Sachin', 'Bowler':'Bumrah', 'Allrounder':'Kapil', 'Worldcups':2})\n",
    "\n",
    "Australia = pd.Series({'Batsman':'Ponting', 'Bowler':'Macgrath', 'Allrounder':'Watson', 'Worldcups':5})\n",
    "\n",
    "Newzealand = pd.Series({'Batsman':'Williamson', 'Bowler':'Boult', 'Allrounder':'Vettori', 'Worldcups':0})\n",
    "\n",
    "Cricket = pd.DataFrame([India, Australia, Newzealand], columns=['Batsman', 'Bowler', 'Allrounder', 'Worldcups'], \n",
    "                       index=['India', 'Australia', 'Newzealand'])\n",
    "\n",
    "print(Cricket)"
   ]
  },
  {
   "cell_type": "code",
   "execution_count": 9,
   "metadata": {},
   "outputs": [
    {
     "name": "stdout",
     "output_type": "stream",
     "text": [
      "               Batsman    Bowler Allrounder  Worldcups\n",
      "India           Sachin    Bumrah      Kapil          2\n",
      "Australia      Ponting  Macgrath     Watson          5\n",
      "Newzealand  Williamson     Boult    Vettori          0\n"
     ]
    }
   ],
   "source": [
    "#'columns' parameter in DataFrame method is not necessary.  Will use the dictionary keys as columns by default.\n",
    "Cricket_auto_columns = pd.DataFrame([India, Australia, Newzealand], \n",
    "                       index=['India', 'Australia', 'Newzealand'])\n",
    "\n",
    "print(Cricket_auto_columns)"
   ]
  },
  {
   "cell_type": "code",
   "execution_count": 10,
   "metadata": {},
   "outputs": [
    {
     "name": "stdout",
     "output_type": "stream",
     "text": [
      "      Batsman    Bowler Allrounder  Worldcups\n",
      "0      Sachin    Bumrah      Kapil          2\n",
      "1     Ponting  Macgrath     Watson          5\n",
      "2  Williamson     Boult    Vettori          0\n"
     ]
    }
   ],
   "source": [
    "#'index' parameter in DataFrame method is necessary.  Without this parameter, numerical indices are used.\n",
    "Cricket_auto_index = pd.DataFrame([India, Australia, Newzealand])\n",
    "\n",
    "print(Cricket_auto_index)"
   ]
  },
  {
   "cell_type": "code",
   "execution_count": 11,
   "metadata": {},
   "outputs": [
    {
     "name": "stdout",
     "output_type": "stream",
     "text": [
      "               Batsman    Bowler    Allrounder  Worldcups  extra_key\n",
      "India           Sachin    Bumrah         Kapil          2        NaN\n",
      "Australia      Ponting  Macgrath        Watson          5        NaN\n",
      "Newzealand  Williamson     Boult       Vettori          0        NaN\n",
      "Pakistan       Inzamam     Akram  Shahi Afridi          1        8.0\n"
     ]
    }
   ],
   "source": [
    "#What happens if the number of keys in the dictionaries don't match?  NaN is used to fill for other rows.\n",
    "Pakistan = pd.Series({'Batsman':'Inzamam', 'Bowler':'Akram', 'Allrounder':'Shahi Afridi', 'Worldcups':1, 'extra_key':8})\n",
    "\n",
    "Cricket = pd.DataFrame([India, Australia, Newzealand, Pakistan], \n",
    "                       index=['India', 'Australia', 'Newzealand', 'Pakistan'])\n",
    "\n",
    "print(Cricket)"
   ]
  },
  {
   "cell_type": "code",
   "execution_count": 12,
   "metadata": {},
   "outputs": [
    {
     "data": {
      "text/html": [
       "<div>\n",
       "<style scoped>\n",
       "    .dataframe tbody tr th:only-of-type {\n",
       "        vertical-align: middle;\n",
       "    }\n",
       "\n",
       "    .dataframe tbody tr th {\n",
       "        vertical-align: top;\n",
       "    }\n",
       "\n",
       "    .dataframe thead th {\n",
       "        text-align: right;\n",
       "    }\n",
       "</style>\n",
       "<table border=\"1\" class=\"dataframe\">\n",
       "  <thead>\n",
       "    <tr style=\"text-align: right;\">\n",
       "      <th></th>\n",
       "      <th>Batsman</th>\n",
       "      <th>Bowler</th>\n",
       "      <th>Allrounder</th>\n",
       "      <th>Worldcups</th>\n",
       "      <th>extra_key</th>\n",
       "    </tr>\n",
       "  </thead>\n",
       "  <tbody>\n",
       "    <tr>\n",
       "      <th>India</th>\n",
       "      <td>Sachin</td>\n",
       "      <td>Bumrah</td>\n",
       "      <td>Kapil</td>\n",
       "      <td>2</td>\n",
       "      <td>NaN</td>\n",
       "    </tr>\n",
       "    <tr>\n",
       "      <th>Australia</th>\n",
       "      <td>Ponting</td>\n",
       "      <td>Macgrath</td>\n",
       "      <td>Watson</td>\n",
       "      <td>5</td>\n",
       "      <td>NaN</td>\n",
       "    </tr>\n",
       "  </tbody>\n",
       "</table>\n",
       "</div>"
      ],
      "text/plain": [
       "           Batsman    Bowler Allrounder  Worldcups  extra_key\n",
       "India       Sachin    Bumrah      Kapil          2        NaN\n",
       "Australia  Ponting  Macgrath     Watson          5        NaN"
      ]
     },
     "execution_count": 12,
     "metadata": {},
     "output_type": "execute_result"
    }
   ],
   "source": [
    "Cricket.head(2)  # By default head returns 5 rows (if available)"
   ]
  },
  {
   "cell_type": "code",
   "execution_count": 13,
   "metadata": {},
   "outputs": [
    {
     "data": {
      "text/plain": [
       "Batsman       Sachin\n",
       "Bowler        Bumrah\n",
       "Allrounder     Kapil\n",
       "Worldcups          2\n",
       "extra_key        NaN\n",
       "Name: India, dtype: object"
      ]
     },
     "execution_count": 13,
     "metadata": {},
     "output_type": "execute_result"
    }
   ],
   "source": [
    "Cricket.loc['India']"
   ]
  },
  {
   "cell_type": "code",
   "execution_count": 14,
   "metadata": {},
   "outputs": [
    {
     "ename": "KeyError",
     "evalue": "'Australia'",
     "output_type": "error",
     "traceback": [
      "\u001b[1;31m---------------------------------------------------------------------------\u001b[0m",
      "\u001b[1;31mKeyError\u001b[0m                                  Traceback (most recent call last)",
      "\u001b[1;32mD:\\Anaconda3\\lib\\site-packages\\pandas\\core\\indexes\\base.py\u001b[0m in \u001b[0;36mget_loc\u001b[1;34m(self, key, method, tolerance)\u001b[0m\n\u001b[0;32m   2894\u001b[0m             \u001b[1;32mtry\u001b[0m\u001b[1;33m:\u001b[0m\u001b[1;33m\u001b[0m\u001b[1;33m\u001b[0m\u001b[0m\n\u001b[1;32m-> 2895\u001b[1;33m                 \u001b[1;32mreturn\u001b[0m \u001b[0mself\u001b[0m\u001b[1;33m.\u001b[0m\u001b[0m_engine\u001b[0m\u001b[1;33m.\u001b[0m\u001b[0mget_loc\u001b[0m\u001b[1;33m(\u001b[0m\u001b[0mcasted_key\u001b[0m\u001b[1;33m)\u001b[0m\u001b[1;33m\u001b[0m\u001b[1;33m\u001b[0m\u001b[0m\n\u001b[0m\u001b[0;32m   2896\u001b[0m             \u001b[1;32mexcept\u001b[0m \u001b[0mKeyError\u001b[0m \u001b[1;32mas\u001b[0m \u001b[0merr\u001b[0m\u001b[1;33m:\u001b[0m\u001b[1;33m\u001b[0m\u001b[1;33m\u001b[0m\u001b[0m\n",
      "\u001b[1;32mpandas\\_libs\\index.pyx\u001b[0m in \u001b[0;36mpandas._libs.index.IndexEngine.get_loc\u001b[1;34m()\u001b[0m\n",
      "\u001b[1;32mpandas\\_libs\\index.pyx\u001b[0m in \u001b[0;36mpandas._libs.index.IndexEngine.get_loc\u001b[1;34m()\u001b[0m\n",
      "\u001b[1;32mpandas\\_libs\\hashtable_class_helper.pxi\u001b[0m in \u001b[0;36mpandas._libs.hashtable.PyObjectHashTable.get_item\u001b[1;34m()\u001b[0m\n",
      "\u001b[1;32mpandas\\_libs\\hashtable_class_helper.pxi\u001b[0m in \u001b[0;36mpandas._libs.hashtable.PyObjectHashTable.get_item\u001b[1;34m()\u001b[0m\n",
      "\u001b[1;31mKeyError\u001b[0m: 'Australia'",
      "\nThe above exception was the direct cause of the following exception:\n",
      "\u001b[1;31mKeyError\u001b[0m                                  Traceback (most recent call last)",
      "\u001b[1;32m<ipython-input-14-67dc0fc2735e>\u001b[0m in \u001b[0;36m<module>\u001b[1;34m\u001b[0m\n\u001b[1;32m----> 1\u001b[1;33m \u001b[0mCricket\u001b[0m\u001b[1;33m[\u001b[0m\u001b[1;34m'Australia'\u001b[0m\u001b[1;33m]\u001b[0m \u001b[1;31m#gives error, must use loc or iloc\u001b[0m\u001b[1;33m\u001b[0m\u001b[1;33m\u001b[0m\u001b[0m\n\u001b[0m",
      "\u001b[1;32mD:\\Anaconda3\\lib\\site-packages\\pandas\\core\\frame.py\u001b[0m in \u001b[0;36m__getitem__\u001b[1;34m(self, key)\u001b[0m\n\u001b[0;32m   2904\u001b[0m             \u001b[1;32mif\u001b[0m \u001b[0mself\u001b[0m\u001b[1;33m.\u001b[0m\u001b[0mcolumns\u001b[0m\u001b[1;33m.\u001b[0m\u001b[0mnlevels\u001b[0m \u001b[1;33m>\u001b[0m \u001b[1;36m1\u001b[0m\u001b[1;33m:\u001b[0m\u001b[1;33m\u001b[0m\u001b[1;33m\u001b[0m\u001b[0m\n\u001b[0;32m   2905\u001b[0m                 \u001b[1;32mreturn\u001b[0m \u001b[0mself\u001b[0m\u001b[1;33m.\u001b[0m\u001b[0m_getitem_multilevel\u001b[0m\u001b[1;33m(\u001b[0m\u001b[0mkey\u001b[0m\u001b[1;33m)\u001b[0m\u001b[1;33m\u001b[0m\u001b[1;33m\u001b[0m\u001b[0m\n\u001b[1;32m-> 2906\u001b[1;33m             \u001b[0mindexer\u001b[0m \u001b[1;33m=\u001b[0m \u001b[0mself\u001b[0m\u001b[1;33m.\u001b[0m\u001b[0mcolumns\u001b[0m\u001b[1;33m.\u001b[0m\u001b[0mget_loc\u001b[0m\u001b[1;33m(\u001b[0m\u001b[0mkey\u001b[0m\u001b[1;33m)\u001b[0m\u001b[1;33m\u001b[0m\u001b[1;33m\u001b[0m\u001b[0m\n\u001b[0m\u001b[0;32m   2907\u001b[0m             \u001b[1;32mif\u001b[0m \u001b[0mis_integer\u001b[0m\u001b[1;33m(\u001b[0m\u001b[0mindexer\u001b[0m\u001b[1;33m)\u001b[0m\u001b[1;33m:\u001b[0m\u001b[1;33m\u001b[0m\u001b[1;33m\u001b[0m\u001b[0m\n\u001b[0;32m   2908\u001b[0m                 \u001b[0mindexer\u001b[0m \u001b[1;33m=\u001b[0m \u001b[1;33m[\u001b[0m\u001b[0mindexer\u001b[0m\u001b[1;33m]\u001b[0m\u001b[1;33m\u001b[0m\u001b[1;33m\u001b[0m\u001b[0m\n",
      "\u001b[1;32mD:\\Anaconda3\\lib\\site-packages\\pandas\\core\\indexes\\base.py\u001b[0m in \u001b[0;36mget_loc\u001b[1;34m(self, key, method, tolerance)\u001b[0m\n\u001b[0;32m   2895\u001b[0m                 \u001b[1;32mreturn\u001b[0m \u001b[0mself\u001b[0m\u001b[1;33m.\u001b[0m\u001b[0m_engine\u001b[0m\u001b[1;33m.\u001b[0m\u001b[0mget_loc\u001b[0m\u001b[1;33m(\u001b[0m\u001b[0mcasted_key\u001b[0m\u001b[1;33m)\u001b[0m\u001b[1;33m\u001b[0m\u001b[1;33m\u001b[0m\u001b[0m\n\u001b[0;32m   2896\u001b[0m             \u001b[1;32mexcept\u001b[0m \u001b[0mKeyError\u001b[0m \u001b[1;32mas\u001b[0m \u001b[0merr\u001b[0m\u001b[1;33m:\u001b[0m\u001b[1;33m\u001b[0m\u001b[1;33m\u001b[0m\u001b[0m\n\u001b[1;32m-> 2897\u001b[1;33m                 \u001b[1;32mraise\u001b[0m \u001b[0mKeyError\u001b[0m\u001b[1;33m(\u001b[0m\u001b[0mkey\u001b[0m\u001b[1;33m)\u001b[0m \u001b[1;32mfrom\u001b[0m \u001b[0merr\u001b[0m\u001b[1;33m\u001b[0m\u001b[1;33m\u001b[0m\u001b[0m\n\u001b[0m\u001b[0;32m   2898\u001b[0m \u001b[1;33m\u001b[0m\u001b[0m\n\u001b[0;32m   2899\u001b[0m         \u001b[1;32mif\u001b[0m \u001b[0mtolerance\u001b[0m \u001b[1;32mis\u001b[0m \u001b[1;32mnot\u001b[0m \u001b[1;32mNone\u001b[0m\u001b[1;33m:\u001b[0m\u001b[1;33m\u001b[0m\u001b[1;33m\u001b[0m\u001b[0m\n",
      "\u001b[1;31mKeyError\u001b[0m: 'Australia'"
     ]
    }
   ],
   "source": [
    "Cricket['Australia'] #gives error, must use loc or iloc"
   ]
  },
  {
   "cell_type": "code",
   "execution_count": 15,
   "metadata": {},
   "outputs": [
    {
     "name": "stdout",
     "output_type": "stream",
     "text": [
      "India           Bumrah\n",
      "Australia     Macgrath\n",
      "Newzealand       Boult\n",
      "Pakistan         Akram\n",
      "Name: Bowler, dtype: object\n",
      "<class 'pandas.core.series.Series'>\n"
     ]
    }
   ],
   "source": [
    "#However, the columns can be accessed by directly indexing on the dataframe, where it returns a series.\n",
    "result = Cricket['Bowler']\n",
    "\n",
    "print(result)\n",
    "print(type(result))"
   ]
  },
  {
   "cell_type": "code",
   "execution_count": 16,
   "metadata": {},
   "outputs": [
    {
     "name": "stdout",
     "output_type": "stream",
     "text": [
      "              Bowler\n",
      "India         Bumrah\n",
      "Australia   Macgrath\n",
      "Newzealand     Boult\n",
      "Pakistan       Akram\n",
      "<class 'pandas.core.frame.DataFrame'>\n"
     ]
    }
   ],
   "source": [
    "#Now, when the column is accessed as follows, it returns the same data as above, but as dataframe object.\n",
    "result = Cricket[['Bowler']]\n",
    "\n",
    "print(result)\n",
    "print(type(result))"
   ]
  },
  {
   "cell_type": "code",
   "execution_count": 17,
   "metadata": {},
   "outputs": [
    {
     "name": "stdout",
     "output_type": "stream",
     "text": [
      "              Bowler     Batsman\n",
      "India         Bumrah      Sachin\n",
      "Australia   Macgrath     Ponting\n",
      "Newzealand     Boult  Williamson\n",
      "Pakistan       Akram     Inzamam\n",
      "<class 'pandas.core.frame.DataFrame'>\n"
     ]
    }
   ],
   "source": [
    "#the same way, we can access multiple columns as follows.  It's a dataframe again.\n",
    "result = Cricket[['Bowler', 'Batsman']]\n",
    "\n",
    "print(result)\n",
    "print(type(result))"
   ]
  },
  {
   "cell_type": "code",
   "execution_count": 18,
   "metadata": {},
   "outputs": [
    {
     "data": {
      "text/plain": [
       "True"
      ]
     },
     "execution_count": 18,
     "metadata": {},
     "output_type": "execute_result"
    }
   ],
   "source": [
    "Cricket.loc['Australia']['Allrounder'] == Cricket.loc['Australia', 'Allrounder'] #Both these are right."
   ]
  },
  {
   "cell_type": "code",
   "execution_count": 19,
   "metadata": {},
   "outputs": [
    {
     "data": {
      "text/html": [
       "<div>\n",
       "<style scoped>\n",
       "    .dataframe tbody tr th:only-of-type {\n",
       "        vertical-align: middle;\n",
       "    }\n",
       "\n",
       "    .dataframe tbody tr th {\n",
       "        vertical-align: top;\n",
       "    }\n",
       "\n",
       "    .dataframe thead th {\n",
       "        text-align: right;\n",
       "    }\n",
       "</style>\n",
       "<table border=\"1\" class=\"dataframe\">\n",
       "  <thead>\n",
       "    <tr style=\"text-align: right;\">\n",
       "      <th></th>\n",
       "      <th>India</th>\n",
       "      <th>Australia</th>\n",
       "      <th>Newzealand</th>\n",
       "      <th>Pakistan</th>\n",
       "    </tr>\n",
       "  </thead>\n",
       "  <tbody>\n",
       "    <tr>\n",
       "      <th>Batsman</th>\n",
       "      <td>Sachin</td>\n",
       "      <td>Ponting</td>\n",
       "      <td>Williamson</td>\n",
       "      <td>Inzamam</td>\n",
       "    </tr>\n",
       "    <tr>\n",
       "      <th>Bowler</th>\n",
       "      <td>Bumrah</td>\n",
       "      <td>Macgrath</td>\n",
       "      <td>Boult</td>\n",
       "      <td>Akram</td>\n",
       "    </tr>\n",
       "    <tr>\n",
       "      <th>Allrounder</th>\n",
       "      <td>Kapil</td>\n",
       "      <td>Watson</td>\n",
       "      <td>Vettori</td>\n",
       "      <td>Shahi Afridi</td>\n",
       "    </tr>\n",
       "    <tr>\n",
       "      <th>Worldcups</th>\n",
       "      <td>2</td>\n",
       "      <td>5</td>\n",
       "      <td>0</td>\n",
       "      <td>1</td>\n",
       "    </tr>\n",
       "    <tr>\n",
       "      <th>extra_key</th>\n",
       "      <td>NaN</td>\n",
       "      <td>NaN</td>\n",
       "      <td>NaN</td>\n",
       "      <td>8</td>\n",
       "    </tr>\n",
       "  </tbody>\n",
       "</table>\n",
       "</div>"
      ],
      "text/plain": [
       "             India Australia  Newzealand      Pakistan\n",
       "Batsman     Sachin   Ponting  Williamson       Inzamam\n",
       "Bowler      Bumrah  Macgrath       Boult         Akram\n",
       "Allrounder   Kapil    Watson     Vettori  Shahi Afridi\n",
       "Worldcups        2         5           0             1\n",
       "extra_key      NaN       NaN         NaN             8"
      ]
     },
     "execution_count": 19,
     "metadata": {},
     "output_type": "execute_result"
    }
   ],
   "source": [
    "Cricket.T #Transpose of a matrix"
   ]
  },
  {
   "cell_type": "code",
   "execution_count": 20,
   "metadata": {},
   "outputs": [
    {
     "data": {
      "text/plain": [
       "India           Bumrah\n",
       "Australia     Macgrath\n",
       "Newzealand       Boult\n",
       "Pakistan         Akram\n",
       "Name: Bowler, dtype: object"
      ]
     },
     "execution_count": 20,
     "metadata": {},
     "output_type": "execute_result"
    }
   ],
   "source": [
    "Cricket.T.loc['Bowler']  #you can chain methods"
   ]
  },
  {
   "cell_type": "code",
   "execution_count": 21,
   "metadata": {},
   "outputs": [
    {
     "data": {
      "text/html": [
       "<div>\n",
       "<style scoped>\n",
       "    .dataframe tbody tr th:only-of-type {\n",
       "        vertical-align: middle;\n",
       "    }\n",
       "\n",
       "    .dataframe tbody tr th {\n",
       "        vertical-align: top;\n",
       "    }\n",
       "\n",
       "    .dataframe thead th {\n",
       "        text-align: right;\n",
       "    }\n",
       "</style>\n",
       "<table border=\"1\" class=\"dataframe\">\n",
       "  <thead>\n",
       "    <tr style=\"text-align: right;\">\n",
       "      <th></th>\n",
       "      <th>Batsman</th>\n",
       "      <th>Allrounder</th>\n",
       "    </tr>\n",
       "  </thead>\n",
       "  <tbody>\n",
       "    <tr>\n",
       "      <th>India</th>\n",
       "      <td>Sachin</td>\n",
       "      <td>Kapil</td>\n",
       "    </tr>\n",
       "    <tr>\n",
       "      <th>Australia</th>\n",
       "      <td>Ponting</td>\n",
       "      <td>Watson</td>\n",
       "    </tr>\n",
       "    <tr>\n",
       "      <th>Newzealand</th>\n",
       "      <td>Williamson</td>\n",
       "      <td>Vettori</td>\n",
       "    </tr>\n",
       "    <tr>\n",
       "      <th>Pakistan</th>\n",
       "      <td>Inzamam</td>\n",
       "      <td>Shahi Afridi</td>\n",
       "    </tr>\n",
       "  </tbody>\n",
       "</table>\n",
       "</div>"
      ],
      "text/plain": [
       "               Batsman    Allrounder\n",
       "India           Sachin         Kapil\n",
       "Australia      Ponting        Watson\n",
       "Newzealand  Williamson       Vettori\n",
       "Pakistan       Inzamam  Shahi Afridi"
      ]
     },
     "execution_count": 21,
     "metadata": {},
     "output_type": "execute_result"
    }
   ],
   "source": [
    "#Use Slicing to get all batsman and allrounders for all countries.\n",
    "#Same output as Cricket[['Batsman','Allrounder']]\n",
    "Cricket.loc[:,['Batsman', 'Allrounder']]"
   ]
  },
  {
   "cell_type": "code",
   "execution_count": 22,
   "metadata": {
    "scrolled": true
   },
   "outputs": [
    {
     "name": "stdout",
     "output_type": "stream",
     "text": [
      "Batsman       Sachin\n",
      "Bowler        Bumrah\n",
      "Allrounder     Kapil\n",
      "Worldcups          2\n",
      "extra_key        NaN\n",
      "Name: India, dtype: object\n",
      "India             Sachin\n",
      "Australia        Ponting\n",
      "Newzealand    Williamson\n",
      "Pakistan         Inzamam\n",
      "Name: Batsman, dtype: object\n"
     ]
    }
   ],
   "source": [
    "#Basically, to access rows of a dataframe, use loc.  TO access columns of a dataframe, you can use index directly.\n",
    "print(Cricket.loc['India']) #Cricket['India'] will not work\n",
    "print(Cricket['Batsman'])\n"
   ]
  },
  {
   "cell_type": "markdown",
   "metadata": {},
   "source": [
    "## Numpy"
   ]
  },
  {
   "cell_type": "markdown",
   "metadata": {},
   "source": [
    "### Basics"
   ]
  },
  {
   "cell_type": "code",
   "execution_count": 23,
   "metadata": {},
   "outputs": [],
   "source": [
    "a = np.array([1, 2])  #Creates a column vector"
   ]
  },
  {
   "cell_type": "code",
   "execution_count": 24,
   "metadata": {
    "scrolled": true
   },
   "outputs": [
    {
     "data": {
      "text/plain": [
       "(2,)"
      ]
     },
     "execution_count": 24,
     "metadata": {},
     "output_type": "execute_result"
    }
   ],
   "source": [
    "a.shape # 2 x 1 vector"
   ]
  },
  {
   "cell_type": "code",
   "execution_count": 25,
   "metadata": {},
   "outputs": [
    {
     "data": {
      "text/plain": [
       "1"
      ]
     },
     "execution_count": 25,
     "metadata": {},
     "output_type": "execute_result"
    }
   ],
   "source": [
    "a[0] #accesses the row using the given index"
   ]
  },
  {
   "cell_type": "code",
   "execution_count": 26,
   "metadata": {},
   "outputs": [],
   "source": [
    "# To reshape, do this:\n",
    "a.shape = (1,2)"
   ]
  },
  {
   "cell_type": "code",
   "execution_count": 27,
   "metadata": {},
   "outputs": [
    {
     "data": {
      "text/plain": [
       "array([1, 2])"
      ]
     },
     "execution_count": 27,
     "metadata": {},
     "output_type": "execute_result"
    }
   ],
   "source": [
    "a[0] #accesses the row, represented by index 0."
   ]
  },
  {
   "cell_type": "code",
   "execution_count": 28,
   "metadata": {},
   "outputs": [
    {
     "name": "stdout",
     "output_type": "stream",
     "text": [
      "(1, 2)\n"
     ]
    }
   ],
   "source": [
    "# Following creates a row vector directly instead, for the same data:\n",
    "a = np.array([[1, 2]])\n",
    "\n",
    "print(a.shape)"
   ]
  },
  {
   "cell_type": "code",
   "execution_count": 29,
   "metadata": {},
   "outputs": [
    {
     "data": {
      "text/plain": [
       "array([1, 2])"
      ]
     },
     "execution_count": 29,
     "metadata": {},
     "output_type": "execute_result"
    }
   ],
   "source": [
    "a[0]"
   ]
  },
  {
   "cell_type": "code",
   "execution_count": 30,
   "metadata": {
    "scrolled": true
   },
   "outputs": [
    {
     "name": "stdout",
     "output_type": "stream",
     "text": [
      "[1 2 3]\n",
      "2\n"
     ]
    }
   ],
   "source": [
    "c = np.array([[1,2,3],[4,5,6]])\n",
    "print(c[0]) #Access the first row using index 0.\n",
    "print(c[0, 1]) # Access the first column of the first row; same as c[0][1]"
   ]
  },
  {
   "cell_type": "markdown",
   "metadata": {},
   "source": [
    "### Useful variations"
   ]
  },
  {
   "cell_type": "code",
   "execution_count": 31,
   "metadata": {},
   "outputs": [
    {
     "name": "stdout",
     "output_type": "stream",
     "text": [
      "[[0. 0. 0.]\n",
      " [0. 0. 0.]]\n"
     ]
    }
   ],
   "source": [
    "# Create 2 x 3 array with all zeros.\n",
    "d = np.zeros((2,3))\n",
    "print(d)"
   ]
  },
  {
   "cell_type": "code",
   "execution_count": 32,
   "metadata": {},
   "outputs": [
    {
     "name": "stdout",
     "output_type": "stream",
     "text": [
      "[[0. 0. 0. 0. 0.]\n",
      " [0. 0. 0. 0. 0.]\n",
      " [0. 0. 0. 0. 0.]]\n"
     ]
    }
   ],
   "source": [
    "# Create 3 x 5 array with all ones.\n",
    "e = np.zeros((3,5))\n",
    "print(e)"
   ]
  },
  {
   "cell_type": "code",
   "execution_count": 33,
   "metadata": {},
   "outputs": [
    {
     "name": "stdout",
     "output_type": "stream",
     "text": [
      "[[9 9 9 9]\n",
      " [9 9 9 9]\n",
      " [9 9 9 9]]\n"
     ]
    }
   ],
   "source": [
    "# Create 3 x 4 array with all 9.\n",
    "f = np.full((3,4), 9)\n",
    "print(f)"
   ]
  },
  {
   "cell_type": "code",
   "execution_count": 34,
   "metadata": {},
   "outputs": [
    {
     "name": "stdout",
     "output_type": "stream",
     "text": [
      "2\n",
      "12\n",
      "3\n",
      "4\n"
     ]
    }
   ],
   "source": [
    "print(f.ndim) # number of dimensions\n",
    "print(f.size) #total number of elements\n",
    "print(np.size(f, axis=0)) #number of rows\n",
    "print(np.size(f, axis=1)) #number of columns"
   ]
  },
  {
   "cell_type": "code",
   "execution_count": 35,
   "metadata": {},
   "outputs": [
    {
     "name": "stdout",
     "output_type": "stream",
     "text": [
      "[[0.67357135 0.21493756 0.8209581  0.1672772 ]\n",
      " [0.82136211 0.29494104 0.55775126 0.79001447]\n",
      " [0.18248732 0.3777431  0.67760605 0.47475661]\n",
      " [0.57257294 0.18967517 0.89132078 0.79359749]]\n"
     ]
    }
   ],
   "source": [
    "#Create 3 x 3 array with random values.\n",
    "g = np.random.random((4,4))\n",
    "print(g)"
   ]
  },
  {
   "cell_type": "code",
   "execution_count": 36,
   "metadata": {},
   "outputs": [
    {
     "data": {
      "text/plain": [
       "0.5577512610179602"
      ]
     },
     "execution_count": 36,
     "metadata": {},
     "output_type": "execute_result"
    }
   ],
   "source": [
    "g[1, 2] #element in second row and third column"
   ]
  },
  {
   "cell_type": "code",
   "execution_count": 37,
   "metadata": {},
   "outputs": [
    {
     "data": {
      "text/plain": [
       "True"
      ]
     },
     "execution_count": 37,
     "metadata": {},
     "output_type": "execute_result"
    }
   ],
   "source": [
    "g[1,2] == g[1][2] #Two ways to perform the above operation"
   ]
  },
  {
   "cell_type": "code",
   "execution_count": 38,
   "metadata": {},
   "outputs": [
    {
     "name": "stdout",
     "output_type": "stream",
     "text": [
      "[[0.67357135 0.21493756 0.8209581  0.1672772 ]\n",
      " [0.82136211 0.29494104 3.         0.79001447]\n",
      " [0.18248732 0.3777431  0.67760605 0.47475661]\n",
      " [0.57257294 0.18967517 0.89132078 0.79359749]]\n"
     ]
    }
   ],
   "source": [
    "g[1,2] = 3 #modifies the element\n",
    "print(g)"
   ]
  },
  {
   "cell_type": "code",
   "execution_count": 39,
   "metadata": {},
   "outputs": [
    {
     "data": {
      "text/plain": [
       "array([[0.21493756, 0.8209581 ],\n",
       "       [0.29494104, 3.        ]])"
      ]
     },
     "execution_count": 39,
     "metadata": {},
     "output_type": "execute_result"
    }
   ],
   "source": [
    "#Slicing in numpy; works similar to slicing in a list.\n",
    "g[:2, 1:3]"
   ]
  },
  {
   "cell_type": "code",
   "execution_count": 40,
   "metadata": {},
   "outputs": [
    {
     "name": "stdout",
     "output_type": "stream",
     "text": [
      "[[0.67357135 1.         0.8209581  0.1672772 ]\n",
      " [0.82136211 0.29494104 3.         0.79001447]\n",
      " [0.18248732 0.3777431  0.67760605 0.47475661]\n",
      " [0.57257294 0.18967517 0.89132078 0.79359749]]\n"
     ]
    }
   ],
   "source": [
    "#refer the above slice as h; if h is modified, g also gets changed.\n",
    "h = g[:2, 1:3]\n",
    "h[0, 0] = 1\n",
    "print(g)"
   ]
  },
  {
   "cell_type": "code",
   "execution_count": 41,
   "metadata": {},
   "outputs": [
    {
     "name": "stdout",
     "output_type": "stream",
     "text": [
      "[[9. 9. 9. 9.]\n",
      " [9. 9. 9. 9.]\n",
      " [9. 9. 9. 9.]]\n"
     ]
    }
   ],
   "source": [
    "i = np.full((3,4), 9, dtype='float64')  #all elements are floats now.\n",
    "print(i)"
   ]
  },
  {
   "cell_type": "markdown",
   "metadata": {},
   "source": [
    "### Mathematical operations."
   ]
  },
  {
   "cell_type": "code",
   "execution_count": 42,
   "metadata": {},
   "outputs": [],
   "source": [
    "a = np.random.random((3,3))\n",
    "b = np.random.random((3,3))"
   ]
  },
  {
   "cell_type": "code",
   "execution_count": 43,
   "metadata": {},
   "outputs": [
    {
     "name": "stdout",
     "output_type": "stream",
     "text": [
      "[[0.90203158 0.99141286 0.92167336]\n",
      " [0.82108713 0.77448304 1.01037583]\n",
      " [1.02931243 1.71630984 0.16711215]]\n",
      "[[0.90203158 0.99141286 0.92167336]\n",
      " [0.82108713 0.77448304 1.01037583]\n",
      " [1.02931243 1.71630984 0.16711215]]\n"
     ]
    }
   ],
   "source": [
    "print(a + b) #adds element-wise\n",
    "print(np.add(a, b)) #same as above"
   ]
  },
  {
   "cell_type": "code",
   "execution_count": 44,
   "metadata": {},
   "outputs": [
    {
     "name": "stdout",
     "output_type": "stream",
     "text": [
      "[[-0.77021557 -0.24482328  0.52303899]\n",
      " [-0.26858563  0.57406742  0.07289253]\n",
      " [ 0.22298271  0.03848769  0.03727209]]\n",
      "[[-0.77021557 -0.24482328  0.52303899]\n",
      " [-0.26858563  0.57406742  0.07289253]\n",
      " [ 0.22298271  0.03848769  0.03727209]]\n"
     ]
    }
   ],
   "source": [
    "print(a - b) #subtracts element-wise\n",
    "print(np.subtract(a, b)) #same as above"
   ]
  },
  {
   "cell_type": "code",
   "execution_count": 45,
   "metadata": {},
   "outputs": [
    {
     "name": "stdout",
     "output_type": "stream",
     "text": [
      "[[0.05510723 0.23074026 0.143978  ]\n",
      " [0.15051146 0.06756764 0.2538865 ]\n",
      " [0.2524407  0.73605954 0.00663432]]\n",
      "[[0.05510723 0.23074026 0.143978  ]\n",
      " [0.15051146 0.06756764 0.2538865 ]\n",
      " [0.2524407  0.73605954 0.00663432]]\n"
     ]
    }
   ],
   "source": [
    "print(a * b) #multiplies element-wise\n",
    "print(np.multiply(a, b)) #same as above"
   ]
  },
  {
   "cell_type": "code",
   "execution_count": 46,
   "metadata": {},
   "outputs": [
    {
     "name": "stdout",
     "output_type": "stream",
     "text": [
      "[[0.07882567 0.6039215  3.62415395]\n",
      " [0.50703433 6.72876918 1.15550683]\n",
      " [1.55308072 1.04587815 1.57412306]]\n",
      "[[0.07882567 0.6039215  3.62415395]\n",
      " [0.50703433 6.72876918 1.15550683]\n",
      " [1.55308072 1.04587815 1.57412306]]\n"
     ]
    }
   ],
   "source": [
    "print(a / b) #divides element-wise\n",
    "print(np.divide(a, b)) #same as above"
   ]
  },
  {
   "cell_type": "code",
   "execution_count": 47,
   "metadata": {},
   "outputs": [
    {
     "name": "stdout",
     "output_type": "stream",
     "text": [
      "[[3. 3. 3. 3.]\n",
      " [3. 3. 3. 3.]\n",
      " [3. 3. 3. 3.]]\n"
     ]
    }
   ],
   "source": [
    "print(np.sqrt(i))  # square root selement-wise"
   ]
  },
  {
   "cell_type": "code",
   "execution_count": 48,
   "metadata": {},
   "outputs": [],
   "source": [
    "j = np.array([[1,2],[3,4]])"
   ]
  },
  {
   "cell_type": "code",
   "execution_count": 49,
   "metadata": {},
   "outputs": [
    {
     "name": "stdout",
     "output_type": "stream",
     "text": [
      "10\n",
      "10\n",
      "2.5\n",
      "2.5\n"
     ]
    }
   ],
   "source": [
    "print(np.sum(j)) #sums up all elements in the array.\n",
    "print(j.sum()) # same as above\n",
    "print(np.mean(j)) #mean of all elements in the array.\n",
    "print(j.mean()) #same as above"
   ]
  },
  {
   "cell_type": "code",
   "execution_count": 50,
   "metadata": {},
   "outputs": [
    {
     "name": "stdout",
     "output_type": "stream",
     "text": [
      "[4 6]\n",
      "[4 6]\n",
      "[2. 3.]\n",
      "[2. 3.]\n"
     ]
    }
   ],
   "source": [
    "print(np.sum(j, axis=0))  #sum of elements column-wise\n",
    "print(j.sum(axis=0)) #same as above\n",
    "print(np.mean(j, axis=0))  #mean of elements column-wise\n",
    "print(j.mean(axis=0)) #same as above"
   ]
  },
  {
   "cell_type": "code",
   "execution_count": 51,
   "metadata": {},
   "outputs": [
    {
     "name": "stdout",
     "output_type": "stream",
     "text": [
      "[3 7]\n",
      "[3 7]\n",
      "[1.5 3.5]\n",
      "[1.5 3.5]\n"
     ]
    }
   ],
   "source": [
    "print(np.sum(j, axis=1))  #sum of elements row-wise\n",
    "print(j.sum(axis=1)) #same as above\n",
    "print(np.mean(j, axis=1))  #mean of elements row-wise\n",
    "print(j.mean(axis=1)) #same as above"
   ]
  },
  {
   "cell_type": "markdown",
   "metadata": {},
   "source": [
    "### Boolean algebra"
   ]
  },
  {
   "cell_type": "code",
   "execution_count": 52,
   "metadata": {},
   "outputs": [
    {
     "data": {
      "text/plain": [
       "array([[False, False],\n",
       "       [ True,  True]])"
      ]
     },
     "execution_count": 52,
     "metadata": {},
     "output_type": "execute_result"
    }
   ],
   "source": [
    "# Broadcasts condition to all elements in the array, and assimilates results into an array of same shape.\n",
    "j > 2"
   ]
  },
  {
   "cell_type": "code",
   "execution_count": 53,
   "metadata": {},
   "outputs": [
    {
     "data": {
      "text/plain": [
       "array([3, 4])"
      ]
     },
     "execution_count": 53,
     "metadata": {},
     "output_type": "execute_result"
    }
   ],
   "source": [
    "# Now, use the above condition to retrieve all array elements that're greater than 2.\n",
    "j[j > 2]"
   ]
  },
  {
   "cell_type": "code",
   "execution_count": 54,
   "metadata": {},
   "outputs": [
    {
     "name": "stdout",
     "output_type": "stream",
     "text": [
      "[[0 0]\n",
      " [3 4]]\n"
     ]
    }
   ],
   "source": [
    "# Set all elements other than those greater than 2, to 0.\n",
    "# To solve this, first find all elements that are less or equal to 2, and then set to 0 as follows.\n",
    "j[j <= 2] = 0\n",
    "print(j)"
   ]
  },
  {
   "cell_type": "code",
   "execution_count": 55,
   "metadata": {},
   "outputs": [
    {
     "data": {
      "text/plain": [
       "array([[0.39298928, 0.78688917, 0.39870517, 0.525673  , 0.39471612],\n",
       "       [0.        , 0.16236214, 0.59789716, 0.60218527, 0.20579195],\n",
       "       [0.        , 0.        , 0.32552278, 0.88627817, 0.96220392],\n",
       "       [0.        , 0.        , 0.        , 0.56936082, 0.74454173],\n",
       "       [0.        , 0.        , 0.        , 0.        , 0.9671367 ]])"
      ]
     },
     "execution_count": 55,
     "metadata": {},
     "output_type": "execute_result"
    }
   ],
   "source": [
    "# Fill all lower triangular elements with 0\n",
    "l = np.random.random((5, 5))\n",
    "np.triu(l)"
   ]
  },
  {
   "cell_type": "markdown",
   "metadata": {},
   "source": [
    "### Linear algebra (matrix operations)"
   ]
  },
  {
   "cell_type": "code",
   "execution_count": 56,
   "metadata": {},
   "outputs": [],
   "source": [
    "a = np.array([[1,2,3],[3,4,5],[5,6,7]])\n",
    "b = np.array([[1,2,3],[3,4,5],[5,6,7]])"
   ]
  },
  {
   "cell_type": "code",
   "execution_count": 57,
   "metadata": {},
   "outputs": [
    {
     "data": {
      "text/plain": [
       "array([[ 1,  4,  9],\n",
       "       [ 9, 16, 25],\n",
       "       [25, 36, 49]])"
      ]
     },
     "execution_count": 57,
     "metadata": {},
     "output_type": "execute_result"
    }
   ],
   "source": [
    "a * b #hadamard product"
   ]
  },
  {
   "cell_type": "code",
   "execution_count": 58,
   "metadata": {},
   "outputs": [
    {
     "data": {
      "text/plain": [
       "array([[22, 28, 34],\n",
       "       [40, 52, 64],\n",
       "       [58, 76, 94]])"
      ]
     },
     "execution_count": 58,
     "metadata": {},
     "output_type": "execute_result"
    }
   ],
   "source": [
    "a.dot(b)"
   ]
  },
  {
   "cell_type": "code",
   "execution_count": 59,
   "metadata": {},
   "outputs": [
    {
     "data": {
      "text/plain": [
       "array([[22, 28, 34],\n",
       "       [40, 52, 64],\n",
       "       [58, 76, 94]])"
      ]
     },
     "execution_count": 59,
     "metadata": {},
     "output_type": "execute_result"
    }
   ],
   "source": [
    "np.matmul(a, b)"
   ]
  },
  {
   "cell_type": "code",
   "execution_count": 60,
   "metadata": {},
   "outputs": [
    {
     "data": {
      "text/plain": [
       "array([[22, 28, 34],\n",
       "       [40, 52, 64],\n",
       "       [58, 76, 94]])"
      ]
     },
     "execution_count": 60,
     "metadata": {},
     "output_type": "execute_result"
    }
   ],
   "source": [
    "a @ b  # results in same result as above"
   ]
  }
 ],
 "metadata": {
  "kernelspec": {
   "display_name": "Python 3",
   "language": "python",
   "name": "python3"
  },
  "language_info": {
   "codemirror_mode": {
    "name": "ipython",
    "version": 3
   },
   "file_extension": ".py",
   "mimetype": "text/x-python",
   "name": "python",
   "nbconvert_exporter": "python",
   "pygments_lexer": "ipython3",
   "version": "3.7.4"
  }
 },
 "nbformat": 4,
 "nbformat_minor": 2
}
