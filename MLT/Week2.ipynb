{
 "cells": [
  {
   "cell_type": "code",
   "execution_count": 1,
   "metadata": {},
   "outputs": [],
   "source": [
    "import numpy as np\n",
    "import seaborn as sns\n",
    "import matplotlib.pyplot as plt\n",
    "from sklearn.model_selection import train_test_split"
   ]
  },
  {
   "cell_type": "markdown",
   "metadata": {},
   "source": [
    "### Training Data"
   ]
  },
  {
   "cell_type": "code",
   "execution_count": 2,
   "metadata": {},
   "outputs": [],
   "source": [
    "#Parameters\n",
    "w0 = 3\n",
    "w1 = 4\n",
    "n = 100"
   ]
  },
  {
   "cell_type": "code",
   "execution_count": 3,
   "metadata": {},
   "outputs": [
    {
     "data": {
      "text/plain": [
       "array([3.93614836, 5.58685575, 5.83219411, 4.12110262, 5.3400089 ,\n",
       "       9.82850248, 4.58520267, 2.74663489, 7.41405989, 3.18515137,\n",
       "       6.7909049 , 8.10260745, 4.29191847, 6.92245937, 3.61125522,\n",
       "       2.17342633, 7.81292601, 7.05251329, 9.74652135, 6.60713272,\n",
       "       3.42798003, 9.50796312, 9.73553672, 8.39339266, 9.96377683,\n",
       "       0.53973076, 6.09122984, 5.9753838 , 6.01710593, 7.90677776,\n",
       "       5.43757053, 5.55232182, 2.20393128, 9.46353052, 3.99821728,\n",
       "       7.82842764, 2.81317949, 1.90679769, 3.08183041, 2.24387819,\n",
       "       2.66078981, 8.21106686, 3.07909491, 3.09056318, 5.30125799,\n",
       "       4.88961058, 2.20023848, 3.33263583, 9.86949976, 0.49858048,\n",
       "       2.83722199, 5.09441241, 7.48677318, 1.79351797, 5.92798891,\n",
       "       8.24183243, 1.72411585, 7.22107276, 5.85833504, 1.47114292,\n",
       "       4.38898462, 4.45993934, 9.34390505, 8.18119092, 0.6153249 ,\n",
       "       5.68382373, 1.07109347, 5.32472777, 3.00857186, 4.45890955,\n",
       "       1.57652415, 1.31596373, 7.49362186, 2.2306832 , 9.87993369,\n",
       "       9.69990613, 6.64923594, 4.90089093, 2.3845626 , 1.27460714,\n",
       "       6.69302841, 8.56896979, 7.32060077, 3.41227847, 5.79544278,\n",
       "       9.84062107, 8.41969087, 1.07285638, 0.53285174, 8.87543698,\n",
       "       6.90759089, 4.78204867, 5.50966349, 4.51645201, 6.64572297,\n",
       "       6.78401305, 7.95449253, 4.15888511, 3.70153622, 4.52009543])"
      ]
     },
     "execution_count": 3,
     "metadata": {},
     "output_type": "execute_result"
    }
   ],
   "source": [
    "#Creates a column vector with 100 rows.\n",
    "X = 10 * np.random.random(n, )\n",
    "X"
   ]
  },
  {
   "cell_type": "code",
   "execution_count": 4,
   "metadata": {},
   "outputs": [
    {
     "data": {
      "text/plain": [
       "array([19.09084766, 25.70716258, 27.14726929, 19.90103904, 24.89502395,\n",
       "       43.29802971, 22.02527719, 14.22099138, 32.79080471, 16.71113453,\n",
       "       30.71596212, 35.85090927, 20.25871013, 31.11954661, 17.65612077,\n",
       "       11.97463346, 35.20726704, 32.12463281, 42.48079452, 30.3466853 ,\n",
       "       17.31280034, 41.77563289, 42.09600863, 37.11586207, 43.50986199,\n",
       "        6.03260423, 27.91403403, 27.44419566, 27.22278795, 34.68641762,\n",
       "       25.54080476, 25.63895265, 12.78732955, 40.99528846, 19.36924927,\n",
       "       35.21102408, 14.55764653, 11.15623678, 15.65029499, 12.19323707,\n",
       "       13.90727426, 36.18505634, 15.73754798, 15.61929354, 25.04639225,\n",
       "       22.69357029, 12.70803524, 16.96811355, 43.24437439,  5.41855983,\n",
       "       15.13951817, 24.31797371, 33.6757212 , 10.54912305, 26.83031703,\n",
       "       36.86132207, 10.40268707, 32.48155807, 27.02497132,  9.35919262,\n",
       "       21.10823966, 21.38540666, 40.96237108, 36.34005222,  5.99658808,\n",
       "       26.44974628,  7.92030271, 25.20972356, 15.06254245, 21.43024764,\n",
       "       10.13893608,  8.52591888, 33.53106198, 11.97048471, 43.19557179,\n",
       "       42.77657796, 30.47846383, 23.16618223, 12.64154018,  9.06150982,\n",
       "       30.18484541, 38.10842616, 32.93634824, 17.0443903 , 26.49658541,\n",
       "       43.19044908, 37.3750681 ,  7.62750052,  6.04585324, 38.96209657,\n",
       "       31.15452955, 22.15992962, 25.60008779, 21.8060732 , 29.65479823,\n",
       "       30.39161468, 34.90867508, 19.71785032, 18.35180793, 22.01885902])"
      ]
     },
     "execution_count": 4,
     "metadata": {},
     "output_type": "execute_result"
    }
   ],
   "source": [
    "y = w0 + w1 * X + np.random.random(n,)\n",
    "y"
   ]
  },
  {
   "cell_type": "code",
   "execution_count": 5,
   "metadata": {},
   "outputs": [
    {
     "name": "stdout",
     "output_type": "stream",
     "text": [
      "Shape of feature matrix(X) is (100,)\n",
      "Shape of labels(y) is (100,)\n"
     ]
    }
   ],
   "source": [
    "print(f'Shape of feature matrix(X) is {X.shape}')\n",
    "print(f'Shape of labels(y) is {y.shape}')"
   ]
  },
  {
   "cell_type": "code",
   "execution_count": 6,
   "metadata": {},
   "outputs": [],
   "source": [
    "#42 is the seed, and allows same split to occur everytime the function is executed.\n",
    "X_train, X_test, y_train, y_test = train_test_split(X, y, test_size=0.2, random_state=42) "
   ]
  },
  {
   "cell_type": "code",
   "execution_count": 7,
   "metadata": {},
   "outputs": [
    {
     "name": "stdout",
     "output_type": "stream",
     "text": [
      "80% of examples is assigned to feature training set\n",
      "\n",
      "[8.24183243 0.53285174 6.09122984 3.07909491 4.45890955 2.17342633\n",
      " 2.66078981 7.95449253 3.18515137 7.49362186 8.10260745 3.33263583\n",
      " 9.84062107 6.01710593 4.51645201 9.82850248 1.07109347 5.68382373\n",
      " 7.82842764 7.81292601 0.49858048 3.99821728 2.74663489 6.78401305\n",
      " 5.9753838  6.60713272 8.56896979 0.53973076 9.34390505 6.92245937\n",
      " 9.96377683 4.12110262 7.05251329 3.08183041 7.41405989 2.3845626\n",
      " 4.58520267 0.6153249  2.81317949 8.87543698 1.72411585 4.52009543\n",
      " 5.92798891 3.09056318 2.83722199 5.32472777 2.20023848 3.00857186\n",
      " 4.45993934 4.15888511 1.27460714 8.21106686 5.85833504 9.86949976\n",
      " 3.70153622 7.22107276 9.69990613 2.20393128 6.64572297 1.47114292\n",
      " 8.18119092 5.79544278 1.90679769 7.90677776 5.58685575 7.48677318\n",
      " 9.50796312 5.83219411 8.39339266 1.07285638 4.78204867 9.87993369\n",
      " 8.41969087 7.32060077 3.42798003 4.38898462 1.31596373 3.61125522\n",
      " 5.50966349 5.09441241]\n"
     ]
    }
   ],
   "source": [
    "print(f\"{int(100 * len(X_train)/len(X))}% of examples is assigned to feature training set\\n\")\n",
    "\n",
    "print(X_train)"
   ]
  },
  {
   "cell_type": "code",
   "execution_count": 8,
   "metadata": {},
   "outputs": [
    {
     "name": "stdout",
     "output_type": "stream",
     "text": [
      "20% of examples is assigned to feature test set\n",
      "\n"
     ]
    },
    {
     "data": {
      "text/plain": [
       "array([3.41227847, 1.79351797, 1.57652415, 4.88961058, 5.30125799,\n",
       "       2.24387819, 9.73553672, 6.69302841, 6.7909049 , 3.93614836,\n",
       "       9.74652135, 5.43757053, 2.2306832 , 9.46353052, 6.90759089,\n",
       "       5.3400089 , 6.64923594, 4.90089093, 4.29191847, 5.55232182])"
      ]
     },
     "execution_count": 8,
     "metadata": {},
     "output_type": "execute_result"
    }
   ],
   "source": [
    "print(f\"{int(100 * len(X_test)/len(X))}% of examples is assigned to feature test set\\n\")\n",
    "\n",
    "X_test"
   ]
  },
  {
   "cell_type": "code",
   "execution_count": 9,
   "metadata": {},
   "outputs": [
    {
     "name": "stdout",
     "output_type": "stream",
     "text": [
      "80% of labels is assigned to label training set\n",
      "\n"
     ]
    },
    {
     "data": {
      "text/plain": [
       "array([36.86132207,  6.04585324, 27.91403403, 15.73754798, 21.43024764,\n",
       "       11.97463346, 13.90727426, 34.90867508, 16.71113453, 33.53106198,\n",
       "       35.85090927, 16.96811355, 43.19044908, 27.22278795, 21.8060732 ,\n",
       "       43.29802971,  7.92030271, 26.44974628, 35.21102408, 35.20726704,\n",
       "        5.41855983, 19.36924927, 14.22099138, 30.39161468, 27.44419566,\n",
       "       30.3466853 , 38.10842616,  6.03260423, 40.96237108, 31.11954661,\n",
       "       43.50986199, 19.90103904, 32.12463281, 15.65029499, 32.79080471,\n",
       "       12.64154018, 22.02527719,  5.99658808, 14.55764653, 38.96209657,\n",
       "       10.40268707, 22.01885902, 26.83031703, 15.61929354, 15.13951817,\n",
       "       25.20972356, 12.70803524, 15.06254245, 21.38540666, 19.71785032,\n",
       "        9.06150982, 36.18505634, 27.02497132, 43.24437439, 18.35180793,\n",
       "       32.48155807, 42.77657796, 12.78732955, 29.65479823,  9.35919262,\n",
       "       36.34005222, 26.49658541, 11.15623678, 34.68641762, 25.70716258,\n",
       "       33.6757212 , 41.77563289, 27.14726929, 37.11586207,  7.62750052,\n",
       "       22.15992962, 43.19557179, 37.3750681 , 32.93634824, 17.31280034,\n",
       "       21.10823966,  8.52591888, 17.65612077, 25.60008779, 24.31797371])"
      ]
     },
     "execution_count": 9,
     "metadata": {},
     "output_type": "execute_result"
    }
   ],
   "source": [
    "print(f\"{int(100 * len(y_train)/len(y))}% of labels is assigned to label training set\\n\")\n",
    "\n",
    "y_train"
   ]
  },
  {
   "cell_type": "code",
   "execution_count": 10,
   "metadata": {
    "scrolled": true
   },
   "outputs": [
    {
     "name": "stdout",
     "output_type": "stream",
     "text": [
      "20% of labels is assigned to label test set\n",
      "\n"
     ]
    },
    {
     "data": {
      "text/plain": [
       "array([17.0443903 , 10.54912305, 10.13893608, 22.69357029, 25.04639225,\n",
       "       12.19323707, 42.09600863, 30.18484541, 30.71596212, 19.09084766,\n",
       "       42.48079452, 25.54080476, 11.97048471, 40.99528846, 31.15452955,\n",
       "       24.89502395, 30.47846383, 23.16618223, 20.25871013, 25.63895265])"
      ]
     },
     "execution_count": 10,
     "metadata": {},
     "output_type": "execute_result"
    }
   ],
   "source": [
    "print(f\"{int(100 * len(y_test)/len(y))}% of labels is assigned to label test set\\n\")\n",
    "\n",
    "y_test"
   ]
  },
  {
   "cell_type": "code",
   "execution_count": 11,
   "metadata": {
    "scrolled": true
   },
   "outputs": [
    {
     "name": "stdout",
     "output_type": "stream",
     "text": [
      "Shape of feature training set is (80,)\n",
      "Shape of label training set is (80,)\n",
      "Shape of feature test set is (20,)\n",
      "Shape of label test set is (20,)\n"
     ]
    }
   ],
   "source": [
    "print(f'Shape of feature training set is {X_train.shape}')\n",
    "print(f'Shape of label training set is {y_train.shape}')\n",
    "\n",
    "print(f'Shape of feature test set is {X_test.shape}')\n",
    "print(f'Shape of label test set is {y_test.shape}')"
   ]
  },
  {
   "cell_type": "code",
   "execution_count": 12,
   "metadata": {},
   "outputs": [
    {
     "data": {
      "image/png": "[encoded data removed]",
      "text/plain": [
       "<Figure size 576x576 with 1 Axes>"
      ]
     },
     "metadata": {},
     "output_type": "display_data"
    }
   ],
   "source": [
    "sns.set_style('white')\n",
    "f = plt.figure(figsize=(8,8))\n",
    "sns.set_context(context='notebook',font_scale=1.5,rc={\"lines.linewidth\":2.5})\n",
    "\n",
    "plt.plot(X_train, y_train, \"b.\") #blue dots\n",
    "plt.title(\"Data points\")\n",
    "plt.grid(True)\n",
    "plt.xlabel(\"$x_1$\", fontsize=18)\n",
    "plt.ylabel(\"y\", rotation=0,fontsize=18)\n",
    "plt.axis([0,10,0,40])  # Sets start/end of X and Y axis in the same order.\n",
    "\n",
    "plt.show()"
   ]
  },
  {
   "cell_type": "code",
   "execution_count": 13,
   "metadata": {},
   "outputs": [
    {
     "data": {
      "text/plain": [
       "array([[1.        , 3.93614836],\n",
       "       [1.        , 5.58685575],\n",
       "       [1.        , 5.83219411],\n",
       "       [1.        , 4.12110262],\n",
       "       [1.        , 5.3400089 ],\n",
       "       [1.        , 9.82850248],\n",
       "       [1.        , 4.58520267],\n",
       "       [1.        , 2.74663489],\n",
       "       [1.        , 7.41405989],\n",
       "       [1.        , 3.18515137],\n",
       "       [1.        , 6.7909049 ],\n",
       "       [1.        , 8.10260745],\n",
       "       [1.        , 4.29191847],\n",
       "       [1.        , 6.92245937],\n",
       "       [1.        , 3.61125522],\n",
       "       [1.        , 2.17342633],\n",
       "       [1.        , 7.81292601],\n",
       "       [1.        , 7.05251329],\n",
       "       [1.        , 9.74652135],\n",
       "       [1.        , 6.60713272],\n",
       "       [1.        , 3.42798003],\n",
       "       [1.        , 9.50796312],\n",
       "       [1.        , 9.73553672],\n",
       "       [1.        , 8.39339266],\n",
       "       [1.        , 9.96377683],\n",
       "       [1.        , 0.53973076],\n",
       "       [1.        , 6.09122984],\n",
       "       [1.        , 5.9753838 ],\n",
       "       [1.        , 6.01710593],\n",
       "       [1.        , 7.90677776],\n",
       "       [1.        , 5.43757053],\n",
       "       [1.        , 5.55232182],\n",
       "       [1.        , 2.20393128],\n",
       "       [1.        , 9.46353052],\n",
       "       [1.        , 3.99821728],\n",
       "       [1.        , 7.82842764],\n",
       "       [1.        , 2.81317949],\n",
       "       [1.        , 1.90679769],\n",
       "       [1.        , 3.08183041],\n",
       "       [1.        , 2.24387819],\n",
       "       [1.        , 2.66078981],\n",
       "       [1.        , 8.21106686],\n",
       "       [1.        , 3.07909491],\n",
       "       [1.        , 3.09056318],\n",
       "       [1.        , 5.30125799],\n",
       "       [1.        , 4.88961058],\n",
       "       [1.        , 2.20023848],\n",
       "       [1.        , 3.33263583],\n",
       "       [1.        , 9.86949976],\n",
       "       [1.        , 0.49858048],\n",
       "       [1.        , 2.83722199],\n",
       "       [1.        , 5.09441241],\n",
       "       [1.        , 7.48677318],\n",
       "       [1.        , 1.79351797],\n",
       "       [1.        , 5.92798891],\n",
       "       [1.        , 8.24183243],\n",
       "       [1.        , 1.72411585],\n",
       "       [1.        , 7.22107276],\n",
       "       [1.        , 5.85833504],\n",
       "       [1.        , 1.47114292],\n",
       "       [1.        , 4.38898462],\n",
       "       [1.        , 4.45993934],\n",
       "       [1.        , 9.34390505],\n",
       "       [1.        , 8.18119092],\n",
       "       [1.        , 0.6153249 ],\n",
       "       [1.        , 5.68382373],\n",
       "       [1.        , 1.07109347],\n",
       "       [1.        , 5.32472777],\n",
       "       [1.        , 3.00857186],\n",
       "       [1.        , 4.45890955],\n",
       "       [1.        , 1.57652415],\n",
       "       [1.        , 1.31596373],\n",
       "       [1.        , 7.49362186],\n",
       "       [1.        , 2.2306832 ],\n",
       "       [1.        , 9.87993369],\n",
       "       [1.        , 9.69990613],\n",
       "       [1.        , 6.64923594],\n",
       "       [1.        , 4.90089093],\n",
       "       [1.        , 2.3845626 ],\n",
       "       [1.        , 1.27460714],\n",
       "       [1.        , 6.69302841],\n",
       "       [1.        , 8.56896979],\n",
       "       [1.        , 7.32060077],\n",
       "       [1.        , 3.41227847],\n",
       "       [1.        , 5.79544278],\n",
       "       [1.        , 9.84062107],\n",
       "       [1.        , 8.41969087],\n",
       "       [1.        , 1.07285638],\n",
       "       [1.        , 0.53285174],\n",
       "       [1.        , 8.87543698],\n",
       "       [1.        , 6.90759089],\n",
       "       [1.        , 4.78204867],\n",
       "       [1.        , 5.50966349],\n",
       "       [1.        , 4.51645201],\n",
       "       [1.        , 6.64572297],\n",
       "       [1.        , 6.78401305],\n",
       "       [1.        , 7.95449253],\n",
       "       [1.        , 4.15888511],\n",
       "       [1.        , 3.70153622],\n",
       "       [1.        , 4.52009543]])"
      ]
     },
     "execution_count": 13,
     "metadata": {},
     "output_type": "execute_result"
    }
   ],
   "source": [
    "np.column_stack((np.ones(X.shape[0]), X))"
   ]
  },
  {
   "cell_type": "code",
   "execution_count": 14,
   "metadata": {},
   "outputs": [],
   "source": [
    "# Converting above logic to a function\n",
    "def add_dummy_feature(x):\n",
    "    return np.column_stack((np.ones(x.shape[0]), x))"
   ]
  },
  {
   "cell_type": "code",
   "execution_count": 15,
   "metadata": {},
   "outputs": [
    {
     "data": {
      "text/plain": [
       "array([[1., 1., 2., 3.],\n",
       "       [1., 4., 5., 6.]])"
      ]
     },
     "execution_count": 15,
     "metadata": {},
     "output_type": "execute_result"
    }
   ],
   "source": [
    "# testing the above function\n",
    "train_matrix = np.array([[1,2,3], [4,5,6]]) # each feature is a 3-d vector.\n",
    "train_matrix = add_dummy_feature(train_matrix)\n",
    "train_matrix"
   ]
  },
  {
   "cell_type": "code",
   "execution_count": 16,
   "metadata": {
    "scrolled": true
   },
   "outputs": [
    {
     "data": {
      "text/plain": [
       "array([[1.        , 8.24183243],\n",
       "       [1.        , 0.53285174],\n",
       "       [1.        , 6.09122984],\n",
       "       [1.        , 3.07909491],\n",
       "       [1.        , 4.45890955],\n",
       "       [1.        , 2.17342633],\n",
       "       [1.        , 2.66078981],\n",
       "       [1.        , 7.95449253],\n",
       "       [1.        , 3.18515137],\n",
       "       [1.        , 7.49362186],\n",
       "       [1.        , 8.10260745],\n",
       "       [1.        , 3.33263583],\n",
       "       [1.        , 9.84062107],\n",
       "       [1.        , 6.01710593],\n",
       "       [1.        , 4.51645201],\n",
       "       [1.        , 9.82850248],\n",
       "       [1.        , 1.07109347],\n",
       "       [1.        , 5.68382373],\n",
       "       [1.        , 7.82842764],\n",
       "       [1.        , 7.81292601],\n",
       "       [1.        , 0.49858048],\n",
       "       [1.        , 3.99821728],\n",
       "       [1.        , 2.74663489],\n",
       "       [1.        , 6.78401305],\n",
       "       [1.        , 5.9753838 ],\n",
       "       [1.        , 6.60713272],\n",
       "       [1.        , 8.56896979],\n",
       "       [1.        , 0.53973076],\n",
       "       [1.        , 9.34390505],\n",
       "       [1.        , 6.92245937],\n",
       "       [1.        , 9.96377683],\n",
       "       [1.        , 4.12110262],\n",
       "       [1.        , 7.05251329],\n",
       "       [1.        , 3.08183041],\n",
       "       [1.        , 7.41405989],\n",
       "       [1.        , 2.3845626 ],\n",
       "       [1.        , 4.58520267],\n",
       "       [1.        , 0.6153249 ],\n",
       "       [1.        , 2.81317949],\n",
       "       [1.        , 8.87543698],\n",
       "       [1.        , 1.72411585],\n",
       "       [1.        , 4.52009543],\n",
       "       [1.        , 5.92798891],\n",
       "       [1.        , 3.09056318],\n",
       "       [1.        , 2.83722199],\n",
       "       [1.        , 5.32472777],\n",
       "       [1.        , 2.20023848],\n",
       "       [1.        , 3.00857186],\n",
       "       [1.        , 4.45993934],\n",
       "       [1.        , 4.15888511],\n",
       "       [1.        , 1.27460714],\n",
       "       [1.        , 8.21106686],\n",
       "       [1.        , 5.85833504],\n",
       "       [1.        , 9.86949976],\n",
       "       [1.        , 3.70153622],\n",
       "       [1.        , 7.22107276],\n",
       "       [1.        , 9.69990613],\n",
       "       [1.        , 2.20393128],\n",
       "       [1.        , 6.64572297],\n",
       "       [1.        , 1.47114292],\n",
       "       [1.        , 8.18119092],\n",
       "       [1.        , 5.79544278],\n",
       "       [1.        , 1.90679769],\n",
       "       [1.        , 7.90677776],\n",
       "       [1.        , 5.58685575],\n",
       "       [1.        , 7.48677318],\n",
       "       [1.        , 9.50796312],\n",
       "       [1.        , 5.83219411],\n",
       "       [1.        , 8.39339266],\n",
       "       [1.        , 1.07285638],\n",
       "       [1.        , 4.78204867],\n",
       "       [1.        , 9.87993369],\n",
       "       [1.        , 8.41969087],\n",
       "       [1.        , 7.32060077],\n",
       "       [1.        , 3.42798003],\n",
       "       [1.        , 4.38898462],\n",
       "       [1.        , 1.31596373],\n",
       "       [1.        , 3.61125522],\n",
       "       [1.        , 5.50966349],\n",
       "       [1.        , 5.09441241]])"
      ]
     },
     "execution_count": 16,
     "metadata": {},
     "output_type": "execute_result"
    }
   ],
   "source": [
    "#apply the function to X_train\n",
    "X_train = add_dummy_feature(X_train)\n",
    "X_train"
   ]
  },
  {
   "cell_type": "markdown",
   "metadata": {},
   "source": [
    "### Model "
   ]
  },
  {
   "cell_type": "code",
   "execution_count": 17,
   "metadata": {},
   "outputs": [],
   "source": [
    "#Predicting label follows the equation y = Xw, in its vectorized form.\n",
    "def predict(X, w):\n",
    "    if X.shape[1] == w.shape[0]:\n",
    "        return X @ w\n",
    "    else:\n",
    "        return None"
   ]
  },
  {
   "cell_type": "code",
   "execution_count": 18,
   "metadata": {},
   "outputs": [],
   "source": [
    "def preprocess(X, y):\n",
    "    X_train, X_test, y_train, y_test = train_test_split(X, y, test_size=0.2, random_state=42) \n",
    "    X_train = add_dummy_feature(X_train)\n",
    "    return X_train, X_test, y_train, y_test"
   ]
  },
  {
   "cell_type": "code",
   "execution_count": 19,
   "metadata": {},
   "outputs": [],
   "source": [
    "def generate_examples(n):\n",
    "    X = 10 * np.random.random(n, )\n",
    "    y = w0 + w1 * X\n",
    "    return preprocess(X, y)"
   ]
  },
  {
   "cell_type": "code",
   "execution_count": 20,
   "metadata": {},
   "outputs": [
    {
     "data": {
      "text/plain": [
       "array([8.45716008, 8.53992593, 7.35734242, 7.94348027, 8.43776936,\n",
       "       7.42477203, 8.92396398, 3.27230973, 3.8217557 , 8.46572803,\n",
       "       2.5026086 , 6.16281891, 4.00317508, 5.34825052, 8.3116283 ,\n",
       "       7.81390173, 8.81238946, 7.15307991, 7.6144148 , 5.10034162,\n",
       "       5.13050007, 7.21318521, 9.86048397, 4.52434317, 9.84059459,\n",
       "       4.72884015, 8.11330153, 1.97845094, 4.37341447, 4.25342052,\n",
       "       2.2617038 , 9.49718608, 6.26157588, 5.60298197, 2.62593201,\n",
       "       6.11801374, 7.64542586, 8.80647913, 4.13722372, 3.67458316,\n",
       "       4.74532216, 3.03831498, 4.29594484, 5.56544028, 4.94648867,\n",
       "       9.77632318, 5.49312649, 8.27609444, 4.31896128, 2.61842185,\n",
       "       9.75588476, 8.07861061, 1.03564559, 7.143039  , 6.87757062,\n",
       "       2.19812153, 7.69974302, 1.2417761 , 4.37608442, 4.34476853,\n",
       "       5.55506498, 5.05813105, 7.87938204, 8.55186144, 6.40205437,\n",
       "       6.72446746, 4.89821823, 2.51598301, 4.74134027, 3.36183919,\n",
       "       6.55317705, 6.26214075, 5.78419026, 3.14870588, 5.92230868,\n",
       "       0.90119245, 8.37055616, 9.39887948, 5.97955632, 2.26142414])"
      ]
     },
     "execution_count": 20,
     "metadata": {},
     "output_type": "execute_result"
    }
   ],
   "source": [
    "# test it with the examples generated using above function\n",
    "X_train, X_test, y_train, y_test = generate_examples(100)\n",
    "y_hat =  predict (X_train, np.random.rand(2,))\n",
    "y_hat"
   ]
  },
  {
   "cell_type": "markdown",
   "metadata": {},
   "source": [
    "### Loss"
   ]
  },
  {
   "cell_type": "code",
   "execution_count": 21,
   "metadata": {},
   "outputs": [],
   "source": [
    "def loss (X, y, w=None):\n",
    "    if w is None:\n",
    "        w = np.zeros(X.shape[1])\n",
    "    e = X @ w - y\n",
    "    return 0.5 * (e.T @ e)"
   ]
  },
  {
   "cell_type": "code",
   "execution_count": 22,
   "metadata": {},
   "outputs": [
    {
     "data": {
      "text/plain": [
       "62.5"
      ]
     },
     "execution_count": 22,
     "metadata": {},
     "output_type": "execute_result"
    }
   ],
   "source": [
    "X = np.array([[1,3,2,5],[1,9,4,7]])\n",
    "y = np.array([6,11])\n",
    "w = np.array([1,1,1,1])\n",
    "\n",
    "loss(X, y,w)"
   ]
  },
  {
   "cell_type": "code",
   "execution_count": 23,
   "metadata": {},
   "outputs": [],
   "source": [
    "def rmse(X, y):\n",
    "    return np.sqrt(2/X.shape[0] * loss(X, y))"
   ]
  },
  {
   "cell_type": "code",
   "execution_count": 24,
   "metadata": {},
   "outputs": [
    {
     "data": {
      "text/plain": [
       "27.139313868428964"
      ]
     },
     "execution_count": 24,
     "metadata": {},
     "output_type": "execute_result"
    }
   ],
   "source": [
    "rmse(X_train, y_train)"
   ]
  },
  {
   "cell_type": "code",
   "execution_count": 25,
   "metadata": {
    "scrolled": true
   },
   "outputs": [
    {
     "data": {
      "text/plain": [
       "0.0"
      ]
     },
     "execution_count": 25,
     "metadata": {},
     "output_type": "execute_result"
    }
   ],
   "source": [
    "X_train, X_test, y_train, y_test = generate_examples(100)\n",
    "loss(X_train, y_train, np.array([3,4]))  #Since weight vector is (3,4), there's no loss"
   ]
  },
  {
   "cell_type": "code",
   "execution_count": 26,
   "metadata": {},
   "outputs": [
    {
     "name": "stdout",
     "output_type": "stream",
     "text": [
      "4.71855234719794 6.486387559575166\n"
     ]
    }
   ],
   "source": [
    "#Generate weight vector\n",
    "w = 10 * np.random.rand(2,)\n",
    "print(w[0], w[1])"
   ]
  },
  {
   "cell_type": "code",
   "execution_count": 27,
   "metadata": {
    "scrolled": true
   },
   "outputs": [
    {
     "data": {
      "text/plain": [
       "<matplotlib.collections.LineCollection at 0x1beabab8548>"
      ]
     },
     "execution_count": 27,
     "metadata": {},
     "output_type": "execute_result"
    },
    {
     "data": {
      "image/png": "[encoded data removed]",
      "text/plain": [
       "<Figure size 576x576 with 1 Axes>"
      ]
     },
     "metadata": {},
     "output_type": "display_data"
    }
   ],
   "source": [
    "y_new = predict(X_train, w)\n",
    "fig, axes = plt.subplots(figsize=(8,8))\n",
    "axes.plot(X_train[:,1], y_train, c='b', label='Training')\n",
    "axes.scatter(X_train[:,1], y_new, c='g', label='Error')\n",
    "axes.vlines(X_train[:,1], y_new, y_train, colors=\"r\", label=\"loss\")"
   ]
  },
  {
   "cell_type": "markdown",
   "metadata": {},
   "source": [
    "### Optimization"
   ]
  },
  {
   "cell_type": "markdown",
   "metadata": {},
   "source": [
    "#### Normal equation method"
   ]
  },
  {
   "cell_type": "code",
   "execution_count": 28,
   "metadata": {},
   "outputs": [],
   "source": [
    "def normal_equation(X, y):\n",
    "    return np.linalg.pinv(X) @ y"
   ]
  },
  {
   "cell_type": "code",
   "execution_count": 29,
   "metadata": {},
   "outputs": [
    {
     "data": {
      "text/plain": [
       "array([3., 4.])"
      ]
     },
     "execution_count": 29,
     "metadata": {},
     "output_type": "execute_result"
    }
   ],
   "source": [
    "normal_equation(X_train, y_train)"
   ]
  },
  {
   "cell_type": "markdown",
   "metadata": {},
   "source": [
    "#### Gradient descent method"
   ]
  },
  {
   "cell_type": "code",
   "execution_count": 30,
   "metadata": {},
   "outputs": [],
   "source": [
    "lr = 0.0001 #learning rate"
   ]
  },
  {
   "cell_type": "code",
   "execution_count": 31,
   "metadata": {},
   "outputs": [],
   "source": [
    "def calculate_gradient(X, y, w):\n",
    "    return np.transpose(X) @ (predict(X, w) - y)"
   ]
  },
  {
   "cell_type": "code",
   "execution_count": 32,
   "metadata": {},
   "outputs": [
    {
     "data": {
      "text/plain": [
       "array([0., 0.])"
      ]
     },
     "execution_count": 32,
     "metadata": {},
     "output_type": "execute_result"
    }
   ],
   "source": [
    "g = calculate_gradient(X_train, y_train, np.array([3,4]))  #Since weight vector is (3,4), gradient is 0.\n",
    "g"
   ]
  },
  {
   "cell_type": "code",
   "execution_count": 33,
   "metadata": {},
   "outputs": [],
   "source": [
    "def weight_update(w, lr, g):\n",
    "    return w - lr * g"
   ]
  },
  {
   "cell_type": "code",
   "execution_count": 34,
   "metadata": {},
   "outputs": [],
   "source": [
    "def gradient_descent(X, y, epochs):\n",
    "    # Start with an arbitrary weight vector say, [0, 0].  \n",
    "    # After \"many\" iterations, we should reach the original weight vector [3,4]]\n",
    "    losses = list() \n",
    "    weights = list()\n",
    "    w = np.zeros(X.shape[1])\n",
    "    for i in range(epochs):\n",
    "        l = loss(X_train, y_train, w)\n",
    "        losses.append(l)\n",
    "        g = calculate_gradient(X, y, w)\n",
    "        w = weight_update(w, lr, g)\n",
    "        weights.append(w)\n",
    "    return weights, losses"
   ]
  },
  {
   "cell_type": "code",
   "execution_count": 35,
   "metadata": {},
   "outputs": [
    {
     "data": {
      "text/plain": [
       "array([2.99999999, 4.        ])"
      ]
     },
     "execution_count": 35,
     "metadata": {},
     "output_type": "execute_result"
    }
   ],
   "source": [
    "epochs = 10000\n",
    "weights, losses = gradient_descent(X_train, y_train, epochs)\n",
    "weights[-1]# last weight from the <epochs> trials."
   ]
  },
  {
   "cell_type": "code",
   "execution_count": 36,
   "metadata": {
    "scrolled": false
   },
   "outputs": [
    {
     "data": {
      "image/png": "[encoded data removed]",
      "text/plain": [
       "<Figure size 432x288 with 1 Axes>"
      ]
     },
     "metadata": {},
     "output_type": "display_data"
    }
   ],
   "source": [
    "def plot_learning_curves(losses):\n",
    "    plt.plot(losses)\n",
    "    \n",
    "plot_learning_curves(losses)"
   ]
  },
  {
   "cell_type": "markdown",
   "metadata": {},
   "source": [
    "#### Mini-batch gradient descent"
   ]
  },
  {
   "cell_type": "code",
   "execution_count": 37,
   "metadata": {
    "scrolled": true
   },
   "outputs": [
    {
     "data": {
      "text/plain": [
       "0.0"
      ]
     },
     "execution_count": 37,
     "metadata": {},
     "output_type": "execute_result"
    }
   ],
   "source": [
    "X_train, X_test, y_train, y_test = generate_examples(100)\n",
    "loss(X_train, y_train, np.array([3,4]))  #Since weight vector is (3,4), there's no loss"
   ]
  },
  {
   "cell_type": "code",
   "execution_count": 38,
   "metadata": {},
   "outputs": [],
   "source": [
    "t1, t2 = 200, 10000\n",
    "def learning_schedule(t):\n",
    "    return t1 / (t + t2)"
   ]
  },
  {
   "cell_type": "code",
   "execution_count": 39,
   "metadata": {},
   "outputs": [],
   "source": [
    "def mini_batch_gd(X, y, iterations, mini_batch_size):\n",
    "    t = 0\n",
    "    w = np.zeros(X.shape[1])  #initializing arbitrary values.\n",
    "    weights, losses = list(), list()\n",
    "\n",
    "    for iteration in range(iterations):\n",
    "        shuffled_indices = np.random.permutation(X.shape[0])\n",
    "        X_shuffled = X[shuffled_indices]\n",
    "        y_shuffled = y[shuffled_indices]\n",
    "\n",
    "        for i in range(0, X.shape[0], mini_batch_size):\n",
    "            t += 1\n",
    "            x1 = X_shuffled[i:i+mini_batch_size]\n",
    "            y1 = y_shuffled[i:i+mini_batch_size]\n",
    "\n",
    "            l = loss(x1, y1, w)\n",
    "            losses.append(l)\n",
    "\n",
    "            g = 2/mini_batch_size * calculate_gradient(x1, y1, w)\n",
    "            w = weight_update(w, learning_schedule(t), g)\n",
    "            weights.append(w)\n",
    "\n",
    "    return weights, losses"
   ]
  },
  {
   "cell_type": "code",
   "execution_count": 40,
   "metadata": {},
   "outputs": [],
   "source": [
    "mini_batch_size = 8\n",
    "iterations = 20\n",
    "\n",
    "X_train, X_test, y_train, y_test = generate_examples(100)\n",
    "weights, losses = mini_batch_gd(X_train, y_train, iterations, mini_batch_size)"
   ]
  },
  {
   "cell_type": "code",
   "execution_count": 41,
   "metadata": {
    "scrolled": false
   },
   "outputs": [
    {
     "data": {
      "image/png": "[encoded data removed]",
      "text/plain": [
       "<Figure size 432x288 with 1 Axes>"
      ]
     },
     "metadata": {},
     "output_type": "display_data"
    }
   ],
   "source": [
    "plot_learning_curves(losses)"
   ]
  },
  {
   "cell_type": "markdown",
   "metadata": {},
   "source": [
    "#### Stochastic Gradient Descent (SGD)"
   ]
  },
  {
   "cell_type": "code",
   "execution_count": 42,
   "metadata": {},
   "outputs": [],
   "source": [
    "t1, t2 = 200, 10000\n",
    "def learning_schedule(t):\n",
    "    return t1 / (t + t2)"
   ]
  },
  {
   "cell_type": "code",
   "execution_count": 43,
   "metadata": {},
   "outputs": [],
   "source": [
    "def sgd(X, y, iterations):\n",
    "    t = 0\n",
    "    w = np.zeros(X.shape[1])  #initializing arbitrary values.\n",
    "    weights, losses = list(), list()\n",
    "    \n",
    "    for iteration in range(iterations):\n",
    "        shuffled_indices = np.random.permutation(X.shape[0])\n",
    "        X_shuffled = X[shuffled_indices]\n",
    "        y_shuffled = y[shuffled_indices]\n",
    "\n",
    "        for i in range(0, X.shape[0], mini_batch_size):\n",
    "            t += 1\n",
    "            x1 = X_shuffled[i:i+1]\n",
    "            y1 = y_shuffled[i:i+1]\n",
    "\n",
    "            l = loss(x1, y1, w)\n",
    "            losses.append(l)\n",
    "\n",
    "            g = 2/mini_batch_size * calculate_gradient(x1, y1, w)\n",
    "            w = weight_update(w, learning_schedule(t), g)\n",
    "            weights.append(w)\n",
    "\n",
    "    return weights, losses"
   ]
  },
  {
   "cell_type": "code",
   "execution_count": 44,
   "metadata": {},
   "outputs": [],
   "source": [
    "mini_batch_size = 1\n",
    "iterations = 20\n",
    "\n",
    "X_train, X_test, y_train, y_test = generate_examples(100)\n",
    "weights, losses = sgd(X_train, y_train, iterations)"
   ]
  },
  {
   "cell_type": "code",
   "execution_count": 45,
   "metadata": {
    "scrolled": true
   },
   "outputs": [
    {
     "data": {
      "image/png": "[encoded data removed]",
      "text/plain": [
       "<Figure size 432x288 with 1 Axes>"
      ]
     },
     "metadata": {},
     "output_type": "display_data"
    }
   ],
   "source": [
    "plot_learning_curves(losses)"
   ]
  },
  {
   "cell_type": "markdown",
   "metadata": {},
   "source": [
    "### Handling more features"
   ]
  },
  {
   "cell_type": "code",
   "execution_count": 46,
   "metadata": {},
   "outputs": [],
   "source": [
    "from sklearn.datasets import make_regression\n",
    "\n",
    "X, y, weights = make_regression(n_samples=200, n_features=10, n_informative=10, n_targets=1, \n",
    "                shuffle=True, coef=True, noise=0.5, random_state=0)"
   ]
  },
  {
   "cell_type": "code",
   "execution_count": 47,
   "metadata": {},
   "outputs": [],
   "source": [
    "X = add_dummy_feature(X)"
   ]
  },
  {
   "cell_type": "code",
   "execution_count": 48,
   "metadata": {},
   "outputs": [],
   "source": [
    "from sklearn.model_selection import train_test_split\n",
    "#42 is the seed, and allows same split to occur everytime the function is executed.\n",
    "X_train, X_test, y_train, y_test = train_test_split(X, y, test_size=0.2, random_state=42) "
   ]
  },
  {
   "cell_type": "code",
   "execution_count": 49,
   "metadata": {
    "scrolled": true
   },
   "outputs": [
    {
     "data": {
      "text/plain": [
       "((160, 11), (160,))"
      ]
     },
     "execution_count": 49,
     "metadata": {},
     "output_type": "execute_result"
    }
   ],
   "source": [
    "X_train.shape, y_train.shape"
   ]
  },
  {
   "cell_type": "code",
   "execution_count": 50,
   "metadata": {},
   "outputs": [
    {
     "data": {
      "text/plain": [
       "array([40.05104636, 10.32532207, 51.90989393,  6.18447832, 41.09157343,\n",
       "       28.46940664, 88.97621358,  9.68032193, 15.48694157, 44.96944303])"
      ]
     },
     "execution_count": 50,
     "metadata": {},
     "output_type": "execute_result"
    }
   ],
   "source": [
    "weights"
   ]
  },
  {
   "cell_type": "code",
   "execution_count": 51,
   "metadata": {},
   "outputs": [
    {
     "data": {
      "text/plain": [
       "array([4.30868690e-03, 4.00335228e+01, 1.03086790e+01, 5.19091277e+01,\n",
       "       6.29286567e+00, 4.11625781e+01, 2.84422862e+01, 8.89543306e+01,\n",
       "       9.75752481e+00, 1.54723974e+01, 4.49980952e+01])"
      ]
     },
     "execution_count": 51,
     "metadata": {},
     "output_type": "execute_result"
    }
   ],
   "source": [
    "normal_equation(X_train, y_train)"
   ]
  },
  {
   "cell_type": "code",
   "execution_count": 52,
   "metadata": {
    "scrolled": true
   },
   "outputs": [
    {
     "data": {
      "text/plain": [
       "array([4.30868690e-03, 4.00335228e+01, 1.03086790e+01, 5.19091277e+01,\n",
       "       6.29286567e+00, 4.11625781e+01, 2.84422862e+01, 8.89543306e+01,\n",
       "       9.75752481e+00, 1.54723974e+01, 4.49980952e+01])"
      ]
     },
     "execution_count": 52,
     "metadata": {},
     "output_type": "execute_result"
    }
   ],
   "source": [
    "weights, losses = gradient_descent(X_train, y_train, 10000)\n",
    "weights[-1]"
   ]
  },
  {
   "cell_type": "code",
   "execution_count": 53,
   "metadata": {
    "scrolled": false
   },
   "outputs": [
    {
     "data": {
      "image/png": "[encoded data removed]",
      "text/plain": [
       "<Figure size 432x288 with 1 Axes>"
      ]
     },
     "metadata": {},
     "output_type": "display_data"
    }
   ],
   "source": [
    "plot_learning_curves(losses)"
   ]
  },
  {
   "cell_type": "code",
   "execution_count": 54,
   "metadata": {
    "scrolled": false
   },
   "outputs": [
    {
     "data": {
      "text/plain": [
       "array([-3.94346031e-04,  4.00313628e+01,  1.03110051e+01,  5.19125546e+01,\n",
       "        6.28705533e+00,  4.11567328e+01,  2.84442238e+01,  8.89587945e+01,\n",
       "        9.76729538e+00,  1.54692465e+01,  4.49881274e+01])"
      ]
     },
     "execution_count": 54,
     "metadata": {},
     "output_type": "execute_result"
    }
   ],
   "source": [
    "weights, losses = mini_batch_gd(X_train, y_train, 20, 10)\n",
    "weights[-1]"
   ]
  },
  {
   "cell_type": "code",
   "execution_count": 55,
   "metadata": {
    "scrolled": false
   },
   "outputs": [
    {
     "data": {
      "image/png": "[encoded data removed]",
      "text/plain": [
       "<Figure size 432x288 with 1 Axes>"
      ]
     },
     "metadata": {},
     "output_type": "display_data"
    }
   ],
   "source": [
    "plot_learning_curves(losses)"
   ]
  },
  {
   "cell_type": "code",
   "execution_count": 56,
   "metadata": {
    "scrolled": false
   },
   "outputs": [
    {
     "data": {
      "text/plain": [
       "array([-0.08919491, 40.00973651, 10.35148402, 51.9004123 ,  6.19656013,\n",
       "       41.07216017, 28.37584722, 88.94496609,  9.77978391, 15.45016246,\n",
       "       45.05396551])"
      ]
     },
     "execution_count": 56,
     "metadata": {},
     "output_type": "execute_result"
    }
   ],
   "source": [
    "weights, losses = sgd(X_train, y_train, 20)\n",
    "weights[-1]"
   ]
  },
  {
   "cell_type": "code",
   "execution_count": 57,
   "metadata": {
    "scrolled": false
   },
   "outputs": [
    {
     "data": {
      "image/png": "[encoded data removed]",
      "text/plain": [
       "<Figure size 432x288 with 1 Axes>"
      ]
     },
     "metadata": {},
     "output_type": "display_data"
    }
   ],
   "source": [
    "plot_learning_curves(losses)"
   ]
  }
 ],
 "metadata": {
  "kernelspec": {
   "display_name": "Python 3",
   "language": "python",
   "name": "python3"
  },
  "language_info": {
   "codemirror_mode": {
    "name": "ipython",
    "version": 3
   },
   "file_extension": ".py",
   "mimetype": "text/x-python",
   "name": "python",
   "nbconvert_exporter": "python",
   "pygments_lexer": "ipython3",
   "version": "3.7.4"
  }
 },
 "nbformat": 4,
 "nbformat_minor": 2
}
