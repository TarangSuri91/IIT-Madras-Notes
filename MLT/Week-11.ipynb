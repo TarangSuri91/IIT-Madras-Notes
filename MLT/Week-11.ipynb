{
 "cells": [
  {
   "cell_type": "code",
   "execution_count": 1,
   "id": "356b5661",
   "metadata": {},
   "outputs": [],
   "source": [
    "import matplotlib.pyplot as plt\n",
    "import seaborn as sns; sns.set()\n",
    "import numpy as np\n",
    "\n",
    "from scipy.spatial.distance import cdist\n",
    "from sklearn.datasets import make_blobs"
   ]
  },
  {
   "cell_type": "code",
   "execution_count": 2,
   "id": "d84d2f88",
   "metadata": {},
   "outputs": [],
   "source": [
    "cluster_count = 3"
   ]
  },
  {
   "cell_type": "code",
   "execution_count": 3,
   "id": "d0ede1c4",
   "metadata": {},
   "outputs": [],
   "source": [
    "X, Y = make_blobs(n_samples=100, n_features=2, centers=[[-2,3],[1,4],[2.5,1]], cluster_std=1, random_state=0)"
   ]
  },
  {
   "cell_type": "code",
   "execution_count": 4,
   "id": "6f02e7f9",
   "metadata": {
    "scrolled": true
   },
   "outputs": [
    {
     "data": {
      "text/plain": [
       "<matplotlib.collections.PathCollection at 0x1c9e1696fd0>"
      ]
     },
     "execution_count": 4,
     "metadata": {},
     "output_type": "execute_result"
    },
    {
     "data": {
      "image/png": "[encoded data removed]",
      "text/plain": [
       "<Figure size 432x288 with 1 Axes>"
      ]
     },
     "metadata": {},
     "output_type": "display_data"
    }
   ],
   "source": [
    "plt.scatter(X[:,0], X[:,1])"
   ]
  },
  {
   "cell_type": "code",
   "execution_count": 5,
   "id": "003375a2",
   "metadata": {},
   "outputs": [],
   "source": [
    "def fit(X, k):\n",
    "    centroids = X[np.random.randint(0,X.shape[0], size=k)] #choose k centroids\n",
    "    labels = np.argmin(cdist(X, centroids), axis=1)\n",
    "    for _iteration in range(10):\n",
    "        previous_labels = labels.copy()\n",
    "        centroids = np.array([np.mean(X[labels==r], axis=0) for r in range(k)])\n",
    "        labels = np.argmin(cdist(X, centroids), axis=1)\n",
    "        if all(labels == previous_labels):\n",
    "            break\n",
    "    return centroids, labels"
   ]
  },
  {
   "cell_type": "code",
   "execution_count": 6,
   "id": "30b4e18d",
   "metadata": {},
   "outputs": [],
   "source": [
    "centroids, labels = fit(X, cluster_count)"
   ]
  },
  {
   "cell_type": "code",
   "execution_count": 7,
   "id": "2ac912e4",
   "metadata": {},
   "outputs": [
    {
     "name": "stdout",
     "output_type": "stream",
     "text": [
      "[[ 2.33244263  1.13445789]\n",
      " [-2.2866262   2.87292917]\n",
      " [ 0.80635337  4.58788173]]\n",
      "[1 0 1 0 0 2 1 0 2 1 0 2 2 0 0 1 0 2 0 2 2 1 2 2 2 1 2 1 2 0 2 0 2 0 0 0 0\n",
      " 1 0 0 1 0 0 0 2 2 2 1 2 0 1 0 1 2 1 0 0 0 0 0 2 2 2 2 1 1 1 0 2 1 1 2 1 0\n",
      " 1 1 1 2 1 2 2 0 0 1 0 0 1 0 1 0 1 2 2 0 1 2 0 2 2 2]\n"
     ]
    }
   ],
   "source": [
    "print(centroids)\n",
    "print(labels)"
   ]
  }
 ],
 "metadata": {
  "kernelspec": {
   "display_name": "Python 3 (ipykernel)",
   "language": "python",
   "name": "python3"
  },
  "language_info": {
   "codemirror_mode": {
    "name": "ipython",
    "version": 3
   },
   "file_extension": ".py",
   "mimetype": "text/x-python",
   "name": "python",
   "nbconvert_exporter": "python",
   "pygments_lexer": "ipython3",
   "version": "3.9.7"
  }
 },
 "nbformat": 4,
 "nbformat_minor": 5
}
