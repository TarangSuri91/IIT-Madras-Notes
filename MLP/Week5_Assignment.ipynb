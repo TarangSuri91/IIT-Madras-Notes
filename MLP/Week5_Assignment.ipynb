{
 "cells": [
  {
   "cell_type": "code",
   "execution_count": 1,
   "id": "497d0902",
   "metadata": {},
   "outputs": [],
   "source": [
    "import pandas as pd\n",
    "import numpy as np\n",
    "from sklearn.datasets import fetch_openml"
   ]
  },
  {
   "cell_type": "code",
   "execution_count": null,
   "id": "92434ea3",
   "metadata": {},
   "outputs": [],
   "source": [
    "X, y = fetch_openml('mnist_784', version=1, return_X_y=True)"
   ]
  },
  {
   "cell_type": "code",
   "execution_count": null,
   "id": "1b53b61b",
   "metadata": {},
   "outputs": [],
   "source": [
    "X = X.to_numpy()"
   ]
  },
  {
   "cell_type": "code",
   "execution_count": null,
   "id": "703c73f4",
   "metadata": {},
   "outputs": [],
   "source": [
    "X[2022]"
   ]
  },
  {
   "cell_type": "code",
   "execution_count": null,
   "id": "b2671e16",
   "metadata": {},
   "outputs": [],
   "source": [
    "X_train, X_test, y_train, y_test = X[:10000], X[10000:12000], y[:10000], y[10000:12000]"
   ]
  },
  {
   "cell_type": "code",
   "execution_count": null,
   "id": "65efb971",
   "metadata": {},
   "outputs": [],
   "source": [
    "y_train.unique()"
   ]
  },
  {
   "cell_type": "code",
   "execution_count": null,
   "id": "a15c0ebb",
   "metadata": {},
   "outputs": [],
   "source": [
    "len(np.where(y_train == '6')[0])\n",
    "\n",
    "len(np.where(y_train == '9')[0])"
   ]
  },
  {
   "cell_type": "code",
   "execution_count": null,
   "id": "9de47238",
   "metadata": {},
   "outputs": [],
   "source": [
    "y_train.value_counts()"
   ]
  },
  {
   "cell_type": "code",
   "execution_count": null,
   "id": "4011a996",
   "metadata": {},
   "outputs": [],
   "source": [
    "new_X = np.row_stack((X_train[np.where(y_train == '6')], X_train[np.where(y_train == '9')]))\n",
    "\n",
    "new_y = np.concatenate(([1] * 1014, [-1] * 978))"
   ]
  },
  {
   "cell_type": "code",
   "execution_count": null,
   "id": "b24678aa",
   "metadata": {},
   "outputs": [],
   "source": [
    "from sklearn.utils import shuffle\n",
    "new_y = shuffle(new_y, random_state=1729)\n",
    "new_X = shuffle(new_X, random_state=1729)"
   ]
  },
  {
   "cell_type": "code",
   "execution_count": null,
   "id": "7da00586",
   "metadata": {},
   "outputs": [],
   "source": [
    "from sklearn.linear_model import Perceptron\n",
    "p = Perceptron(penalty=None, max_iter=1, shuffle=False, random_state=1729, fit_intercept=True, warm_start=True, eta0=1)\n",
    "for i in range(10):\n",
    "  p.fit(new_X, new_y)\n",
    "  print(p.intercept_)\n",
    "print(p.coef_[:, 69])"
   ]
  },
  {
   "cell_type": "markdown",
   "id": "9df68a7a",
   "metadata": {},
   "source": [
    "Graded"
   ]
  },
  {
   "cell_type": "markdown",
   "id": "79fdd4ea",
   "metadata": {},
   "source": [
    "Q.1-6"
   ]
  },
  {
   "cell_type": "code",
   "execution_count": null,
   "id": "39657c84",
   "metadata": {},
   "outputs": [],
   "source": [
    "import pandas as pd\n",
    "import numpy as np\n",
    "from sklearn.datasets import fetch_openml\n",
    "from sklearn.linear_model import Perceptron\n",
    "from sklearn.metrics import ConfusionMatrixDisplay"
   ]
  },
  {
   "cell_type": "code",
   "execution_count": null,
   "id": "992b6c32",
   "metadata": {},
   "outputs": [],
   "source": [
    "X, y = fetch_openml('mnist_784', version=1, return_X_y=True)"
   ]
  },
  {
   "cell_type": "code",
   "execution_count": null,
   "id": "13a5636d",
   "metadata": {},
   "outputs": [],
   "source": [
    "X = X.to_numpy()"
   ]
  },
  {
   "cell_type": "code",
   "execution_count": null,
   "id": "3fcf82ea",
   "metadata": {},
   "outputs": [],
   "source": [
    "X_train, X_test, y_train, y_test = X[:10000], X[10000:12000], y[:10000], y[10000:12000]"
   ]
  },
  {
   "cell_type": "code",
   "execution_count": null,
   "id": "e20cabcc",
   "metadata": {},
   "outputs": [],
   "source": [
    "np.where(y_train == '5')[0].shape"
   ]
  },
  {
   "cell_type": "code",
   "execution_count": null,
   "id": "01a1737a",
   "metadata": {},
   "outputs": [],
   "source": [
    "X_train_new = np.row_stack((X_train[np.where(y_train == '5')], X_train[np.where(y_train == '3')]))\n",
    "y_train_new = np.concatenate(([1] * 863, [-1] * 1032))"
   ]
  },
  {
   "cell_type": "code",
   "execution_count": null,
   "id": "5ce83a23",
   "metadata": {},
   "outputs": [],
   "source": [
    "X_test_new = np.row_stack((X_test[np.where(y_test == '5')], X_test[np.where(y_test == '3')]))\n",
    "y_test_new = np.concatenate(([1] * 185, [-1] * 196))"
   ]
  },
  {
   "cell_type": "code",
   "execution_count": null,
   "id": "eec77555",
   "metadata": {},
   "outputs": [],
   "source": [
    "p = Perceptron(penalty=None, max_iter=100, shuffle=True, random_state=42, fit_intercept=True, warm_start=True, eta0=1)\n",
    "p.fit(X_train_new, y_train_new)"
   ]
  },
  {
   "cell_type": "code",
   "execution_count": null,
   "id": "1d578f48",
   "metadata": {},
   "outputs": [],
   "source": [
    "y_hat_test_new = p.predict(X_test_new)"
   ]
  },
  {
   "cell_type": "code",
   "execution_count": null,
   "id": "43e05fbd",
   "metadata": {},
   "outputs": [],
   "source": [
    "cm_display = ConfusionMatrixDisplay.from_predictions(y_test_new, y_hat_test_new, values_format='.5g')"
   ]
  },
  {
   "cell_type": "markdown",
   "id": "5356fc8d",
   "metadata": {},
   "source": [
    "Q.7"
   ]
  },
  {
   "cell_type": "code",
   "execution_count": null,
   "id": "4b804140",
   "metadata": {},
   "outputs": [],
   "source": [
    "from sklearn.decomposition import PCA\n",
    "pca = PCA(n_components=10, random_state=1)\n",
    "X_train_pca = pca.fit_transform(X_train_new)\n",
    "X_test_pca = pca.transform(X_test_new)"
   ]
  },
  {
   "cell_type": "code",
   "execution_count": null,
   "id": "4dc6cfa0",
   "metadata": {},
   "outputs": [],
   "source": [
    "X_train_pca.shape"
   ]
  },
  {
   "cell_type": "code",
   "execution_count": null,
   "id": "c529312c",
   "metadata": {},
   "outputs": [],
   "source": [
    "X_test_pca.shape"
   ]
  },
  {
   "cell_type": "code",
   "execution_count": null,
   "id": "2a386ac8",
   "metadata": {},
   "outputs": [],
   "source": [
    "p = Perceptron(penalty=None, max_iter=100, shuffle=True, random_state=42, fit_intercept=True, warm_start=True, eta0=1)\n",
    "p.fit(X_train_pca, y_train_new)"
   ]
  },
  {
   "cell_type": "code",
   "execution_count": null,
   "id": "9e4e14d2",
   "metadata": {},
   "outputs": [],
   "source": [
    "y_hat_test_new = p.predict(X_test_pca)"
   ]
  },
  {
   "cell_type": "code",
   "execution_count": null,
   "id": "ddd1dbf6",
   "metadata": {},
   "outputs": [],
   "source": [
    "cm_display = ConfusionMatrixDisplay.from_predictions(y_test_new, y_hat_test_new, values_format='.5g')"
   ]
  },
  {
   "cell_type": "code",
   "execution_count": null,
   "id": "7da808d9",
   "metadata": {},
   "outputs": [],
   "source": [
    "cf_matrix = cm_display.confusion_matrix\n",
    "tn = cf_matrix[0, 0]\n",
    "fn = cf_matrix[1, 0]\n",
    "fp = cf_matrix[0, 1]\n",
    "tp = cf_matrix[1, 1]\n",
    "\n",
    "precision = tp / (tp + fp)\n",
    "recall = tp / (tp + fn)\n",
    "accuracy = (tn + tp) / (tp + fp + tn + fn)\n",
    "print(f\"Precision: {precision}, Recall: {recall}, Acccuracy: {accuracy}\")"
   ]
  },
  {
   "cell_type": "markdown",
   "id": "e9f3c246",
   "metadata": {},
   "source": [
    "Q.9"
   ]
  },
  {
   "cell_type": "code",
   "execution_count": null,
   "id": "8088879f",
   "metadata": {},
   "outputs": [],
   "source": [
    "p = Perceptron(penalty='l2', alpha=0.01, max_iter=100, shuffle=True, random_state=42, fit_intercept=True, warm_start=True, eta0=1)\n",
    "p.fit(X_train_pca, y_train_new)"
   ]
  },
  {
   "cell_type": "code",
   "execution_count": null,
   "id": "78d7d47f",
   "metadata": {},
   "outputs": [],
   "source": [
    "y_hat_test_new = p.predict(X_test_pca)"
   ]
  },
  {
   "cell_type": "code",
   "execution_count": null,
   "id": "4330a267",
   "metadata": {},
   "outputs": [],
   "source": [
    "cm_display = ConfusionMatrixDisplay.from_predictions(y_test_new, y_hat_test_new, values_format='.5g')"
   ]
  },
  {
   "cell_type": "code",
   "execution_count": null,
   "id": "b06330ae",
   "metadata": {},
   "outputs": [],
   "source": [
    "cf_matrix = cm_display.confusion_matrix\n",
    "tn = cf_matrix[0, 0]\n",
    "fn = cf_matrix[1, 0]\n",
    "fp = cf_matrix[0, 1]\n",
    "tp = cf_matrix[1, 1]\n",
    "\n",
    "precision = tp / (tp + fp)\n",
    "recall = tp / (tp + fn)\n",
    "accuracy = (tn + tp) / (tp + fp + tn + fn)\n",
    "print(f\"Precision: {precision}, Recall: {recall}, Acccuracy: {accuracy}\")"
   ]
  },
  {
   "cell_type": "markdown",
   "id": "c4e5d8ef",
   "metadata": {},
   "source": [
    "Q.10"
   ]
  },
  {
   "cell_type": "code",
   "execution_count": null,
   "id": "96305d06",
   "metadata": {},
   "outputs": [],
   "source": [
    "p = Perceptron(penalty='l1', alpha=0.01, max_iter=100, shuffle=True, random_state=42, fit_intercept=True, warm_start=True, eta0=1)\n",
    "p.fit(X_train_pca, y_train_new)"
   ]
  },
  {
   "cell_type": "code",
   "execution_count": null,
   "id": "202ced0c",
   "metadata": {},
   "outputs": [],
   "source": [
    "y_hat_test_new = p.predict(X_test_pca)"
   ]
  },
  {
   "cell_type": "code",
   "execution_count": null,
   "id": "89e8c4cb",
   "metadata": {},
   "outputs": [],
   "source": [
    "cm_display = ConfusionMatrixDisplay.from_predictions(y_test_new, y_hat_test_new, values_format='.5g')"
   ]
  },
  {
   "cell_type": "code",
   "execution_count": null,
   "id": "cbf5f240",
   "metadata": {},
   "outputs": [],
   "source": [
    "cf_matrix = cm_display.confusion_matrix\n",
    "tn = cf_matrix[0, 0]\n",
    "fn = cf_matrix[1, 0]\n",
    "fp = cf_matrix[0, 1]\n",
    "tp = cf_matrix[1, 1]\n",
    "\n",
    "precision = tp / (tp + fp)\n",
    "recall = tp / (tp + fn)\n",
    "accuracy = (tn + tp) / (tp + fp + tn + fn)\n",
    "print(f\"Precision: {precision}, Recall: {recall}, Acccuracy: {accuracy}\")"
   ]
  }
 ],
 "metadata": {
  "kernelspec": {
   "display_name": "Python 3 (ipykernel)",
   "language": "python",
   "name": "python3"
  },
  "language_info": {
   "codemirror_mode": {
    "name": "ipython",
    "version": 3
   },
   "file_extension": ".py",
   "mimetype": "text/x-python",
   "name": "python",
   "nbconvert_exporter": "python",
   "pygments_lexer": "ipython3",
   "version": "3.9.7"
  }
 },
 "nbformat": 4,
 "nbformat_minor": 5
}
