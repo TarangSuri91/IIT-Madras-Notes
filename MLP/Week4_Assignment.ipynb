{
 "cells": [
  {
   "cell_type": "markdown",
   "id": "59fd2f11",
   "metadata": {},
   "source": [
    "### Practice"
   ]
  },
  {
   "cell_type": "markdown",
   "id": "2017fa50",
   "metadata": {},
   "source": [
    "#### Q1"
   ]
  },
  {
   "cell_type": "code",
   "execution_count": 1,
   "id": "7c9e99a0",
   "metadata": {},
   "outputs": [],
   "source": [
    "import numpy as np\n",
    "import pandas as pd\n",
    "from sklearn.metrics import explained_variance_score"
   ]
  },
  {
   "cell_type": "code",
   "execution_count": 2,
   "id": "faff44a8",
   "metadata": {},
   "outputs": [
    {
     "data": {
      "text/plain": [
       "0.7777777777777778"
      ]
     },
     "execution_count": 2,
     "metadata": {},
     "output_type": "execute_result"
    }
   ],
   "source": [
    "explained_variance_score([7, 4, 9, 4], [8, 7, 12, 5])"
   ]
  },
  {
   "cell_type": "markdown",
   "id": "fc55f5a1",
   "metadata": {},
   "source": [
    "#### Q2"
   ]
  },
  {
   "cell_type": "code",
   "execution_count": 3,
   "id": "706712e8",
   "metadata": {},
   "outputs": [],
   "source": [
    "from sklearn.datasets import fetch_california_housing\n",
    "from sklearn.model_selection import train_test_split\n",
    "from sklearn.preprocessing import StandardScaler\n",
    "\n",
    "X, y = fetch_california_housing(as_frame=True, return_X_y=True)\n",
    "X_train, X_test, y_train, y_test = train_test_split(X, y, test_size=0.3, random_state=1)\n",
    "ss = StandardScaler(with_mean=True, with_std=True)\n",
    "X_train_norm = ss.fit_transform(X_train)\n",
    "X_test_norm = ss.transform(X_test)"
   ]
  },
  {
   "cell_type": "code",
   "execution_count": 4,
   "id": "6cef6188",
   "metadata": {},
   "outputs": [
    {
     "data": {
      "text/plain": [
       "0.5996851134711898"
      ]
     },
     "execution_count": 4,
     "metadata": {},
     "output_type": "execute_result"
    }
   ],
   "source": [
    "from sklearn.linear_model import SGDRegressor\n",
    "\n",
    "sgd = SGDRegressor(loss='squared_error', penalty='l1', random_state=1)\n",
    "sgd.fit(X_train_norm, y_train)\n",
    "sgd.score(X_test_norm, y_test)"
   ]
  },
  {
   "cell_type": "markdown",
   "id": "1f38a440",
   "metadata": {},
   "source": [
    "#### Alternatively, using a pipeline"
   ]
  },
  {
   "cell_type": "code",
   "execution_count": 5,
   "id": "c7bd49f2",
   "metadata": {},
   "outputs": [
    {
     "data": {
      "text/plain": [
       "0.5996851134711898"
      ]
     },
     "execution_count": 5,
     "metadata": {},
     "output_type": "execute_result"
    }
   ],
   "source": [
    "from sklearn.datasets import fetch_california_housing\n",
    "from sklearn.model_selection import train_test_split\n",
    "from sklearn.preprocessing import StandardScaler\n",
    "from sklearn.linear_model import SGDRegressor\n",
    "from sklearn.pipeline import Pipeline\n",
    "\n",
    "X, y = fetch_california_housing(as_frame=True, return_X_y=True)\n",
    "X_train, X_test, y_train, y_test = train_test_split(X, y, test_size=0.3, random_state=1)\n",
    "sgd_grid_pipeline = Pipeline([('feature_scaling', StandardScaler(with_mean=True, with_std=True)),\n",
    "                        ('sgd', SGDRegressor(loss='squared_error', penalty='l1', random_state=1))])\n",
    "\n",
    "sgd_grid_pipeline.fit(X_train, y_train)\n",
    "sgd_grid_pipeline.score(X_test, y_test)"
   ]
  },
  {
   "cell_type": "markdown",
   "id": "513b003e",
   "metadata": {},
   "source": [
    "### Graded"
   ]
  },
  {
   "cell_type": "markdown",
   "id": "39d8da9a",
   "metadata": {},
   "source": [
    "#### Q1"
   ]
  },
  {
   "cell_type": "code",
   "execution_count": 6,
   "id": "f468570a",
   "metadata": {},
   "outputs": [
    {
     "name": "stdout",
     "output_type": "stream",
     "text": [
      "(array([0, 1]), array([2, 3]))\n",
      "(array([2, 3]), array([0, 1]))\n",
      "(array([1, 3]), array([0, 2]))\n",
      "(array([0, 2]), array([1, 3]))\n"
     ]
    }
   ],
   "source": [
    "from sklearn.model_selection import KFold, RepeatedKFold\n",
    "X = np.array([[1, 2], [3, 4], [1, 2], [3, 4]])\n",
    "data = RepeatedKFold(n_splits=2,n_repeats=2,random_state=1)\n",
    "for each in data.split(X):\n",
    "  print(each)"
   ]
  },
  {
   "cell_type": "markdown",
   "id": "a559e12d",
   "metadata": {},
   "source": [
    "#### Q2"
   ]
  },
  {
   "cell_type": "code",
   "execution_count": 7,
   "id": "0736070b",
   "metadata": {},
   "outputs": [],
   "source": [
    "from sklearn.datasets import fetch_california_housing\n",
    "from sklearn.model_selection import train_test_split\n",
    "from sklearn.preprocessing import StandardScaler\n",
    "\n",
    "X, y = fetch_california_housing(as_frame=True, return_X_y=True)\n",
    "X_train, X_test, y_train, y_test = train_test_split(X, y, test_size=0.3, random_state=1)"
   ]
  },
  {
   "cell_type": "code",
   "execution_count": 8,
   "id": "c51af7dd",
   "metadata": {},
   "outputs": [],
   "source": [
    "from sklearn.linear_model import SGDRegressor\n",
    "from sklearn.model_selection import GridSearchCV\n",
    "from sklearn.pipeline import Pipeline"
   ]
  },
  {
   "cell_type": "code",
   "execution_count": 9,
   "id": "a98f172c",
   "metadata": {},
   "outputs": [
    {
     "data": {
      "text/plain": [
       "dict_keys(['memory', 'steps', 'verbose', 'feature_scaling', 'sgd', 'feature_scaling__copy', 'feature_scaling__with_mean', 'feature_scaling__with_std', 'sgd__alpha', 'sgd__average', 'sgd__early_stopping', 'sgd__epsilon', 'sgd__eta0', 'sgd__fit_intercept', 'sgd__l1_ratio', 'sgd__learning_rate', 'sgd__loss', 'sgd__max_iter', 'sgd__n_iter_no_change', 'sgd__penalty', 'sgd__power_t', 'sgd__random_state', 'sgd__shuffle', 'sgd__tol', 'sgd__validation_fraction', 'sgd__verbose', 'sgd__warm_start'])"
      ]
     },
     "execution_count": 9,
     "metadata": {},
     "output_type": "execute_result"
    }
   ],
   "source": [
    "sgd_grid_pipeline = Pipeline([('feature_scaling', StandardScaler(with_mean=True, with_std=True)),\n",
    "                        ('sgd', SGDRegressor(random_state=1))])\n",
    "\n",
    "param_grid = {'sgd__loss': ['squared_error', 'huber'],\n",
    "             'sgd__penalty': ['l1', 'l2'],\n",
    "             'sgd__alpha': [0.1, 0.01, 0.001],\n",
    "             'sgd__max_iter': [1000,2000,5000]}\n",
    "\n",
    "sgd_grid_pipeline.get_params().keys()"
   ]
  },
  {
   "cell_type": "code",
   "execution_count": 10,
   "id": "b147a000",
   "metadata": {},
   "outputs": [],
   "source": [
    "sgd_grid_search = GridSearchCV(sgd_grid_pipeline, param_grid=param_grid, cv=4, return_train_score=True) # don't pass scoring parameter"
   ]
  },
  {
   "cell_type": "code",
   "execution_count": 11,
   "id": "7174ae96",
   "metadata": {},
   "outputs": [
    {
     "data": {
      "text/plain": [
       "12"
      ]
     },
     "execution_count": 11,
     "metadata": {},
     "output_type": "execute_result"
    }
   ],
   "source": [
    "sgd_grid_search.fit(X_train, y_train)\n",
    "sgd_grid_search.best_index_"
   ]
  },
  {
   "cell_type": "code",
   "execution_count": 12,
   "id": "dd2f2339",
   "metadata": {},
   "outputs": [
    {
     "data": {
      "text/plain": [
       "0.5951040704728553"
      ]
     },
     "execution_count": 12,
     "metadata": {},
     "output_type": "execute_result"
    }
   ],
   "source": [
    "sgd_grid_search.score(X_test, y_test)"
   ]
  },
  {
   "cell_type": "code",
   "execution_count": 13,
   "id": "d7db44a1",
   "metadata": {},
   "outputs": [
    {
     "data": {
      "text/plain": [
       "0.5925872328967452"
      ]
     },
     "execution_count": 13,
     "metadata": {},
     "output_type": "execute_result"
    }
   ],
   "source": [
    "sgd_grid_search.cv_results_['mean_test_score'][sgd_grid_search.best_index_]"
   ]
  },
  {
   "cell_type": "code",
   "execution_count": 14,
   "id": "2d99e8e1",
   "metadata": {},
   "outputs": [
    {
     "name": "stdout",
     "output_type": "stream",
     "text": [
      "Best value of hyper-parameters is {'sgd__alpha': 0.01, 'sgd__loss': 'squared_error', 'sgd__max_iter': 1000, 'sgd__penalty': 'l1'}\n"
     ]
    }
   ],
   "source": [
    "print(f\"Best value of hyper-parameters is {sgd_grid_search.best_params_}\")"
   ]
  },
  {
   "cell_type": "markdown",
   "id": "a26bc513",
   "metadata": {},
   "source": [
    "#### Q3"
   ]
  },
  {
   "cell_type": "code",
   "execution_count": 15,
   "id": "7922395e",
   "metadata": {},
   "outputs": [],
   "source": [
    "from sklearn.datasets import fetch_california_housing\n",
    "from sklearn.model_selection import train_test_split\n",
    "from sklearn.preprocessing import StandardScaler\n",
    "\n",
    "X, y = fetch_california_housing(as_frame=True, return_X_y=True)\n",
    "X_train, X_test, y_train, y_test = train_test_split(X, y, test_size=0.3, random_state=1)"
   ]
  },
  {
   "cell_type": "code",
   "execution_count": 16,
   "id": "bd52a35b",
   "metadata": {},
   "outputs": [],
   "source": [
    "from sklearn.linear_model import Ridge\n",
    "from sklearn.model_selection import GridSearchCV\n",
    "from sklearn.pipeline import Pipeline"
   ]
  },
  {
   "cell_type": "code",
   "execution_count": 17,
   "id": "9272bb4c",
   "metadata": {},
   "outputs": [],
   "source": [
    "ridge_grid_pipeline = Pipeline([('feature_scaling', StandardScaler(with_mean=True, with_std=True)),\n",
    "                        ('ridge', Ridge())])\n",
    "\n",
    "param_grid = {'ridge__alpha': [0.5,0.1,0.05,0.01,0.005,0.001],\n",
    "             'ridge__fit_intercept': [True, False]}"
   ]
  },
  {
   "cell_type": "code",
   "execution_count": 18,
   "id": "c4685f23",
   "metadata": {},
   "outputs": [],
   "source": [
    "ridge_grid_search = GridSearchCV(ridge_grid_pipeline, param_grid=param_grid, cv=4, return_train_score=True)"
   ]
  },
  {
   "cell_type": "code",
   "execution_count": 19,
   "id": "df29f859",
   "metadata": {},
   "outputs": [
    {
     "data": {
      "text/plain": [
       "0"
      ]
     },
     "execution_count": 19,
     "metadata": {},
     "output_type": "execute_result"
    }
   ],
   "source": [
    "ridge_grid_search.fit(X_train, y_train)\n",
    "ridge_grid_search.best_index_"
   ]
  },
  {
   "cell_type": "code",
   "execution_count": 20,
   "id": "3792aafa",
   "metadata": {},
   "outputs": [
    {
     "data": {
      "text/plain": [
       "0.597145061224877"
      ]
     },
     "execution_count": 20,
     "metadata": {},
     "output_type": "execute_result"
    }
   ],
   "source": [
    "ridge_grid_search.score(X_test, y_test)"
   ]
  },
  {
   "cell_type": "code",
   "execution_count": 21,
   "id": "ab21ef15",
   "metadata": {},
   "outputs": [
    {
     "data": {
      "text/plain": [
       "0.6047106636809509"
      ]
     },
     "execution_count": 21,
     "metadata": {},
     "output_type": "execute_result"
    }
   ],
   "source": [
    "ridge_grid_search.cv_results_['mean_test_score'][ridge_grid_search.best_index_]"
   ]
  },
  {
   "cell_type": "code",
   "execution_count": 22,
   "id": "27310156",
   "metadata": {},
   "outputs": [
    {
     "name": "stdout",
     "output_type": "stream",
     "text": [
      "Best value of hyper-parameters is {'ridge__alpha': 0.5, 'ridge__fit_intercept': True}\n"
     ]
    }
   ],
   "source": [
    "print(f\"Best value of hyper-parameters is {ridge_grid_search.best_params_}\")"
   ]
  },
  {
   "cell_type": "markdown",
   "id": "1506532b",
   "metadata": {},
   "source": [
    "#### Q4"
   ]
  },
  {
   "cell_type": "code",
   "execution_count": 23,
   "id": "2ae438d6",
   "metadata": {},
   "outputs": [],
   "source": [
    "from sklearn.datasets import fetch_california_housing\n",
    "from sklearn.model_selection import train_test_split\n",
    "from sklearn.preprocessing import StandardScaler\n",
    "\n",
    "X, y = fetch_california_housing(as_frame=True, return_X_y=True)\n",
    "X_train, X_test, y_train, y_test = train_test_split(X, y, test_size=0.4, random_state=1)"
   ]
  },
  {
   "cell_type": "code",
   "execution_count": 24,
   "id": "a7dd6d07",
   "metadata": {},
   "outputs": [],
   "source": [
    "from sklearn.linear_model import Lasso\n",
    "from sklearn.model_selection import GridSearchCV\n",
    "from sklearn.pipeline import Pipeline"
   ]
  },
  {
   "cell_type": "code",
   "execution_count": 25,
   "id": "1924fc81",
   "metadata": {},
   "outputs": [],
   "source": [
    "lasso_grid_pipeline = Pipeline([('feature_scaling', StandardScaler(with_mean=True, with_std=True)),\n",
    "                        ('lasso', Lasso())])\n",
    "\n",
    "param_grid = {'lasso__alpha': [0.5,0.1,0.05,0.01,0.005,0.001],\n",
    "             'lasso__fit_intercept': [True, False]}"
   ]
  },
  {
   "cell_type": "code",
   "execution_count": 26,
   "id": "900fcf60",
   "metadata": {},
   "outputs": [],
   "source": [
    "lasso_grid_search = GridSearchCV(lasso_grid_pipeline, param_grid=param_grid, cv=6, return_train_score=True)"
   ]
  },
  {
   "cell_type": "code",
   "execution_count": 27,
   "id": "db8a162e",
   "metadata": {},
   "outputs": [
    {
     "data": {
      "text/plain": [
       "10"
      ]
     },
     "execution_count": 27,
     "metadata": {},
     "output_type": "execute_result"
    }
   ],
   "source": [
    "lasso_grid_search.fit(X_train, y_train)\n",
    "lasso_grid_search.best_index_"
   ]
  },
  {
   "cell_type": "code",
   "execution_count": 28,
   "id": "e55506e4",
   "metadata": {},
   "outputs": [
    {
     "data": {
      "text/plain": [
       "0.6065831805608592"
      ]
     },
     "execution_count": 28,
     "metadata": {},
     "output_type": "execute_result"
    }
   ],
   "source": [
    "lasso_grid_search.score(X_test, y_test)"
   ]
  },
  {
   "cell_type": "code",
   "execution_count": 29,
   "id": "1bd5fbf4",
   "metadata": {},
   "outputs": [
    {
     "data": {
      "text/plain": [
       "0.5997671812675263"
      ]
     },
     "execution_count": 29,
     "metadata": {},
     "output_type": "execute_result"
    }
   ],
   "source": [
    "lasso_grid_search.cv_results_['mean_test_score'][lasso_grid_search.best_index_]"
   ]
  },
  {
   "cell_type": "code",
   "execution_count": 30,
   "id": "00e11d14",
   "metadata": {},
   "outputs": [
    {
     "name": "stdout",
     "output_type": "stream",
     "text": [
      "Best value of hyper-parameters is {'lasso__alpha': 0.001, 'lasso__fit_intercept': True}\n"
     ]
    }
   ],
   "source": [
    "print(f\"Best value of hyper-parameters is {lasso_grid_search.best_params_}\")"
   ]
  }
 ],
 "metadata": {
  "kernelspec": {
   "display_name": "Python 3 (ipykernel)",
   "language": "python",
   "name": "python3"
  },
  "language_info": {
   "codemirror_mode": {
    "name": "ipython",
    "version": 3
   },
   "file_extension": ".py",
   "mimetype": "text/x-python",
   "name": "python",
   "nbconvert_exporter": "python",
   "pygments_lexer": "ipython3",
   "version": "3.9.7"
  }
 },
 "nbformat": 4,
 "nbformat_minor": 5
}
