{
  "nbformat": 4,
  "nbformat_minor": 0,
  "metadata": {
    "colab": {
      "name": "Week11.ipynb",
      "provenance": [],
      "collapsed_sections": []
    },
    "kernelspec": {
      "name": "python3",
      "display_name": "Python 3"
    },
    "language_info": {
      "name": "python"
    }
  },
  "cells": [
    {
      "cell_type": "code",
      "execution_count": 1,
      "metadata": {
        "id": "iTn9bSAc_aPi"
      },
      "outputs": [],
      "source": [
        "import matplotlib.pyplot as plt\n",
        "import numpy as np\n",
        "import pandas as pd\n",
        "\n",
        "from sklearn.cluster import KMeans\n",
        "from sklearn.datasets import load_digits\n",
        "from sklearn.metrics import silhouette_score\n",
        "from sklearn.preprocessing import MinMaxScaler\n",
        "from sklearn.pipeline import Pipeline"
      ]
    },
    {
      "cell_type": "code",
      "source": [
        "digits = load_digits()"
      ],
      "metadata": {
        "id": "jKH3cmfwAc5F"
      },
      "execution_count": 2,
      "outputs": []
    },
    {
      "cell_type": "code",
      "source": [
        "digits.data"
      ],
      "metadata": {
        "colab": {
          "base_uri": "https://localhost:8080/"
        },
        "id": "QyQK-_glFbiV",
        "outputId": "13f690e7-b91b-41fc-b74b-f47c8ba7ad43"
      },
      "execution_count": 3,
      "outputs": [
        {
          "output_type": "execute_result",
          "data": {
            "text/plain": [
              "array([[ 0.,  0.,  5., ...,  0.,  0.,  0.],\n",
              "       [ 0.,  0.,  0., ..., 10.,  0.,  0.],\n",
              "       [ 0.,  0.,  0., ..., 16.,  9.,  0.],\n",
              "       ...,\n",
              "       [ 0.,  0.,  1., ...,  6.,  0.,  0.],\n",
              "       [ 0.,  0.,  2., ..., 12.,  0.,  0.],\n",
              "       [ 0.,  0., 10., ..., 12.,  1.,  0.]])"
            ]
          },
          "metadata": {},
          "execution_count": 3
        }
      ]
    },
    {
      "cell_type": "code",
      "source": [
        "kmeans_kwargs = {'init': 'random', 'n_init': 50, 'max_iter': 500, 'random_state': 0}"
      ],
      "metadata": {
        "id": "78fO9LH9E1UO"
      },
      "execution_count": 4,
      "outputs": []
    },
    {
      "cell_type": "code",
      "source": [
        "pipeline = Pipeline([('Preprocess', MinMaxScaler()),\n",
        "                     ('Clustering', KMeans(n_clusters=10, init='random', n_init=50, max_iter=500, random_state=0))])\n",
        "\n",
        "pipeline.fit(digits.data)"
      ],
      "metadata": {
        "colab": {
          "base_uri": "https://localhost:8080/"
        },
        "id": "BINUivPOC8fX",
        "outputId": "9854a23b-2fa6-4648-e082-90dbb9f69259"
      },
      "execution_count": 5,
      "outputs": [
        {
          "output_type": "execute_result",
          "data": {
            "text/plain": [
              "Pipeline(steps=[('Preprocess', MinMaxScaler()),\n",
              "                ('Clustering',\n",
              "                 KMeans(init='random', max_iter=500, n_clusters=10, n_init=50,\n",
              "                        random_state=0))])"
            ]
          },
          "metadata": {},
          "execution_count": 5
        }
      ]
    },
    {
      "cell_type": "code",
      "source": [
        "cluster_centers = pipeline[-1].cluster_centers_"
      ],
      "metadata": {
        "id": "TXYNDMh8Gogp"
      },
      "execution_count": 6,
      "outputs": []
    },
    {
      "cell_type": "code",
      "source": [
        "# displaying centroids\n",
        "fig, ax = plt.subplots(5, 2, figsize=(4,4))\n",
        "for i, j in zip(ax.flat, cluster_centers.reshape(10,8,8)):\n",
        "  i.imshow(j)"
      ],
      "metadata": {
        "colab": {
          "base_uri": "https://localhost:8080/",
          "height": 267
        },
        "id": "Z9Il-8W2GwPn",
        "outputId": "7711974f-7bb1-4294-ea7d-8aaab6dc1c87"
      },
      "execution_count": 7,
      "outputs": [
        {
          "output_type": "display_data",
          "data": {
            "text/plain": [
              "<Figure size 288x288 with 10 Axes>"
            ],
            "image/png": "[encoded data removed]"
          },
          "metadata": {
            "needs_background": "light"
          }
        }
      ]
    },
    {
      "cell_type": "markdown",
      "source": [
        "### Finding the optimal number of clusters"
      ],
      "metadata": {
        "id": "0YAkXlCvHD_n"
      }
    },
    {
      "cell_type": "markdown",
      "source": [
        "Using SSE"
      ],
      "metadata": {
        "id": "R7ab2z6JJECA"
      }
    },
    {
      "cell_type": "code",
      "source": [
        "sse = []\n",
        "\n",
        "scaled_digits = MinMaxScaler().fit_transform(digits.data)\n",
        "for k in range(1,12):\n",
        "  kmeans = KMeans(n_clusters=k, init='random', n_init=50, max_iter=500, random_state=0)\n",
        "  kmeans.fit(scaled_digits)\n",
        "  sse.append(kmeans.inertia_)"
      ],
      "metadata": {
        "id": "KTzun47fHbVC"
      },
      "execution_count": 8,
      "outputs": []
    },
    {
      "cell_type": "code",
      "source": [
        "plt.plot(range(1,12), sse)\n",
        "plt.xticks(range(1,12))\n",
        "plt.xlabel(\"Number of clusters\")\n",
        "plt.ylabel('SSE')\n",
        "plt.show()"
      ],
      "metadata": {
        "colab": {
          "base_uri": "https://localhost:8080/",
          "height": 279
        },
        "id": "p4tC6hNEH8Jm",
        "outputId": "07f572a1-baa2-447d-b6bd-b1e33b7f96bc"
      },
      "execution_count": 9,
      "outputs": [
        {
          "output_type": "display_data",
          "data": {
            "text/plain": [
              "<Figure size 432x288 with 1 Axes>"
            ],
            "image/png": "[encoded data removed]"
          },
          "metadata": {
            "needs_background": "light"
          }
        }
      ]
    },
    {
      "cell_type": "markdown",
      "source": [
        "There is a slight elbow at k=9, indicating that a few digits could have been merged into a single cluster, thus reducing the total clusters from 10 to 9."
      ],
      "metadata": {
        "id": "eyAANES6IIVX"
      }
    },
    {
      "cell_type": "code",
      "source": [
        "kmeans.labels_"
      ],
      "metadata": {
        "colab": {
          "base_uri": "https://localhost:8080/"
        },
        "id": "UzCYBI2TIdpV",
        "outputId": "b4c2dde9-3e85-4787-ad55-05e41d1df66b"
      },
      "execution_count": 10,
      "outputs": [
        {
          "output_type": "execute_result",
          "data": {
            "text/plain": [
              "array([ 6,  7, 10, ..., 10,  0, 10], dtype=int32)"
            ]
          },
          "metadata": {},
          "execution_count": 10
        }
      ]
    },
    {
      "cell_type": "markdown",
      "source": [
        "Using silhouette scoring"
      ],
      "metadata": {
        "id": "98irPhrtI-yM"
      }
    },
    {
      "cell_type": "code",
      "source": [
        "sil_coef = []\n",
        "scaled_digits = MinMaxScaler().fit_transform(digits.data)\n",
        "for k in range(2, 15):\n",
        "  kmeans = KMeans(n_clusters=k, init='random', n_init=50, max_iter=500, random_state=0)\n",
        "  kmeans.fit(scaled_digits)\n",
        "  score = silhouette_score(digits.data, kmeans.labels_)\n",
        "  sil_coef.append(score)"
      ],
      "metadata": {
        "id": "XGrbuPs6Io4-"
      },
      "execution_count": 11,
      "outputs": []
    },
    {
      "cell_type": "code",
      "source": [
        "plt.plot(range(2, 15), sil_coef)\n",
        "plt.xticks(range(2, 14))\n",
        "plt.xlabel(\"Number of clusters\")\n",
        "plt.ylabel('Silhouette score')\n",
        "plt.grid(True)\n",
        "plt.show()"
      ],
      "metadata": {
        "colab": {
          "base_uri": "https://localhost:8080/",
          "height": 279
        },
        "id": "FbBiVhguJJSD",
        "outputId": "74dc3db0-a73f-4812-8a97-0057e3e2e7b0"
      },
      "execution_count": 12,
      "outputs": [
        {
          "output_type": "display_data",
          "data": {
            "text/plain": [
              "<Figure size 432x288 with 1 Axes>"
            ],
            "image/png": "[encoded data removed]"
          },
          "metadata": {
            "needs_background": "light"
          }
        }
      ]
    },
    {
      "cell_type": "markdown",
      "source": [
        "There's a clear peak at 9 clusters."
      ],
      "metadata": {
        "id": "Zunkd8p7JYF2"
      }
    }
  ]
}