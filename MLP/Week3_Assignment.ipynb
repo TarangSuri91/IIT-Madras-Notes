{
 "cells": [
  {
   "cell_type": "code",
   "execution_count": 1,
   "id": "03396351",
   "metadata": {},
   "outputs": [],
   "source": [
    "from sklearn.datasets import fetch_california_housing\n",
    "\n",
    "features, labels = fetch_california_housing(as_frame=True, return_X_y=True)"
   ]
  },
  {
   "cell_type": "code",
   "execution_count": 2,
   "id": "d8cef784",
   "metadata": {},
   "outputs": [],
   "source": [
    "from sklearn.model_selection import train_test_split\n",
    "\n",
    "train_feature, test_feature, train_label, test_label = train_test_split(features, labels, random_state=0, shuffle=False, test_size=0.2)"
   ]
  },
  {
   "cell_type": "code",
   "execution_count": 3,
   "id": "17894a15",
   "metadata": {},
   "outputs": [
    {
     "data": {
      "text/plain": [
       "((16512, 8), (4128, 8))"
      ]
     },
     "execution_count": 3,
     "metadata": {},
     "output_type": "execute_result"
    }
   ],
   "source": [
    "train_feature.shape, test_feature.shape"
   ]
  },
  {
   "cell_type": "code",
   "execution_count": 4,
   "id": "1f1adb63",
   "metadata": {},
   "outputs": [
    {
     "data": {
      "text/plain": [
       "Pipeline(steps=[('feature scaling', StandardScaler()),\n",
       "                ('lr', LinearRegression())])"
      ]
     },
     "execution_count": 4,
     "metadata": {},
     "output_type": "execute_result"
    }
   ],
   "source": [
    "from sklearn.linear_model import LinearRegression\n",
    "from sklearn.preprocessing import StandardScaler\n",
    "from sklearn.pipeline import Pipeline\n",
    "from sklearn.metrics import mean_squared_error, r2_score, explained_variance_score, max_error, mean_absolute_error\n",
    "from sklearn.model_selection import train_test_split\n",
    "\n",
    "pipe = Pipeline([('feature scaling', StandardScaler()),\n",
    "          ('lr', LinearRegression())])\n",
    "\n",
    "pipe.fit(train_feature, train_label)"
   ]
  },
  {
   "cell_type": "code",
   "execution_count": 5,
   "id": "d8e35724",
   "metadata": {},
   "outputs": [
    {
     "data": {
      "text/plain": [
       "0.7033383507521879"
      ]
     },
     "execution_count": 5,
     "metadata": {},
     "output_type": "execute_result"
    }
   ],
   "source": [
    "mean_squared_error(test_label, pipe.predict(test_feature), squared=False)"
   ]
  },
  {
   "cell_type": "code",
   "execution_count": 6,
   "id": "14f16b8e",
   "metadata": {},
   "outputs": [
    {
     "data": {
      "text/plain": [
       "0.660514059153199"
      ]
     },
     "execution_count": 6,
     "metadata": {},
     "output_type": "execute_result"
    }
   ],
   "source": [
    "r2_score(test_label, pipe.predict(test_feature))"
   ]
  },
  {
   "cell_type": "code",
   "execution_count": 7,
   "id": "992ec224",
   "metadata": {},
   "outputs": [
    {
     "data": {
      "text/plain": [
       "0.6605500501742702"
      ]
     },
     "execution_count": 7,
     "metadata": {},
     "output_type": "execute_result"
    }
   ],
   "source": [
    "explained_variance_score(test_label, pipe.predict(test_feature))"
   ]
  },
  {
   "cell_type": "code",
   "execution_count": 8,
   "id": "bea680c0",
   "metadata": {},
   "outputs": [
    {
     "data": {
      "text/plain": [
       "7.26045329295842"
      ]
     },
     "execution_count": 8,
     "metadata": {},
     "output_type": "execute_result"
    }
   ],
   "source": [
    "max_error(test_label, pipe.predict(test_feature))"
   ]
  },
  {
   "cell_type": "code",
   "execution_count": 9,
   "id": "9571d33d",
   "metadata": {},
   "outputs": [
    {
     "data": {
      "text/plain": [
       "0.5168526993787042"
      ]
     },
     "execution_count": 9,
     "metadata": {},
     "output_type": "execute_result"
    }
   ],
   "source": [
    "mean_absolute_error(test_label, pipe.predict(test_feature))"
   ]
  },
  {
   "cell_type": "code",
   "execution_count": 10,
   "id": "baab9603",
   "metadata": {},
   "outputs": [
    {
     "data": {
      "text/plain": [
       "0.4946848356388077"
      ]
     },
     "execution_count": 10,
     "metadata": {},
     "output_type": "execute_result"
    }
   ],
   "source": [
    "mean_squared_error(test_label, pipe.predict(test_feature))"
   ]
  },
  {
   "cell_type": "code",
   "execution_count": 11,
   "id": "67d72108",
   "metadata": {},
   "outputs": [
    {
     "data": {
      "text/plain": [
       "Pipeline(steps=[('feature scaling', StandardScaler()),\n",
       "                ('sgd', SGDRegressor(random_state=0))])"
      ]
     },
     "execution_count": 11,
     "metadata": {},
     "output_type": "execute_result"
    }
   ],
   "source": [
    "from sklearn.linear_model import SGDRegressor\n",
    "from sklearn.preprocessing import StandardScaler\n",
    "from sklearn.pipeline import Pipeline\n",
    "from sklearn.metrics import mean_squared_error, r2_score, explained_variance_score, max_error, mean_absolute_error\n",
    "from sklearn.model_selection import train_test_split\n",
    "\n",
    "pipe = Pipeline([('feature scaling', StandardScaler()),\n",
    "          ('sgd', SGDRegressor(random_state=0))])\n",
    "\n",
    "pipe.fit(train_feature, train_label)"
   ]
  },
  {
   "cell_type": "code",
   "execution_count": 12,
   "id": "482e97bc",
   "metadata": {},
   "outputs": [
    {
     "data": {
      "text/plain": [
       "array([2.01123921])"
      ]
     },
     "execution_count": 12,
     "metadata": {},
     "output_type": "execute_result"
    }
   ],
   "source": [
    "pipe[-1].intercept_"
   ]
  },
  {
   "cell_type": "code",
   "execution_count": 13,
   "id": "31bee0dc",
   "metadata": {},
   "outputs": [
    {
     "data": {
      "text/plain": [
       "array([ 0.84046697,  0.112331  , -0.41213039,  0.21595971, -0.01781887,\n",
       "       -0.01480892, -0.87394103, -0.83913104])"
      ]
     },
     "execution_count": 13,
     "metadata": {},
     "output_type": "execute_result"
    }
   ],
   "source": [
    "pipe[-1].coef_"
   ]
  }
 ],
 "metadata": {
  "kernelspec": {
   "display_name": "Python 3 (ipykernel)",
   "language": "python",
   "name": "python3"
  },
  "language_info": {
   "codemirror_mode": {
    "name": "ipython",
    "version": 3
   },
   "file_extension": ".py",
   "mimetype": "text/x-python",
   "name": "python",
   "nbconvert_exporter": "python",
   "pygments_lexer": "ipython3",
   "version": "3.9.7"
  }
 },
 "nbformat": 4,
 "nbformat_minor": 5
}
