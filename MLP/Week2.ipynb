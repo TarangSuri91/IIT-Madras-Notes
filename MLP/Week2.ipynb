{
 "cells": [
  {
   "cell_type": "code",
   "execution_count": 1,
   "id": "77fd274f",
   "metadata": {},
   "outputs": [],
   "source": [
    "import pandas as pd\n",
    "import numpy as np\n",
    "import matplotlib.pyplot as plt\n",
    "import seaborn as sns\n",
    "sns.set_style(style='whitegrid')"
   ]
  },
  {
   "cell_type": "markdown",
   "id": "37352adf",
   "metadata": {},
   "source": [
    "### 1. Feature Extraction"
   ]
  },
  {
   "cell_type": "markdown",
   "id": "7311ad86",
   "metadata": {},
   "source": [
    "#### DictVectorizer"
   ]
  },
  {
   "cell_type": "markdown",
   "id": "c50fa8bc",
   "metadata": {},
   "source": [
    "Converts dictionary object to matrix"
   ]
  },
  {
   "cell_type": "code",
   "execution_count": 2,
   "id": "97bb127e",
   "metadata": {},
   "outputs": [],
   "source": [
    "data = [{'age': 4, 'height':96.0},\n",
    "{'age': 1, 'height':73.9},\n",
    "{'age': 3, 'height':88.9},\n",
    "{'age': 2, 'height':81.6}]"
   ]
  },
  {
   "cell_type": "code",
   "execution_count": 3,
   "id": "601b4a4c",
   "metadata": {
    "scrolled": false
   },
   "outputs": [
    {
     "data": {
      "text/plain": [
       "array([[ 4. , 96. ],\n",
       "       [ 1. , 73.9],\n",
       "       [ 3. , 88.9],\n",
       "       [ 2. , 81.6]])"
      ]
     },
     "execution_count": 3,
     "metadata": {},
     "output_type": "execute_result"
    }
   ],
   "source": [
    "from sklearn.feature_extraction import DictVectorizer\n",
    "dv = DictVectorizer(sparse=False)\n",
    "dv.fit_transform(data) #creates a 2-d matrix"
   ]
  },
  {
   "cell_type": "markdown",
   "id": "52583949",
   "metadata": {},
   "source": [
    "Alternatively..."
   ]
  },
  {
   "cell_type": "code",
   "execution_count": 4,
   "id": "a12811fd",
   "metadata": {},
   "outputs": [
    {
     "data": {
      "text/plain": [
       "array([{'age': 4, 'height': 96.0}, {'age': 1, 'height': 73.9},\n",
       "       {'age': 3, 'height': 88.9}, {'age': 2, 'height': 81.6}],\n",
       "      dtype=object)"
      ]
     },
     "execution_count": 4,
     "metadata": {},
     "output_type": "execute_result"
    }
   ],
   "source": [
    "np.array(data) #create numpy array"
   ]
  },
  {
   "cell_type": "code",
   "execution_count": 5,
   "id": "a1611261",
   "metadata": {
    "scrolled": true
   },
   "outputs": [
    {
     "data": {
      "text/html": [
       "<div>\n",
       "<style scoped>\n",
       "    .dataframe tbody tr th:only-of-type {\n",
       "        vertical-align: middle;\n",
       "    }\n",
       "\n",
       "    .dataframe tbody tr th {\n",
       "        vertical-align: top;\n",
       "    }\n",
       "\n",
       "    .dataframe thead th {\n",
       "        text-align: right;\n",
       "    }\n",
       "</style>\n",
       "<table border=\"1\" class=\"dataframe\">\n",
       "  <thead>\n",
       "    <tr style=\"text-align: right;\">\n",
       "      <th></th>\n",
       "      <th>age</th>\n",
       "      <th>height</th>\n",
       "    </tr>\n",
       "  </thead>\n",
       "  <tbody>\n",
       "    <tr>\n",
       "      <th>0</th>\n",
       "      <td>4</td>\n",
       "      <td>96.0</td>\n",
       "    </tr>\n",
       "    <tr>\n",
       "      <th>1</th>\n",
       "      <td>1</td>\n",
       "      <td>73.9</td>\n",
       "    </tr>\n",
       "    <tr>\n",
       "      <th>2</th>\n",
       "      <td>3</td>\n",
       "      <td>88.9</td>\n",
       "    </tr>\n",
       "    <tr>\n",
       "      <th>3</th>\n",
       "      <td>2</td>\n",
       "      <td>81.6</td>\n",
       "    </tr>\n",
       "  </tbody>\n",
       "</table>\n",
       "</div>"
      ],
      "text/plain": [
       "   age  height\n",
       "0    4    96.0\n",
       "1    1    73.9\n",
       "2    3    88.9\n",
       "3    2    81.6"
      ]
     },
     "execution_count": 5,
     "metadata": {},
     "output_type": "execute_result"
    }
   ],
   "source": [
    "pd.DataFrame(data) #create dataframe"
   ]
  },
  {
   "cell_type": "markdown",
   "id": "d5fba8c4",
   "metadata": {},
   "source": [
    "### Data cleaning"
   ]
  },
  {
   "cell_type": "markdown",
   "id": "7b3c746f",
   "metadata": {},
   "source": [
    "#### SimpleImputer"
   ]
  },
  {
   "cell_type": "markdown",
   "id": "91a96e53",
   "metadata": {},
   "source": [
    "#### Example1"
   ]
  },
  {
   "cell_type": "code",
   "execution_count": 6,
   "id": "95bab8e9",
   "metadata": {},
   "outputs": [],
   "source": [
    "X = np.array([[7, 1], [None, 8], [2, None], [9, 6]])"
   ]
  },
  {
   "cell_type": "code",
   "execution_count": 7,
   "id": "096d4039",
   "metadata": {
    "scrolled": false
   },
   "outputs": [
    {
     "data": {
      "text/plain": [
       "array([[7., 1., 0., 0.],\n",
       "       [6., 8., 1., 0.],\n",
       "       [2., 5., 0., 1.],\n",
       "       [9., 6., 0., 0.]])"
      ]
     },
     "execution_count": 7,
     "metadata": {},
     "output_type": "execute_result"
    }
   ],
   "source": [
    "from sklearn.impute import SimpleImputer\n",
    "si = SimpleImputer(strategy='mean', add_indicator=True) #add_indicator flag adds one column per missing value, and indicates the missing value in the corresponding row by a 1.\n",
    "si.fit_transform(X)"
   ]
  },
  {
   "cell_type": "markdown",
   "id": "c7a9d433",
   "metadata": {},
   "source": [
    "#### Example2"
   ]
  },
  {
   "cell_type": "code",
   "execution_count": 8,
   "id": "0a2e3fa2",
   "metadata": {},
   "outputs": [],
   "source": [
    "cols = [\"age\",\"sex\",\"cp\",\"trestbps\", \"chol\", \"fbs\", \"restecg\", \"thalach\", \"exang\", \"oldpeak\", \"slope\", \"ca\", \"thal\", \"num\"]\n",
    "heart_data = pd.read_csv(\"https://archive.ics.uci.edu/ml/machine-learning-databases/heart-disease/processed.cleveland.data\", encoding='utf-8', header=None, names=cols)"
   ]
  },
  {
   "cell_type": "code",
   "execution_count": 9,
   "id": "15c76d40",
   "metadata": {
    "scrolled": true
   },
   "outputs": [
    {
     "data": {
      "text/html": [
       "<div>\n",
       "<style scoped>\n",
       "    .dataframe tbody tr th:only-of-type {\n",
       "        vertical-align: middle;\n",
       "    }\n",
       "\n",
       "    .dataframe tbody tr th {\n",
       "        vertical-align: top;\n",
       "    }\n",
       "\n",
       "    .dataframe thead th {\n",
       "        text-align: right;\n",
       "    }\n",
       "</style>\n",
       "<table border=\"1\" class=\"dataframe\">\n",
       "  <thead>\n",
       "    <tr style=\"text-align: right;\">\n",
       "      <th></th>\n",
       "      <th>age</th>\n",
       "      <th>sex</th>\n",
       "      <th>cp</th>\n",
       "      <th>trestbps</th>\n",
       "      <th>chol</th>\n",
       "      <th>fbs</th>\n",
       "      <th>restecg</th>\n",
       "      <th>thalach</th>\n",
       "      <th>exang</th>\n",
       "      <th>oldpeak</th>\n",
       "      <th>slope</th>\n",
       "      <th>ca</th>\n",
       "      <th>thal</th>\n",
       "      <th>num</th>\n",
       "    </tr>\n",
       "  </thead>\n",
       "  <tbody>\n",
       "    <tr>\n",
       "      <th>0</th>\n",
       "      <td>63.0</td>\n",
       "      <td>1.0</td>\n",
       "      <td>1.0</td>\n",
       "      <td>145.0</td>\n",
       "      <td>233.0</td>\n",
       "      <td>1.0</td>\n",
       "      <td>2.0</td>\n",
       "      <td>150.0</td>\n",
       "      <td>0.0</td>\n",
       "      <td>2.3</td>\n",
       "      <td>3.0</td>\n",
       "      <td>0.0</td>\n",
       "      <td>6.0</td>\n",
       "      <td>0</td>\n",
       "    </tr>\n",
       "    <tr>\n",
       "      <th>1</th>\n",
       "      <td>67.0</td>\n",
       "      <td>1.0</td>\n",
       "      <td>4.0</td>\n",
       "      <td>160.0</td>\n",
       "      <td>286.0</td>\n",
       "      <td>0.0</td>\n",
       "      <td>2.0</td>\n",
       "      <td>108.0</td>\n",
       "      <td>1.0</td>\n",
       "      <td>1.5</td>\n",
       "      <td>2.0</td>\n",
       "      <td>3.0</td>\n",
       "      <td>3.0</td>\n",
       "      <td>2</td>\n",
       "    </tr>\n",
       "    <tr>\n",
       "      <th>2</th>\n",
       "      <td>67.0</td>\n",
       "      <td>1.0</td>\n",
       "      <td>4.0</td>\n",
       "      <td>120.0</td>\n",
       "      <td>229.0</td>\n",
       "      <td>0.0</td>\n",
       "      <td>2.0</td>\n",
       "      <td>129.0</td>\n",
       "      <td>1.0</td>\n",
       "      <td>2.6</td>\n",
       "      <td>2.0</td>\n",
       "      <td>2.0</td>\n",
       "      <td>7.0</td>\n",
       "      <td>1</td>\n",
       "    </tr>\n",
       "    <tr>\n",
       "      <th>3</th>\n",
       "      <td>37.0</td>\n",
       "      <td>1.0</td>\n",
       "      <td>3.0</td>\n",
       "      <td>130.0</td>\n",
       "      <td>250.0</td>\n",
       "      <td>0.0</td>\n",
       "      <td>0.0</td>\n",
       "      <td>187.0</td>\n",
       "      <td>0.0</td>\n",
       "      <td>3.5</td>\n",
       "      <td>3.0</td>\n",
       "      <td>0.0</td>\n",
       "      <td>3.0</td>\n",
       "      <td>0</td>\n",
       "    </tr>\n",
       "    <tr>\n",
       "      <th>4</th>\n",
       "      <td>41.0</td>\n",
       "      <td>0.0</td>\n",
       "      <td>2.0</td>\n",
       "      <td>130.0</td>\n",
       "      <td>204.0</td>\n",
       "      <td>0.0</td>\n",
       "      <td>2.0</td>\n",
       "      <td>172.0</td>\n",
       "      <td>0.0</td>\n",
       "      <td>1.4</td>\n",
       "      <td>1.0</td>\n",
       "      <td>0.0</td>\n",
       "      <td>3.0</td>\n",
       "      <td>0</td>\n",
       "    </tr>\n",
       "    <tr>\n",
       "      <th>...</th>\n",
       "      <td>...</td>\n",
       "      <td>...</td>\n",
       "      <td>...</td>\n",
       "      <td>...</td>\n",
       "      <td>...</td>\n",
       "      <td>...</td>\n",
       "      <td>...</td>\n",
       "      <td>...</td>\n",
       "      <td>...</td>\n",
       "      <td>...</td>\n",
       "      <td>...</td>\n",
       "      <td>...</td>\n",
       "      <td>...</td>\n",
       "      <td>...</td>\n",
       "    </tr>\n",
       "    <tr>\n",
       "      <th>298</th>\n",
       "      <td>45.0</td>\n",
       "      <td>1.0</td>\n",
       "      <td>1.0</td>\n",
       "      <td>110.0</td>\n",
       "      <td>264.0</td>\n",
       "      <td>0.0</td>\n",
       "      <td>0.0</td>\n",
       "      <td>132.0</td>\n",
       "      <td>0.0</td>\n",
       "      <td>1.2</td>\n",
       "      <td>2.0</td>\n",
       "      <td>0.0</td>\n",
       "      <td>7.0</td>\n",
       "      <td>1</td>\n",
       "    </tr>\n",
       "    <tr>\n",
       "      <th>299</th>\n",
       "      <td>68.0</td>\n",
       "      <td>1.0</td>\n",
       "      <td>4.0</td>\n",
       "      <td>144.0</td>\n",
       "      <td>193.0</td>\n",
       "      <td>1.0</td>\n",
       "      <td>0.0</td>\n",
       "      <td>141.0</td>\n",
       "      <td>0.0</td>\n",
       "      <td>3.4</td>\n",
       "      <td>2.0</td>\n",
       "      <td>2.0</td>\n",
       "      <td>7.0</td>\n",
       "      <td>2</td>\n",
       "    </tr>\n",
       "    <tr>\n",
       "      <th>300</th>\n",
       "      <td>57.0</td>\n",
       "      <td>1.0</td>\n",
       "      <td>4.0</td>\n",
       "      <td>130.0</td>\n",
       "      <td>131.0</td>\n",
       "      <td>0.0</td>\n",
       "      <td>0.0</td>\n",
       "      <td>115.0</td>\n",
       "      <td>1.0</td>\n",
       "      <td>1.2</td>\n",
       "      <td>2.0</td>\n",
       "      <td>1.0</td>\n",
       "      <td>7.0</td>\n",
       "      <td>3</td>\n",
       "    </tr>\n",
       "    <tr>\n",
       "      <th>301</th>\n",
       "      <td>57.0</td>\n",
       "      <td>0.0</td>\n",
       "      <td>2.0</td>\n",
       "      <td>130.0</td>\n",
       "      <td>236.0</td>\n",
       "      <td>0.0</td>\n",
       "      <td>2.0</td>\n",
       "      <td>174.0</td>\n",
       "      <td>0.0</td>\n",
       "      <td>0.0</td>\n",
       "      <td>2.0</td>\n",
       "      <td>1.0</td>\n",
       "      <td>3.0</td>\n",
       "      <td>1</td>\n",
       "    </tr>\n",
       "    <tr>\n",
       "      <th>302</th>\n",
       "      <td>38.0</td>\n",
       "      <td>1.0</td>\n",
       "      <td>3.0</td>\n",
       "      <td>138.0</td>\n",
       "      <td>175.0</td>\n",
       "      <td>0.0</td>\n",
       "      <td>0.0</td>\n",
       "      <td>173.0</td>\n",
       "      <td>0.0</td>\n",
       "      <td>0.0</td>\n",
       "      <td>1.0</td>\n",
       "      <td>?</td>\n",
       "      <td>3.0</td>\n",
       "      <td>0</td>\n",
       "    </tr>\n",
       "  </tbody>\n",
       "</table>\n",
       "<p>303 rows × 14 columns</p>\n",
       "</div>"
      ],
      "text/plain": [
       "      age  sex   cp  trestbps   chol  fbs  restecg  thalach  exang  oldpeak  \\\n",
       "0    63.0  1.0  1.0     145.0  233.0  1.0      2.0    150.0    0.0      2.3   \n",
       "1    67.0  1.0  4.0     160.0  286.0  0.0      2.0    108.0    1.0      1.5   \n",
       "2    67.0  1.0  4.0     120.0  229.0  0.0      2.0    129.0    1.0      2.6   \n",
       "3    37.0  1.0  3.0     130.0  250.0  0.0      0.0    187.0    0.0      3.5   \n",
       "4    41.0  0.0  2.0     130.0  204.0  0.0      2.0    172.0    0.0      1.4   \n",
       "..    ...  ...  ...       ...    ...  ...      ...      ...    ...      ...   \n",
       "298  45.0  1.0  1.0     110.0  264.0  0.0      0.0    132.0    0.0      1.2   \n",
       "299  68.0  1.0  4.0     144.0  193.0  1.0      0.0    141.0    0.0      3.4   \n",
       "300  57.0  1.0  4.0     130.0  131.0  0.0      0.0    115.0    1.0      1.2   \n",
       "301  57.0  0.0  2.0     130.0  236.0  0.0      2.0    174.0    0.0      0.0   \n",
       "302  38.0  1.0  3.0     138.0  175.0  0.0      0.0    173.0    0.0      0.0   \n",
       "\n",
       "     slope   ca thal  num  \n",
       "0      3.0  0.0  6.0    0  \n",
       "1      2.0  3.0  3.0    2  \n",
       "2      2.0  2.0  7.0    1  \n",
       "3      3.0  0.0  3.0    0  \n",
       "4      1.0  0.0  3.0    0  \n",
       "..     ...  ...  ...  ...  \n",
       "298    2.0  0.0  7.0    1  \n",
       "299    2.0  2.0  7.0    2  \n",
       "300    2.0  1.0  7.0    3  \n",
       "301    2.0  1.0  3.0    1  \n",
       "302    1.0    ?  3.0    0  \n",
       "\n",
       "[303 rows x 14 columns]"
      ]
     },
     "execution_count": 9,
     "metadata": {},
     "output_type": "execute_result"
    }
   ],
   "source": [
    "heart_data #last column num is label, all others are features."
   ]
  },
  {
   "cell_type": "code",
   "execution_count": 10,
   "id": "f30b6ba5",
   "metadata": {
    "scrolled": false
   },
   "outputs": [
    {
     "name": "stdout",
     "output_type": "stream",
     "text": [
      "<class 'pandas.core.frame.DataFrame'>\n",
      "RangeIndex: 303 entries, 0 to 302\n",
      "Data columns (total 14 columns):\n",
      " #   Column    Non-Null Count  Dtype  \n",
      "---  ------    --------------  -----  \n",
      " 0   age       303 non-null    float64\n",
      " 1   sex       303 non-null    float64\n",
      " 2   cp        303 non-null    float64\n",
      " 3   trestbps  303 non-null    float64\n",
      " 4   chol      303 non-null    float64\n",
      " 5   fbs       303 non-null    float64\n",
      " 6   restecg   303 non-null    float64\n",
      " 7   thalach   303 non-null    float64\n",
      " 8   exang     303 non-null    float64\n",
      " 9   oldpeak   303 non-null    float64\n",
      " 10  slope     303 non-null    float64\n",
      " 11  ca        303 non-null    object \n",
      " 12  thal      303 non-null    object \n",
      " 13  num       303 non-null    int64  \n",
      "dtypes: float64(11), int64(1), object(2)\n",
      "memory usage: 33.3+ KB\n"
     ]
    }
   ],
   "source": [
    "heart_data.info()"
   ]
  },
  {
   "cell_type": "markdown",
   "id": "db4745de",
   "metadata": {},
   "source": [
    "There are 11 numeric features, 2 non-numeric features and 1 label."
   ]
  },
  {
   "cell_type": "code",
   "execution_count": 11,
   "id": "66fbcf7e",
   "metadata": {
    "scrolled": true
   },
   "outputs": [
    {
     "data": {
      "text/plain": [
       "age         0\n",
       "sex         0\n",
       "cp          0\n",
       "trestbps    0\n",
       "chol        0\n",
       "fbs         0\n",
       "restecg     0\n",
       "thalach     0\n",
       "exang       0\n",
       "oldpeak     0\n",
       "slope       0\n",
       "ca          0\n",
       "thal        0\n",
       "num         0\n",
       "dtype: int64"
      ]
     },
     "execution_count": 11,
     "metadata": {},
     "output_type": "execute_result"
    }
   ],
   "source": [
    "heart_data.isnull().sum() # no null values among numeric features"
   ]
  },
  {
   "cell_type": "code",
   "execution_count": 12,
   "id": "0ca661a0",
   "metadata": {},
   "outputs": [
    {
     "data": {
      "text/plain": [
       "array(['0.0', '3.0', '2.0', '1.0', '?'], dtype=object)"
      ]
     },
     "execution_count": 12,
     "metadata": {},
     "output_type": "execute_result"
    }
   ],
   "source": [
    "heart_data[\"ca\"].unique() # ? indicates that there're some missing values"
   ]
  },
  {
   "cell_type": "code",
   "execution_count": 13,
   "id": "f1d68e67",
   "metadata": {},
   "outputs": [
    {
     "data": {
      "text/plain": [
       "array(['6.0', '3.0', '7.0', '?'], dtype=object)"
      ]
     },
     "execution_count": 13,
     "metadata": {},
     "output_type": "execute_result"
    }
   ],
   "source": [
    "heart_data['thal'].unique() # ? indicates that there're some missing values"
   ]
  },
  {
   "cell_type": "code",
   "execution_count": 14,
   "id": "04c4c1ff",
   "metadata": {},
   "outputs": [
    {
     "data": {
      "text/plain": [
       "4"
      ]
     },
     "execution_count": 14,
     "metadata": {},
     "output_type": "execute_result"
    }
   ],
   "source": [
    "heart_data[heart_data.ca == \"?\"][\"ca\"].count()"
   ]
  },
  {
   "cell_type": "code",
   "execution_count": 15,
   "id": "b6257583",
   "metadata": {},
   "outputs": [
    {
     "data": {
      "text/plain": [
       "2"
      ]
     },
     "execution_count": 15,
     "metadata": {},
     "output_type": "execute_result"
    }
   ],
   "source": [
    "heart_data[heart_data.thal == \"?\"][\"thal\"].count()"
   ]
  },
  {
   "cell_type": "code",
   "execution_count": 16,
   "id": "737eaf88",
   "metadata": {},
   "outputs": [],
   "source": [
    "heart_data.replace(\"?\", np.nan, inplace=True) # replace all ? by np.nan"
   ]
  },
  {
   "cell_type": "code",
   "execution_count": 17,
   "id": "262940d7",
   "metadata": {
    "scrolled": true
   },
   "outputs": [],
   "source": [
    "from sklearn.impute import SimpleImputer\n",
    "si = SimpleImputer(strategy='mean')\n",
    "heart_data_imputed = si.fit_transform(heart_data)"
   ]
  },
  {
   "cell_type": "markdown",
   "id": "6900dba6",
   "metadata": {},
   "source": [
    "#### KNNImputer"
   ]
  },
  {
   "attachments": {
    "image.png": {
     "image/png": "[encoded data removed]"
    }
   },
   "cell_type": "markdown",
   "id": "ef01a6ba",
   "metadata": {},
   "source": [
    "![image.png](attachment:image.png)"
   ]
  },
  {
   "cell_type": "code",
   "execution_count": 18,
   "id": "7ea5c635",
   "metadata": {},
   "outputs": [
    {
     "data": {
      "text/plain": [
       "array([[1. , 2. , 4. ],\n",
       "       [3. , 4. , 3. ],\n",
       "       [5.5, 6. , 5. ],\n",
       "       [8. , 8. , 7. ]])"
      ]
     },
     "execution_count": 18,
     "metadata": {},
     "output_type": "execute_result"
    }
   ],
   "source": [
    "from sklearn.impute import KNNImputer\n",
    "\n",
    "X = np.array([[1, 2, None], [3, 4, 3], [None, 6, 5], [8, 8, 7]])\n",
    "knn = KNNImputer(n_neighbors=2, weights='uniform')\n",
    "knn.fit_transform(X)"
   ]
  },
  {
   "cell_type": "code",
   "execution_count": 19,
   "id": "7a1d87d9",
   "metadata": {
    "scrolled": false
   },
   "outputs": [
    {
     "data": {
      "text/plain": [
       "array([[False,  True],\n",
       "       [False, False],\n",
       "       [ True, False],\n",
       "       [False, False]])"
      ]
     },
     "execution_count": 19,
     "metadata": {},
     "output_type": "execute_result"
    }
   ],
   "source": [
    "from sklearn.impute import MissingIndicator\n",
    "\n",
    "X = np.array([[1, 2, np.nan], [3, 4, 3], [np.nan, 6, 5], [8, 8, 7]])\n",
    "indicator = MissingIndicator()\n",
    "indicator.fit_transform(X)"
   ]
  },
  {
   "cell_type": "code",
   "execution_count": 20,
   "id": "ef9d9b29",
   "metadata": {
    "scrolled": true
   },
   "outputs": [
    {
     "data": {
      "text/html": [
       "<div>\n",
       "<style scoped>\n",
       "    .dataframe tbody tr th:only-of-type {\n",
       "        vertical-align: middle;\n",
       "    }\n",
       "\n",
       "    .dataframe tbody tr th {\n",
       "        vertical-align: top;\n",
       "    }\n",
       "\n",
       "    .dataframe thead th {\n",
       "        text-align: right;\n",
       "    }\n",
       "</style>\n",
       "<table border=\"1\" class=\"dataframe\">\n",
       "  <thead>\n",
       "    <tr style=\"text-align: right;\">\n",
       "      <th></th>\n",
       "      <th>Sex</th>\n",
       "      <th>Length</th>\n",
       "      <th>Diameter</th>\n",
       "      <th>Height</th>\n",
       "      <th>Whole weight</th>\n",
       "      <th>Shucked weight</th>\n",
       "      <th>Viscera weight</th>\n",
       "      <th>Shell weight</th>\n",
       "      <th>Rings</th>\n",
       "    </tr>\n",
       "  </thead>\n",
       "  <tbody>\n",
       "    <tr>\n",
       "      <th>0</th>\n",
       "      <td>M</td>\n",
       "      <td>0.455</td>\n",
       "      <td>0.365</td>\n",
       "      <td>0.095</td>\n",
       "      <td>0.5140</td>\n",
       "      <td>0.2245</td>\n",
       "      <td>0.1010</td>\n",
       "      <td>0.1500</td>\n",
       "      <td>15</td>\n",
       "    </tr>\n",
       "    <tr>\n",
       "      <th>1</th>\n",
       "      <td>M</td>\n",
       "      <td>0.350</td>\n",
       "      <td>0.265</td>\n",
       "      <td>0.090</td>\n",
       "      <td>0.2255</td>\n",
       "      <td>0.0995</td>\n",
       "      <td>0.0485</td>\n",
       "      <td>0.0700</td>\n",
       "      <td>7</td>\n",
       "    </tr>\n",
       "    <tr>\n",
       "      <th>2</th>\n",
       "      <td>F</td>\n",
       "      <td>0.530</td>\n",
       "      <td>0.420</td>\n",
       "      <td>0.135</td>\n",
       "      <td>0.6770</td>\n",
       "      <td>0.2565</td>\n",
       "      <td>0.1415</td>\n",
       "      <td>0.2100</td>\n",
       "      <td>9</td>\n",
       "    </tr>\n",
       "    <tr>\n",
       "      <th>3</th>\n",
       "      <td>M</td>\n",
       "      <td>0.440</td>\n",
       "      <td>0.365</td>\n",
       "      <td>0.125</td>\n",
       "      <td>0.5160</td>\n",
       "      <td>0.2155</td>\n",
       "      <td>0.1140</td>\n",
       "      <td>0.1550</td>\n",
       "      <td>10</td>\n",
       "    </tr>\n",
       "    <tr>\n",
       "      <th>4</th>\n",
       "      <td>I</td>\n",
       "      <td>0.330</td>\n",
       "      <td>0.255</td>\n",
       "      <td>0.080</td>\n",
       "      <td>0.2050</td>\n",
       "      <td>0.0895</td>\n",
       "      <td>0.0395</td>\n",
       "      <td>0.0550</td>\n",
       "      <td>7</td>\n",
       "    </tr>\n",
       "    <tr>\n",
       "      <th>...</th>\n",
       "      <td>...</td>\n",
       "      <td>...</td>\n",
       "      <td>...</td>\n",
       "      <td>...</td>\n",
       "      <td>...</td>\n",
       "      <td>...</td>\n",
       "      <td>...</td>\n",
       "      <td>...</td>\n",
       "      <td>...</td>\n",
       "    </tr>\n",
       "    <tr>\n",
       "      <th>4172</th>\n",
       "      <td>F</td>\n",
       "      <td>0.565</td>\n",
       "      <td>0.450</td>\n",
       "      <td>0.165</td>\n",
       "      <td>0.8870</td>\n",
       "      <td>0.3700</td>\n",
       "      <td>0.2390</td>\n",
       "      <td>0.2490</td>\n",
       "      <td>11</td>\n",
       "    </tr>\n",
       "    <tr>\n",
       "      <th>4173</th>\n",
       "      <td>M</td>\n",
       "      <td>0.590</td>\n",
       "      <td>0.440</td>\n",
       "      <td>0.135</td>\n",
       "      <td>0.9660</td>\n",
       "      <td>0.4390</td>\n",
       "      <td>0.2145</td>\n",
       "      <td>0.2605</td>\n",
       "      <td>10</td>\n",
       "    </tr>\n",
       "    <tr>\n",
       "      <th>4174</th>\n",
       "      <td>M</td>\n",
       "      <td>0.600</td>\n",
       "      <td>0.475</td>\n",
       "      <td>0.205</td>\n",
       "      <td>1.1760</td>\n",
       "      <td>0.5255</td>\n",
       "      <td>0.2875</td>\n",
       "      <td>0.3080</td>\n",
       "      <td>9</td>\n",
       "    </tr>\n",
       "    <tr>\n",
       "      <th>4175</th>\n",
       "      <td>F</td>\n",
       "      <td>0.625</td>\n",
       "      <td>0.485</td>\n",
       "      <td>0.150</td>\n",
       "      <td>1.0945</td>\n",
       "      <td>0.5310</td>\n",
       "      <td>0.2610</td>\n",
       "      <td>0.2960</td>\n",
       "      <td>10</td>\n",
       "    </tr>\n",
       "    <tr>\n",
       "      <th>4176</th>\n",
       "      <td>M</td>\n",
       "      <td>0.710</td>\n",
       "      <td>0.555</td>\n",
       "      <td>0.195</td>\n",
       "      <td>1.9485</td>\n",
       "      <td>0.9455</td>\n",
       "      <td>0.3765</td>\n",
       "      <td>0.4950</td>\n",
       "      <td>12</td>\n",
       "    </tr>\n",
       "  </tbody>\n",
       "</table>\n",
       "<p>4177 rows × 9 columns</p>\n",
       "</div>"
      ],
      "text/plain": [
       "     Sex  Length  Diameter  Height  Whole weight  Shucked weight  \\\n",
       "0      M   0.455     0.365   0.095        0.5140          0.2245   \n",
       "1      M   0.350     0.265   0.090        0.2255          0.0995   \n",
       "2      F   0.530     0.420   0.135        0.6770          0.2565   \n",
       "3      M   0.440     0.365   0.125        0.5160          0.2155   \n",
       "4      I   0.330     0.255   0.080        0.2050          0.0895   \n",
       "...   ..     ...       ...     ...           ...             ...   \n",
       "4172   F   0.565     0.450   0.165        0.8870          0.3700   \n",
       "4173   M   0.590     0.440   0.135        0.9660          0.4390   \n",
       "4174   M   0.600     0.475   0.205        1.1760          0.5255   \n",
       "4175   F   0.625     0.485   0.150        1.0945          0.5310   \n",
       "4176   M   0.710     0.555   0.195        1.9485          0.9455   \n",
       "\n",
       "      Viscera weight  Shell weight  Rings  \n",
       "0             0.1010        0.1500     15  \n",
       "1             0.0485        0.0700      7  \n",
       "2             0.1415        0.2100      9  \n",
       "3             0.1140        0.1550     10  \n",
       "4             0.0395        0.0550      7  \n",
       "...              ...           ...    ...  \n",
       "4172          0.2390        0.2490     11  \n",
       "4173          0.2145        0.2605     10  \n",
       "4174          0.2875        0.3080      9  \n",
       "4175          0.2610        0.2960     10  \n",
       "4176          0.3765        0.4950     12  \n",
       "\n",
       "[4177 rows x 9 columns]"
      ]
     },
     "execution_count": 20,
     "metadata": {},
     "output_type": "execute_result"
    }
   ],
   "source": [
    "cols = [\"Sex\", \"Length\", \"Diameter\", \"Height\", \"Whole weight\", \"Shucked weight\", \"Viscera weight\", \"Shell weight\", \"Rings\"]\n",
    "abalone_data = pd.read_csv(\"https://archive.ics.uci.edu/ml/machine-learning-databases/abalone/abalone.data\", header=None, encoding='utf-8', names=cols)\n",
    "abalone_data"
   ]
  },
  {
   "cell_type": "code",
   "execution_count": 21,
   "id": "4d85de92",
   "metadata": {
    "scrolled": false
   },
   "outputs": [
    {
     "name": "stdout",
     "output_type": "stream",
     "text": [
      "<class 'pandas.core.frame.DataFrame'>\n",
      "RangeIndex: 4177 entries, 0 to 4176\n",
      "Data columns (total 9 columns):\n",
      " #   Column          Non-Null Count  Dtype  \n",
      "---  ------          --------------  -----  \n",
      " 0   Sex             4177 non-null   object \n",
      " 1   Length          4177 non-null   float64\n",
      " 2   Diameter        4177 non-null   float64\n",
      " 3   Height          4177 non-null   float64\n",
      " 4   Whole weight    4177 non-null   float64\n",
      " 5   Shucked weight  4177 non-null   float64\n",
      " 6   Viscera weight  4177 non-null   float64\n",
      " 7   Shell weight    4177 non-null   float64\n",
      " 8   Rings           4177 non-null   int64  \n",
      "dtypes: float64(7), int64(1), object(1)\n",
      "memory usage: 293.8+ KB\n"
     ]
    }
   ],
   "source": [
    "abalone_data.info()"
   ]
  },
  {
   "cell_type": "code",
   "execution_count": 22,
   "id": "fc1324e0",
   "metadata": {},
   "outputs": [
    {
     "data": {
      "text/plain": [
       "array(['M', 'F', 'I'], dtype=object)"
      ]
     },
     "execution_count": 22,
     "metadata": {},
     "output_type": "execute_result"
    }
   ],
   "source": [
    "abalone_data.Sex.unique()"
   ]
  },
  {
   "cell_type": "code",
   "execution_count": 23,
   "id": "95a05c3a",
   "metadata": {},
   "outputs": [],
   "source": [
    "abalone_data = abalone_data.replace({'Sex': {'M': 1, 'F': 2, 'I': 3}})"
   ]
  },
  {
   "cell_type": "code",
   "execution_count": 24,
   "id": "b59c7af5",
   "metadata": {},
   "outputs": [
    {
     "data": {
      "text/plain": [
       "0       15\n",
       "1        7\n",
       "2        9\n",
       "3       10\n",
       "4        7\n",
       "        ..\n",
       "4172    11\n",
       "4173    10\n",
       "4174     9\n",
       "4175    10\n",
       "4176    12\n",
       "Name: Rings, Length: 4177, dtype: int64"
      ]
     },
     "execution_count": 24,
     "metadata": {},
     "output_type": "execute_result"
    }
   ],
   "source": [
    "abalone_data.pop('Rings') #Remove the label column"
   ]
  },
  {
   "cell_type": "code",
   "execution_count": 25,
   "id": "fbf863c4",
   "metadata": {},
   "outputs": [
    {
     "data": {
      "text/html": [
       "<div>\n",
       "<style scoped>\n",
       "    .dataframe tbody tr th:only-of-type {\n",
       "        vertical-align: middle;\n",
       "    }\n",
       "\n",
       "    .dataframe tbody tr th {\n",
       "        vertical-align: top;\n",
       "    }\n",
       "\n",
       "    .dataframe thead th {\n",
       "        text-align: right;\n",
       "    }\n",
       "</style>\n",
       "<table border=\"1\" class=\"dataframe\">\n",
       "  <thead>\n",
       "    <tr style=\"text-align: right;\">\n",
       "      <th></th>\n",
       "      <th>count</th>\n",
       "      <th>mean</th>\n",
       "      <th>std</th>\n",
       "      <th>min</th>\n",
       "      <th>25%</th>\n",
       "      <th>50%</th>\n",
       "      <th>75%</th>\n",
       "      <th>max</th>\n",
       "    </tr>\n",
       "  </thead>\n",
       "  <tbody>\n",
       "    <tr>\n",
       "      <th>Sex</th>\n",
       "      <td>4177.0</td>\n",
       "      <td>1.955470</td>\n",
       "      <td>0.827815</td>\n",
       "      <td>1.0000</td>\n",
       "      <td>1.0000</td>\n",
       "      <td>2.0000</td>\n",
       "      <td>3.000</td>\n",
       "      <td>3.0000</td>\n",
       "    </tr>\n",
       "    <tr>\n",
       "      <th>Length</th>\n",
       "      <td>4177.0</td>\n",
       "      <td>0.523992</td>\n",
       "      <td>0.120093</td>\n",
       "      <td>0.0750</td>\n",
       "      <td>0.4500</td>\n",
       "      <td>0.5450</td>\n",
       "      <td>0.615</td>\n",
       "      <td>0.8150</td>\n",
       "    </tr>\n",
       "    <tr>\n",
       "      <th>Diameter</th>\n",
       "      <td>4177.0</td>\n",
       "      <td>0.407881</td>\n",
       "      <td>0.099240</td>\n",
       "      <td>0.0550</td>\n",
       "      <td>0.3500</td>\n",
       "      <td>0.4250</td>\n",
       "      <td>0.480</td>\n",
       "      <td>0.6500</td>\n",
       "    </tr>\n",
       "    <tr>\n",
       "      <th>Height</th>\n",
       "      <td>4177.0</td>\n",
       "      <td>0.139516</td>\n",
       "      <td>0.041827</td>\n",
       "      <td>0.0000</td>\n",
       "      <td>0.1150</td>\n",
       "      <td>0.1400</td>\n",
       "      <td>0.165</td>\n",
       "      <td>1.1300</td>\n",
       "    </tr>\n",
       "    <tr>\n",
       "      <th>Whole weight</th>\n",
       "      <td>4177.0</td>\n",
       "      <td>0.828742</td>\n",
       "      <td>0.490389</td>\n",
       "      <td>0.0020</td>\n",
       "      <td>0.4415</td>\n",
       "      <td>0.7995</td>\n",
       "      <td>1.153</td>\n",
       "      <td>2.8255</td>\n",
       "    </tr>\n",
       "    <tr>\n",
       "      <th>Shucked weight</th>\n",
       "      <td>4177.0</td>\n",
       "      <td>0.359367</td>\n",
       "      <td>0.221963</td>\n",
       "      <td>0.0010</td>\n",
       "      <td>0.1860</td>\n",
       "      <td>0.3360</td>\n",
       "      <td>0.502</td>\n",
       "      <td>1.4880</td>\n",
       "    </tr>\n",
       "    <tr>\n",
       "      <th>Viscera weight</th>\n",
       "      <td>4177.0</td>\n",
       "      <td>0.180594</td>\n",
       "      <td>0.109614</td>\n",
       "      <td>0.0005</td>\n",
       "      <td>0.0935</td>\n",
       "      <td>0.1710</td>\n",
       "      <td>0.253</td>\n",
       "      <td>0.7600</td>\n",
       "    </tr>\n",
       "    <tr>\n",
       "      <th>Shell weight</th>\n",
       "      <td>4177.0</td>\n",
       "      <td>0.238831</td>\n",
       "      <td>0.139203</td>\n",
       "      <td>0.0015</td>\n",
       "      <td>0.1300</td>\n",
       "      <td>0.2340</td>\n",
       "      <td>0.329</td>\n",
       "      <td>1.0050</td>\n",
       "    </tr>\n",
       "  </tbody>\n",
       "</table>\n",
       "</div>"
      ],
      "text/plain": [
       "                 count      mean       std     min     25%     50%    75%  \\\n",
       "Sex             4177.0  1.955470  0.827815  1.0000  1.0000  2.0000  3.000   \n",
       "Length          4177.0  0.523992  0.120093  0.0750  0.4500  0.5450  0.615   \n",
       "Diameter        4177.0  0.407881  0.099240  0.0550  0.3500  0.4250  0.480   \n",
       "Height          4177.0  0.139516  0.041827  0.0000  0.1150  0.1400  0.165   \n",
       "Whole weight    4177.0  0.828742  0.490389  0.0020  0.4415  0.7995  1.153   \n",
       "Shucked weight  4177.0  0.359367  0.221963  0.0010  0.1860  0.3360  0.502   \n",
       "Viscera weight  4177.0  0.180594  0.109614  0.0005  0.0935  0.1710  0.253   \n",
       "Shell weight    4177.0  0.238831  0.139203  0.0015  0.1300  0.2340  0.329   \n",
       "\n",
       "                   max  \n",
       "Sex             3.0000  \n",
       "Length          0.8150  \n",
       "Diameter        0.6500  \n",
       "Height          1.1300  \n",
       "Whole weight    2.8255  \n",
       "Shucked weight  1.4880  \n",
       "Viscera weight  0.7600  \n",
       "Shell weight    1.0050  "
      ]
     },
     "execution_count": 25,
     "metadata": {},
     "output_type": "execute_result"
    }
   ],
   "source": [
    "abalone_data.describe().T"
   ]
  },
  {
   "cell_type": "code",
   "execution_count": 26,
   "id": "9f70ba96",
   "metadata": {},
   "outputs": [
    {
     "data": {
      "text/plain": [
       "<AxesSubplot:ylabel='Density'>"
      ]
     },
     "execution_count": 26,
     "metadata": {},
     "output_type": "execute_result"
    },
    {
     "data": {
      "image/png": "[encoded data removed]",
      "text/plain": [
       "<Figure size 432x288 with 1 Axes>"
      ]
     },
     "metadata": {},
     "output_type": "display_data"
    }
   ],
   "source": [
    "abalone_data.plot.kde()"
   ]
  },
  {
   "cell_type": "code",
   "execution_count": 27,
   "id": "6770bcd8",
   "metadata": {},
   "outputs": [
    {
     "data": {
      "text/plain": [
       "<AxesSubplot:>"
      ]
     },
     "execution_count": 27,
     "metadata": {},
     "output_type": "execute_result"
    },
    {
     "data": {
      "image/png": "[encoded data removed]",
      "text/plain": [
       "<Figure size 432x288 with 1 Axes>"
      ]
     },
     "metadata": {},
     "output_type": "display_data"
    }
   ],
   "source": [
    "abalone_data.boxplot()"
   ]
  },
  {
   "attachments": {
    "image.png": {
     "image/png": "[encoded data removed]"
    }
   },
   "cell_type": "markdown",
   "id": "1906557e",
   "metadata": {},
   "source": [
    "#### StandardScaler ![image.png](attachment:image.png)"
   ]
  },
  {
   "cell_type": "code",
   "execution_count": 28,
   "id": "fb46070c",
   "metadata": {},
   "outputs": [],
   "source": [
    "from sklearn.preprocessing import StandardScaler\n",
    "\n",
    "X = np.array([4, 3, 2, 5, 6]).reshape((5, 1))"
   ]
  },
  {
   "cell_type": "code",
   "execution_count": 29,
   "id": "16648db0",
   "metadata": {},
   "outputs": [
    {
     "data": {
      "text/plain": [
       "array([[ 0.        ],\n",
       "       [-0.70710678],\n",
       "       [-1.41421356],\n",
       "       [ 0.70710678],\n",
       "       [ 1.41421356]])"
      ]
     },
     "execution_count": 29,
     "metadata": {},
     "output_type": "execute_result"
    }
   ],
   "source": [
    "ss = StandardScaler()\n",
    "ss.fit_transform(X)"
   ]
  },
  {
   "attachments": {
    "image-2.png": {
     "image/png": "[encoded data removed]"
    }
   },
   "cell_type": "markdown",
   "id": "0ce58612",
   "metadata": {},
   "source": [
    "#### MinMaxScaler (Normalization) ![image-2.png](attachment:image-2.png)"
   ]
  },
  {
   "cell_type": "code",
   "execution_count": 30,
   "id": "adb71c74",
   "metadata": {},
   "outputs": [],
   "source": [
    "from sklearn.preprocessing import MinMaxScaler\n",
    "\n",
    "X = np.array([15, 2, 5, -2, -5]).reshape((5,1))"
   ]
  },
  {
   "cell_type": "code",
   "execution_count": 31,
   "id": "a344afd7",
   "metadata": {
    "scrolled": true
   },
   "outputs": [
    {
     "data": {
      "text/plain": [
       "array([[1.  ],\n",
       "       [0.35],\n",
       "       [0.5 ],\n",
       "       [0.15],\n",
       "       [0.  ]])"
      ]
     },
     "execution_count": 31,
     "metadata": {},
     "output_type": "execute_result"
    }
   ],
   "source": [
    "mm = MinMaxScaler()\n",
    "mm.fit_transform(X)"
   ]
  },
  {
   "attachments": {
    "image-3.png": {
     "image/png": "[encoded data removed]"
    }
   },
   "cell_type": "markdown",
   "id": "40afd822",
   "metadata": {},
   "source": [
    "#### MaxAbsScaler ![image-3.png](attachment:image-3.png)"
   ]
  },
  {
   "cell_type": "code",
   "execution_count": 32,
   "id": "82483063",
   "metadata": {},
   "outputs": [],
   "source": [
    "from sklearn.preprocessing import MaxAbsScaler\n",
    "\n",
    "X = np.array([4, 2, 5, -2, -100]).reshape((5, 1))"
   ]
  },
  {
   "cell_type": "code",
   "execution_count": 33,
   "id": "549f72e1",
   "metadata": {
    "scrolled": true
   },
   "outputs": [
    {
     "data": {
      "text/plain": [
       "array([[ 0.04],\n",
       "       [ 0.02],\n",
       "       [ 0.05],\n",
       "       [-0.02],\n",
       "       [-1.  ]])"
      ]
     },
     "execution_count": 33,
     "metadata": {},
     "output_type": "execute_result"
    }
   ],
   "source": [
    "ma = MaxAbsScaler()\n",
    "ma.fit_transform(X)"
   ]
  },
  {
   "cell_type": "markdown",
   "id": "4ed88382",
   "metadata": {},
   "source": [
    "#### FunctionTransfomer (Transforms based on user-defined function)"
   ]
  },
  {
   "cell_type": "code",
   "execution_count": 34,
   "id": "5beef566",
   "metadata": {},
   "outputs": [],
   "source": [
    "from sklearn.preprocessing import FunctionTransformer\n",
    "X = np.array([[128, 2], [2, 256], [4, 1], [512, 64]])"
   ]
  },
  {
   "cell_type": "code",
   "execution_count": 35,
   "id": "d133c871",
   "metadata": {
    "scrolled": false
   },
   "outputs": [
    {
     "data": {
      "text/plain": [
       "array([[7., 1.],\n",
       "       [1., 8.],\n",
       "       [2., 0.],\n",
       "       [9., 6.]])"
      ]
     },
     "execution_count": 35,
     "metadata": {},
     "output_type": "execute_result"
    }
   ],
   "source": [
    "ft = FunctionTransformer(np.log2)\n",
    "ft.fit_transform(X)"
   ]
  },
  {
   "cell_type": "code",
   "execution_count": 36,
   "id": "4f774fd9",
   "metadata": {
    "scrolled": false
   },
   "outputs": [
    {
     "data": {
      "text/plain": [
       "121.125"
      ]
     },
     "execution_count": 36,
     "metadata": {},
     "output_type": "execute_result"
    }
   ],
   "source": [
    "ft = FunctionTransformer(np.mean) # mean of all elements\n",
    "ft.fit_transform(X)"
   ]
  },
  {
   "cell_type": "markdown",
   "id": "67e260f6",
   "metadata": {},
   "source": [
    "#### PolynomialTransfomation (Create all polynomial combinations)"
   ]
  },
  {
   "cell_type": "code",
   "execution_count": 37,
   "id": "5669460f",
   "metadata": {},
   "outputs": [],
   "source": [
    "X = np.array([[2, 3],[4, 5],[6,7]]) #Same example has been used in MLT Week-3 Cell #13"
   ]
  },
  {
   "cell_type": "code",
   "execution_count": 38,
   "id": "6e525ae7",
   "metadata": {
    "scrolled": true
   },
   "outputs": [
    {
     "data": {
      "text/plain": [
       "array([[  1.,   2.,   3.,   4.,   6.,   9.,   8.,  12.,  18.,  27.],\n",
       "       [  1.,   4.,   5.,  16.,  20.,  25.,  64.,  80., 100., 125.],\n",
       "       [  1.,   6.,   7.,  36.,  42.,  49., 216., 252., 294., 343.]])"
      ]
     },
     "execution_count": 38,
     "metadata": {},
     "output_type": "execute_result"
    }
   ],
   "source": [
    "from sklearn.preprocessing import PolynomialFeatures\n",
    "\n",
    "poly = PolynomialFeatures(degree=3)\n",
    "poly.fit_transform(X)"
   ]
  },
  {
   "cell_type": "markdown",
   "id": "d735a144",
   "metadata": {},
   "source": [
    "#### KBinsDiscretizer (Binning + One hot/ordinal encoding)"
   ]
  },
  {
   "cell_type": "code",
   "execution_count": 39,
   "id": "dea4bddc",
   "metadata": {},
   "outputs": [],
   "source": [
    "X = np.array([0, 0.125, 0.25, 0.375, 0.5, 0.675, 0.75, 0.875, 1.0]).reshape(9,1)"
   ]
  },
  {
   "cell_type": "code",
   "execution_count": 40,
   "id": "8a9d4c0b",
   "metadata": {
    "scrolled": true
   },
   "outputs": [
    {
     "data": {
      "text/plain": [
       "array([[1., 0., 0., 0., 0.],\n",
       "       [1., 0., 0., 0., 0.],\n",
       "       [0., 1., 0., 0., 0.],\n",
       "       [0., 1., 0., 0., 0.],\n",
       "       [0., 0., 1., 0., 0.],\n",
       "       [0., 0., 0., 1., 0.],\n",
       "       [0., 0., 0., 1., 0.],\n",
       "       [0., 0., 0., 0., 1.],\n",
       "       [0., 0., 0., 0., 1.]])"
      ]
     },
     "execution_count": 40,
     "metadata": {},
     "output_type": "execute_result"
    }
   ],
   "source": [
    "from sklearn.preprocessing import KBinsDiscretizer\n",
    "\n",
    "KBD = KBinsDiscretizer(n_bins=5, strategy='uniform', encode='onehot')\n",
    "X_fit = KBD.fit_transform(X) #return sparse matrix\n",
    "X_fit.toarray() #convert to numpy array"
   ]
  },
  {
   "cell_type": "code",
   "execution_count": 41,
   "id": "b50528e0",
   "metadata": {
    "scrolled": true
   },
   "outputs": [
    {
     "data": {
      "text/plain": [
       "matrix([[1., 0., 0., 0., 0.],\n",
       "        [1., 0., 0., 0., 0.],\n",
       "        [0., 1., 0., 0., 0.],\n",
       "        [0., 1., 0., 0., 0.],\n",
       "        [0., 0., 1., 0., 0.],\n",
       "        [0., 0., 0., 1., 0.],\n",
       "        [0., 0., 0., 1., 0.],\n",
       "        [0., 0., 0., 0., 1.],\n",
       "        [0., 0., 0., 0., 1.]])"
      ]
     },
     "execution_count": 41,
     "metadata": {},
     "output_type": "execute_result"
    }
   ],
   "source": [
    "X_fit.todense() #convert to matrix"
   ]
  },
  {
   "cell_type": "markdown",
   "id": "2e9a3371",
   "metadata": {},
   "source": [
    "#### Categorical Transformers"
   ]
  },
  {
   "cell_type": "markdown",
   "id": "c6ecb2f4",
   "metadata": {},
   "source": [
    "#### One-hot encoder"
   ]
  },
  {
   "cell_type": "code",
   "execution_count": 42,
   "id": "6514bee8",
   "metadata": {
    "scrolled": true
   },
   "outputs": [
    {
     "data": {
      "text/plain": [
       "array([[1., 0., 0., 0.],\n",
       "       [0., 1., 0., 0.],\n",
       "       [0., 0., 1., 0.],\n",
       "       [1., 0., 0., 0.],\n",
       "       [0., 0., 0., 1.],\n",
       "       [0., 0., 1., 0.]])"
      ]
     },
     "execution_count": 42,
     "metadata": {},
     "output_type": "execute_result"
    }
   ],
   "source": [
    "from sklearn.preprocessing import OneHotEncoder\n",
    "\n",
    "X = np.array([1, 2, 6, 1, 8, 6]).reshape(6, 1) #4 unique values\n",
    "ohe = OneHotEncoder(sparse=False)\n",
    "ohe.fit_transform(X) #one column for each unique value"
   ]
  },
  {
   "cell_type": "markdown",
   "id": "bf45fe26",
   "metadata": {},
   "source": [
    "#### Label encoder"
   ]
  },
  {
   "cell_type": "code",
   "execution_count": 43,
   "id": "247f55e8",
   "metadata": {},
   "outputs": [
    {
     "data": {
      "text/plain": [
       "array([0, 1, 2, 0, 3, 2], dtype=int64)"
      ]
     },
     "execution_count": 43,
     "metadata": {},
     "output_type": "execute_result"
    }
   ],
   "source": [
    "from sklearn.preprocessing import LabelEncoder\n",
    "\n",
    "X = np.array([1, 2, 6, 1, 8, 6]).reshape(6, ) #4 unique values.  If this is reshape to (6, 1), it gives a warning; why?\n",
    "le = LabelEncoder()\n",
    "le.fit_transform(X) # 1 is encoded as 0, 2 as 1, 6 as 2, and 8 as 3."
   ]
  },
  {
   "cell_type": "markdown",
   "id": "70b89f8a",
   "metadata": {},
   "source": [
    "#### Ordinal encoder"
   ]
  },
  {
   "cell_type": "markdown",
   "id": "61eb9f58",
   "metadata": {},
   "source": [
    "OrdinalEncoder can operate multi dimensional data, while LabelEncoder can transform only 1D data."
   ]
  },
  {
   "cell_type": "code",
   "execution_count": 44,
   "id": "ca3a8625",
   "metadata": {
    "scrolled": false
   },
   "outputs": [
    {
     "data": {
      "text/plain": [
       "array([[0., 1.],\n",
       "       [1., 0.],\n",
       "       [2., 0.],\n",
       "       [0., 1.],\n",
       "       [3., 1.],\n",
       "       [2., 0.]])"
      ]
     },
     "execution_count": 44,
     "metadata": {},
     "output_type": "execute_result"
    }
   ],
   "source": [
    "from sklearn.preprocessing import OrdinalEncoder\n",
    "\n",
    "X = np.array([[1, 2, 6, 1, 8, 6], ['male', 'female', 'female', 'male', 'male', 'female']]).T\n",
    "oe = OrdinalEncoder()\n",
    "oe.fit_transform(X) # 1 is encoded as 0, 2 as 1, 6 as 2, and 8 as 3; 'male' as 1 and 'female' as 0"
   ]
  },
  {
   "cell_type": "markdown",
   "id": "a0795721",
   "metadata": {},
   "source": [
    "#### LabelBinarizer"
   ]
  },
  {
   "cell_type": "code",
   "execution_count": 45,
   "id": "cff369f4",
   "metadata": {},
   "outputs": [
    {
     "data": {
      "text/plain": [
       "array([[1, 0, 0],\n",
       "       [1, 0, 0],\n",
       "       [0, 0, 1],\n",
       "       [1, 0, 0],\n",
       "       [0, 1, 0],\n",
       "       [0, 1, 0],\n",
       "       [0, 0, 1],\n",
       "       [1, 0, 0],\n",
       "       [0, 0, 1],\n",
       "       [0, 1, 0]])"
      ]
     },
     "execution_count": 45,
     "metadata": {},
     "output_type": "execute_result"
    }
   ],
   "source": [
    "from sklearn.preprocessing import LabelBinarizer\n",
    "X = np.array(['cold', 'cold', 'warm', 'cold', 'hot', 'hot', 'warm', 'cold', 'warm', 'hot']).reshape(10, 1)\n",
    "lb = LabelBinarizer()\n",
    "lb.fit_transform(X)"
   ]
  },
  {
   "cell_type": "code",
   "execution_count": 46,
   "id": "aac1d7b1",
   "metadata": {
    "scrolled": true
   },
   "outputs": [
    {
     "data": {
      "text/plain": [
       "array([[1., 0., 0.],\n",
       "       [1., 0., 0.],\n",
       "       [0., 0., 1.],\n",
       "       [1., 0., 0.],\n",
       "       [0., 1., 0.],\n",
       "       [0., 1., 0.],\n",
       "       [0., 0., 1.],\n",
       "       [1., 0., 0.],\n",
       "       [0., 0., 1.],\n",
       "       [0., 1., 0.]])"
      ]
     },
     "execution_count": 46,
     "metadata": {},
     "output_type": "execute_result"
    }
   ],
   "source": [
    "# OneHotEncoder on this data produces the same result.  The only difference between OneHotEncoder and LabelBinarizer \n",
    "# appears to be that the former return a sparse matrix by default, while the latter returns a dense matrix by default.\n",
    "from sklearn.preprocessing import OneHotEncoder\n",
    "ohe = OneHotEncoder(sparse=False)\n",
    "ohe.fit_transform(X)"
   ]
  },
  {
   "cell_type": "markdown",
   "id": "2c9d42d3",
   "metadata": {},
   "source": [
    "#### MultiLabelBinarizer"
   ]
  },
  {
   "cell_type": "code",
   "execution_count": 47,
   "id": "3d3ba11e",
   "metadata": {},
   "outputs": [
    {
     "data": {
      "text/plain": [
       "array([[1, 1, 0, 0],\n",
       "       [0, 1, 0, 0],\n",
       "       [1, 0, 0, 1],\n",
       "       [1, 0, 1, 1]])"
      ]
     },
     "execution_count": 47,
     "metadata": {},
     "output_type": "execute_result"
    }
   ],
   "source": [
    "from sklearn.preprocessing import MultiLabelBinarizer\n",
    "\n",
    "X = np.array([{'action', 'comedy' },\n",
    "{'comedy'},\n",
    "{'action', 'thriller'},\n",
    "{'science-fiction', 'action', 'thriller'}]) #4 unique values\n",
    "\n",
    "mlb = MultiLabelBinarizer()\n",
    "mlb.fit_transform(X) # the columns are 'action', 'comedy', 'science-fiction' and 'thriller'"
   ]
  },
  {
   "cell_type": "markdown",
   "id": "d624e450",
   "metadata": {},
   "source": [
    "#### add_dummy_feature"
   ]
  },
  {
   "cell_type": "code",
   "execution_count": 48,
   "id": "a727db5b",
   "metadata": {
    "scrolled": true
   },
   "outputs": [
    {
     "data": {
      "text/plain": [
       "array([[1., 7., 1.],\n",
       "       [1., 1., 8.],\n",
       "       [1., 2., 0.],\n",
       "       [1., 9., 6.]])"
      ]
     },
     "execution_count": 48,
     "metadata": {},
     "output_type": "execute_result"
    }
   ],
   "source": [
    "from sklearn.preprocessing import add_dummy_feature\n",
    "\n",
    "X = np.array([[7, 1], [1, 8], [2, 0], [9, 6]])\n",
    "\n",
    "add_dummy_feature(X)"
   ]
  },
  {
   "cell_type": "code",
   "execution_count": 49,
   "id": "094a8702",
   "metadata": {},
   "outputs": [
    {
     "data": {
      "text/html": [
       "<div>\n",
       "<style scoped>\n",
       "    .dataframe tbody tr th:only-of-type {\n",
       "        vertical-align: middle;\n",
       "    }\n",
       "\n",
       "    .dataframe tbody tr th {\n",
       "        vertical-align: top;\n",
       "    }\n",
       "\n",
       "    .dataframe thead th {\n",
       "        text-align: right;\n",
       "    }\n",
       "</style>\n",
       "<table border=\"1\" class=\"dataframe\">\n",
       "  <thead>\n",
       "    <tr style=\"text-align: right;\">\n",
       "      <th></th>\n",
       "      <th>weather_cold</th>\n",
       "      <th>weather_hot</th>\n",
       "      <th>weather_warm</th>\n",
       "    </tr>\n",
       "  </thead>\n",
       "  <tbody>\n",
       "    <tr>\n",
       "      <th>0</th>\n",
       "      <td>1</td>\n",
       "      <td>0</td>\n",
       "      <td>0</td>\n",
       "    </tr>\n",
       "    <tr>\n",
       "      <th>1</th>\n",
       "      <td>1</td>\n",
       "      <td>0</td>\n",
       "      <td>0</td>\n",
       "    </tr>\n",
       "    <tr>\n",
       "      <th>2</th>\n",
       "      <td>0</td>\n",
       "      <td>0</td>\n",
       "      <td>1</td>\n",
       "    </tr>\n",
       "    <tr>\n",
       "      <th>3</th>\n",
       "      <td>1</td>\n",
       "      <td>0</td>\n",
       "      <td>0</td>\n",
       "    </tr>\n",
       "    <tr>\n",
       "      <th>4</th>\n",
       "      <td>0</td>\n",
       "      <td>1</td>\n",
       "      <td>0</td>\n",
       "    </tr>\n",
       "    <tr>\n",
       "      <th>5</th>\n",
       "      <td>0</td>\n",
       "      <td>1</td>\n",
       "      <td>0</td>\n",
       "    </tr>\n",
       "    <tr>\n",
       "      <th>6</th>\n",
       "      <td>0</td>\n",
       "      <td>0</td>\n",
       "      <td>1</td>\n",
       "    </tr>\n",
       "    <tr>\n",
       "      <th>7</th>\n",
       "      <td>1</td>\n",
       "      <td>0</td>\n",
       "      <td>0</td>\n",
       "    </tr>\n",
       "    <tr>\n",
       "      <th>8</th>\n",
       "      <td>0</td>\n",
       "      <td>0</td>\n",
       "      <td>1</td>\n",
       "    </tr>\n",
       "    <tr>\n",
       "      <th>9</th>\n",
       "      <td>0</td>\n",
       "      <td>1</td>\n",
       "      <td>0</td>\n",
       "    </tr>\n",
       "  </tbody>\n",
       "</table>\n",
       "</div>"
      ],
      "text/plain": [
       "   weather_cold  weather_hot  weather_warm\n",
       "0             1            0             0\n",
       "1             1            0             0\n",
       "2             0            0             1\n",
       "3             1            0             0\n",
       "4             0            1             0\n",
       "5             0            1             0\n",
       "6             0            0             1\n",
       "7             1            0             0\n",
       "8             0            0             1\n",
       "9             0            1             0"
      ]
     },
     "execution_count": 49,
     "metadata": {},
     "output_type": "execute_result"
    }
   ],
   "source": [
    "# create separate columns for each unique value\n",
    "X = np.array(['cold', 'cold', 'warm', 'cold', 'hot', 'hot', 'warm', 'cold', 'warm', 'hot'])\n",
    "pd.get_dummies(X, prefix='weather') # specify columns parameter, when used on a dataframe."
   ]
  },
  {
   "cell_type": "markdown",
   "id": "17763a65",
   "metadata": {},
   "source": [
    "### 2. Feature Selection"
   ]
  },
  {
   "cell_type": "markdown",
   "id": "afb537ee",
   "metadata": {},
   "source": [
    "#### Column Transformer"
   ]
  },
  {
   "cell_type": "code",
   "execution_count": 50,
   "id": "bdcf78c1",
   "metadata": {},
   "outputs": [
    {
     "data": {
      "text/plain": [
       "array([['20.0', 'male'],\n",
       "       ['11.2', 'female'],\n",
       "       ['15.6', 'female'],\n",
       "       ['13.0', 'male'],\n",
       "       ['18.6', 'male'],\n",
       "       ['16.4', 'female']], dtype='<U32')"
      ]
     },
     "execution_count": 50,
     "metadata": {},
     "output_type": "execute_result"
    }
   ],
   "source": [
    "X = np.array([[20.0, 11.2, 15.6, 13.0, 18.6, 16.4], ['male', 'female', 'female', 'male', 'male', 'female']]).T\n",
    "X"
   ]
  },
  {
   "cell_type": "code",
   "execution_count": 51,
   "id": "da37c2f0",
   "metadata": {
    "scrolled": true
   },
   "outputs": [
    {
     "data": {
      "text/plain": [
       "array([['1.0', '20.0', '0', '1'],\n",
       "       ['0.5599999999999999', '11.2', '1', '0'],\n",
       "       ['0.78', '15.6', '1', '0'],\n",
       "       ['0.65', '13.0', '0', '1'],\n",
       "       ['0.93', '18.6', '0', '1'],\n",
       "       ['0.82', '16.4', '1', '0']], dtype='<U32')"
      ]
     },
     "execution_count": 51,
     "metadata": {},
     "output_type": "execute_result"
    }
   ],
   "source": [
    "from sklearn.compose import ColumnTransformer\n",
    "\n",
    "column_trans = ColumnTransformer([('ageScaler', MaxAbsScaler(), [0]), ('pass', 'passthrough', [0]), ('genderEncoder', OneHotEncoder(dtype='int'), [1])])\n",
    "#     remainder='drop', verbose_feature_names_out=False)\n",
    "column_trans.fit_transform(X)"
   ]
  },
  {
   "cell_type": "markdown",
   "id": "d51dcc0b",
   "metadata": {},
   "source": [
    "#### TransformedTargetRegressor"
   ]
  },
  {
   "cell_type": "code",
   "execution_count": 52,
   "id": "d78682b4",
   "metadata": {},
   "outputs": [],
   "source": [
    "# Here are the steps\n",
    "# regressor.fit(X, func(y)) #fits regressor\n",
    "# inverse_func(regressor.predict(X))  #Predicts X from y"
   ]
  },
  {
   "cell_type": "code",
   "execution_count": 53,
   "id": "5469f40b",
   "metadata": {},
   "outputs": [],
   "source": [
    "import numpy as np\n",
    "from sklearn.linear_model import LinearRegression\n",
    "from sklearn.compose import TransformedTargetRegressor\n",
    "\n",
    "tf = np.log # transformer function\n",
    "tt = TransformedTargetRegressor(regressor=LinearRegression(), func=tf, inverse_func=np.exp)"
   ]
  },
  {
   "cell_type": "code",
   "execution_count": 54,
   "id": "6bfaa3f0",
   "metadata": {},
   "outputs": [],
   "source": [
    "# Generate some test values\n",
    "X = np.arange(4).reshape(-1, 1)\n",
    "y = np.exp(2 * X).ravel()"
   ]
  },
  {
   "cell_type": "code",
   "execution_count": 55,
   "id": "e893ae45",
   "metadata": {},
   "outputs": [
    {
     "data": {
      "text/plain": [
       "array([  1.        ,   7.3890561 ,  54.59815003, 403.42879349])"
      ]
     },
     "execution_count": 55,
     "metadata": {},
     "output_type": "execute_result"
    }
   ],
   "source": [
    "tt.fit(X, y)\n",
    "tt.predict(X)  # this is equal to np.exp(2 * X) and basically equivalent to reverse fitting X for given y"
   ]
  },
  {
   "cell_type": "code",
   "execution_count": 56,
   "id": "94eb57e9",
   "metadata": {
    "scrolled": true
   },
   "outputs": [
    {
     "data": {
      "text/plain": [
       "(4, 4)"
      ]
     },
     "execution_count": 56,
     "metadata": {},
     "output_type": "execute_result"
    }
   ],
   "source": [
    "x = np.array([10, 20, 30, 40])\n",
    "x.shape[0], len(x)"
   ]
  },
  {
   "cell_type": "markdown",
   "id": "ac0c0ad2",
   "metadata": {},
   "source": [
    "#### Filter-based selection methods"
   ]
  },
  {
   "cell_type": "markdown",
   "id": "24b7a6e7",
   "metadata": {},
   "source": [
    "#### VarianceThreshold"
   ]
  },
  {
   "cell_type": "code",
   "execution_count": 57,
   "id": "c5b9e428",
   "metadata": {},
   "outputs": [],
   "source": [
    "data = [{'age': 4, 'height':96.0},\n",
    "{'age': 1, 'height':73.9},\n",
    "{'age': 3, 'height':88.9},\n",
    "{'age': 2, 'height':81.6}]"
   ]
  },
  {
   "cell_type": "code",
   "execution_count": 58,
   "id": "64ba05f1",
   "metadata": {
    "scrolled": false
   },
   "outputs": [
    {
     "data": {
      "text/plain": [
       "array([ 1.25 , 67.735])"
      ]
     },
     "execution_count": 58,
     "metadata": {},
     "output_type": "execute_result"
    }
   ],
   "source": [
    "from sklearn.feature_extraction import DictVectorizer\n",
    "dv = DictVectorizer(sparse=False)\n",
    "data_transformed = dv.fit_transform(data) #creates a 2-d matrix\n",
    "np.var(data_transformed, axis=0)"
   ]
  },
  {
   "cell_type": "code",
   "execution_count": 59,
   "id": "9bbe089d",
   "metadata": {},
   "outputs": [
    {
     "data": {
      "text/plain": [
       "array([[96. ],\n",
       "       [73.9],\n",
       "       [88.9],\n",
       "       [81.6]])"
      ]
     },
     "execution_count": 59,
     "metadata": {},
     "output_type": "execute_result"
    }
   ],
   "source": [
    "# selects only the second column, since variance of the first column is below given threshold\n",
    "from sklearn.feature_selection import VarianceThreshold\n",
    "vt = VarianceThreshold(threshold=9)\n",
    "vt.fit_transform(data_transformed)"
   ]
  },
  {
   "cell_type": "markdown",
   "id": "46eea4c3",
   "metadata": {},
   "source": [
    "#### SelectKBest"
   ]
  },
  {
   "cell_type": "code",
   "execution_count": 60,
   "id": "58d9e110",
   "metadata": {},
   "outputs": [
    {
     "data": {
      "text/plain": [
       "(2000, 8)"
      ]
     },
     "execution_count": 60,
     "metadata": {},
     "output_type": "execute_result"
    }
   ],
   "source": [
    "from sklearn.datasets import fetch_california_housing\n",
    "from sklearn.model_selection import train_test_split\n",
    "from sklearn.feature_selection import SelectKBest, SelectPercentile, GenericUnivariateSelect, mutual_info_regression\n",
    "\n",
    "X_california, y_california = fetch_california_housing(return_X_y=True)\n",
    "\n",
    "X, y = X_california[:2000, :], y_california[:2000]\n",
    "\n",
    "X.shape"
   ]
  },
  {
   "cell_type": "code",
   "execution_count": 61,
   "id": "45fc1a5e",
   "metadata": {},
   "outputs": [
    {
     "data": {
      "text/plain": [
       "(2000, 3)"
      ]
     },
     "execution_count": 61,
     "metadata": {},
     "output_type": "execute_result"
    }
   ],
   "source": [
    "# Select 3 features using mutual_info_regression method\n",
    "skb = SelectKBest(mutual_info_regression, k=3)\n",
    "X_new = skb.fit_transform(X, y)\n",
    "X_new.shape"
   ]
  },
  {
   "cell_type": "code",
   "execution_count": 62,
   "id": "831153c9",
   "metadata": {},
   "outputs": [
    {
     "data": {
      "text/plain": [
       "array(['x0', 'x6', 'x7'], dtype=object)"
      ]
     },
     "execution_count": 62,
     "metadata": {},
     "output_type": "execute_result"
    }
   ],
   "source": [
    "skb.get_feature_names_out()"
   ]
  },
  {
   "cell_type": "markdown",
   "id": "46605f68",
   "metadata": {},
   "source": [
    "#### SelectPercentile"
   ]
  },
  {
   "cell_type": "code",
   "execution_count": 63,
   "id": "77beb84d",
   "metadata": {},
   "outputs": [
    {
     "data": {
      "text/plain": [
       "(2000, 3)"
      ]
     },
     "execution_count": 63,
     "metadata": {},
     "output_type": "execute_result"
    }
   ],
   "source": [
    "# Select 3 features using mutual_info_regression method\n",
    "sp = SelectPercentile(mutual_info_regression, percentile=30)\n",
    "X_new = sp.fit_transform(X, y)\n",
    "X_new.shape"
   ]
  },
  {
   "cell_type": "code",
   "execution_count": 64,
   "id": "a5fa1226",
   "metadata": {
    "scrolled": true
   },
   "outputs": [
    {
     "data": {
      "text/plain": [
       "array(['x0', 'x6', 'x7'], dtype=object)"
      ]
     },
     "execution_count": 64,
     "metadata": {},
     "output_type": "execute_result"
    }
   ],
   "source": [
    "sp.get_feature_names_out()"
   ]
  },
  {
   "cell_type": "markdown",
   "id": "fd60f909",
   "metadata": {},
   "source": [
    "#### GenericUnivariateSelect"
   ]
  },
  {
   "cell_type": "code",
   "execution_count": 65,
   "id": "8caab0b6",
   "metadata": {},
   "outputs": [
    {
     "data": {
      "text/plain": [
       "(2000, 4)"
      ]
     },
     "execution_count": 65,
     "metadata": {},
     "output_type": "execute_result"
    }
   ],
   "source": [
    "# Select 3 features using mutual_info_regression method\n",
    "gus = GenericUnivariateSelect(mutual_info_regression, mode='k_best', param=4)\n",
    "X_new = gus.fit_transform(X, y)\n",
    "X_new.shape"
   ]
  },
  {
   "cell_type": "code",
   "execution_count": 66,
   "id": "9bb58d3a",
   "metadata": {
    "scrolled": false
   },
   "outputs": [
    {
     "data": {
      "text/plain": [
       "array(['x0', 'x2', 'x6', 'x7'], dtype=object)"
      ]
     },
     "execution_count": 66,
     "metadata": {},
     "output_type": "execute_result"
    }
   ],
   "source": [
    "gus.get_feature_names_out()"
   ]
  },
  {
   "cell_type": "markdown",
   "id": "bca25069",
   "metadata": {},
   "source": [
    "#### Wrapper-based selection methods"
   ]
  },
  {
   "cell_type": "markdown",
   "id": "c02a3371",
   "metadata": {},
   "source": [
    "#### RFE  (RFE_CV)"
   ]
  },
  {
   "cell_type": "code",
   "execution_count": 67,
   "id": "345f9f4e",
   "metadata": {},
   "outputs": [
    {
     "name": "stdout",
     "output_type": "stream",
     "text": [
      "[ True False False False False False  True  True]\n",
      "Rank of each feature are [1 5 4 3 6 2 1 1]\n"
     ]
    }
   ],
   "source": [
    "from sklearn.datasets import make_friedman1\n",
    "from sklearn.feature_selection import RFE\n",
    "from sklearn.linear_model import LinearRegression\n",
    "\n",
    "estimator = LinearRegression()\n",
    "selector = RFE(estimator, n_features_to_select=3, step=1)\n",
    "selector = selector.fit(X, y)\n",
    "\n",
    "print(selector.support_)  # True indicates selected columns\n",
    "\n",
    "print(f\"Rank of each feature are {selector.ranking_}\") # rank 1 assigned to only selected features."
   ]
  },
  {
   "cell_type": "code",
   "execution_count": 68,
   "id": "36ad3ff5",
   "metadata": {
    "scrolled": true
   },
   "outputs": [
    {
     "data": {
      "text/plain": [
       "(2000, 3)"
      ]
     },
     "execution_count": 68,
     "metadata": {},
     "output_type": "execute_result"
    }
   ],
   "source": [
    "X_new = selector.transform(X) # returns only the previously \"selected\" columns\n",
    "X_new.shape"
   ]
  },
  {
   "cell_type": "markdown",
   "id": "f9936e0e",
   "metadata": {},
   "source": [
    "#### SelectFromModel"
   ]
  },
  {
   "cell_type": "code",
   "execution_count": 69,
   "id": "82f24a6c",
   "metadata": {},
   "outputs": [
    {
     "name": "stdout",
     "output_type": "stream",
     "text": [
      "Coefficients of features: [ 3.64048292e-01  5.56221906e-03  5.13591243e-02 -1.64474348e-01\n",
      "  5.90411479e-05 -1.64573915e-01 -2.17724525e-01 -1.85343265e-01]\n",
      "Indices of top 3 features: [1 2 0]\n"
     ]
    },
    {
     "data": {
      "text/plain": [
       "(2000, 3)"
      ]
     },
     "execution_count": 69,
     "metadata": {},
     "output_type": "execute_result"
    }
   ],
   "source": [
    "from sklearn.feature_selection import SelectFromModel\n",
    "from sklearn.linear_model import LinearRegression\n",
    "\n",
    "estimator = LinearRegression()\n",
    "estimator.fit(X, y)\n",
    "\n",
    "print(f'Coefficients of features: {estimator.coef_}')\n",
    "print(f'Indices of top 3 features: {np.argsort(estimator.coef_)[-3:]}')\n",
    "\n",
    "model = SelectFromModel(estimator, max_features=3, prefit=True)\n",
    "X_new = model.transform(X)\n",
    "X_new.shape"
   ]
  },
  {
   "cell_type": "code",
   "execution_count": 70,
   "id": "6c75cac7",
   "metadata": {},
   "outputs": [
    {
     "data": {
      "text/plain": [
       "(2000, 3)"
      ]
     },
     "execution_count": 70,
     "metadata": {},
     "output_type": "execute_result"
    }
   ],
   "source": [
    "X_new = selector.transform(X) # returns only the previously \"selected\" columns\n",
    "X_new.shape"
   ]
  },
  {
   "cell_type": "markdown",
   "id": "31265559",
   "metadata": {},
   "source": [
    "#### SequentialFeatureSelector"
   ]
  },
  {
   "cell_type": "code",
   "execution_count": 71,
   "id": "6b826e74",
   "metadata": {},
   "outputs": [
    {
     "name": "stdout",
     "output_type": "stream",
     "text": [
      "Wall time: 125 ms\n"
     ]
    },
    {
     "data": {
      "text/plain": [
       "(2000, 3)"
      ]
     },
     "execution_count": 71,
     "metadata": {},
     "output_type": "execute_result"
    }
   ],
   "source": [
    "%%time\n",
    "\n",
    "#Forward sequence selector\n",
    "from sklearn.feature_selection import SequentialFeatureSelector\n",
    "from sklearn.linear_model import LinearRegression\n",
    "\n",
    "estimator = LinearRegression()\n",
    "\n",
    "sfs = SequentialFeatureSelector(estimator, n_features_to_select=3)\n",
    "X_new = sfs.fit_transform(X, y)\n",
    "X_new.shape"
   ]
  },
  {
   "cell_type": "code",
   "execution_count": 72,
   "id": "bcecd9f2",
   "metadata": {
    "scrolled": true
   },
   "outputs": [
    {
     "data": {
      "text/plain": [
       "array(['x0', 'x5', 'x6'], dtype=object)"
      ]
     },
     "execution_count": 72,
     "metadata": {},
     "output_type": "execute_result"
    }
   ],
   "source": [
    "sfs.get_feature_names_out()"
   ]
  },
  {
   "cell_type": "code",
   "execution_count": 73,
   "id": "0215d1b6",
   "metadata": {},
   "outputs": [
    {
     "name": "stdout",
     "output_type": "stream",
     "text": [
      "Wall time: 203 ms\n"
     ]
    },
    {
     "data": {
      "text/plain": [
       "(2000, 3)"
      ]
     },
     "execution_count": 73,
     "metadata": {},
     "output_type": "execute_result"
    }
   ],
   "source": [
    "%%time\n",
    "\n",
    "#Backward sequence selector - depends on n_features_to_select.\n",
    "from sklearn.feature_selection import SequentialFeatureSelector\n",
    "from sklearn.linear_model import LinearRegression\n",
    "\n",
    "estimator = LinearRegression()\n",
    "\n",
    "sfs = SequentialFeatureSelector(estimator, n_features_to_select=3, direction='backward')\n",
    "X_new = sfs.fit_transform(X, y)\n",
    "X_new.shape"
   ]
  },
  {
   "cell_type": "code",
   "execution_count": 74,
   "id": "1def2833",
   "metadata": {
    "scrolled": true
   },
   "outputs": [
    {
     "data": {
      "text/plain": [
       "array(['x0', 'x5', 'x6'], dtype=object)"
      ]
     },
     "execution_count": 74,
     "metadata": {},
     "output_type": "execute_result"
    }
   ],
   "source": [
    "sfs.get_feature_names_out()"
   ]
  },
  {
   "cell_type": "markdown",
   "id": "e52f87e3",
   "metadata": {},
   "source": [
    "### 3. Dimensionality reduction"
   ]
  },
  {
   "cell_type": "markdown",
   "id": "05e34c46",
   "metadata": {},
   "source": [
    "#### PCA"
   ]
  },
  {
   "cell_type": "code",
   "execution_count": 75,
   "id": "8bb94107",
   "metadata": {},
   "outputs": [
    {
     "data": {
      "text/plain": [
       "Text(0.5, 1.0, 'Data points')"
      ]
     },
     "execution_count": 75,
     "metadata": {},
     "output_type": "execute_result"
    },
    {
     "data": {
      "image/png": "[encoded data removed]",
      "text/plain": [
       "<Figure size 432x288 with 1 Axes>"
      ]
     },
     "metadata": {},
     "output_type": "display_data"
    }
   ],
   "source": [
    "from sklearn.datasets import make_regression\n",
    "X, y = make_regression(n_samples=300, n_features=2, n_targets=1, random_state=42)\n",
    "x1, x2 = X[:,0], X[:,1]\n",
    "plt.scatter(x1, x2)\n",
    "plt.xlabel('$X_1$')\n",
    "plt.ylabel('$X_2$')\n",
    "plt.title('Data points', fontsize=15)"
   ]
  },
  {
   "cell_type": "code",
   "execution_count": 76,
   "id": "3328c27f",
   "metadata": {},
   "outputs": [
    {
     "data": {
      "text/plain": [
       "PCA(n_components=2)"
      ]
     },
     "execution_count": 76,
     "metadata": {},
     "output_type": "execute_result"
    }
   ],
   "source": [
    "from sklearn.decomposition import PCA\n",
    "pca = PCA(n_components=2)\n",
    "pca.fit(X)"
   ]
  },
  {
   "cell_type": "code",
   "execution_count": 77,
   "id": "c6e69e0a",
   "metadata": {},
   "outputs": [
    {
     "data": {
      "text/plain": [
       "array([[-0.39345132, -0.91934545],\n",
       "       [ 0.91934545, -0.39345132]])"
      ]
     },
     "execution_count": 77,
     "metadata": {},
     "output_type": "execute_result"
    }
   ],
   "source": [
    "pca.components_"
   ]
  },
  {
   "cell_type": "code",
   "execution_count": 78,
   "id": "52d1ba64",
   "metadata": {},
   "outputs": [
    {
     "data": {
      "text/plain": [
       "array([0.96449834, 0.92896025])"
      ]
     },
     "execution_count": 78,
     "metadata": {},
     "output_type": "execute_result"
    }
   ],
   "source": [
    "pca.explained_variance_"
   ]
  },
  {
   "cell_type": "code",
   "execution_count": 79,
   "id": "386462c0",
   "metadata": {},
   "outputs": [
    {
     "name": "stdout",
     "output_type": "stream",
     "text": [
      "(300, 2) (300, 1)\n"
     ]
    }
   ],
   "source": [
    "pca = PCA(n_components=1)\n",
    "pca.fit(X)\n",
    "X_pca = pca.transform(X)\n",
    "print(X.shape, X_pca.shape)"
   ]
  },
  {
   "cell_type": "markdown",
   "id": "b0b2394f",
   "metadata": {},
   "source": [
    "### 4. Handling class imbalance"
   ]
  },
  {
   "cell_type": "code",
   "execution_count": 80,
   "id": "985074f4",
   "metadata": {},
   "outputs": [],
   "source": [
    "data_url = 'https://archive.ics.uci.edu/ml/machine-learning-databases/wine-quality/winequality-red.csv'\n",
    "wine_data = pd.read_csv(data_url, sep=\";\")"
   ]
  },
  {
   "cell_type": "code",
   "execution_count": 81,
   "id": "b76286e0",
   "metadata": {
    "scrolled": false
   },
   "outputs": [
    {
     "data": {
      "text/plain": [
       "<AxesSubplot:>"
      ]
     },
     "execution_count": 81,
     "metadata": {},
     "output_type": "execute_result"
    },
    {
     "data": {
      "image/png": "[encoded data removed]",
      "text/plain": [
       "<Figure size 432x288 with 1 Axes>"
      ]
     },
     "metadata": {},
     "output_type": "display_data"
    }
   ],
   "source": [
    "wine_data['quality'].hist(bins=50)"
   ]
  },
  {
   "cell_type": "markdown",
   "id": "06cbebdd",
   "metadata": {},
   "source": [
    "There is gross imbalance in classes.  Thus {3,4,7,8} are represented much lesser compared to {5,6}"
   ]
  },
  {
   "cell_type": "code",
   "execution_count": 82,
   "id": "7132ba3f",
   "metadata": {},
   "outputs": [
    {
     "data": {
      "text/plain": [
       "((1599, 11), (1599,))"
      ]
     },
     "execution_count": 82,
     "metadata": {},
     "output_type": "execute_result"
    }
   ],
   "source": [
    "X = wine_data.drop(['quality'], axis=1)\n",
    "y = wine_data['quality']\n",
    "X.shape, y.shape"
   ]
  },
  {
   "cell_type": "code",
   "execution_count": 83,
   "id": "d5d95815",
   "metadata": {
    "scrolled": true
   },
   "outputs": [
    {
     "name": "stdout",
     "output_type": "stream",
     "text": [
      "Original dataset shape:: Counter({5: 681, 6: 638, 7: 199, 4: 53, 8: 18, 3: 10})\n",
      "Resample dataset shape:: Counter({3: 10, 4: 10, 5: 10, 6: 10, 7: 10, 8: 10})\n"
     ]
    }
   ],
   "source": [
    "from collections import Counter\n",
    "from imblearn.under_sampling import RandomUnderSampler\n",
    "\n",
    "undersample = RandomUnderSampler(random_state=42)\n",
    "X_rus, y_rus = undersample.fit_resample(X, y)\n",
    "\n",
    "print(f\"Original dataset shape:: {Counter(y)}\")\n",
    "print(f\"Resample dataset shape:: {Counter(y_rus)}\")  # Selects 10 from each of the {5,6} classes."
   ]
  },
  {
   "cell_type": "code",
   "execution_count": 84,
   "id": "ab1ee128",
   "metadata": {},
   "outputs": [
    {
     "data": {
      "text/html": [
       "<div>\n",
       "<style scoped>\n",
       "    .dataframe tbody tr th:only-of-type {\n",
       "        vertical-align: middle;\n",
       "    }\n",
       "\n",
       "    .dataframe tbody tr th {\n",
       "        vertical-align: top;\n",
       "    }\n",
       "\n",
       "    .dataframe thead th {\n",
       "        text-align: right;\n",
       "    }\n",
       "</style>\n",
       "<table border=\"1\" class=\"dataframe\">\n",
       "  <thead>\n",
       "    <tr style=\"text-align: right;\">\n",
       "      <th></th>\n",
       "      <th>fixed acidity</th>\n",
       "      <th>volatile acidity</th>\n",
       "      <th>citric acid</th>\n",
       "      <th>residual sugar</th>\n",
       "      <th>chlorides</th>\n",
       "      <th>free sulfur dioxide</th>\n",
       "      <th>total sulfur dioxide</th>\n",
       "      <th>density</th>\n",
       "      <th>pH</th>\n",
       "      <th>sulphates</th>\n",
       "      <th>alcohol</th>\n",
       "      <th>quality</th>\n",
       "    </tr>\n",
       "  </thead>\n",
       "  <tbody>\n",
       "    <tr>\n",
       "      <th>0</th>\n",
       "      <td>11.6</td>\n",
       "      <td>0.580</td>\n",
       "      <td>0.66</td>\n",
       "      <td>2.20</td>\n",
       "      <td>0.074</td>\n",
       "      <td>10.0</td>\n",
       "      <td>47.0</td>\n",
       "      <td>1.00080</td>\n",
       "      <td>3.25</td>\n",
       "      <td>0.57</td>\n",
       "      <td>9.00</td>\n",
       "      <td>3</td>\n",
       "    </tr>\n",
       "    <tr>\n",
       "      <th>1</th>\n",
       "      <td>10.4</td>\n",
       "      <td>0.610</td>\n",
       "      <td>0.49</td>\n",
       "      <td>2.10</td>\n",
       "      <td>0.200</td>\n",
       "      <td>5.0</td>\n",
       "      <td>16.0</td>\n",
       "      <td>0.99940</td>\n",
       "      <td>3.16</td>\n",
       "      <td>0.63</td>\n",
       "      <td>8.40</td>\n",
       "      <td>3</td>\n",
       "    </tr>\n",
       "    <tr>\n",
       "      <th>2</th>\n",
       "      <td>7.4</td>\n",
       "      <td>1.185</td>\n",
       "      <td>0.00</td>\n",
       "      <td>4.25</td>\n",
       "      <td>0.097</td>\n",
       "      <td>5.0</td>\n",
       "      <td>14.0</td>\n",
       "      <td>0.99660</td>\n",
       "      <td>3.63</td>\n",
       "      <td>0.54</td>\n",
       "      <td>10.70</td>\n",
       "      <td>3</td>\n",
       "    </tr>\n",
       "    <tr>\n",
       "      <th>3</th>\n",
       "      <td>10.4</td>\n",
       "      <td>0.440</td>\n",
       "      <td>0.42</td>\n",
       "      <td>1.50</td>\n",
       "      <td>0.145</td>\n",
       "      <td>34.0</td>\n",
       "      <td>48.0</td>\n",
       "      <td>0.99832</td>\n",
       "      <td>3.38</td>\n",
       "      <td>0.86</td>\n",
       "      <td>9.90</td>\n",
       "      <td>3</td>\n",
       "    </tr>\n",
       "    <tr>\n",
       "      <th>4</th>\n",
       "      <td>8.3</td>\n",
       "      <td>1.020</td>\n",
       "      <td>0.02</td>\n",
       "      <td>3.40</td>\n",
       "      <td>0.084</td>\n",
       "      <td>6.0</td>\n",
       "      <td>11.0</td>\n",
       "      <td>0.99892</td>\n",
       "      <td>3.48</td>\n",
       "      <td>0.49</td>\n",
       "      <td>11.00</td>\n",
       "      <td>3</td>\n",
       "    </tr>\n",
       "    <tr>\n",
       "      <th>5</th>\n",
       "      <td>7.6</td>\n",
       "      <td>1.580</td>\n",
       "      <td>0.00</td>\n",
       "      <td>2.10</td>\n",
       "      <td>0.137</td>\n",
       "      <td>5.0</td>\n",
       "      <td>9.0</td>\n",
       "      <td>0.99476</td>\n",
       "      <td>3.50</td>\n",
       "      <td>0.40</td>\n",
       "      <td>10.90</td>\n",
       "      <td>3</td>\n",
       "    </tr>\n",
       "    <tr>\n",
       "      <th>6</th>\n",
       "      <td>6.8</td>\n",
       "      <td>0.815</td>\n",
       "      <td>0.00</td>\n",
       "      <td>1.20</td>\n",
       "      <td>0.267</td>\n",
       "      <td>16.0</td>\n",
       "      <td>29.0</td>\n",
       "      <td>0.99471</td>\n",
       "      <td>3.32</td>\n",
       "      <td>0.51</td>\n",
       "      <td>9.80</td>\n",
       "      <td>3</td>\n",
       "    </tr>\n",
       "    <tr>\n",
       "      <th>7</th>\n",
       "      <td>7.3</td>\n",
       "      <td>0.980</td>\n",
       "      <td>0.05</td>\n",
       "      <td>2.10</td>\n",
       "      <td>0.061</td>\n",
       "      <td>20.0</td>\n",
       "      <td>49.0</td>\n",
       "      <td>0.99705</td>\n",
       "      <td>3.31</td>\n",
       "      <td>0.55</td>\n",
       "      <td>9.70</td>\n",
       "      <td>3</td>\n",
       "    </tr>\n",
       "    <tr>\n",
       "      <th>8</th>\n",
       "      <td>7.1</td>\n",
       "      <td>0.875</td>\n",
       "      <td>0.05</td>\n",
       "      <td>5.70</td>\n",
       "      <td>0.082</td>\n",
       "      <td>3.0</td>\n",
       "      <td>14.0</td>\n",
       "      <td>0.99808</td>\n",
       "      <td>3.40</td>\n",
       "      <td>0.52</td>\n",
       "      <td>10.20</td>\n",
       "      <td>3</td>\n",
       "    </tr>\n",
       "    <tr>\n",
       "      <th>9</th>\n",
       "      <td>6.7</td>\n",
       "      <td>0.760</td>\n",
       "      <td>0.02</td>\n",
       "      <td>1.80</td>\n",
       "      <td>0.078</td>\n",
       "      <td>6.0</td>\n",
       "      <td>12.0</td>\n",
       "      <td>0.99600</td>\n",
       "      <td>3.55</td>\n",
       "      <td>0.63</td>\n",
       "      <td>9.95</td>\n",
       "      <td>3</td>\n",
       "    </tr>\n",
       "    <tr>\n",
       "      <th>10</th>\n",
       "      <td>10.1</td>\n",
       "      <td>0.935</td>\n",
       "      <td>0.22</td>\n",
       "      <td>3.40</td>\n",
       "      <td>0.105</td>\n",
       "      <td>11.0</td>\n",
       "      <td>86.0</td>\n",
       "      <td>1.00100</td>\n",
       "      <td>3.43</td>\n",
       "      <td>0.64</td>\n",
       "      <td>11.30</td>\n",
       "      <td>4</td>\n",
       "    </tr>\n",
       "    <tr>\n",
       "      <th>11</th>\n",
       "      <td>8.5</td>\n",
       "      <td>0.400</td>\n",
       "      <td>0.40</td>\n",
       "      <td>6.30</td>\n",
       "      <td>0.050</td>\n",
       "      <td>3.0</td>\n",
       "      <td>10.0</td>\n",
       "      <td>0.99566</td>\n",
       "      <td>3.28</td>\n",
       "      <td>0.56</td>\n",
       "      <td>12.00</td>\n",
       "      <td>4</td>\n",
       "    </tr>\n",
       "    <tr>\n",
       "      <th>12</th>\n",
       "      <td>6.2</td>\n",
       "      <td>0.785</td>\n",
       "      <td>0.00</td>\n",
       "      <td>2.10</td>\n",
       "      <td>0.060</td>\n",
       "      <td>6.0</td>\n",
       "      <td>13.0</td>\n",
       "      <td>0.99664</td>\n",
       "      <td>3.59</td>\n",
       "      <td>0.61</td>\n",
       "      <td>10.00</td>\n",
       "      <td>4</td>\n",
       "    </tr>\n",
       "    <tr>\n",
       "      <th>13</th>\n",
       "      <td>8.4</td>\n",
       "      <td>0.635</td>\n",
       "      <td>0.36</td>\n",
       "      <td>2.00</td>\n",
       "      <td>0.089</td>\n",
       "      <td>15.0</td>\n",
       "      <td>55.0</td>\n",
       "      <td>0.99745</td>\n",
       "      <td>3.31</td>\n",
       "      <td>0.57</td>\n",
       "      <td>10.40</td>\n",
       "      <td>4</td>\n",
       "    </tr>\n",
       "    <tr>\n",
       "      <th>14</th>\n",
       "      <td>6.8</td>\n",
       "      <td>0.680</td>\n",
       "      <td>0.09</td>\n",
       "      <td>3.90</td>\n",
       "      <td>0.068</td>\n",
       "      <td>15.0</td>\n",
       "      <td>29.0</td>\n",
       "      <td>0.99524</td>\n",
       "      <td>3.41</td>\n",
       "      <td>0.52</td>\n",
       "      <td>11.10</td>\n",
       "      <td>4</td>\n",
       "    </tr>\n",
       "    <tr>\n",
       "      <th>15</th>\n",
       "      <td>8.3</td>\n",
       "      <td>0.625</td>\n",
       "      <td>0.20</td>\n",
       "      <td>1.50</td>\n",
       "      <td>0.080</td>\n",
       "      <td>27.0</td>\n",
       "      <td>119.0</td>\n",
       "      <td>0.99720</td>\n",
       "      <td>3.16</td>\n",
       "      <td>1.12</td>\n",
       "      <td>9.10</td>\n",
       "      <td>4</td>\n",
       "    </tr>\n",
       "    <tr>\n",
       "      <th>16</th>\n",
       "      <td>9.9</td>\n",
       "      <td>0.500</td>\n",
       "      <td>0.24</td>\n",
       "      <td>2.30</td>\n",
       "      <td>0.103</td>\n",
       "      <td>6.0</td>\n",
       "      <td>14.0</td>\n",
       "      <td>0.99780</td>\n",
       "      <td>3.34</td>\n",
       "      <td>0.52</td>\n",
       "      <td>10.00</td>\n",
       "      <td>4</td>\n",
       "    </tr>\n",
       "    <tr>\n",
       "      <th>17</th>\n",
       "      <td>7.2</td>\n",
       "      <td>0.580</td>\n",
       "      <td>0.54</td>\n",
       "      <td>2.10</td>\n",
       "      <td>0.114</td>\n",
       "      <td>3.0</td>\n",
       "      <td>9.0</td>\n",
       "      <td>0.99719</td>\n",
       "      <td>3.33</td>\n",
       "      <td>0.57</td>\n",
       "      <td>10.30</td>\n",
       "      <td>4</td>\n",
       "    </tr>\n",
       "    <tr>\n",
       "      <th>18</th>\n",
       "      <td>4.6</td>\n",
       "      <td>0.520</td>\n",
       "      <td>0.15</td>\n",
       "      <td>2.10</td>\n",
       "      <td>0.054</td>\n",
       "      <td>8.0</td>\n",
       "      <td>65.0</td>\n",
       "      <td>0.99340</td>\n",
       "      <td>3.90</td>\n",
       "      <td>0.56</td>\n",
       "      <td>13.10</td>\n",
       "      <td>4</td>\n",
       "    </tr>\n",
       "    <tr>\n",
       "      <th>19</th>\n",
       "      <td>6.5</td>\n",
       "      <td>0.580</td>\n",
       "      <td>0.00</td>\n",
       "      <td>2.20</td>\n",
       "      <td>0.096</td>\n",
       "      <td>3.0</td>\n",
       "      <td>13.0</td>\n",
       "      <td>0.99557</td>\n",
       "      <td>3.62</td>\n",
       "      <td>0.62</td>\n",
       "      <td>11.50</td>\n",
       "      <td>4</td>\n",
       "    </tr>\n",
       "    <tr>\n",
       "      <th>20</th>\n",
       "      <td>7.2</td>\n",
       "      <td>0.695</td>\n",
       "      <td>0.13</td>\n",
       "      <td>2.00</td>\n",
       "      <td>0.076</td>\n",
       "      <td>12.0</td>\n",
       "      <td>20.0</td>\n",
       "      <td>0.99546</td>\n",
       "      <td>3.29</td>\n",
       "      <td>0.54</td>\n",
       "      <td>10.10</td>\n",
       "      <td>5</td>\n",
       "    </tr>\n",
       "    <tr>\n",
       "      <th>21</th>\n",
       "      <td>8.6</td>\n",
       "      <td>0.380</td>\n",
       "      <td>0.36</td>\n",
       "      <td>3.00</td>\n",
       "      <td>0.081</td>\n",
       "      <td>30.0</td>\n",
       "      <td>119.0</td>\n",
       "      <td>0.99700</td>\n",
       "      <td>3.20</td>\n",
       "      <td>0.56</td>\n",
       "      <td>9.40</td>\n",
       "      <td>5</td>\n",
       "    </tr>\n",
       "    <tr>\n",
       "      <th>22</th>\n",
       "      <td>9.7</td>\n",
       "      <td>0.690</td>\n",
       "      <td>0.32</td>\n",
       "      <td>2.50</td>\n",
       "      <td>0.088</td>\n",
       "      <td>22.0</td>\n",
       "      <td>91.0</td>\n",
       "      <td>0.99790</td>\n",
       "      <td>3.29</td>\n",
       "      <td>0.62</td>\n",
       "      <td>10.10</td>\n",
       "      <td>5</td>\n",
       "    </tr>\n",
       "    <tr>\n",
       "      <th>23</th>\n",
       "      <td>8.4</td>\n",
       "      <td>0.665</td>\n",
       "      <td>0.61</td>\n",
       "      <td>2.00</td>\n",
       "      <td>0.112</td>\n",
       "      <td>13.0</td>\n",
       "      <td>95.0</td>\n",
       "      <td>0.99700</td>\n",
       "      <td>3.16</td>\n",
       "      <td>0.54</td>\n",
       "      <td>9.10</td>\n",
       "      <td>5</td>\n",
       "    </tr>\n",
       "    <tr>\n",
       "      <th>24</th>\n",
       "      <td>10.2</td>\n",
       "      <td>0.240</td>\n",
       "      <td>0.49</td>\n",
       "      <td>2.40</td>\n",
       "      <td>0.075</td>\n",
       "      <td>10.0</td>\n",
       "      <td>28.0</td>\n",
       "      <td>0.99780</td>\n",
       "      <td>3.14</td>\n",
       "      <td>0.61</td>\n",
       "      <td>10.40</td>\n",
       "      <td>5</td>\n",
       "    </tr>\n",
       "    <tr>\n",
       "      <th>25</th>\n",
       "      <td>8.2</td>\n",
       "      <td>0.885</td>\n",
       "      <td>0.20</td>\n",
       "      <td>1.40</td>\n",
       "      <td>0.086</td>\n",
       "      <td>7.0</td>\n",
       "      <td>31.0</td>\n",
       "      <td>0.99460</td>\n",
       "      <td>3.11</td>\n",
       "      <td>0.46</td>\n",
       "      <td>10.00</td>\n",
       "      <td>5</td>\n",
       "    </tr>\n",
       "    <tr>\n",
       "      <th>26</th>\n",
       "      <td>7.7</td>\n",
       "      <td>0.690</td>\n",
       "      <td>0.49</td>\n",
       "      <td>1.80</td>\n",
       "      <td>0.115</td>\n",
       "      <td>20.0</td>\n",
       "      <td>112.0</td>\n",
       "      <td>0.99680</td>\n",
       "      <td>3.21</td>\n",
       "      <td>0.71</td>\n",
       "      <td>9.30</td>\n",
       "      <td>5</td>\n",
       "    </tr>\n",
       "    <tr>\n",
       "      <th>27</th>\n",
       "      <td>9.7</td>\n",
       "      <td>0.660</td>\n",
       "      <td>0.34</td>\n",
       "      <td>2.60</td>\n",
       "      <td>0.094</td>\n",
       "      <td>12.0</td>\n",
       "      <td>88.0</td>\n",
       "      <td>0.99796</td>\n",
       "      <td>3.26</td>\n",
       "      <td>0.66</td>\n",
       "      <td>10.10</td>\n",
       "      <td>5</td>\n",
       "    </tr>\n",
       "    <tr>\n",
       "      <th>28</th>\n",
       "      <td>8.0</td>\n",
       "      <td>0.600</td>\n",
       "      <td>0.22</td>\n",
       "      <td>2.10</td>\n",
       "      <td>0.080</td>\n",
       "      <td>25.0</td>\n",
       "      <td>105.0</td>\n",
       "      <td>0.99613</td>\n",
       "      <td>3.30</td>\n",
       "      <td>0.49</td>\n",
       "      <td>9.90</td>\n",
       "      <td>5</td>\n",
       "    </tr>\n",
       "    <tr>\n",
       "      <th>29</th>\n",
       "      <td>7.6</td>\n",
       "      <td>0.410</td>\n",
       "      <td>0.33</td>\n",
       "      <td>2.50</td>\n",
       "      <td>0.078</td>\n",
       "      <td>6.0</td>\n",
       "      <td>23.0</td>\n",
       "      <td>0.99570</td>\n",
       "      <td>3.30</td>\n",
       "      <td>0.58</td>\n",
       "      <td>11.20</td>\n",
       "      <td>5</td>\n",
       "    </tr>\n",
       "    <tr>\n",
       "      <th>30</th>\n",
       "      <td>11.5</td>\n",
       "      <td>0.300</td>\n",
       "      <td>0.60</td>\n",
       "      <td>2.00</td>\n",
       "      <td>0.067</td>\n",
       "      <td>12.0</td>\n",
       "      <td>27.0</td>\n",
       "      <td>0.99810</td>\n",
       "      <td>3.11</td>\n",
       "      <td>0.97</td>\n",
       "      <td>10.10</td>\n",
       "      <td>6</td>\n",
       "    </tr>\n",
       "    <tr>\n",
       "      <th>31</th>\n",
       "      <td>6.9</td>\n",
       "      <td>0.765</td>\n",
       "      <td>0.18</td>\n",
       "      <td>2.40</td>\n",
       "      <td>0.243</td>\n",
       "      <td>5.5</td>\n",
       "      <td>48.0</td>\n",
       "      <td>0.99612</td>\n",
       "      <td>3.40</td>\n",
       "      <td>0.60</td>\n",
       "      <td>10.30</td>\n",
       "      <td>6</td>\n",
       "    </tr>\n",
       "    <tr>\n",
       "      <th>32</th>\n",
       "      <td>8.5</td>\n",
       "      <td>0.370</td>\n",
       "      <td>0.32</td>\n",
       "      <td>1.80</td>\n",
       "      <td>0.066</td>\n",
       "      <td>26.0</td>\n",
       "      <td>51.0</td>\n",
       "      <td>0.99456</td>\n",
       "      <td>3.38</td>\n",
       "      <td>0.72</td>\n",
       "      <td>11.80</td>\n",
       "      <td>6</td>\n",
       "    </tr>\n",
       "    <tr>\n",
       "      <th>33</th>\n",
       "      <td>6.4</td>\n",
       "      <td>0.690</td>\n",
       "      <td>0.00</td>\n",
       "      <td>1.65</td>\n",
       "      <td>0.055</td>\n",
       "      <td>7.0</td>\n",
       "      <td>12.0</td>\n",
       "      <td>0.99162</td>\n",
       "      <td>3.47</td>\n",
       "      <td>0.53</td>\n",
       "      <td>12.90</td>\n",
       "      <td>6</td>\n",
       "    </tr>\n",
       "    <tr>\n",
       "      <th>34</th>\n",
       "      <td>7.7</td>\n",
       "      <td>0.630</td>\n",
       "      <td>0.08</td>\n",
       "      <td>1.90</td>\n",
       "      <td>0.076</td>\n",
       "      <td>15.0</td>\n",
       "      <td>27.0</td>\n",
       "      <td>0.99670</td>\n",
       "      <td>3.32</td>\n",
       "      <td>0.54</td>\n",
       "      <td>9.50</td>\n",
       "      <td>6</td>\n",
       "    </tr>\n",
       "    <tr>\n",
       "      <th>35</th>\n",
       "      <td>5.0</td>\n",
       "      <td>0.400</td>\n",
       "      <td>0.50</td>\n",
       "      <td>4.30</td>\n",
       "      <td>0.046</td>\n",
       "      <td>29.0</td>\n",
       "      <td>80.0</td>\n",
       "      <td>0.99020</td>\n",
       "      <td>3.49</td>\n",
       "      <td>0.66</td>\n",
       "      <td>13.60</td>\n",
       "      <td>6</td>\n",
       "    </tr>\n",
       "    <tr>\n",
       "      <th>36</th>\n",
       "      <td>7.6</td>\n",
       "      <td>0.430</td>\n",
       "      <td>0.31</td>\n",
       "      <td>2.10</td>\n",
       "      <td>0.069</td>\n",
       "      <td>13.0</td>\n",
       "      <td>74.0</td>\n",
       "      <td>0.99580</td>\n",
       "      <td>3.26</td>\n",
       "      <td>0.54</td>\n",
       "      <td>9.90</td>\n",
       "      <td>6</td>\n",
       "    </tr>\n",
       "    <tr>\n",
       "      <th>37</th>\n",
       "      <td>11.9</td>\n",
       "      <td>0.390</td>\n",
       "      <td>0.69</td>\n",
       "      <td>2.80</td>\n",
       "      <td>0.095</td>\n",
       "      <td>17.0</td>\n",
       "      <td>35.0</td>\n",
       "      <td>0.99940</td>\n",
       "      <td>3.10</td>\n",
       "      <td>0.61</td>\n",
       "      <td>10.80</td>\n",
       "      <td>6</td>\n",
       "    </tr>\n",
       "    <tr>\n",
       "      <th>38</th>\n",
       "      <td>9.8</td>\n",
       "      <td>0.500</td>\n",
       "      <td>0.49</td>\n",
       "      <td>2.60</td>\n",
       "      <td>0.250</td>\n",
       "      <td>5.0</td>\n",
       "      <td>20.0</td>\n",
       "      <td>0.99900</td>\n",
       "      <td>3.31</td>\n",
       "      <td>0.79</td>\n",
       "      <td>10.70</td>\n",
       "      <td>6</td>\n",
       "    </tr>\n",
       "    <tr>\n",
       "      <th>39</th>\n",
       "      <td>8.2</td>\n",
       "      <td>0.590</td>\n",
       "      <td>0.00</td>\n",
       "      <td>2.50</td>\n",
       "      <td>0.093</td>\n",
       "      <td>19.0</td>\n",
       "      <td>58.0</td>\n",
       "      <td>1.00020</td>\n",
       "      <td>3.50</td>\n",
       "      <td>0.65</td>\n",
       "      <td>9.30</td>\n",
       "      <td>6</td>\n",
       "    </tr>\n",
       "    <tr>\n",
       "      <th>40</th>\n",
       "      <td>9.8</td>\n",
       "      <td>0.660</td>\n",
       "      <td>0.39</td>\n",
       "      <td>3.20</td>\n",
       "      <td>0.083</td>\n",
       "      <td>21.0</td>\n",
       "      <td>59.0</td>\n",
       "      <td>0.99890</td>\n",
       "      <td>3.37</td>\n",
       "      <td>0.71</td>\n",
       "      <td>11.50</td>\n",
       "      <td>7</td>\n",
       "    </tr>\n",
       "    <tr>\n",
       "      <th>41</th>\n",
       "      <td>10.4</td>\n",
       "      <td>0.380</td>\n",
       "      <td>0.46</td>\n",
       "      <td>2.10</td>\n",
       "      <td>0.104</td>\n",
       "      <td>6.0</td>\n",
       "      <td>10.0</td>\n",
       "      <td>0.99664</td>\n",
       "      <td>3.12</td>\n",
       "      <td>0.65</td>\n",
       "      <td>11.80</td>\n",
       "      <td>7</td>\n",
       "    </tr>\n",
       "    <tr>\n",
       "      <th>42</th>\n",
       "      <td>9.1</td>\n",
       "      <td>0.250</td>\n",
       "      <td>0.34</td>\n",
       "      <td>2.00</td>\n",
       "      <td>0.071</td>\n",
       "      <td>45.0</td>\n",
       "      <td>67.0</td>\n",
       "      <td>0.99769</td>\n",
       "      <td>3.44</td>\n",
       "      <td>0.86</td>\n",
       "      <td>10.20</td>\n",
       "      <td>7</td>\n",
       "    </tr>\n",
       "    <tr>\n",
       "      <th>43</th>\n",
       "      <td>6.7</td>\n",
       "      <td>0.280</td>\n",
       "      <td>0.28</td>\n",
       "      <td>2.40</td>\n",
       "      <td>0.012</td>\n",
       "      <td>36.0</td>\n",
       "      <td>100.0</td>\n",
       "      <td>0.99064</td>\n",
       "      <td>3.26</td>\n",
       "      <td>0.39</td>\n",
       "      <td>11.70</td>\n",
       "      <td>7</td>\n",
       "    </tr>\n",
       "    <tr>\n",
       "      <th>44</th>\n",
       "      <td>7.8</td>\n",
       "      <td>0.640</td>\n",
       "      <td>0.10</td>\n",
       "      <td>6.00</td>\n",
       "      <td>0.115</td>\n",
       "      <td>5.0</td>\n",
       "      <td>11.0</td>\n",
       "      <td>0.99840</td>\n",
       "      <td>3.37</td>\n",
       "      <td>0.69</td>\n",
       "      <td>10.10</td>\n",
       "      <td>7</td>\n",
       "    </tr>\n",
       "    <tr>\n",
       "      <th>45</th>\n",
       "      <td>7.8</td>\n",
       "      <td>0.580</td>\n",
       "      <td>0.02</td>\n",
       "      <td>2.00</td>\n",
       "      <td>0.073</td>\n",
       "      <td>9.0</td>\n",
       "      <td>18.0</td>\n",
       "      <td>0.99680</td>\n",
       "      <td>3.36</td>\n",
       "      <td>0.57</td>\n",
       "      <td>9.50</td>\n",
       "      <td>7</td>\n",
       "    </tr>\n",
       "    <tr>\n",
       "      <th>46</th>\n",
       "      <td>9.4</td>\n",
       "      <td>0.270</td>\n",
       "      <td>0.53</td>\n",
       "      <td>2.40</td>\n",
       "      <td>0.074</td>\n",
       "      <td>6.0</td>\n",
       "      <td>18.0</td>\n",
       "      <td>0.99620</td>\n",
       "      <td>3.20</td>\n",
       "      <td>1.13</td>\n",
       "      <td>12.00</td>\n",
       "      <td>7</td>\n",
       "    </tr>\n",
       "    <tr>\n",
       "      <th>47</th>\n",
       "      <td>8.2</td>\n",
       "      <td>0.280</td>\n",
       "      <td>0.40</td>\n",
       "      <td>2.40</td>\n",
       "      <td>0.052</td>\n",
       "      <td>4.0</td>\n",
       "      <td>10.0</td>\n",
       "      <td>0.99356</td>\n",
       "      <td>3.33</td>\n",
       "      <td>0.70</td>\n",
       "      <td>12.80</td>\n",
       "      <td>7</td>\n",
       "    </tr>\n",
       "    <tr>\n",
       "      <th>48</th>\n",
       "      <td>9.8</td>\n",
       "      <td>0.660</td>\n",
       "      <td>0.39</td>\n",
       "      <td>3.20</td>\n",
       "      <td>0.083</td>\n",
       "      <td>21.0</td>\n",
       "      <td>59.0</td>\n",
       "      <td>0.99890</td>\n",
       "      <td>3.37</td>\n",
       "      <td>0.71</td>\n",
       "      <td>11.50</td>\n",
       "      <td>7</td>\n",
       "    </tr>\n",
       "    <tr>\n",
       "      <th>49</th>\n",
       "      <td>10.0</td>\n",
       "      <td>0.410</td>\n",
       "      <td>0.45</td>\n",
       "      <td>6.20</td>\n",
       "      <td>0.071</td>\n",
       "      <td>6.0</td>\n",
       "      <td>14.0</td>\n",
       "      <td>0.99702</td>\n",
       "      <td>3.21</td>\n",
       "      <td>0.49</td>\n",
       "      <td>11.80</td>\n",
       "      <td>7</td>\n",
       "    </tr>\n",
       "    <tr>\n",
       "      <th>50</th>\n",
       "      <td>9.4</td>\n",
       "      <td>0.300</td>\n",
       "      <td>0.56</td>\n",
       "      <td>2.80</td>\n",
       "      <td>0.080</td>\n",
       "      <td>6.0</td>\n",
       "      <td>17.0</td>\n",
       "      <td>0.99640</td>\n",
       "      <td>3.15</td>\n",
       "      <td>0.92</td>\n",
       "      <td>11.70</td>\n",
       "      <td>8</td>\n",
       "    </tr>\n",
       "    <tr>\n",
       "      <th>51</th>\n",
       "      <td>5.6</td>\n",
       "      <td>0.850</td>\n",
       "      <td>0.05</td>\n",
       "      <td>1.40</td>\n",
       "      <td>0.045</td>\n",
       "      <td>12.0</td>\n",
       "      <td>88.0</td>\n",
       "      <td>0.99240</td>\n",
       "      <td>3.56</td>\n",
       "      <td>0.82</td>\n",
       "      <td>12.90</td>\n",
       "      <td>8</td>\n",
       "    </tr>\n",
       "    <tr>\n",
       "      <th>52</th>\n",
       "      <td>9.1</td>\n",
       "      <td>0.400</td>\n",
       "      <td>0.50</td>\n",
       "      <td>1.80</td>\n",
       "      <td>0.071</td>\n",
       "      <td>7.0</td>\n",
       "      <td>16.0</td>\n",
       "      <td>0.99462</td>\n",
       "      <td>3.21</td>\n",
       "      <td>0.69</td>\n",
       "      <td>12.50</td>\n",
       "      <td>8</td>\n",
       "    </tr>\n",
       "    <tr>\n",
       "      <th>53</th>\n",
       "      <td>11.3</td>\n",
       "      <td>0.620</td>\n",
       "      <td>0.67</td>\n",
       "      <td>5.20</td>\n",
       "      <td>0.086</td>\n",
       "      <td>6.0</td>\n",
       "      <td>19.0</td>\n",
       "      <td>0.99880</td>\n",
       "      <td>3.22</td>\n",
       "      <td>0.69</td>\n",
       "      <td>13.40</td>\n",
       "      <td>8</td>\n",
       "    </tr>\n",
       "    <tr>\n",
       "      <th>54</th>\n",
       "      <td>7.2</td>\n",
       "      <td>0.380</td>\n",
       "      <td>0.31</td>\n",
       "      <td>2.00</td>\n",
       "      <td>0.056</td>\n",
       "      <td>15.0</td>\n",
       "      <td>29.0</td>\n",
       "      <td>0.99472</td>\n",
       "      <td>3.23</td>\n",
       "      <td>0.76</td>\n",
       "      <td>11.30</td>\n",
       "      <td>8</td>\n",
       "    </tr>\n",
       "    <tr>\n",
       "      <th>55</th>\n",
       "      <td>7.8</td>\n",
       "      <td>0.570</td>\n",
       "      <td>0.09</td>\n",
       "      <td>2.30</td>\n",
       "      <td>0.065</td>\n",
       "      <td>34.0</td>\n",
       "      <td>45.0</td>\n",
       "      <td>0.99417</td>\n",
       "      <td>3.46</td>\n",
       "      <td>0.74</td>\n",
       "      <td>12.70</td>\n",
       "      <td>8</td>\n",
       "    </tr>\n",
       "    <tr>\n",
       "      <th>56</th>\n",
       "      <td>10.7</td>\n",
       "      <td>0.350</td>\n",
       "      <td>0.53</td>\n",
       "      <td>2.60</td>\n",
       "      <td>0.070</td>\n",
       "      <td>5.0</td>\n",
       "      <td>16.0</td>\n",
       "      <td>0.99720</td>\n",
       "      <td>3.15</td>\n",
       "      <td>0.65</td>\n",
       "      <td>11.00</td>\n",
       "      <td>8</td>\n",
       "    </tr>\n",
       "    <tr>\n",
       "      <th>57</th>\n",
       "      <td>5.0</td>\n",
       "      <td>0.420</td>\n",
       "      <td>0.24</td>\n",
       "      <td>2.00</td>\n",
       "      <td>0.060</td>\n",
       "      <td>19.0</td>\n",
       "      <td>50.0</td>\n",
       "      <td>0.99170</td>\n",
       "      <td>3.72</td>\n",
       "      <td>0.74</td>\n",
       "      <td>14.00</td>\n",
       "      <td>8</td>\n",
       "    </tr>\n",
       "    <tr>\n",
       "      <th>58</th>\n",
       "      <td>7.9</td>\n",
       "      <td>0.350</td>\n",
       "      <td>0.46</td>\n",
       "      <td>3.60</td>\n",
       "      <td>0.078</td>\n",
       "      <td>15.0</td>\n",
       "      <td>37.0</td>\n",
       "      <td>0.99730</td>\n",
       "      <td>3.35</td>\n",
       "      <td>0.86</td>\n",
       "      <td>12.80</td>\n",
       "      <td>8</td>\n",
       "    </tr>\n",
       "    <tr>\n",
       "      <th>59</th>\n",
       "      <td>7.2</td>\n",
       "      <td>0.330</td>\n",
       "      <td>0.33</td>\n",
       "      <td>1.70</td>\n",
       "      <td>0.061</td>\n",
       "      <td>3.0</td>\n",
       "      <td>13.0</td>\n",
       "      <td>0.99600</td>\n",
       "      <td>3.23</td>\n",
       "      <td>1.10</td>\n",
       "      <td>10.00</td>\n",
       "      <td>8</td>\n",
       "    </tr>\n",
       "  </tbody>\n",
       "</table>\n",
       "</div>"
      ],
      "text/plain": [
       "    fixed acidity  volatile acidity  citric acid  residual sugar  chlorides  \\\n",
       "0            11.6             0.580         0.66            2.20      0.074   \n",
       "1            10.4             0.610         0.49            2.10      0.200   \n",
       "2             7.4             1.185         0.00            4.25      0.097   \n",
       "3            10.4             0.440         0.42            1.50      0.145   \n",
       "4             8.3             1.020         0.02            3.40      0.084   \n",
       "5             7.6             1.580         0.00            2.10      0.137   \n",
       "6             6.8             0.815         0.00            1.20      0.267   \n",
       "7             7.3             0.980         0.05            2.10      0.061   \n",
       "8             7.1             0.875         0.05            5.70      0.082   \n",
       "9             6.7             0.760         0.02            1.80      0.078   \n",
       "10           10.1             0.935         0.22            3.40      0.105   \n",
       "11            8.5             0.400         0.40            6.30      0.050   \n",
       "12            6.2             0.785         0.00            2.10      0.060   \n",
       "13            8.4             0.635         0.36            2.00      0.089   \n",
       "14            6.8             0.680         0.09            3.90      0.068   \n",
       "15            8.3             0.625         0.20            1.50      0.080   \n",
       "16            9.9             0.500         0.24            2.30      0.103   \n",
       "17            7.2             0.580         0.54            2.10      0.114   \n",
       "18            4.6             0.520         0.15            2.10      0.054   \n",
       "19            6.5             0.580         0.00            2.20      0.096   \n",
       "20            7.2             0.695         0.13            2.00      0.076   \n",
       "21            8.6             0.380         0.36            3.00      0.081   \n",
       "22            9.7             0.690         0.32            2.50      0.088   \n",
       "23            8.4             0.665         0.61            2.00      0.112   \n",
       "24           10.2             0.240         0.49            2.40      0.075   \n",
       "25            8.2             0.885         0.20            1.40      0.086   \n",
       "26            7.7             0.690         0.49            1.80      0.115   \n",
       "27            9.7             0.660         0.34            2.60      0.094   \n",
       "28            8.0             0.600         0.22            2.10      0.080   \n",
       "29            7.6             0.410         0.33            2.50      0.078   \n",
       "30           11.5             0.300         0.60            2.00      0.067   \n",
       "31            6.9             0.765         0.18            2.40      0.243   \n",
       "32            8.5             0.370         0.32            1.80      0.066   \n",
       "33            6.4             0.690         0.00            1.65      0.055   \n",
       "34            7.7             0.630         0.08            1.90      0.076   \n",
       "35            5.0             0.400         0.50            4.30      0.046   \n",
       "36            7.6             0.430         0.31            2.10      0.069   \n",
       "37           11.9             0.390         0.69            2.80      0.095   \n",
       "38            9.8             0.500         0.49            2.60      0.250   \n",
       "39            8.2             0.590         0.00            2.50      0.093   \n",
       "40            9.8             0.660         0.39            3.20      0.083   \n",
       "41           10.4             0.380         0.46            2.10      0.104   \n",
       "42            9.1             0.250         0.34            2.00      0.071   \n",
       "43            6.7             0.280         0.28            2.40      0.012   \n",
       "44            7.8             0.640         0.10            6.00      0.115   \n",
       "45            7.8             0.580         0.02            2.00      0.073   \n",
       "46            9.4             0.270         0.53            2.40      0.074   \n",
       "47            8.2             0.280         0.40            2.40      0.052   \n",
       "48            9.8             0.660         0.39            3.20      0.083   \n",
       "49           10.0             0.410         0.45            6.20      0.071   \n",
       "50            9.4             0.300         0.56            2.80      0.080   \n",
       "51            5.6             0.850         0.05            1.40      0.045   \n",
       "52            9.1             0.400         0.50            1.80      0.071   \n",
       "53           11.3             0.620         0.67            5.20      0.086   \n",
       "54            7.2             0.380         0.31            2.00      0.056   \n",
       "55            7.8             0.570         0.09            2.30      0.065   \n",
       "56           10.7             0.350         0.53            2.60      0.070   \n",
       "57            5.0             0.420         0.24            2.00      0.060   \n",
       "58            7.9             0.350         0.46            3.60      0.078   \n",
       "59            7.2             0.330         0.33            1.70      0.061   \n",
       "\n",
       "    free sulfur dioxide  total sulfur dioxide  density    pH  sulphates  \\\n",
       "0                  10.0                  47.0  1.00080  3.25       0.57   \n",
       "1                   5.0                  16.0  0.99940  3.16       0.63   \n",
       "2                   5.0                  14.0  0.99660  3.63       0.54   \n",
       "3                  34.0                  48.0  0.99832  3.38       0.86   \n",
       "4                   6.0                  11.0  0.99892  3.48       0.49   \n",
       "5                   5.0                   9.0  0.99476  3.50       0.40   \n",
       "6                  16.0                  29.0  0.99471  3.32       0.51   \n",
       "7                  20.0                  49.0  0.99705  3.31       0.55   \n",
       "8                   3.0                  14.0  0.99808  3.40       0.52   \n",
       "9                   6.0                  12.0  0.99600  3.55       0.63   \n",
       "10                 11.0                  86.0  1.00100  3.43       0.64   \n",
       "11                  3.0                  10.0  0.99566  3.28       0.56   \n",
       "12                  6.0                  13.0  0.99664  3.59       0.61   \n",
       "13                 15.0                  55.0  0.99745  3.31       0.57   \n",
       "14                 15.0                  29.0  0.99524  3.41       0.52   \n",
       "15                 27.0                 119.0  0.99720  3.16       1.12   \n",
       "16                  6.0                  14.0  0.99780  3.34       0.52   \n",
       "17                  3.0                   9.0  0.99719  3.33       0.57   \n",
       "18                  8.0                  65.0  0.99340  3.90       0.56   \n",
       "19                  3.0                  13.0  0.99557  3.62       0.62   \n",
       "20                 12.0                  20.0  0.99546  3.29       0.54   \n",
       "21                 30.0                 119.0  0.99700  3.20       0.56   \n",
       "22                 22.0                  91.0  0.99790  3.29       0.62   \n",
       "23                 13.0                  95.0  0.99700  3.16       0.54   \n",
       "24                 10.0                  28.0  0.99780  3.14       0.61   \n",
       "25                  7.0                  31.0  0.99460  3.11       0.46   \n",
       "26                 20.0                 112.0  0.99680  3.21       0.71   \n",
       "27                 12.0                  88.0  0.99796  3.26       0.66   \n",
       "28                 25.0                 105.0  0.99613  3.30       0.49   \n",
       "29                  6.0                  23.0  0.99570  3.30       0.58   \n",
       "30                 12.0                  27.0  0.99810  3.11       0.97   \n",
       "31                  5.5                  48.0  0.99612  3.40       0.60   \n",
       "32                 26.0                  51.0  0.99456  3.38       0.72   \n",
       "33                  7.0                  12.0  0.99162  3.47       0.53   \n",
       "34                 15.0                  27.0  0.99670  3.32       0.54   \n",
       "35                 29.0                  80.0  0.99020  3.49       0.66   \n",
       "36                 13.0                  74.0  0.99580  3.26       0.54   \n",
       "37                 17.0                  35.0  0.99940  3.10       0.61   \n",
       "38                  5.0                  20.0  0.99900  3.31       0.79   \n",
       "39                 19.0                  58.0  1.00020  3.50       0.65   \n",
       "40                 21.0                  59.0  0.99890  3.37       0.71   \n",
       "41                  6.0                  10.0  0.99664  3.12       0.65   \n",
       "42                 45.0                  67.0  0.99769  3.44       0.86   \n",
       "43                 36.0                 100.0  0.99064  3.26       0.39   \n",
       "44                  5.0                  11.0  0.99840  3.37       0.69   \n",
       "45                  9.0                  18.0  0.99680  3.36       0.57   \n",
       "46                  6.0                  18.0  0.99620  3.20       1.13   \n",
       "47                  4.0                  10.0  0.99356  3.33       0.70   \n",
       "48                 21.0                  59.0  0.99890  3.37       0.71   \n",
       "49                  6.0                  14.0  0.99702  3.21       0.49   \n",
       "50                  6.0                  17.0  0.99640  3.15       0.92   \n",
       "51                 12.0                  88.0  0.99240  3.56       0.82   \n",
       "52                  7.0                  16.0  0.99462  3.21       0.69   \n",
       "53                  6.0                  19.0  0.99880  3.22       0.69   \n",
       "54                 15.0                  29.0  0.99472  3.23       0.76   \n",
       "55                 34.0                  45.0  0.99417  3.46       0.74   \n",
       "56                  5.0                  16.0  0.99720  3.15       0.65   \n",
       "57                 19.0                  50.0  0.99170  3.72       0.74   \n",
       "58                 15.0                  37.0  0.99730  3.35       0.86   \n",
       "59                  3.0                  13.0  0.99600  3.23       1.10   \n",
       "\n",
       "    alcohol  quality  \n",
       "0      9.00        3  \n",
       "1      8.40        3  \n",
       "2     10.70        3  \n",
       "3      9.90        3  \n",
       "4     11.00        3  \n",
       "5     10.90        3  \n",
       "6      9.80        3  \n",
       "7      9.70        3  \n",
       "8     10.20        3  \n",
       "9      9.95        3  \n",
       "10    11.30        4  \n",
       "11    12.00        4  \n",
       "12    10.00        4  \n",
       "13    10.40        4  \n",
       "14    11.10        4  \n",
       "15     9.10        4  \n",
       "16    10.00        4  \n",
       "17    10.30        4  \n",
       "18    13.10        4  \n",
       "19    11.50        4  \n",
       "20    10.10        5  \n",
       "21     9.40        5  \n",
       "22    10.10        5  \n",
       "23     9.10        5  \n",
       "24    10.40        5  \n",
       "25    10.00        5  \n",
       "26     9.30        5  \n",
       "27    10.10        5  \n",
       "28     9.90        5  \n",
       "29    11.20        5  \n",
       "30    10.10        6  \n",
       "31    10.30        6  \n",
       "32    11.80        6  \n",
       "33    12.90        6  \n",
       "34     9.50        6  \n",
       "35    13.60        6  \n",
       "36     9.90        6  \n",
       "37    10.80        6  \n",
       "38    10.70        6  \n",
       "39     9.30        6  \n",
       "40    11.50        7  \n",
       "41    11.80        7  \n",
       "42    10.20        7  \n",
       "43    11.70        7  \n",
       "44    10.10        7  \n",
       "45     9.50        7  \n",
       "46    12.00        7  \n",
       "47    12.80        7  \n",
       "48    11.50        7  \n",
       "49    11.80        7  \n",
       "50    11.70        8  \n",
       "51    12.90        8  \n",
       "52    12.50        8  \n",
       "53    13.40        8  \n",
       "54    11.30        8  \n",
       "55    12.70        8  \n",
       "56    11.00        8  \n",
       "57    14.00        8  \n",
       "58    12.80        8  \n",
       "59    10.00        8  "
      ]
     },
     "execution_count": 84,
     "metadata": {},
     "output_type": "execute_result"
    }
   ],
   "source": [
    "wine_data_modified = pd.concat([X_rus, y_rus], axis=1)\n",
    "wine_data_modified"
   ]
  },
  {
   "cell_type": "code",
   "execution_count": 85,
   "id": "f35807bd",
   "metadata": {},
   "outputs": [
    {
     "name": "stdout",
     "output_type": "stream",
     "text": [
      "Original dataset shape:: Counter({5: 681, 6: 638, 7: 199, 4: 53, 8: 18, 3: 10})\n",
      "Resample dataset shape:: Counter({5: 681, 6: 681, 7: 681, 4: 681, 8: 681, 3: 681})\n"
     ]
    }
   ],
   "source": [
    "from collections import Counter\n",
    "from imblearn.over_sampling import RandomOverSampler\n",
    "\n",
    "oversample = RandomOverSampler(random_state=42)\n",
    "X_ros, y_ros = oversample.fit_resample(X, y)\n",
    "\n",
    "print(f\"Original dataset shape:: {Counter(y)}\")\n",
    "print(f\"Resample dataset shape:: {Counter(y_ros)}\")  # Selects 681 (by repeat-sampling) from each of the {5,6} classes."
   ]
  },
  {
   "cell_type": "code",
   "execution_count": 86,
   "id": "cf9a4ae4",
   "metadata": {
    "scrolled": false
   },
   "outputs": [
    {
     "data": {
      "text/html": [
       "<div>\n",
       "<style scoped>\n",
       "    .dataframe tbody tr th:only-of-type {\n",
       "        vertical-align: middle;\n",
       "    }\n",
       "\n",
       "    .dataframe tbody tr th {\n",
       "        vertical-align: top;\n",
       "    }\n",
       "\n",
       "    .dataframe thead th {\n",
       "        text-align: right;\n",
       "    }\n",
       "</style>\n",
       "<table border=\"1\" class=\"dataframe\">\n",
       "  <thead>\n",
       "    <tr style=\"text-align: right;\">\n",
       "      <th></th>\n",
       "      <th>fixed acidity</th>\n",
       "      <th>volatile acidity</th>\n",
       "      <th>citric acid</th>\n",
       "      <th>residual sugar</th>\n",
       "      <th>chlorides</th>\n",
       "      <th>free sulfur dioxide</th>\n",
       "      <th>total sulfur dioxide</th>\n",
       "      <th>density</th>\n",
       "      <th>pH</th>\n",
       "      <th>sulphates</th>\n",
       "      <th>alcohol</th>\n",
       "      <th>quality</th>\n",
       "    </tr>\n",
       "  </thead>\n",
       "  <tbody>\n",
       "    <tr>\n",
       "      <th>0</th>\n",
       "      <td>7.4</td>\n",
       "      <td>0.70</td>\n",
       "      <td>0.00</td>\n",
       "      <td>1.9</td>\n",
       "      <td>0.076</td>\n",
       "      <td>11.0</td>\n",
       "      <td>34.0</td>\n",
       "      <td>0.99780</td>\n",
       "      <td>3.51</td>\n",
       "      <td>0.56</td>\n",
       "      <td>9.4</td>\n",
       "      <td>5</td>\n",
       "    </tr>\n",
       "    <tr>\n",
       "      <th>1</th>\n",
       "      <td>7.8</td>\n",
       "      <td>0.88</td>\n",
       "      <td>0.00</td>\n",
       "      <td>2.6</td>\n",
       "      <td>0.098</td>\n",
       "      <td>25.0</td>\n",
       "      <td>67.0</td>\n",
       "      <td>0.99680</td>\n",
       "      <td>3.20</td>\n",
       "      <td>0.68</td>\n",
       "      <td>9.8</td>\n",
       "      <td>5</td>\n",
       "    </tr>\n",
       "    <tr>\n",
       "      <th>2</th>\n",
       "      <td>7.8</td>\n",
       "      <td>0.76</td>\n",
       "      <td>0.04</td>\n",
       "      <td>2.3</td>\n",
       "      <td>0.092</td>\n",
       "      <td>15.0</td>\n",
       "      <td>54.0</td>\n",
       "      <td>0.99700</td>\n",
       "      <td>3.26</td>\n",
       "      <td>0.65</td>\n",
       "      <td>9.8</td>\n",
       "      <td>5</td>\n",
       "    </tr>\n",
       "    <tr>\n",
       "      <th>3</th>\n",
       "      <td>11.2</td>\n",
       "      <td>0.28</td>\n",
       "      <td>0.56</td>\n",
       "      <td>1.9</td>\n",
       "      <td>0.075</td>\n",
       "      <td>17.0</td>\n",
       "      <td>60.0</td>\n",
       "      <td>0.99800</td>\n",
       "      <td>3.16</td>\n",
       "      <td>0.58</td>\n",
       "      <td>9.8</td>\n",
       "      <td>6</td>\n",
       "    </tr>\n",
       "    <tr>\n",
       "      <th>4</th>\n",
       "      <td>7.4</td>\n",
       "      <td>0.70</td>\n",
       "      <td>0.00</td>\n",
       "      <td>1.9</td>\n",
       "      <td>0.076</td>\n",
       "      <td>11.0</td>\n",
       "      <td>34.0</td>\n",
       "      <td>0.99780</td>\n",
       "      <td>3.51</td>\n",
       "      <td>0.56</td>\n",
       "      <td>9.4</td>\n",
       "      <td>5</td>\n",
       "    </tr>\n",
       "    <tr>\n",
       "      <th>...</th>\n",
       "      <td>...</td>\n",
       "      <td>...</td>\n",
       "      <td>...</td>\n",
       "      <td>...</td>\n",
       "      <td>...</td>\n",
       "      <td>...</td>\n",
       "      <td>...</td>\n",
       "      <td>...</td>\n",
       "      <td>...</td>\n",
       "      <td>...</td>\n",
       "      <td>...</td>\n",
       "      <td>...</td>\n",
       "    </tr>\n",
       "    <tr>\n",
       "      <th>4081</th>\n",
       "      <td>12.6</td>\n",
       "      <td>0.31</td>\n",
       "      <td>0.72</td>\n",
       "      <td>2.2</td>\n",
       "      <td>0.072</td>\n",
       "      <td>6.0</td>\n",
       "      <td>29.0</td>\n",
       "      <td>0.99870</td>\n",
       "      <td>2.88</td>\n",
       "      <td>0.82</td>\n",
       "      <td>9.8</td>\n",
       "      <td>8</td>\n",
       "    </tr>\n",
       "    <tr>\n",
       "      <th>4082</th>\n",
       "      <td>12.6</td>\n",
       "      <td>0.31</td>\n",
       "      <td>0.72</td>\n",
       "      <td>2.2</td>\n",
       "      <td>0.072</td>\n",
       "      <td>6.0</td>\n",
       "      <td>29.0</td>\n",
       "      <td>0.99870</td>\n",
       "      <td>2.88</td>\n",
       "      <td>0.82</td>\n",
       "      <td>9.8</td>\n",
       "      <td>8</td>\n",
       "    </tr>\n",
       "    <tr>\n",
       "      <th>4083</th>\n",
       "      <td>8.6</td>\n",
       "      <td>0.42</td>\n",
       "      <td>0.39</td>\n",
       "      <td>1.8</td>\n",
       "      <td>0.068</td>\n",
       "      <td>6.0</td>\n",
       "      <td>12.0</td>\n",
       "      <td>0.99516</td>\n",
       "      <td>3.35</td>\n",
       "      <td>0.69</td>\n",
       "      <td>11.7</td>\n",
       "      <td>8</td>\n",
       "    </tr>\n",
       "    <tr>\n",
       "      <th>4084</th>\n",
       "      <td>5.0</td>\n",
       "      <td>0.42</td>\n",
       "      <td>0.24</td>\n",
       "      <td>2.0</td>\n",
       "      <td>0.060</td>\n",
       "      <td>19.0</td>\n",
       "      <td>50.0</td>\n",
       "      <td>0.99170</td>\n",
       "      <td>3.72</td>\n",
       "      <td>0.74</td>\n",
       "      <td>14.0</td>\n",
       "      <td>8</td>\n",
       "    </tr>\n",
       "    <tr>\n",
       "      <th>4085</th>\n",
       "      <td>5.0</td>\n",
       "      <td>0.42</td>\n",
       "      <td>0.24</td>\n",
       "      <td>2.0</td>\n",
       "      <td>0.060</td>\n",
       "      <td>19.0</td>\n",
       "      <td>50.0</td>\n",
       "      <td>0.99170</td>\n",
       "      <td>3.72</td>\n",
       "      <td>0.74</td>\n",
       "      <td>14.0</td>\n",
       "      <td>8</td>\n",
       "    </tr>\n",
       "  </tbody>\n",
       "</table>\n",
       "<p>4086 rows × 12 columns</p>\n",
       "</div>"
      ],
      "text/plain": [
       "      fixed acidity  volatile acidity  citric acid  residual sugar  chlorides  \\\n",
       "0               7.4              0.70         0.00             1.9      0.076   \n",
       "1               7.8              0.88         0.00             2.6      0.098   \n",
       "2               7.8              0.76         0.04             2.3      0.092   \n",
       "3              11.2              0.28         0.56             1.9      0.075   \n",
       "4               7.4              0.70         0.00             1.9      0.076   \n",
       "...             ...               ...          ...             ...        ...   \n",
       "4081           12.6              0.31         0.72             2.2      0.072   \n",
       "4082           12.6              0.31         0.72             2.2      0.072   \n",
       "4083            8.6              0.42         0.39             1.8      0.068   \n",
       "4084            5.0              0.42         0.24             2.0      0.060   \n",
       "4085            5.0              0.42         0.24             2.0      0.060   \n",
       "\n",
       "      free sulfur dioxide  total sulfur dioxide  density    pH  sulphates  \\\n",
       "0                    11.0                  34.0  0.99780  3.51       0.56   \n",
       "1                    25.0                  67.0  0.99680  3.20       0.68   \n",
       "2                    15.0                  54.0  0.99700  3.26       0.65   \n",
       "3                    17.0                  60.0  0.99800  3.16       0.58   \n",
       "4                    11.0                  34.0  0.99780  3.51       0.56   \n",
       "...                   ...                   ...      ...   ...        ...   \n",
       "4081                  6.0                  29.0  0.99870  2.88       0.82   \n",
       "4082                  6.0                  29.0  0.99870  2.88       0.82   \n",
       "4083                  6.0                  12.0  0.99516  3.35       0.69   \n",
       "4084                 19.0                  50.0  0.99170  3.72       0.74   \n",
       "4085                 19.0                  50.0  0.99170  3.72       0.74   \n",
       "\n",
       "      alcohol  quality  \n",
       "0         9.4        5  \n",
       "1         9.8        5  \n",
       "2         9.8        5  \n",
       "3         9.8        6  \n",
       "4         9.4        5  \n",
       "...       ...      ...  \n",
       "4081      9.8        8  \n",
       "4082      9.8        8  \n",
       "4083     11.7        8  \n",
       "4084     14.0        8  \n",
       "4085     14.0        8  \n",
       "\n",
       "[4086 rows x 12 columns]"
      ]
     },
     "execution_count": 86,
     "metadata": {},
     "output_type": "execute_result"
    }
   ],
   "source": [
    "wine_data_modified = pd.concat([X_ros, y_ros], axis=1)\n",
    "wine_data_modified"
   ]
  },
  {
   "cell_type": "code",
   "execution_count": 87,
   "id": "6c3c1e42",
   "metadata": {},
   "outputs": [
    {
     "name": "stdout",
     "output_type": "stream",
     "text": [
      "Original dataset shape:: Counter({5: 681, 6: 638, 7: 199, 4: 53, 8: 18, 3: 10})\n",
      "Resample dataset shape:: Counter({5: 681, 6: 681, 7: 681, 4: 681, 8: 681, 3: 681})\n"
     ]
    }
   ],
   "source": [
    "from collections import Counter\n",
    "from imblearn.over_sampling import SMOTE\n",
    "\n",
    "oversample = SMOTE()\n",
    "X_sm, y_sm = oversample.fit_resample(X, y)\n",
    "\n",
    "print(f\"Original dataset shape:: {Counter(y)}\")\n",
    "print(f\"Resample dataset shape:: {Counter(y_sm)}\")  # Selects 681 (by repeat-sampling) from each of the {5,6} classes, by SMOTE"
   ]
  },
  {
   "cell_type": "code",
   "execution_count": 88,
   "id": "be89ddc7",
   "metadata": {
    "scrolled": true
   },
   "outputs": [
    {
     "data": {
      "text/html": [
       "<div>\n",
       "<style scoped>\n",
       "    .dataframe tbody tr th:only-of-type {\n",
       "        vertical-align: middle;\n",
       "    }\n",
       "\n",
       "    .dataframe tbody tr th {\n",
       "        vertical-align: top;\n",
       "    }\n",
       "\n",
       "    .dataframe thead th {\n",
       "        text-align: right;\n",
       "    }\n",
       "</style>\n",
       "<table border=\"1\" class=\"dataframe\">\n",
       "  <thead>\n",
       "    <tr style=\"text-align: right;\">\n",
       "      <th></th>\n",
       "      <th>fixed acidity</th>\n",
       "      <th>volatile acidity</th>\n",
       "      <th>citric acid</th>\n",
       "      <th>residual sugar</th>\n",
       "      <th>chlorides</th>\n",
       "      <th>free sulfur dioxide</th>\n",
       "      <th>total sulfur dioxide</th>\n",
       "      <th>density</th>\n",
       "      <th>pH</th>\n",
       "      <th>sulphates</th>\n",
       "      <th>alcohol</th>\n",
       "      <th>quality</th>\n",
       "    </tr>\n",
       "  </thead>\n",
       "  <tbody>\n",
       "    <tr>\n",
       "      <th>0</th>\n",
       "      <td>7.400000</td>\n",
       "      <td>0.700000</td>\n",
       "      <td>0.000000</td>\n",
       "      <td>1.900000</td>\n",
       "      <td>0.076000</td>\n",
       "      <td>11.000000</td>\n",
       "      <td>34.000000</td>\n",
       "      <td>0.997800</td>\n",
       "      <td>3.510000</td>\n",
       "      <td>0.560000</td>\n",
       "      <td>9.400000</td>\n",
       "      <td>5</td>\n",
       "    </tr>\n",
       "    <tr>\n",
       "      <th>1</th>\n",
       "      <td>7.800000</td>\n",
       "      <td>0.880000</td>\n",
       "      <td>0.000000</td>\n",
       "      <td>2.600000</td>\n",
       "      <td>0.098000</td>\n",
       "      <td>25.000000</td>\n",
       "      <td>67.000000</td>\n",
       "      <td>0.996800</td>\n",
       "      <td>3.200000</td>\n",
       "      <td>0.680000</td>\n",
       "      <td>9.800000</td>\n",
       "      <td>5</td>\n",
       "    </tr>\n",
       "    <tr>\n",
       "      <th>2</th>\n",
       "      <td>7.800000</td>\n",
       "      <td>0.760000</td>\n",
       "      <td>0.040000</td>\n",
       "      <td>2.300000</td>\n",
       "      <td>0.092000</td>\n",
       "      <td>15.000000</td>\n",
       "      <td>54.000000</td>\n",
       "      <td>0.997000</td>\n",
       "      <td>3.260000</td>\n",
       "      <td>0.650000</td>\n",
       "      <td>9.800000</td>\n",
       "      <td>5</td>\n",
       "    </tr>\n",
       "    <tr>\n",
       "      <th>3</th>\n",
       "      <td>11.200000</td>\n",
       "      <td>0.280000</td>\n",
       "      <td>0.560000</td>\n",
       "      <td>1.900000</td>\n",
       "      <td>0.075000</td>\n",
       "      <td>17.000000</td>\n",
       "      <td>60.000000</td>\n",
       "      <td>0.998000</td>\n",
       "      <td>3.160000</td>\n",
       "      <td>0.580000</td>\n",
       "      <td>9.800000</td>\n",
       "      <td>6</td>\n",
       "    </tr>\n",
       "    <tr>\n",
       "      <th>4</th>\n",
       "      <td>7.400000</td>\n",
       "      <td>0.700000</td>\n",
       "      <td>0.000000</td>\n",
       "      <td>1.900000</td>\n",
       "      <td>0.076000</td>\n",
       "      <td>11.000000</td>\n",
       "      <td>34.000000</td>\n",
       "      <td>0.997800</td>\n",
       "      <td>3.510000</td>\n",
       "      <td>0.560000</td>\n",
       "      <td>9.400000</td>\n",
       "      <td>5</td>\n",
       "    </tr>\n",
       "    <tr>\n",
       "      <th>...</th>\n",
       "      <td>...</td>\n",
       "      <td>...</td>\n",
       "      <td>...</td>\n",
       "      <td>...</td>\n",
       "      <td>...</td>\n",
       "      <td>...</td>\n",
       "      <td>...</td>\n",
       "      <td>...</td>\n",
       "      <td>...</td>\n",
       "      <td>...</td>\n",
       "      <td>...</td>\n",
       "      <td>...</td>\n",
       "    </tr>\n",
       "    <tr>\n",
       "      <th>4081</th>\n",
       "      <td>6.338835</td>\n",
       "      <td>0.750929</td>\n",
       "      <td>0.132279</td>\n",
       "      <td>1.483958</td>\n",
       "      <td>0.051381</td>\n",
       "      <td>17.037509</td>\n",
       "      <td>85.649163</td>\n",
       "      <td>0.992754</td>\n",
       "      <td>3.462608</td>\n",
       "      <td>0.788096</td>\n",
       "      <td>12.715291</td>\n",
       "      <td>8</td>\n",
       "    </tr>\n",
       "    <tr>\n",
       "      <th>4082</th>\n",
       "      <td>8.264061</td>\n",
       "      <td>0.504610</td>\n",
       "      <td>0.184921</td>\n",
       "      <td>2.215625</td>\n",
       "      <td>0.068797</td>\n",
       "      <td>35.687493</td>\n",
       "      <td>51.117163</td>\n",
       "      <td>0.994242</td>\n",
       "      <td>3.358750</td>\n",
       "      <td>0.716797</td>\n",
       "      <td>12.510157</td>\n",
       "      <td>8</td>\n",
       "    </tr>\n",
       "    <tr>\n",
       "      <th>4083</th>\n",
       "      <td>10.635631</td>\n",
       "      <td>0.347524</td>\n",
       "      <td>0.531485</td>\n",
       "      <td>2.609903</td>\n",
       "      <td>0.070495</td>\n",
       "      <td>5.049515</td>\n",
       "      <td>16.049515</td>\n",
       "      <td>0.997160</td>\n",
       "      <td>3.150000</td>\n",
       "      <td>0.663369</td>\n",
       "      <td>11.034660</td>\n",
       "      <td>8</td>\n",
       "    </tr>\n",
       "    <tr>\n",
       "      <th>4084</th>\n",
       "      <td>5.217329</td>\n",
       "      <td>0.450426</td>\n",
       "      <td>0.148722</td>\n",
       "      <td>1.913069</td>\n",
       "      <td>0.053045</td>\n",
       "      <td>22.911917</td>\n",
       "      <td>66.082324</td>\n",
       "      <td>0.991309</td>\n",
       "      <td>3.624375</td>\n",
       "      <td>0.774773</td>\n",
       "      <td>14.000000</td>\n",
       "      <td>8</td>\n",
       "    </tr>\n",
       "    <tr>\n",
       "      <th>4085</th>\n",
       "      <td>7.639651</td>\n",
       "      <td>0.480492</td>\n",
       "      <td>0.328842</td>\n",
       "      <td>2.314036</td>\n",
       "      <td>0.068561</td>\n",
       "      <td>10.603491</td>\n",
       "      <td>21.463128</td>\n",
       "      <td>0.993231</td>\n",
       "      <td>3.211158</td>\n",
       "      <td>0.734877</td>\n",
       "      <td>12.430531</td>\n",
       "      <td>8</td>\n",
       "    </tr>\n",
       "  </tbody>\n",
       "</table>\n",
       "<p>4086 rows × 12 columns</p>\n",
       "</div>"
      ],
      "text/plain": [
       "      fixed acidity  volatile acidity  citric acid  residual sugar  chlorides  \\\n",
       "0          7.400000          0.700000     0.000000        1.900000   0.076000   \n",
       "1          7.800000          0.880000     0.000000        2.600000   0.098000   \n",
       "2          7.800000          0.760000     0.040000        2.300000   0.092000   \n",
       "3         11.200000          0.280000     0.560000        1.900000   0.075000   \n",
       "4          7.400000          0.700000     0.000000        1.900000   0.076000   \n",
       "...             ...               ...          ...             ...        ...   \n",
       "4081       6.338835          0.750929     0.132279        1.483958   0.051381   \n",
       "4082       8.264061          0.504610     0.184921        2.215625   0.068797   \n",
       "4083      10.635631          0.347524     0.531485        2.609903   0.070495   \n",
       "4084       5.217329          0.450426     0.148722        1.913069   0.053045   \n",
       "4085       7.639651          0.480492     0.328842        2.314036   0.068561   \n",
       "\n",
       "      free sulfur dioxide  total sulfur dioxide   density        pH  \\\n",
       "0               11.000000             34.000000  0.997800  3.510000   \n",
       "1               25.000000             67.000000  0.996800  3.200000   \n",
       "2               15.000000             54.000000  0.997000  3.260000   \n",
       "3               17.000000             60.000000  0.998000  3.160000   \n",
       "4               11.000000             34.000000  0.997800  3.510000   \n",
       "...                   ...                   ...       ...       ...   \n",
       "4081            17.037509             85.649163  0.992754  3.462608   \n",
       "4082            35.687493             51.117163  0.994242  3.358750   \n",
       "4083             5.049515             16.049515  0.997160  3.150000   \n",
       "4084            22.911917             66.082324  0.991309  3.624375   \n",
       "4085            10.603491             21.463128  0.993231  3.211158   \n",
       "\n",
       "      sulphates    alcohol  quality  \n",
       "0      0.560000   9.400000        5  \n",
       "1      0.680000   9.800000        5  \n",
       "2      0.650000   9.800000        5  \n",
       "3      0.580000   9.800000        6  \n",
       "4      0.560000   9.400000        5  \n",
       "...         ...        ...      ...  \n",
       "4081   0.788096  12.715291        8  \n",
       "4082   0.716797  12.510157        8  \n",
       "4083   0.663369  11.034660        8  \n",
       "4084   0.774773  14.000000        8  \n",
       "4085   0.734877  12.430531        8  \n",
       "\n",
       "[4086 rows x 12 columns]"
      ]
     },
     "execution_count": 88,
     "metadata": {},
     "output_type": "execute_result"
    }
   ],
   "source": [
    "wine_data_modified = pd.concat([X_sm, y_sm], axis=1)\n",
    "wine_data_modified"
   ]
  }
 ],
 "metadata": {
  "kernelspec": {
   "display_name": "Python 3 (ipykernel)",
   "language": "python",
   "name": "python3"
  },
  "language_info": {
   "codemirror_mode": {
    "name": "ipython",
    "version": 3
   },
   "file_extension": ".py",
   "mimetype": "text/x-python",
   "name": "python",
   "nbconvert_exporter": "python",
   "pygments_lexer": "ipython3",
   "version": "3.9.7"
  }
 },
 "nbformat": 4,
 "nbformat_minor": 5
}
